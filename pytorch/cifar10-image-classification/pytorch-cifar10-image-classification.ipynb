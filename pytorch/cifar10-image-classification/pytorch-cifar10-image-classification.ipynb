{
 "cells": [
  {
   "cell_type": "markdown",
   "metadata": {},
   "source": [
    "# BentoML Example: PyTorch Image Classifier\n",
    "\n",
    "[BentoML](http://bentoml.ai) is an open source platform for machine learning model serving and deployment. In this project we will use BentoML to package the image classifier model, and build a containerized REST API model server.\n",
    "\n",
    "This notebook was built based on the official pytorch tutorial https://pytorch.org/tutorials/beginner/blitz/cifar10_tutorial.html\n",
    "\n",
    "![Impression](https://www.google-analytics.com/collect?v=1&tid=UA-112879361-3&cid=555&t=event&ec=pytorch&ea=pytorch-cifar10-image-classification&dt=pytorch-cifar10-image-classification)"
   ]
  },
  {
   "cell_type": "code",
   "execution_count": null,
   "metadata": {},
   "outputs": [],
   "source": [
    "%reload_ext autoreload\n",
    "%autoreload 2\n",
    "%matplotlib inline"
   ]
  },
  {
   "cell_type": "code",
   "execution_count": null,
   "metadata": {},
   "outputs": [],
   "source": [
    "!pip install bentoml\n",
    "!pip install torch torchvision pillow"
   ]
  },
  {
   "cell_type": "code",
   "execution_count": 1,
   "metadata": {},
   "outputs": [],
   "source": [
    "import torch\n",
    "import torchvision\n",
    "import torchvision.transforms as transforms"
   ]
  },
  {
   "cell_type": "markdown",
   "metadata": {},
   "source": [
    "# Training an image classifier\n",
    "\n",
    "We will do the following steps in order:\n",
    "\n",
    "* Load and normalizing the CIFAR10 training and test datasets using torchvision\n",
    "* Define a Convolutional Neural Network\n",
    "* Define a loss function\n",
    "* Train the network on the training data\n",
    "* Test the network on the test data\n",
    "* Model Serving with BentoML\n",
    "\n",
    "\n",
    "## 1 Loading and Normalizing CIFAR10"
   ]
  },
  {
   "cell_type": "markdown",
   "metadata": {},
   "source": [
    "The output of torchvision datasets are PILImage images of range [0, 1]. We transform them to Tensors of normalized range [-1, 1]."
   ]
  },
  {
   "cell_type": "code",
   "execution_count": 2,
   "metadata": {},
   "outputs": [
    {
     "name": "stdout",
     "output_type": "stream",
     "text": [
      "Files already downloaded and verified\n",
      "Files already downloaded and verified\n"
     ]
    }
   ],
   "source": [
    "transform = transforms.Compose(\n",
    "    [transforms.ToTensor(),\n",
    "     transforms.Normalize((0.5, 0.5, 0.5), (0.5, 0.5, 0.5))])\n",
    "\n",
    "trainset = torchvision.datasets.CIFAR10(root='./data', train=True,\n",
    "                                        download=True, transform=transform)\n",
    "trainloader = torch.utils.data.DataLoader(trainset, batch_size=4,\n",
    "                                          shuffle=True, num_workers=2)\n",
    "\n",
    "testset = torchvision.datasets.CIFAR10(root='./data', train=False,\n",
    "                                       download=True, transform=transform)\n",
    "testloader = torch.utils.data.DataLoader(testset, batch_size=4,\n",
    "                                         shuffle=False, num_workers=2)\n",
    "\n",
    "classes = ('plane', 'car', 'bird', 'cat',\n",
    "           'deer', 'dog', 'frog', 'horse', 'ship', 'truck')"
   ]
  },
  {
   "cell_type": "markdown",
   "metadata": {},
   "source": [
    "Let us show some of the training images, for fun."
   ]
  },
  {
   "cell_type": "code",
   "execution_count": 3,
   "metadata": {},
   "outputs": [
    {
     "data": {
      "image/png": "[encoded data removed]",
      "text/plain": [
       "<Figure size 432x288 with 1 Axes>"
      ]
     },
     "metadata": {
      "needs_background": "light"
     },
     "output_type": "display_data"
    },
    {
     "name": "stdout",
     "output_type": "stream",
     "text": [
      "plane horse   cat   dog\n"
     ]
    }
   ],
   "source": [
    "import matplotlib.pyplot as plt\n",
    "import numpy as np\n",
    "\n",
    "# functions to show an image\n",
    "\n",
    "\n",
    "def imshow(img):\n",
    "    img = img / 2 + 0.5     # unnormalize\n",
    "    npimg = img.numpy()\n",
    "    plt.imshow(np.transpose(npimg, (1, 2, 0)))\n",
    "    plt.show()\n",
    "\n",
    "\n",
    "# get some random training images\n",
    "dataiter = iter(trainloader)\n",
    "images, labels = dataiter.next()\n",
    "\n",
    "# show images\n",
    "imshow(torchvision.utils.make_grid(images))\n",
    "# print labels\n",
    "print(' '.join('%5s' % classes[labels[j]] for j in range(4)))"
   ]
  },
  {
   "cell_type": "markdown",
   "metadata": {},
   "source": [
    "## 2 Define a Convolutional Neural Network\n",
    "\n",
    "Copy the neural network from the Neural Networks section before and modify it to take 3-channel images (instead of 1-channel images as it was defined)."
   ]
  },
  {
   "cell_type": "code",
   "execution_count": 4,
   "metadata": {},
   "outputs": [],
   "source": [
    "import torch.nn as nn\n",
    "import torch.nn.functional as F\n",
    "\n",
    "\n",
    "class Net(nn.Module):\n",
    "    def __init__(self):\n",
    "        super(Net, self).__init__()\n",
    "        self.conv1 = nn.Conv2d(3, 6, 5)\n",
    "        self.pool = nn.MaxPool2d(2, 2)\n",
    "        self.conv2 = nn.Conv2d(6, 16, 5)\n",
    "        self.fc1 = nn.Linear(16 * 5 * 5, 120)\n",
    "        self.fc2 = nn.Linear(120, 84)\n",
    "        self.fc3 = nn.Linear(84, 10)\n",
    "\n",
    "    def forward(self, x):\n",
    "        x = self.pool(F.relu(self.conv1(x)))\n",
    "        x = self.pool(F.relu(self.conv2(x)))\n",
    "        x = x.view(-1, 16 * 5 * 5)\n",
    "        x = F.relu(self.fc1(x))\n",
    "        x = F.relu(self.fc2(x))\n",
    "        x = self.fc3(x)\n",
    "        return x\n",
    "    \n",
    "net = Net()"
   ]
  },
  {
   "cell_type": "markdown",
   "metadata": {},
   "source": [
    "## 3 Define a Loss function and optimize"
   ]
  },
  {
   "cell_type": "markdown",
   "metadata": {},
   "source": [
    "Let’s use a Classification Cross-Entropy loss and SGD with momentum."
   ]
  },
  {
   "cell_type": "code",
   "execution_count": 5,
   "metadata": {},
   "outputs": [],
   "source": [
    "import torch.optim as optim\n",
    "\n",
    "criterion = nn.CrossEntropyLoss()\n",
    "optimizer = optim.SGD(net.parameters(), lr=0.001, momentum=0.9)"
   ]
  },
  {
   "cell_type": "markdown",
   "metadata": {},
   "source": [
    "## 4 Train the network\n",
    "\n",
    "This is when things start to get interesting. We simply have to loop over our data iterator, and feed the inputs to the network and optimize."
   ]
  },
  {
   "cell_type": "code",
   "execution_count": 6,
   "metadata": {},
   "outputs": [
    {
     "name": "stdout",
     "output_type": "stream",
     "text": [
      "[1,  2000] loss: 2.231\n",
      "[1,  4000] loss: 1.869\n",
      "[1,  6000] loss: 1.646\n",
      "[1,  8000] loss: 1.564\n",
      "[1, 10000] loss: 1.508\n",
      "[1, 12000] loss: 1.465\n",
      "Finished Training\n"
     ]
    }
   ],
   "source": [
    "for epoch in range(1):  # loop over the dataset multiple times\n",
    "\n",
    "    running_loss = 0.0\n",
    "    for i, data in enumerate(trainloader, 0):\n",
    "        # get the inputs; data is a list of [inputs, labels]\n",
    "        inputs, labels = data\n",
    "\n",
    "        # zero the parameter gradients\n",
    "        optimizer.zero_grad()\n",
    "\n",
    "        # forward + backward + optimize\n",
    "        outputs = net(inputs)\n",
    "        loss = criterion(outputs, labels)\n",
    "        loss.backward()\n",
    "        optimizer.step()\n",
    "\n",
    "        # print statistics\n",
    "        running_loss += loss.item()\n",
    "        if i % 2000 == 1999:    # print every 2000 mini-batches\n",
    "            print('[%d, %5d] loss: %.3f' %\n",
    "                  (epoch + 1, i + 1, running_loss / 2000))\n",
    "            running_loss = 0.0\n",
    "\n",
    "print('Finished Training')"
   ]
  },
  {
   "cell_type": "markdown",
   "metadata": {},
   "source": [
    "## 5 Test the network on the test data\n",
    "\n",
    "We have trained the network for 2 passes over the training dataset. But we need to check if the network has learnt anything at all.\n",
    "\n",
    "We will check this by predicting the class label that the neural network outputs, and checking it against the ground-truth. If the prediction is correct, we add the sample to the list of correct predictions.\n",
    "\n",
    "Okay, first step. Let us display an image from the test set to get familiar."
   ]
  },
  {
   "cell_type": "code",
   "execution_count": 8,
   "metadata": {},
   "outputs": [
    {
     "data": {
      "image/png": "[encoded data removed]",
      "text/plain": [
       "<Figure size 432x288 with 1 Axes>"
      ]
     },
     "metadata": {
      "needs_background": "light"
     },
     "output_type": "display_data"
    },
    {
     "name": "stdout",
     "output_type": "stream",
     "text": [
      "GroundTruth:    cat  ship  ship plane\n"
     ]
    }
   ],
   "source": [
    "dataiter = iter(testloader)\n",
    "images, labels = dataiter.next()\n",
    "\n",
    "# print images\n",
    "imshow(torchvision.utils.make_grid(images))\n",
    "print('GroundTruth: ', ' '.join('%5s' % classes[labels[j]] for j in range(4)))"
   ]
  },
  {
   "cell_type": "markdown",
   "metadata": {},
   "source": [
    "Let us look at how the network performs on the whole dataset."
   ]
  },
  {
   "cell_type": "code",
   "execution_count": 9,
   "metadata": {},
   "outputs": [
    {
     "name": "stdout",
     "output_type": "stream",
     "text": [
      "Accuracy of the network on the 10000 test images: 56 %\n"
     ]
    }
   ],
   "source": [
    "correct = 0\n",
    "total = 0\n",
    "with torch.no_grad():\n",
    "    for data in testloader:\n",
    "        images, labels = data\n",
    "        outputs = net(images)\n",
    "        _, predicted = torch.max(outputs.data, 1)\n",
    "        total += labels.size(0)\n",
    "        correct += (predicted == labels).sum().item()\n",
    "\n",
    "print('Accuracy of the network on the 10000 test images: %d %%' % (\n",
    "    100 * correct / total))"
   ]
  },
  {
   "cell_type": "markdown",
   "metadata": {},
   "source": [
    "# 6 Model Serving with BentoML\n",
    "\n",
    "\n",
    "First, define ML service with BentoML"
   ]
  },
  {
   "cell_type": "code",
   "execution_count": 14,
   "metadata": {},
   "outputs": [
    {
     "name": "stdout",
     "output_type": "stream",
     "text": [
      "Overwriting pytorch_image_classifier.py\n"
     ]
    }
   ],
   "source": [
    "%%writefile pytorch_image_classifier.py\n",
    "\n",
    "from PIL import Image\n",
    "\n",
    "import torch\n",
    "from torch.autograd import Variable\n",
    "from torchvision import transforms\n",
    "\n",
    "import bentoml\n",
    "from bentoml.artifact import PytorchModelArtifact\n",
    "from bentoml.handlers import ImageHandler\n",
    "\n",
    "\n",
    "classes = ('plane', 'car', 'bird', 'cat',\n",
    "           'deer', 'dog', 'frog', 'horse', 'ship', 'truck')\n",
    "\n",
    "@bentoml.env(pip_dependencies=['torch', 'numpy', 'torchvision', 'scikit-learn'])\n",
    "@bentoml.artifacts([PytorchModelArtifact('net')])\n",
    "class PytorchImageClassifier(bentoml.BentoService):\n",
    "    @bentoml.api(ImageHandler)\n",
    "    def predict(self, imgs):\n",
    "        transform = transforms.Compose([\n",
    "            transforms.ToTensor(),\n",
    "            transforms.Normalize((0.5, 0.5, 0.5), (0.5, 0.5, 0.5))\n",
    "        ])\n",
    "        input_datas = []\n",
    "        for img in imgs:\n",
    "            img = Image.fromarray(img).resize((32, 32))\n",
    "            input_datas.append(transform(img))\n",
    "\n",
    "        outputs = self.artifacts.net(Variable(torch.stack(input_datas)))\n",
    "        _, output_classes = outputs.max(dim=1)\n",
    "\n",
    "        return [classes[output_class] for output_class in output_classes]"
   ]
  },
  {
   "cell_type": "markdown",
   "metadata": {},
   "source": [
    "Now you can instantiate a BentoService defined above with the trained model, and save the entire BentoService to a file archive:"
   ]
  },
  {
   "cell_type": "code",
   "execution_count": 12,
   "metadata": {
    "scrolled": true
   },
   "outputs": [
    {
     "name": "stdout",
     "output_type": "stream",
     "text": [
      "[2020-05-27 18:00:45,418] WARNING - BentoML local changes detected - Local BentoML repository including all code changes will be bundled together with the BentoService bundle. When used with docker, the base docker image will be default to same version as last PyPI release at version: 0.5.2. You can also force bentoml to use a specific version for deploying your BentoService bundle, by setting the config 'core/bentoml_deploy_version' to a pinned version or your custom BentoML on github, e.g.:'bentoml_deploy_version = git+https://github.com/{username}/bentoml.git@{branch}'\n",
      "[2020-05-27 18:00:45,419] WARNING - BentoML by default does not include spacy and torchvision package when using PytorchModelArtifact. To make sure BentoML bundle those packages if they are required for your model, either import those packages in BentoService definition file or manually add them via `@env(pip_dependencies=['torchvision'])` when defining a BentoService\n",
      "[2020-05-27 18:00:45,427] WARNING - BentoML local changes detected - Local BentoML repository including all code changes will be bundled together with the BentoService bundle. When used with docker, the base docker image will be default to same version as last PyPI release at version: 0.5.2. You can also force bentoml to use a specific version for deploying your BentoService bundle, by setting the config 'core/bentoml_deploy_version' to a pinned version or your custom BentoML on github, e.g.:'bentoml_deploy_version = git+https://github.com/{username}/bentoml.git@{branch}'\n",
      "[2020-05-27 18:00:54,313] WARNING - BentoML local changes detected - Local BentoML repository including all code changes will be bundled together with the BentoService bundle. When used with docker, the base docker image will be default to same version as last PyPI release at version: 0.5.2. You can also force bentoml to use a specific version for deploying your BentoService bundle, by setting the config 'core/bentoml_deploy_version' to a pinned version or your custom BentoML on github, e.g.:'bentoml_deploy_version = git+https://github.com/{username}/bentoml.git@{branch}'\n",
      "running sdist\n",
      "running egg_info\n",
      "writing BentoML.egg-info/PKG-INFO\n",
      "writing dependency_links to BentoML.egg-info/dependency_links.txt\n",
      "writing entry points to BentoML.egg-info/entry_points.txt\n",
      "writing requirements to BentoML.egg-info/requires.txt\n",
      "writing top-level names to BentoML.egg-info/top_level.txt\n",
      "reading manifest file 'BentoML.egg-info/SOURCES.txt'\n",
      "reading manifest template 'MANIFEST.in'\n"
     ]
    },
    {
     "name": "stderr",
     "output_type": "stream",
     "text": [
      "warning: no previously-included files matching '*~' found anywhere in distribution\n",
      "warning: no previously-included files matching '*.pyo' found anywhere in distribution\n",
      "warning: no previously-included files matching '.git' found anywhere in distribution\n",
      "warning: no previously-included files matching '.ipynb_checkpoints' found anywhere in distribution\n",
      "warning: no previously-included files matching '__pycache__' found anywhere in distribution\n",
      "warning: no directories found matching 'bentoml/yatai/web/dist'\n",
      "no previously-included directories found matching 'e2e_tests'\n",
      "no previously-included directories found matching 'tests'\n",
      "no previously-included directories found matching 'benchmark'\n"
     ]
    },
    {
     "name": "stdout",
     "output_type": "stream",
     "text": [
      "writing manifest file 'BentoML.egg-info/SOURCES.txt'\n",
      "running check\n",
      "creating BentoML-0.5.2+233.g8538e6f\n",
      "creating BentoML-0.5.2+233.g8538e6f/BentoML.egg-info\n",
      "creating BentoML-0.5.2+233.g8538e6f/bentoml\n",
      "creating BentoML-0.5.2+233.g8538e6f/bentoml/artifact\n",
      "creating BentoML-0.5.2+233.g8538e6f/bentoml/bundler\n",
      "creating BentoML-0.5.2+233.g8538e6f/bentoml/cli\n",
      "creating BentoML-0.5.2+233.g8538e6f/bentoml/clipper\n",
      "creating BentoML-0.5.2+233.g8538e6f/bentoml/configuration\n",
      "creating BentoML-0.5.2+233.g8538e6f/bentoml/configuration/__pycache__\n",
      "creating BentoML-0.5.2+233.g8538e6f/bentoml/deployment\n",
      "creating BentoML-0.5.2+233.g8538e6f/bentoml/deployment/aws_lambda\n",
      "creating BentoML-0.5.2+233.g8538e6f/bentoml/deployment/sagemaker\n",
      "creating BentoML-0.5.2+233.g8538e6f/bentoml/handlers\n",
      "creating BentoML-0.5.2+233.g8538e6f/bentoml/marshal\n",
      "creating BentoML-0.5.2+233.g8538e6f/bentoml/migrations\n",
      "creating BentoML-0.5.2+233.g8538e6f/bentoml/migrations/__pycache__\n",
      "creating BentoML-0.5.2+233.g8538e6f/bentoml/migrations/versions\n",
      "creating BentoML-0.5.2+233.g8538e6f/bentoml/migrations/versions/__pycache__\n",
      "creating BentoML-0.5.2+233.g8538e6f/bentoml/proto\n",
      "creating BentoML-0.5.2+233.g8538e6f/bentoml/repository\n",
      "creating BentoML-0.5.2+233.g8538e6f/bentoml/server\n",
      "creating BentoML-0.5.2+233.g8538e6f/bentoml/server/static\n",
      "creating BentoML-0.5.2+233.g8538e6f/bentoml/utils\n",
      "creating BentoML-0.5.2+233.g8538e6f/bentoml/utils/validator\n",
      "creating BentoML-0.5.2+233.g8538e6f/bentoml/yatai\n",
      "creating BentoML-0.5.2+233.g8538e6f/bentoml/yatai/client\n",
      "copying files to BentoML-0.5.2+233.g8538e6f...\n",
      "copying LICENSE -> BentoML-0.5.2+233.g8538e6f\n",
      "copying MANIFEST.in -> BentoML-0.5.2+233.g8538e6f\n",
      "copying README.md -> BentoML-0.5.2+233.g8538e6f\n",
      "copying pyproject.toml -> BentoML-0.5.2+233.g8538e6f\n",
      "copying setup.cfg -> BentoML-0.5.2+233.g8538e6f\n",
      "copying setup.py -> BentoML-0.5.2+233.g8538e6f\n",
      "copying versioneer.py -> BentoML-0.5.2+233.g8538e6f\n",
      "copying BentoML.egg-info/PKG-INFO -> BentoML-0.5.2+233.g8538e6f/BentoML.egg-info\n",
      "copying BentoML.egg-info/SOURCES.txt -> BentoML-0.5.2+233.g8538e6f/BentoML.egg-info\n",
      "copying BentoML.egg-info/dependency_links.txt -> BentoML-0.5.2+233.g8538e6f/BentoML.egg-info\n",
      "copying BentoML.egg-info/entry_points.txt -> BentoML-0.5.2+233.g8538e6f/BentoML.egg-info\n",
      "copying BentoML.egg-info/requires.txt -> BentoML-0.5.2+233.g8538e6f/BentoML.egg-info\n",
      "copying BentoML.egg-info/top_level.txt -> BentoML-0.5.2+233.g8538e6f/BentoML.egg-info\n",
      "copying bentoml/__init__.py -> BentoML-0.5.2+233.g8538e6f/bentoml\n",
      "copying bentoml/_version.py -> BentoML-0.5.2+233.g8538e6f/bentoml\n",
      "copying bentoml/alembic.ini -> BentoML-0.5.2+233.g8538e6f/bentoml\n",
      "copying bentoml/db.py -> BentoML-0.5.2+233.g8538e6f/bentoml\n",
      "copying bentoml/exceptions.py -> BentoML-0.5.2+233.g8538e6f/bentoml\n",
      "copying bentoml/service.py -> BentoML-0.5.2+233.g8538e6f/bentoml\n",
      "copying bentoml/service_env.py -> BentoML-0.5.2+233.g8538e6f/bentoml\n",
      "copying bentoml/artifact/__init__.py -> BentoML-0.5.2+233.g8538e6f/bentoml/artifact\n",
      "copying bentoml/artifact/artifact.py -> BentoML-0.5.2+233.g8538e6f/bentoml/artifact\n",
      "copying bentoml/artifact/fastai2_model_artifact.py -> BentoML-0.5.2+233.g8538e6f/bentoml/artifact\n",
      "copying bentoml/artifact/fastai_model_artifact.py -> BentoML-0.5.2+233.g8538e6f/bentoml/artifact\n",
      "copying bentoml/artifact/fasttext_model_artifact.py -> BentoML-0.5.2+233.g8538e6f/bentoml/artifact\n",
      "copying bentoml/artifact/h2o_model_artifact.py -> BentoML-0.5.2+233.g8538e6f/bentoml/artifact\n",
      "copying bentoml/artifact/keras_model_artifact.py -> BentoML-0.5.2+233.g8538e6f/bentoml/artifact\n",
      "copying bentoml/artifact/lightgbm_model_artifact.py -> BentoML-0.5.2+233.g8538e6f/bentoml/artifact\n",
      "copying bentoml/artifact/onnx_model_artifact.py -> BentoML-0.5.2+233.g8538e6f/bentoml/artifact\n",
      "copying bentoml/artifact/pickle_artifact.py -> BentoML-0.5.2+233.g8538e6f/bentoml/artifact\n",
      "copying bentoml/artifact/pytorch_model_artifact.py -> BentoML-0.5.2+233.g8538e6f/bentoml/artifact\n",
      "copying bentoml/artifact/sklearn_model_artifact.py -> BentoML-0.5.2+233.g8538e6f/bentoml/artifact\n",
      "copying bentoml/artifact/spacy_model_artifact.py -> BentoML-0.5.2+233.g8538e6f/bentoml/artifact\n",
      "copying bentoml/artifact/text_file_artifact.py -> BentoML-0.5.2+233.g8538e6f/bentoml/artifact\n",
      "copying bentoml/artifact/tf_savedmodel_artifact.py -> BentoML-0.5.2+233.g8538e6f/bentoml/artifact\n",
      "copying bentoml/artifact/xgboost_model_artifact.py -> BentoML-0.5.2+233.g8538e6f/bentoml/artifact\n",
      "copying bentoml/bundler/__init__.py -> BentoML-0.5.2+233.g8538e6f/bentoml/bundler\n",
      "copying bentoml/bundler/bundler.py -> BentoML-0.5.2+233.g8538e6f/bentoml/bundler\n",
      "copying bentoml/bundler/config.py -> BentoML-0.5.2+233.g8538e6f/bentoml/bundler\n",
      "copying bentoml/bundler/loader.py -> BentoML-0.5.2+233.g8538e6f/bentoml/bundler\n",
      "copying bentoml/bundler/py_module_utils.py -> BentoML-0.5.2+233.g8538e6f/bentoml/bundler\n",
      "copying bentoml/bundler/templates.py -> BentoML-0.5.2+233.g8538e6f/bentoml/bundler\n",
      "copying bentoml/bundler/utils.py -> BentoML-0.5.2+233.g8538e6f/bentoml/bundler\n",
      "copying bentoml/cli/__init__.py -> BentoML-0.5.2+233.g8538e6f/bentoml/cli\n",
      "copying bentoml/cli/aws_lambda.py -> BentoML-0.5.2+233.g8538e6f/bentoml/cli\n",
      "copying bentoml/cli/aws_sagemaker.py -> BentoML-0.5.2+233.g8538e6f/bentoml/cli\n",
      "copying bentoml/cli/bento.py -> BentoML-0.5.2+233.g8538e6f/bentoml/cli\n",
      "copying bentoml/cli/click_utils.py -> BentoML-0.5.2+233.g8538e6f/bentoml/cli\n",
      "copying bentoml/cli/config.py -> BentoML-0.5.2+233.g8538e6f/bentoml/cli\n",
      "copying bentoml/cli/deployment.py -> BentoML-0.5.2+233.g8538e6f/bentoml/cli\n",
      "copying bentoml/cli/utils.py -> BentoML-0.5.2+233.g8538e6f/bentoml/cli\n",
      "copying bentoml/cli/yatai_service.py -> BentoML-0.5.2+233.g8538e6f/bentoml/cli\n",
      "copying bentoml/clipper/__init__.py -> BentoML-0.5.2+233.g8538e6f/bentoml/clipper\n",
      "copying bentoml/configuration/__init__.py -> BentoML-0.5.2+233.g8538e6f/bentoml/configuration\n",
      "copying bentoml/configuration/configparser.py -> BentoML-0.5.2+233.g8538e6f/bentoml/configuration\n",
      "copying bentoml/configuration/default_bentoml.cfg -> BentoML-0.5.2+233.g8538e6f/bentoml/configuration\n",
      "copying bentoml/configuration/__pycache__/__init__.cpython-36.pyc -> BentoML-0.5.2+233.g8538e6f/bentoml/configuration/__pycache__\n",
      "copying bentoml/configuration/__pycache__/__init__.cpython-37.pyc -> BentoML-0.5.2+233.g8538e6f/bentoml/configuration/__pycache__\n",
      "copying bentoml/configuration/__pycache__/__init__.cpython-38.pyc -> BentoML-0.5.2+233.g8538e6f/bentoml/configuration/__pycache__\n",
      "copying bentoml/configuration/__pycache__/configparser.cpython-36.pyc -> BentoML-0.5.2+233.g8538e6f/bentoml/configuration/__pycache__\n",
      "copying bentoml/configuration/__pycache__/configparser.cpython-37.pyc -> BentoML-0.5.2+233.g8538e6f/bentoml/configuration/__pycache__\n",
      "copying bentoml/configuration/__pycache__/configparser.cpython-38.pyc -> BentoML-0.5.2+233.g8538e6f/bentoml/configuration/__pycache__\n",
      "copying bentoml/deployment/__init__.py -> BentoML-0.5.2+233.g8538e6f/bentoml/deployment\n",
      "copying bentoml/deployment/operator.py -> BentoML-0.5.2+233.g8538e6f/bentoml/deployment\n",
      "copying bentoml/deployment/store.py -> BentoML-0.5.2+233.g8538e6f/bentoml/deployment\n",
      "copying bentoml/deployment/utils.py -> BentoML-0.5.2+233.g8538e6f/bentoml/deployment\n",
      "copying bentoml/deployment/aws_lambda/__init__.py -> BentoML-0.5.2+233.g8538e6f/bentoml/deployment/aws_lambda\n",
      "copying bentoml/deployment/aws_lambda/download_extra_resources.py -> BentoML-0.5.2+233.g8538e6f/bentoml/deployment/aws_lambda\n",
      "copying bentoml/deployment/aws_lambda/lambda_app.py -> BentoML-0.5.2+233.g8538e6f/bentoml/deployment/aws_lambda\n",
      "copying bentoml/deployment/aws_lambda/utils.py -> BentoML-0.5.2+233.g8538e6f/bentoml/deployment/aws_lambda\n",
      "copying bentoml/deployment/sagemaker/__init__.py -> BentoML-0.5.2+233.g8538e6f/bentoml/deployment/sagemaker\n",
      "copying bentoml/deployment/sagemaker/sagemaker_nginx.conf -> BentoML-0.5.2+233.g8538e6f/bentoml/deployment/sagemaker\n",
      "copying bentoml/deployment/sagemaker/sagemaker_serve.py -> BentoML-0.5.2+233.g8538e6f/bentoml/deployment/sagemaker\n",
      "copying bentoml/deployment/sagemaker/sagemaker_wsgi.py -> BentoML-0.5.2+233.g8538e6f/bentoml/deployment/sagemaker\n",
      "copying bentoml/handlers/__init__.py -> BentoML-0.5.2+233.g8538e6f/bentoml/handlers\n",
      "copying bentoml/handlers/base_handlers.py -> BentoML-0.5.2+233.g8538e6f/bentoml/handlers\n",
      "copying bentoml/handlers/clipper_handler.py -> BentoML-0.5.2+233.g8538e6f/bentoml/handlers\n",
      "copying bentoml/handlers/dataframe_handler.py -> BentoML-0.5.2+233.g8538e6f/bentoml/handlers\n",
      "copying bentoml/handlers/fastai_image_handler.py -> BentoML-0.5.2+233.g8538e6f/bentoml/handlers\n",
      "copying bentoml/handlers/image_handler.py -> BentoML-0.5.2+233.g8538e6f/bentoml/handlers\n",
      "copying bentoml/handlers/json_handler.py -> BentoML-0.5.2+233.g8538e6f/bentoml/handlers\n",
      "copying bentoml/handlers/legacy_image_handler.py -> BentoML-0.5.2+233.g8538e6f/bentoml/handlers\n",
      "copying bentoml/handlers/pytorch_tensor_handler.py -> BentoML-0.5.2+233.g8538e6f/bentoml/handlers\n",
      "copying bentoml/handlers/tensorflow_tensor_handler.py -> BentoML-0.5.2+233.g8538e6f/bentoml/handlers\n",
      "copying bentoml/handlers/utils.py -> BentoML-0.5.2+233.g8538e6f/bentoml/handlers\n",
      "copying bentoml/marshal/__init__.py -> BentoML-0.5.2+233.g8538e6f/bentoml/marshal\n",
      "copying bentoml/marshal/dispatcher.py -> BentoML-0.5.2+233.g8538e6f/bentoml/marshal\n",
      "copying bentoml/marshal/marshal.py -> BentoML-0.5.2+233.g8538e6f/bentoml/marshal\n",
      "copying bentoml/marshal/utils.py -> BentoML-0.5.2+233.g8538e6f/bentoml/marshal\n",
      "copying bentoml/migrations/README -> BentoML-0.5.2+233.g8538e6f/bentoml/migrations\n",
      "copying bentoml/migrations/env.py -> BentoML-0.5.2+233.g8538e6f/bentoml/migrations\n",
      "copying bentoml/migrations/script.py.mako -> BentoML-0.5.2+233.g8538e6f/bentoml/migrations\n",
      "copying bentoml/migrations/__pycache__/env.cpython-36.pyc -> BentoML-0.5.2+233.g8538e6f/bentoml/migrations/__pycache__\n",
      "copying bentoml/migrations/__pycache__/env.cpython-37.pyc -> BentoML-0.5.2+233.g8538e6f/bentoml/migrations/__pycache__\n",
      "copying bentoml/migrations/__pycache__/env.cpython-38.pyc -> BentoML-0.5.2+233.g8538e6f/bentoml/migrations/__pycache__\n",
      "copying bentoml/migrations/versions/a6b00ae45279_add_last_updated_at_for_deployments.py -> BentoML-0.5.2+233.g8538e6f/bentoml/migrations/versions\n",
      "copying bentoml/migrations/versions/__pycache__/a6b00ae45279_add_last_updated_at_for_deployments.cpython-36.pyc -> BentoML-0.5.2+233.g8538e6f/bentoml/migrations/versions/__pycache__\n",
      "copying bentoml/migrations/versions/__pycache__/a6b00ae45279_add_last_updated_at_for_deployments.cpython-37.pyc -> BentoML-0.5.2+233.g8538e6f/bentoml/migrations/versions/__pycache__\n",
      "copying bentoml/migrations/versions/__pycache__/a6b00ae45279_add_last_updated_at_for_deployments.cpython-38.pyc -> BentoML-0.5.2+233.g8538e6f/bentoml/migrations/versions/__pycache__\n",
      "copying bentoml/proto/__init__.py -> BentoML-0.5.2+233.g8538e6f/bentoml/proto\n",
      "copying bentoml/proto/deployment_pb2.py -> BentoML-0.5.2+233.g8538e6f/bentoml/proto\n",
      "copying bentoml/proto/repository_pb2.py -> BentoML-0.5.2+233.g8538e6f/bentoml/proto\n",
      "copying bentoml/proto/status_pb2.py -> BentoML-0.5.2+233.g8538e6f/bentoml/proto\n",
      "copying bentoml/proto/yatai_service_pb2.py -> BentoML-0.5.2+233.g8538e6f/bentoml/proto\n",
      "copying bentoml/proto/yatai_service_pb2_grpc.py -> BentoML-0.5.2+233.g8538e6f/bentoml/proto\n",
      "copying bentoml/repository/__init__.py -> BentoML-0.5.2+233.g8538e6f/bentoml/repository\n",
      "copying bentoml/repository/metadata_store.py -> BentoML-0.5.2+233.g8538e6f/bentoml/repository\n",
      "copying bentoml/server/__init__.py -> BentoML-0.5.2+233.g8538e6f/bentoml/server\n",
      "copying bentoml/server/bento_api_server.py -> BentoML-0.5.2+233.g8538e6f/bentoml/server\n",
      "copying bentoml/server/bento_sagemaker_server.py -> BentoML-0.5.2+233.g8538e6f/bentoml/server\n",
      "copying bentoml/server/gunicorn_config.py -> BentoML-0.5.2+233.g8538e6f/bentoml/server\n",
      "copying bentoml/server/gunicorn_server.py -> BentoML-0.5.2+233.g8538e6f/bentoml/server\n",
      "copying bentoml/server/marshal_server.py -> BentoML-0.5.2+233.g8538e6f/bentoml/server\n",
      "copying bentoml/server/middlewares.py -> BentoML-0.5.2+233.g8538e6f/bentoml/server\n",
      "copying bentoml/server/utils.py -> BentoML-0.5.2+233.g8538e6f/bentoml/server\n",
      "copying bentoml/server/static/swagger-ui-bundle.js -> BentoML-0.5.2+233.g8538e6f/bentoml/server/static\n",
      "copying bentoml/server/static/swagger-ui.css -> BentoML-0.5.2+233.g8538e6f/bentoml/server/static\n",
      "copying bentoml/utils/__init__.py -> BentoML-0.5.2+233.g8538e6f/bentoml/utils\n",
      "copying bentoml/utils/alg.py -> BentoML-0.5.2+233.g8538e6f/bentoml/utils\n",
      "copying bentoml/utils/benchmark.py -> BentoML-0.5.2+233.g8538e6f/bentoml/utils\n",
      "copying bentoml/utils/cloudpickle.py -> BentoML-0.5.2+233.g8538e6f/bentoml/utils\n",
      "copying bentoml/utils/hybridmethod.py -> BentoML-0.5.2+233.g8538e6f/bentoml/utils\n",
      "copying bentoml/utils/log.py -> BentoML-0.5.2+233.g8538e6f/bentoml/utils\n",
      "copying bentoml/utils/pip_pkg.py -> BentoML-0.5.2+233.g8538e6f/bentoml/utils\n",
      "copying bentoml/utils/s3.py -> BentoML-0.5.2+233.g8538e6f/bentoml/utils\n",
      "copying bentoml/utils/tempdir.py -> BentoML-0.5.2+233.g8538e6f/bentoml/utils\n",
      "copying bentoml/utils/trace.py -> BentoML-0.5.2+233.g8538e6f/bentoml/utils\n",
      "copying bentoml/utils/usage_stats.py -> BentoML-0.5.2+233.g8538e6f/bentoml/utils\n",
      "copying bentoml/utils/validator/__init__.py -> BentoML-0.5.2+233.g8538e6f/bentoml/utils/validator\n",
      "copying bentoml/yatai/__init__.py -> BentoML-0.5.2+233.g8538e6f/bentoml/yatai\n",
      "copying bentoml/yatai/deployment_utils.py -> BentoML-0.5.2+233.g8538e6f/bentoml/yatai\n",
      "copying bentoml/yatai/status.py -> BentoML-0.5.2+233.g8538e6f/bentoml/yatai\n",
      "copying bentoml/yatai/utils.py -> BentoML-0.5.2+233.g8538e6f/bentoml/yatai\n",
      "copying bentoml/yatai/yatai_service_impl.py -> BentoML-0.5.2+233.g8538e6f/bentoml/yatai\n",
      "copying bentoml/yatai/client/__init__.py -> BentoML-0.5.2+233.g8538e6f/bentoml/yatai/client\n",
      "copying bentoml/yatai/client/bento_repository_api.py -> BentoML-0.5.2+233.g8538e6f/bentoml/yatai/client\n",
      "copying bentoml/yatai/client/deployment_api.py -> BentoML-0.5.2+233.g8538e6f/bentoml/yatai/client\n",
      "Writing BentoML-0.5.2+233.g8538e6f/setup.cfg\n",
      "UPDATING BentoML-0.5.2+233.g8538e6f/bentoml/_version.py\n",
      "set BentoML-0.5.2+233.g8538e6f/bentoml/_version.py to '0.5.2+233.g8538e6f'\n",
      "Creating tar archive\n",
      "removing 'BentoML-0.5.2+233.g8538e6f' (and everything under it)\n",
      "[2020-05-27 18:00:55,095] WARNING - BentoML local changes detected - Local BentoML repository including all code changes will be bundled together with the BentoService bundle. When used with docker, the base docker image will be default to same version as last PyPI release at version: 0.5.2. You can also force bentoml to use a specific version for deploying your BentoService bundle, by setting the config 'core/bentoml_deploy_version' to a pinned version or your custom BentoML on github, e.g.:'bentoml_deploy_version = git+https://github.com/{username}/bentoml.git@{branch}'\n",
      "[2020-05-27 18:00:55,108] WARNING - Saved BentoService bundle version mismatch: loading BentoServie bundle create with BentoML version 0.5.2,  but loading from BentoML version 0.5.2+233.g8538e6f\n",
      "[2020-05-27 18:00:55,126] INFO - BentoService bundle 'PytorchImageClassifier:20200527180045_3114E5' saved to: /home/bentoml/bentoml/repository/PytorchImageClassifier/20200527180045_3114E5\n",
      "/home/bentoml/bentoml/repository/PytorchImageClassifier/20200527180045_3114E5\n"
     ]
    }
   ],
   "source": [
    "# 1) import the custom BentoService defined above\n",
    "from pytorch_image_classifier import PytorchImageClassifier\n",
    "\n",
    "# 2) `pack` it with required artifacts\n",
    "bento_svc = PytorchImageClassifier()\n",
    "bento_svc.pack('net', net)\n",
    "\n",
    "# 3) save your BentoSerivce to file archive\n",
    "saved_path = bento_svc.save()\n",
    "print(saved_path)"
   ]
  },
  {
   "cell_type": "markdown",
   "metadata": {},
   "source": [
    "## BentoService with BentoML CLI"
   ]
  },
  {
   "cell_type": "code",
   "execution_count": 12,
   "metadata": {},
   "outputs": [
    {
     "name": "stdout",
     "output_type": "stream",
     "text": [
      "\u001b[39mBENTO_SERVICE                                 CREATED_AT        APIS                   ARTIFACTS\n",
      "PytorchImageClassifier:20200127115720_71B982  2020-01-27 19:57  predict::ImageHandler  net::PytorchModelArtifact\n",
      "PytorchImageClassifier:20200127114517_C3118B  2020-01-27 19:45  predict::ImageHandler  net::PytorchModelArtifact\u001b[0m\n"
     ]
    }
   ],
   "source": [
    "!bentoml get PytorchImageClassifier"
   ]
  },
  {
   "cell_type": "code",
   "execution_count": 13,
   "metadata": {},
   "outputs": [
    {
     "name": "stdout",
     "output_type": "stream",
     "text": [
      "\u001b[39m{\n",
      "  \"name\": \"PytorchImageClassifier\",\n",
      "  \"version\": \"20200127114517_C3118B\",\n",
      "  \"uri\": {\n",
      "    \"type\": \"LOCAL\",\n",
      "    \"uri\": \"/Users/bozhaoyu/bentoml/repository/PytorchImageClassifier/20200127114517_C3118B\"\n",
      "  },\n",
      "  \"bentoServiceMetadata\": {\n",
      "    \"name\": \"PytorchImageClassifier\",\n",
      "    \"version\": \"20200127114517_C3118B\",\n",
      "    \"createdAt\": \"2020-01-27T19:45:35.956860Z\",\n",
      "    \"env\": {\n",
      "      \"condaEnv\": \"name: bentoml-PytorchImageClassifier\\nchannels:\\n- defaults\\ndependencies:\\n- python=3.7.3\\n- pip\\n\",\n",
      "      \"pipDependencies\": \"bentoml==0.6.1\\ntorch\\nnumpy\\ntorchvision\\nscikit-learn\\nimageio\\nimageio\",\n",
      "      \"pythonVersion\": \"3.7.3\"\n",
      "    },\n",
      "    \"artifacts\": [\n",
      "      {\n",
      "        \"name\": \"net\",\n",
      "        \"artifactType\": \"PytorchModelArtifact\"\n",
      "      }\n",
      "    ],\n",
      "    \"apis\": [\n",
      "      {\n",
      "        \"name\": \"predict\",\n",
      "        \"handlerType\": \"ImageHandler\",\n",
      "        \"docs\": \"BentoService API\"\n",
      "      }\n",
      "    ]\n",
      "  }\n",
      "}\u001b[0m\n"
     ]
    }
   ],
   "source": [
    "!bentoml get PytorchImageClassifier:20200127114517_C3118B"
   ]
  },
  {
   "cell_type": "code",
   "execution_count": 14,
   "metadata": {},
   "outputs": [
    {
     "name": "stdout",
     "output_type": "stream",
     "text": [
      "\u001b[39m{\n",
      "  \"name\": \"PytorchImageClassifier\",\n",
      "  \"version\": \"20200127115720_71B982\",\n",
      "  \"created_at\": \"2020-01-27T19:57:37.091298Z\",\n",
      "  \"env\": {\n",
      "    \"conda_env\": \"name: bentoml-PytorchImageClassifier\\nchannels:\\n- defaults\\ndependencies:\\n- python=3.7.3\\n- pip\\n\",\n",
      "    \"pip_dependencies\": \"bentoml==0.6.1\\ntorch\\nnumpy\\ntorchvision\\nscikit-learn\\nimageio\",\n",
      "    \"python_version\": \"3.7.3\"\n",
      "  },\n",
      "  \"artifacts\": [\n",
      "    {\n",
      "      \"name\": \"net\",\n",
      "      \"artifact_type\": \"PytorchModelArtifact\"\n",
      "    }\n",
      "  ],\n",
      "  \"apis\": [\n",
      "    {\n",
      "      \"name\": \"predict\",\n",
      "      \"handler_type\": \"ImageHandler\",\n",
      "      \"docs\": \"BentoService API\"\n",
      "    }\n",
      "  ]\n",
      "}\u001b[0m\n"
     ]
    }
   ],
   "source": [
    "!bentoml info PytorchImageClassifier:20200127115720_71B982"
   ]
  },
  {
   "cell_type": "code",
   "execution_count": 15,
   "metadata": {},
   "outputs": [
    {
     "name": "stdout",
     "output_type": "stream",
     "text": [
      "bird\n"
     ]
    }
   ],
   "source": [
    "!bentoml run PytorchImageClassifier:20200127115720_71B982 predict  --input=bird.jpg"
   ]
  },
  {
   "cell_type": "markdown",
   "metadata": {},
   "source": [
    "## Model Serving via REST API\n",
    "\n",
    "In your termnial, run the following command to start the REST API server:"
   ]
  },
  {
   "cell_type": "code",
   "execution_count": 13,
   "metadata": {
    "scrolled": true
   },
   "outputs": [
    {
     "name": "stdout",
     "output_type": "stream",
     "text": [
      "[2020-05-27 18:01:12,409] WARNING - BentoML local changes detected - Local BentoML repository including all code changes will be bundled together with the BentoService bundle. When used with docker, the base docker image will be default to same version as last PyPI release at version: 0.5.2. You can also force bentoml to use a specific version for deploying your BentoService bundle, by setting the config 'core/bentoml_deploy_version' to a pinned version or your custom BentoML on github, e.g.:'bentoml_deploy_version = git+https://github.com/{username}/bentoml.git@{branch}'\n",
      "[2020-05-27 18:01:12,447] WARNING - Saved BentoService bundle version mismatch: loading BentoServie bundle create with BentoML version 0.5.2,  but loading from BentoML version 0.5.2+233.g8538e6f\n",
      "[2020-05-27 18:01:12,909] WARNING - BentoML local changes detected - Local BentoML repository including all code changes will be bundled together with the BentoService bundle. When used with docker, the base docker image will be default to same version as last PyPI release at version: 0.5.2. You can also force bentoml to use a specific version for deploying your BentoService bundle, by setting the config 'core/bentoml_deploy_version' to a pinned version or your custom BentoML on github, e.g.:'bentoml_deploy_version = git+https://github.com/{username}/bentoml.git@{branch}'\n",
      "[2020-05-27 18:01:12,936] WARNING - BentoML by default does not include spacy and torchvision package when using PytorchModelArtifact. To make sure BentoML bundle those packages if they are required for your model, either import those packages in BentoService definition file or manually add them via `@env(pip_dependencies=['torchvision'])` when defining a BentoService\n",
      "[2020-05-27 18:01:12,936] WARNING - BentoML local changes detected - Local BentoML repository including all code changes will be bundled together with the BentoService bundle. When used with docker, the base docker image will be default to same version as last PyPI release at version: 0.5.2. You can also force bentoml to use a specific version for deploying your BentoService bundle, by setting the config 'core/bentoml_deploy_version' to a pinned version or your custom BentoML on github, e.g.:'bentoml_deploy_version = git+https://github.com/{username}/bentoml.git@{branch}'\n",
      "[2020-05-27 18:01:13,961] WARNING - BentoML local changes detected - Local BentoML repository including all code changes will be bundled together with the BentoService bundle. When used with docker, the base docker image will be default to same version as last PyPI release at version: 0.5.2. You can also force bentoml to use a specific version for deploying your BentoService bundle, by setting the config 'core/bentoml_deploy_version' to a pinned version or your custom BentoML on github, e.g.:'bentoml_deploy_version = git+https://github.com/{username}/bentoml.git@{branch}'\n",
      "[2020-05-27 18:01:13,972] WARNING - Saved BentoService bundle version mismatch: loading BentoServie bundle create with BentoML version 0.5.2,  but loading from BentoML version 0.5.2+233.g8538e6f\n",
      "[2020-05-27 18:01:13,973] INFO - Micro batch enabled for API `predict`\n",
      "[2020-05-27 18:01:13,973] INFO - Your system nofile limit is 10000, which means each instance of microbatch service is able to hold this number of connections at same time. You can increase the number of file descriptors for the server process, or launch more microbatch instances to accept more concurrent connection.\n",
      "[2020-05-27 18:01:14,522] INFO - Running micro batch service on :5000\n",
      "======== Running on http://0.0.0.0:5000 ========\n",
      "(Press CTRL+C to quit)\n",
      " * Serving Flask app \"PytorchImageClassifier\" (lazy loading)\n",
      " * Environment: production\n",
      "\u001b[31m   WARNING: This is a development server. Do not use it in a production deployment.\u001b[0m\n",
      "\u001b[2m   Use a production WSGI server instead.\u001b[0m\n",
      " * Debug mode: off\n",
      " * Running on http://127.0.0.1:41131/ (Press CTRL+C to quit)\n",
      "[2020-05-27 18:01:19,037] INFO - outbound function called: 1\n",
      "127.0.0.1 - - [27/May/2020 18:01:19] \"\u001b[37mPOST /predict HTTP/1.1\u001b[0m\" 200 -\n",
      "^C\n"
     ]
    }
   ],
   "source": [
    "!bentoml serve {saved_path} --enable-microbatch"
   ]
  },
  {
   "cell_type": "markdown",
   "metadata": {},
   "source": [
    "Open a terminal and go to the directory of the current notebook, then run the following command to evaluate.\n",
    "\n",
    "```bash\n",
    "curl -X POST \"http://127.0.0.1:5000/predict\" -H \"Content-Type: image/*\" --data-binary \"@bird.jpg\"\n",
    "```\n",
    "\n",
    "alternatively:\n",
    "```bash\n",
    "curl -X POST \"http://127.0.0.1:5000/predict\" -F image=@bird.png\n",
    "```\n",
    "\n",
    "\n",
    "Go visit http://127.0.0.1:5000/ from your browser, click `/predict` -> `Try it out` -> `Choose File` -> `Execute` to sumbit an image from your computer"
   ]
  },
  {
   "cell_type": "markdown",
   "metadata": {},
   "source": [
    "# Use BentoService as PyPI package"
   ]
  },
  {
   "cell_type": "code",
   "execution_count": 16,
   "metadata": {},
   "outputs": [
    {
     "name": "stdout",
     "output_type": "stream",
     "text": [
      "Processing /Users/bozhaoyu/bentoml/repository/PytorchImageClassifier/20200127115720_71B982\n",
      "Requirement already satisfied: bentoml==0.6.1 in /Users/bozhaoyu/src/bento (from PytorchImageClassifier===20200127115720-71B982) (0.6.1)\n",
      "Requirement already satisfied: torch in /usr/local/anaconda3/envs/dev-py3/lib/python3.7/site-packages (from PytorchImageClassifier===20200127115720-71B982) (1.0.1.post2)\n",
      "Requirement already satisfied: numpy in /usr/local/anaconda3/envs/dev-py3/lib/python3.7/site-packages (from PytorchImageClassifier===20200127115720-71B982) (1.16.4)\n",
      "Requirement already satisfied: torchvision in /usr/local/anaconda3/envs/dev-py3/lib/python3.7/site-packages (from PytorchImageClassifier===20200127115720-71B982) (0.2.2)\n",
      "Requirement already satisfied: scikit-learn in /usr/local/anaconda3/envs/dev-py3/lib/python3.7/site-packages (from PytorchImageClassifier===20200127115720-71B982) (0.22)\n",
      "Requirement already satisfied: imageio in /usr/local/anaconda3/envs/dev-py3/lib/python3.7/site-packages (from PytorchImageClassifier===20200127115720-71B982) (2.5.0)\n",
      "Requirement already satisfied: ruamel.yaml>=0.15.0 in /usr/local/anaconda3/envs/dev-py3/lib/python3.7/site-packages (from bentoml==0.6.1->PytorchImageClassifier===20200127115720-71B982) (0.15.99)\n",
      "Requirement already satisfied: flask in /usr/local/anaconda3/envs/dev-py3/lib/python3.7/site-packages (from bentoml==0.6.1->PytorchImageClassifier===20200127115720-71B982) (1.0.4)\n",
      "Requirement already satisfied: gunicorn in /usr/local/anaconda3/envs/dev-py3/lib/python3.7/site-packages (from bentoml==0.6.1->PytorchImageClassifier===20200127115720-71B982) (19.9.0)\n",
      "Requirement already satisfied: click>=7.0 in /usr/local/anaconda3/envs/dev-py3/lib/python3.7/site-packages (from bentoml==0.6.1->PytorchImageClassifier===20200127115720-71B982) (7.0)\n",
      "Requirement already satisfied: pandas in /usr/local/anaconda3/envs/dev-py3/lib/python3.7/site-packages (from bentoml==0.6.1->PytorchImageClassifier===20200127115720-71B982) (0.24.2)\n",
      "Requirement already satisfied: prometheus_client in /usr/local/anaconda3/envs/dev-py3/lib/python3.7/site-packages (from bentoml==0.6.1->PytorchImageClassifier===20200127115720-71B982) (0.7.1)\n",
      "Requirement already satisfied: python-json-logger in /usr/local/anaconda3/envs/dev-py3/lib/python3.7/site-packages (from bentoml==0.6.1->PytorchImageClassifier===20200127115720-71B982) (0.1.11)\n",
      "Requirement already satisfied: boto3 in /usr/local/anaconda3/envs/dev-py3/lib/python3.7/site-packages (from bentoml==0.6.1->PytorchImageClassifier===20200127115720-71B982) (1.10.42)\n",
      "Requirement already satisfied: requests in /usr/local/anaconda3/envs/dev-py3/lib/python3.7/site-packages (from bentoml==0.6.1->PytorchImageClassifier===20200127115720-71B982) (2.22.0)\n",
      "Requirement already satisfied: packaging in /usr/local/anaconda3/envs/dev-py3/lib/python3.7/site-packages (from bentoml==0.6.1->PytorchImageClassifier===20200127115720-71B982) (19.0)\n",
      "Requirement already satisfied: docker in /usr/local/anaconda3/envs/dev-py3/lib/python3.7/site-packages (from bentoml==0.6.1->PytorchImageClassifier===20200127115720-71B982) (4.1.0)\n",
      "Requirement already satisfied: configparser in /usr/local/anaconda3/envs/dev-py3/lib/python3.7/site-packages (from bentoml==0.6.1->PytorchImageClassifier===20200127115720-71B982) (3.7.4)\n",
      "Requirement already satisfied: sqlalchemy>=1.3.0 in /usr/local/anaconda3/envs/dev-py3/lib/python3.7/site-packages (from bentoml==0.6.1->PytorchImageClassifier===20200127115720-71B982) (1.3.6)\n",
      "Requirement already satisfied: protobuf>=3.6.0 in /usr/local/anaconda3/envs/dev-py3/lib/python3.7/site-packages (from bentoml==0.6.1->PytorchImageClassifier===20200127115720-71B982) (3.7.0)\n",
      "Requirement already satisfied: grpcio in /usr/local/anaconda3/envs/dev-py3/lib/python3.7/site-packages (from bentoml==0.6.1->PytorchImageClassifier===20200127115720-71B982) (1.22.0)\n",
      "Requirement already satisfied: cerberus in /usr/local/anaconda3/envs/dev-py3/lib/python3.7/site-packages (from bentoml==0.6.1->PytorchImageClassifier===20200127115720-71B982) (1.3.1)\n",
      "Requirement already satisfied: tabulate in /usr/local/anaconda3/envs/dev-py3/lib/python3.7/site-packages (from bentoml==0.6.1->PytorchImageClassifier===20200127115720-71B982) (0.8.3)\n",
      "Requirement already satisfied: humanfriendly in /usr/local/anaconda3/envs/dev-py3/lib/python3.7/site-packages (from bentoml==0.6.1->PytorchImageClassifier===20200127115720-71B982) (4.18)\n",
      "Requirement already satisfied: alembic in /usr/local/anaconda3/envs/dev-py3/lib/python3.7/site-packages (from bentoml==0.6.1->PytorchImageClassifier===20200127115720-71B982) (1.2.1)\n",
      "Requirement already satisfied: python-dateutil<2.8.1,>=2.1 in /usr/local/anaconda3/envs/dev-py3/lib/python3.7/site-packages (from bentoml==0.6.1->PytorchImageClassifier===20200127115720-71B982) (2.8.0)\n",
      "Requirement already satisfied: six in /usr/local/anaconda3/envs/dev-py3/lib/python3.7/site-packages (from torchvision->PytorchImageClassifier===20200127115720-71B982) (1.14.0)\n",
      "Requirement already satisfied: pillow>=4.1.1 in /usr/local/anaconda3/envs/dev-py3/lib/python3.7/site-packages (from torchvision->PytorchImageClassifier===20200127115720-71B982) (6.0.0)\n",
      "Requirement already satisfied: scipy>=0.17.0 in /usr/local/anaconda3/envs/dev-py3/lib/python3.7/site-packages (from scikit-learn->PytorchImageClassifier===20200127115720-71B982) (1.2.1)\n",
      "Requirement already satisfied: joblib>=0.11 in /usr/local/anaconda3/envs/dev-py3/lib/python3.7/site-packages (from scikit-learn->PytorchImageClassifier===20200127115720-71B982) (0.14.1)\n",
      "Requirement already satisfied: Jinja2>=2.10 in /usr/local/anaconda3/envs/dev-py3/lib/python3.7/site-packages (from flask->bentoml==0.6.1->PytorchImageClassifier===20200127115720-71B982) (2.10.1)\n",
      "Requirement already satisfied: Werkzeug>=0.14 in /usr/local/anaconda3/envs/dev-py3/lib/python3.7/site-packages (from flask->bentoml==0.6.1->PytorchImageClassifier===20200127115720-71B982) (0.15.4)\n",
      "Requirement already satisfied: itsdangerous>=0.24 in /usr/local/anaconda3/envs/dev-py3/lib/python3.7/site-packages (from flask->bentoml==0.6.1->PytorchImageClassifier===20200127115720-71B982) (1.1.0)\n",
      "Requirement already satisfied: pytz>=2011k in /usr/local/anaconda3/envs/dev-py3/lib/python3.7/site-packages (from pandas->bentoml==0.6.1->PytorchImageClassifier===20200127115720-71B982) (2019.1)\n",
      "Requirement already satisfied: s3transfer<0.3.0,>=0.2.0 in /usr/local/anaconda3/envs/dev-py3/lib/python3.7/site-packages (from boto3->bentoml==0.6.1->PytorchImageClassifier===20200127115720-71B982) (0.2.1)\n",
      "Requirement already satisfied: jmespath<1.0.0,>=0.7.1 in /usr/local/anaconda3/envs/dev-py3/lib/python3.7/site-packages (from boto3->bentoml==0.6.1->PytorchImageClassifier===20200127115720-71B982) (0.9.4)\n",
      "Requirement already satisfied: botocore<1.14.0,>=1.13.42 in /usr/local/anaconda3/envs/dev-py3/lib/python3.7/site-packages (from boto3->bentoml==0.6.1->PytorchImageClassifier===20200127115720-71B982) (1.13.42)\n",
      "Requirement already satisfied: certifi>=2017.4.17 in /usr/local/anaconda3/envs/dev-py3/lib/python3.7/site-packages (from requests->bentoml==0.6.1->PytorchImageClassifier===20200127115720-71B982) (2019.11.28)\n",
      "Requirement already satisfied: idna<2.9,>=2.5 in /usr/local/anaconda3/envs/dev-py3/lib/python3.7/site-packages (from requests->bentoml==0.6.1->PytorchImageClassifier===20200127115720-71B982) (2.8)\n",
      "Requirement already satisfied: chardet<3.1.0,>=3.0.2 in /usr/local/anaconda3/envs/dev-py3/lib/python3.7/site-packages (from requests->bentoml==0.6.1->PytorchImageClassifier===20200127115720-71B982) (3.0.4)\n",
      "Requirement already satisfied: urllib3!=1.25.0,!=1.25.1,<1.26,>=1.21.1 in /usr/local/anaconda3/envs/dev-py3/lib/python3.7/site-packages (from requests->bentoml==0.6.1->PytorchImageClassifier===20200127115720-71B982) (1.24.1)\n",
      "Requirement already satisfied: pyparsing>=2.0.2 in /usr/local/anaconda3/envs/dev-py3/lib/python3.7/site-packages (from packaging->bentoml==0.6.1->PytorchImageClassifier===20200127115720-71B982) (2.4.0)\n",
      "Requirement already satisfied: websocket-client>=0.32.0 in /usr/local/anaconda3/envs/dev-py3/lib/python3.7/site-packages (from docker->bentoml==0.6.1->PytorchImageClassifier===20200127115720-71B982) (0.57.0)\n",
      "Requirement already satisfied: setuptools in /usr/local/anaconda3/envs/dev-py3/lib/python3.7/site-packages (from protobuf>=3.6.0->bentoml==0.6.1->PytorchImageClassifier===20200127115720-71B982) (45.1.0.post20200119)\n",
      "Requirement already satisfied: Mako in /usr/local/anaconda3/envs/dev-py3/lib/python3.7/site-packages (from alembic->bentoml==0.6.1->PytorchImageClassifier===20200127115720-71B982) (1.1.0)\n",
      "Requirement already satisfied: python-editor>=0.3 in /usr/local/anaconda3/envs/dev-py3/lib/python3.7/site-packages (from alembic->bentoml==0.6.1->PytorchImageClassifier===20200127115720-71B982) (1.0.4)\n",
      "Requirement already satisfied: MarkupSafe>=0.23 in /usr/local/anaconda3/envs/dev-py3/lib/python3.7/site-packages (from Jinja2>=2.10->flask->bentoml==0.6.1->PytorchImageClassifier===20200127115720-71B982) (1.1.1)\n",
      "Requirement already satisfied: docutils<0.16,>=0.10 in /usr/local/anaconda3/envs/dev-py3/lib/python3.7/site-packages (from botocore<1.14.0,>=1.13.42->boto3->bentoml==0.6.1->PytorchImageClassifier===20200127115720-71B982) (0.15.2)\n",
      "Building wheels for collected packages: PytorchImageClassifier\n",
      "  Building wheel for PytorchImageClassifier (setup.py) ... \u001b[?25ldone\n",
      "\u001b[?25h  Created wheel for PytorchImageClassifier: filename=PytorchImageClassifier-20200127115720_71B982-py3-none-any.whl size=358090 sha256=86aa26105d4c3ad874bdfae253bf7598e6cf0170140b183f62cd2a678af71974\n",
      "  Stored in directory: /private/var/folders/kn/xnc9k74x03567n1mx2tfqnpr0000gn/T/pip-ephem-wheel-cache-p3sk_a5m/wheels/14/30/d4/aecaa883eaf658252ec7524f8e5830f05df6881741feca4356\n",
      "Successfully built PytorchImageClassifier\n",
      "Installing collected packages: PytorchImageClassifier\n",
      "Successfully installed PytorchImageClassifier-20200127115720-71B982\n"
     ]
    }
   ],
   "source": [
    "!pip install {saved_path}"
   ]
  },
  {
   "cell_type": "code",
   "execution_count": 19,
   "metadata": {},
   "outputs": [
    {
     "name": "stdout",
     "output_type": "stream",
     "text": [
      "bird\n"
     ]
    }
   ],
   "source": [
    "!PytorchImageClassifier run predict --input=bird.jpg"
   ]
  },
  {
   "cell_type": "markdown",
   "metadata": {},
   "source": [
    "# Deploy BentoService as REST API server to the cloud\n",
    "\n",
    "\n",
    "BentoML support deployment to multiply cloud provider services, such as AWS Lambda, AWS Sagemaker, Google Cloudrun and etc. You can find the full list and guide on the documentation site at https://docs.bentoml.org/en/latest/deployment/index.html\n",
    "\n",
    "For fastai pet classification, we are going to deploy to AWS Sagemaker"
   ]
  },
  {
   "cell_type": "markdown",
   "metadata": {},
   "source": [
    "**Deploying to Sagemaker with `bentoml sagemaker deploy`**"
   ]
  },
  {
   "cell_type": "code",
   "execution_count": 22,
   "metadata": {},
   "outputs": [
    {
     "name": "stdout",
     "output_type": "stream",
     "text": [
      "Deploying Sagemaker deployment \\[2020-01-27 12:05:30,122] INFO - Step 1/11 : FROM continuumio/miniconda3:4.7.12\n",
      "[2020-01-27 12:05:30,124] INFO - \n",
      "\n",
      "[2020-01-27 12:05:30,125] INFO -  ---> 406f2b43ea59\n",
      "\n",
      "[2020-01-27 12:05:30,125] INFO - Step 2/11 : EXPOSE 8080\n",
      "[2020-01-27 12:05:30,125] INFO - \n",
      "\n",
      "[2020-01-27 12:05:30,125] INFO -  ---> Using cache\n",
      "\n",
      "[2020-01-27 12:05:30,125] INFO -  ---> 7c8096d6922f\n",
      "\n",
      "[2020-01-27 12:05:30,125] INFO - Step 3/11 : RUN set -x      && apt-get update      && apt-get install --no-install-recommends --no-install-suggests -y libpq-dev build-essential     && apt-get install -y nginx      && rm -rf /var/lib/apt/lists/*\n",
      "[2020-01-27 12:05:30,125] INFO - \n",
      "\n",
      "[2020-01-27 12:05:30,126] INFO -  ---> Using cache\n",
      "\n",
      "[2020-01-27 12:05:30,126] INFO -  ---> 5b00a58f3bce\n",
      "\n",
      "[2020-01-27 12:05:30,126] INFO - Step 4/11 : RUN conda install pip numpy scipy       && pip install gunicorn gevent\n",
      "[2020-01-27 12:05:30,126] INFO - \n",
      "\n",
      "[2020-01-27 12:05:30,126] INFO -  ---> Using cache\n",
      "\n",
      "[2020-01-27 12:05:30,127] INFO -  ---> 25aacb592861\n",
      "\n",
      "[2020-01-27 12:05:30,127] INFO - Step 5/11 : COPY . /opt/program\n",
      "[2020-01-27 12:05:30,127] INFO - \n",
      "\n",
      "[2020-01-27 12:05:30,127] INFO -  ---> Using cache\n",
      "\n",
      "[2020-01-27 12:05:30,127] INFO -  ---> cad4120a0f7c\n",
      "\n",
      "[2020-01-27 12:05:30,127] INFO - Step 6/11 : WORKDIR /opt/program\n",
      "[2020-01-27 12:05:30,127] INFO - \n",
      "\n",
      "[2020-01-27 12:05:30,128] INFO -  ---> Using cache\n",
      "\n",
      "[2020-01-27 12:05:30,128] INFO -  ---> 863e0db936e9\n",
      "\n",
      "[2020-01-27 12:05:30,128] INFO - Step 7/11 : RUN conda env update -n base -f /opt/program/environment.yml\n",
      "[2020-01-27 12:05:30,128] INFO - \n",
      "\n",
      "[2020-01-27 12:05:30,128] INFO -  ---> Using cache\n",
      "\n",
      "[2020-01-27 12:05:30,128] INFO -  ---> bf004b1d85ca\n",
      "\n",
      "[2020-01-27 12:05:30,129] INFO - Step 8/11 : RUN pip install -r /opt/program/requirements.txt\n",
      "[2020-01-27 12:05:30,129] INFO - \n",
      "\n",
      "\b-[2020-01-27 12:05:30,223] INFO -  ---> Running in 09eba76c8667\n",
      "\n",
      "\b\\[2020-01-27 12:05:31,838] INFO - Collecting bentoml==0.6.1\n",
      "\n",
      "\b-[2020-01-27 12:05:31,941] INFO -   Downloading https://files.pythonhosted.org/packages/95/5b/6dd42537eb3fce0f3f28ccb84435a1d5ea6dd6a5756d120d75a6c47e021d/BentoML-0.6.1-py3-none-any.whl (553kB)\n",
      "\n",
      "\b-[2020-01-27 12:05:32,282] INFO - Collecting torch\n",
      "\n",
      "[2020-01-27 12:05:32,299] INFO -   Downloading https://files.pythonhosted.org/packages/1a/3b/fa92ece1e58a6a48ec598bab327f39d69808133e5b2fb33002ca754e381e/torch-1.4.0-cp37-cp37m-manylinux1_x86_64.whl (753.4MB)\n",
      "\n",
      "\b|[2020-01-27 12:06:36,105] INFO - Requirement already satisfied: numpy in /opt/conda/lib/python3.7/site-packages (from -r /opt/program/requirements.txt (line 3)) (1.18.1)\n",
      "\n",
      "\b|[2020-01-27 12:06:36,499] INFO - Collecting torchvision\n",
      "\n",
      "[2020-01-27 12:06:36,528] INFO -   Downloading https://files.pythonhosted.org/packages/1c/32/cb0e4c43cd717da50258887b088471568990b5a749784c465a8a1962e021/torchvision-0.5.0-cp37-cp37m-manylinux1_x86_64.whl (4.0MB)\n",
      "\n",
      "\b-[2020-01-27 12:06:37,136] INFO - Collecting scikit-learn\n",
      "\n",
      "\b/[2020-01-27 12:06:37,160] INFO -   Downloading https://files.pythonhosted.org/packages/73/db/7d8204ddba84ab5d1e4fd1af8f82bbe39c589488bee71e45c662f4144010/scikit_learn-0.22.1-cp37-cp37m-manylinux1_x86_64.whl (7.0MB)\n",
      "\n",
      "\b|[2020-01-27 12:06:37,724] INFO - Collecting imageio\n",
      "\n",
      "[2020-01-27 12:06:37,750] INFO -   Downloading https://files.pythonhosted.org/packages/1a/de/f7f985018f462ceeffada7f6e609919fbcc934acd9301929cba14bc2c24a/imageio-2.6.1-py3-none-any.whl (3.3MB)\n",
      "\n",
      "\b-[2020-01-27 12:06:37,971] INFO - Collecting docker\n",
      "\n",
      "\b/[2020-01-27 12:06:37,993] INFO -   Downloading https://files.pythonhosted.org/packages/cc/ca/699d4754a932787ef353a157ada74efd1ceb6d1fc0bfb7989ae1e7b33111/docker-4.1.0-py2.py3-none-any.whl (139kB)\n",
      "\n",
      "\b|[2020-01-27 12:06:38,097] INFO - Collecting alembic\n",
      "\n",
      "[2020-01-27 12:06:38,115] INFO -   Downloading https://files.pythonhosted.org/packages/9d/c9/d4aa3be3511dfd6d86f8f483ce0d9f120258be4aceadc17601843593e2ec/alembic-1.3.3.tar.gz (1.1MB)\n",
      "\n",
      "\b/[2020-01-27 12:06:40,123] INFO - Collecting ruamel.yaml>=0.15.0\n",
      "\n",
      "[2020-01-27 12:06:40,141] INFO -   Downloading https://files.pythonhosted.org/packages/99/a8/25242fc81d0c02460e93e8cc7ec4ae60c2382c00ba0a0e1becc22e76548d/ruamel.yaml-0.16.6-py2.py3-none-any.whl (123kB)\n",
      "\n",
      "\b|[2020-01-27 12:06:40,235] INFO - Collecting cerberus\n",
      "\n",
      "\b\\[2020-01-27 12:06:40,262] INFO -   Downloading https://files.pythonhosted.org/packages/90/a7/71c6ed2d46a81065e68c007ac63378b96fa54c7bb614d653c68232f9c50c/Cerberus-1.3.2.tar.gz (52kB)\n",
      "\n",
      "\b/[2020-01-27 12:06:40,510] INFO - Requirement already satisfied: gunicorn in /opt/conda/lib/python3.7/site-packages (from bentoml==0.6.1->-r /opt/program/requirements.txt (line 1)) (20.0.4)\n",
      "\n",
      "\b|[2020-01-27 12:06:40,572] INFO - Collecting flask\n",
      "\n",
      "[2020-01-27 12:06:40,593] INFO -   Downloading https://files.pythonhosted.org/packages/9b/93/628509b8d5dc749656a9641f4caf13540e2cdec85276964ff8f43bbb1d3b/Flask-1.1.1-py2.py3-none-any.whl (94kB)\n",
      "\n",
      "\b\\[2020-01-27 12:06:40,680] INFO - Collecting python-json-logger\n",
      "\n",
      "[2020-01-27 12:06:40,701] INFO -   Downloading https://files.pythonhosted.org/packages/80/9d/1c3393a6067716e04e6fcef95104c8426d262b4adaf18d7aa2470eab028d/python-json-logger-0.1.11.tar.gz\n",
      "\n",
      "\b|[2020-01-27 12:06:40,973] INFO - Collecting tabulate\n",
      "\n",
      "[2020-01-27 12:06:40,993] INFO -   Downloading https://files.pythonhosted.org/packages/c4/41/523f6a05e6dc3329a5660f6a81254c6cd87e5cfb5b7482bae3391d86ec3a/tabulate-0.8.6.tar.gz (45kB)\n",
      "\n",
      "\b|[2020-01-27 12:06:41,406] INFO - Collecting protobuf>=3.6.0\n",
      "\n",
      "[2020-01-27 12:06:41,428] INFO -   Downloading https://files.pythonhosted.org/packages/4a/14/f5c294f1e36a031f165128c25feba93b3116f15a74398d0b2747ed75744f/protobuf-3.11.2-cp37-cp37m-manylinux1_x86_64.whl (1.3MB)\n",
      "\n",
      "\b\\[2020-01-27 12:06:41,575] INFO - Collecting configparser\n",
      "\n",
      "\b-[2020-01-27 12:06:41,595] INFO -   Downloading https://files.pythonhosted.org/packages/7a/2a/95ed0501cf5d8709490b1d3a3f9b5cf340da6c433f896bbe9ce08dbe6785/configparser-4.0.2-py2.py3-none-any.whl\n",
      "\n",
      "\b|[2020-01-27 12:06:42,292] INFO - Collecting grpcio\n",
      "\n",
      "\b\\[2020-01-27 12:06:42,321] INFO -   Downloading https://files.pythonhosted.org/packages/bc/b3/0052e38c640d52b710e235b15821cc3c61d0065bf54e70a44550ef127349/grpcio-1.26.0-cp37-cp37m-manylinux2010_x86_64.whl (2.4MB)\n",
      "\n",
      "\b\\[2020-01-27 12:06:42,814] INFO - Collecting boto3\n",
      "\n",
      "\b-[2020-01-27 12:06:42,840] INFO -   Downloading https://files.pythonhosted.org/packages/d5/57/e9675a5a8d0ee586594ff19cb9a601334fbf24fa2fb29052d2a900ee5d23/boto3-1.11.9-py2.py3-none-any.whl (128kB)\n",
      "\n",
      "\b/[2020-01-27 12:06:42,969] INFO - Collecting sqlalchemy>=1.3.0\n",
      "\n",
      "[2020-01-27 12:06:42,991] INFO -   Downloading https://files.pythonhosted.org/packages/af/47/35edeb0f86c0b44934c05d961c893e223ef27e79e1f53b5e6f14820ff553/SQLAlchemy-1.3.13.tar.gz (6.0MB)\n",
      "\n",
      "\b|[2020-01-27 12:06:44,367] INFO - Collecting click>=7.0\n",
      "\n",
      "\b\\[2020-01-27 12:06:44,388] INFO -   Downloading https://files.pythonhosted.org/packages/fa/37/45185cb5abbc30d7257104c434fe0b07e5a195a6847506c074527aa599ec/Click-7.0-py2.py3-none-any.whl (81kB)\n",
      "\n",
      "\b-[2020-01-27 12:06:44,538] INFO - Collecting python-dateutil<2.8.1,>=2.1\n",
      "\n",
      "[2020-01-27 12:06:44,559] INFO -   Downloading https://files.pythonhosted.org/packages/41/17/c62faccbfbd163c7f57f3844689e3a78bae1f403648a6afb1d0866d87fbb/python_dateutil-2.8.0-py2.py3-none-any.whl (226kB)\n",
      "\n",
      "\b/[2020-01-27 12:06:44,654] INFO - Collecting packaging\n",
      "\n",
      "[2020-01-27 12:06:44,673] INFO -   Downloading https://files.pythonhosted.org/packages/98/42/87c585dd3b113c775e65fd6b8d9d0a43abe1819c471d7af702d4e01e9b20/packaging-20.1-py2.py3-none-any.whl\n",
      "\n",
      "\b|[2020-01-27 12:06:44,711] INFO - Requirement already satisfied: requests in /opt/conda/lib/python3.7/site-packages (from bentoml==0.6.1->-r /opt/program/requirements.txt (line 1)) (2.22.0)\n",
      "\n",
      "[2020-01-27 12:06:44,781] INFO - Collecting prometheus-client\n",
      "\n",
      "\b\\[2020-01-27 12:06:44,798] INFO -   Downloading https://files.pythonhosted.org/packages/b3/23/41a5a24b502d35a4ad50a5bb7202a5e1d9a0364d0c12f56db3dbf7aca76d/prometheus_client-0.7.1.tar.gz\n",
      "\n",
      "\b|[2020-01-27 12:06:45,147] INFO - Collecting humanfriendly\n",
      "\n",
      "[2020-01-27 12:06:45,165] INFO -   Downloading https://files.pythonhosted.org/packages/90/df/88bff450f333114680698dc4aac7506ff7cab164b794461906de31998665/humanfriendly-4.18-py2.py3-none-any.whl (73kB)\n",
      "\n",
      "\b/[2020-01-27 12:06:45,450] INFO - Collecting pandas\n",
      "\n",
      "[2020-01-27 12:06:45,470] INFO -   Downloading https://files.pythonhosted.org/packages/63/e0/a1b39cdcb2c391f087a1538bc8a6d62a82d0439693192aef541d7b123769/pandas-0.25.3-cp37-cp37m-manylinux1_x86_64.whl (10.4MB)\n",
      "\n",
      "\b/[2020-01-27 12:06:46,678] INFO - Collecting pillow>=4.1.1\n",
      "\n",
      "[2020-01-27 12:06:46,702] INFO -   Downloading https://files.pythonhosted.org/packages/f5/79/b2d5695d1a931474fa68b68ec93bdf08ba9acbc4d6b3b628eb6aac81d11c/Pillow-7.0.0-cp37-cp37m-manylinux1_x86_64.whl (2.1MB)\n",
      "\n",
      "\b\\[2020-01-27 12:06:46,848] INFO - Requirement already satisfied: six in /opt/conda/lib/python3.7/site-packages (from torchvision->-r /opt/program/requirements.txt (line 4)) (1.12.0)\n",
      "\n",
      "[2020-01-27 12:06:46,924] INFO - Collecting joblib>=0.11\n",
      "\n",
      "[2020-01-27 12:06:46,946] INFO -   Downloading https://files.pythonhosted.org/packages/28/5c/cf6a2b65a321c4a209efcdf64c2689efae2cb62661f8f6f4bb28547cf1bf/joblib-0.14.1-py2.py3-none-any.whl (294kB)\n",
      "\n",
      "\b-[2020-01-27 12:06:47,003] INFO - Requirement already satisfied: scipy>=0.17.0 in /opt/conda/lib/python3.7/site-packages (from scikit-learn->-r /opt/program/requirements.txt (line 5)) (1.3.2)\n",
      "\n",
      "\b/[2020-01-27 12:06:47,085] INFO - Collecting websocket-client>=0.32.0\n",
      "\n",
      "[2020-01-27 12:06:47,116] INFO -   Downloading https://files.pythonhosted.org/packages/4c/5f/f61b420143ed1c8dc69f9eaec5ff1ac36109d52c80de49d66e0c36c3dfdf/websocket_client-0.57.0-py2.py3-none-any.whl (200kB)\n",
      "\n",
      "\b\\[2020-01-27 12:06:47,334] INFO - Collecting Mako\n",
      "\n",
      "[2020-01-27 12:06:47,359] INFO -   Downloading https://files.pythonhosted.org/packages/28/03/329b21f00243fc2d3815399413845dbbfb0745cff38a29d3597e97f8be58/Mako-1.1.1.tar.gz (468kB)\n",
      "\n",
      "\b-[2020-01-27 12:06:47,837] INFO - Collecting python-editor>=0.3\n",
      "\n",
      "[2020-01-27 12:06:47,855] INFO -   Downloading https://files.pythonhosted.org/packages/c6/d3/201fc3abe391bbae6606e6f1d598c15d367033332bd54352b12f35513717/python_editor-1.0.4-py3-none-any.whl\n",
      "\n",
      "\b/[2020-01-27 12:06:47,914] INFO - Collecting ruamel.yaml.clib>=0.1.2; platform_python_implementation == \"CPython\" and python_version < \"3.8\"\n",
      "\n",
      "[2020-01-27 12:06:47,938] INFO -   Downloading https://files.pythonhosted.org/packages/40/80/da16b691d5e259dd9919a10628e541fca321cb4b078fbb88e1c7c22aa42d/ruamel.yaml.clib-0.2.0-cp37-cp37m-manylinux1_x86_64.whl (547kB)\n",
      "\n",
      "\b|[2020-01-27 12:06:47,988] INFO - Requirement already satisfied: setuptools in /opt/conda/lib/python3.7/site-packages (from cerberus->bentoml==0.6.1->-r /opt/program/requirements.txt (line 1)) (41.4.0)\n",
      "\n",
      "[2020-01-27 12:06:48,056] INFO - Collecting Werkzeug>=0.15\n",
      "\n",
      "[2020-01-27 12:06:48,076] INFO -   Downloading https://files.pythonhosted.org/packages/c2/e4/a859d2fe516f466642fa5c6054fd9646271f9da26b0cac0d2f37fc858c8f/Werkzeug-0.16.1-py2.py3-none-any.whl (327kB)\n",
      "\n",
      "\b\\[2020-01-27 12:06:48,165] INFO - Collecting itsdangerous>=0.24\n",
      "\n",
      "[2020-01-27 12:06:48,183] INFO -   Downloading https://files.pythonhosted.org/packages/76/ae/44b03b253d6fade317f32c24d100b3b35c2239807046a4c953c7b89fa49e/itsdangerous-1.1.0-py2.py3-none-any.whl\n",
      "\n",
      "\b/[2020-01-27 12:06:48,298] INFO - Collecting Jinja2>=2.10.1\n",
      "\n",
      "[2020-01-27 12:06:48,314] INFO -   Downloading https://files.pythonhosted.org/packages/7b/af/b9ed1959cb4bb7332e2b0797476c878fa38d200bfcfe38c6d53517c29bdf/Jinja2-2.11.0-py2.py3-none-any.whl (126kB)\n",
      "\n",
      "\b|[2020-01-27 12:06:48,458] INFO - Collecting s3transfer<0.4.0,>=0.3.0\n",
      "\n",
      "[2020-01-27 12:06:48,492] INFO -   Downloading https://files.pythonhosted.org/packages/c7/48/a8252b6b3cd31774eab312b19d58a6ac55f296240c206617dcd38cd93bf8/s3transfer-0.3.2-py2.py3-none-any.whl (69kB)\n",
      "\n",
      "\b/[2020-01-27 12:06:49,226] INFO - Collecting botocore<1.15.0,>=1.14.9\n",
      "\n",
      "\b|[2020-01-27 12:06:49,264] INFO -   Downloading https://files.pythonhosted.org/packages/64/4c/b0b0d3b6f84a05f9135051b56d3eb8708012a289c4b82ee21c8c766f47b5/botocore-1.14.9-py2.py3-none-any.whl (5.9MB)\n",
      "\n",
      "\b/[2020-01-27 12:06:50,062] INFO - Collecting jmespath<1.0.0,>=0.7.1\n",
      "\n",
      "\b|[2020-01-27 12:06:50,079] INFO -   Downloading https://files.pythonhosted.org/packages/83/94/7179c3832a6d45b266ddb2aac329e101367fbdb11f425f13771d27f225bb/jmespath-0.9.4-py2.py3-none-any.whl\n",
      "\n",
      "\b\\[2020-01-27 12:06:50,192] INFO - Collecting pyparsing>=2.0.2\n",
      "\n",
      "[2020-01-27 12:06:50,214] INFO -   Downloading https://files.pythonhosted.org/packages/5d/bc/1e58593167fade7b544bfe9502a26dc860940a79ab306e651e7f13be68c2/pyparsing-2.4.6-py2.py3-none-any.whl (67kB)\n",
      "\n",
      "[2020-01-27 12:06:50,236] INFO - Requirement already satisfied: chardet<3.1.0,>=3.0.2 in /opt/conda/lib/python3.7/site-packages (from requests->bentoml==0.6.1->-r /opt/program/requirements.txt (line 1)) (3.0.4)\n",
      "\n",
      "[2020-01-27 12:06:50,238] INFO - Requirement already satisfied: certifi>=2017.4.17 in /opt/conda/lib/python3.7/site-packages (from requests->bentoml==0.6.1->-r /opt/program/requirements.txt (line 1)) (2019.11.28)\n",
      "\n",
      "[2020-01-27 12:06:50,242] INFO - Requirement already satisfied: urllib3!=1.25.0,!=1.25.1,<1.26,>=1.21.1 in /opt/conda/lib/python3.7/site-packages (from requests->bentoml==0.6.1->-r /opt/program/requirements.txt (line 1)) (1.24.2)\n",
      "\n",
      "[2020-01-27 12:06:50,250] INFO - Requirement already satisfied: idna<2.9,>=2.5 in /opt/conda/lib/python3.7/site-packages (from requests->bentoml==0.6.1->-r /opt/program/requirements.txt (line 1)) (2.8)\n",
      "\n",
      "\b/[2020-01-27 12:06:50,433] INFO - Collecting pytz>=2017.2\n",
      "\n",
      "[2020-01-27 12:06:50,458] INFO -   Downloading https://files.pythonhosted.org/packages/e7/f9/f0b53f88060247251bf481fa6ea62cd0d25bf1b11a87888e53ce5b7c8ad2/pytz-2019.3-py2.py3-none-any.whl (509kB)\n",
      "\n",
      "\b\\[2020-01-27 12:06:50,638] INFO - Collecting MarkupSafe>=0.9.2\n",
      "\n",
      "[2020-01-27 12:06:50,657] INFO -   Downloading https://files.pythonhosted.org/packages/98/7b/ff284bd8c80654e471b769062a9b43cc5d03e7a615048d96f4619df8d420/MarkupSafe-1.1.1-cp37-cp37m-manylinux1_x86_64.whl\n",
      "\n",
      "\b-[2020-01-27 12:06:50,725] INFO - Collecting docutils<0.16,>=0.10\n",
      "\n",
      "[2020-01-27 12:06:50,747] INFO -   Downloading https://files.pythonhosted.org/packages/22/cd/a6aa959dca619918ccb55023b4cb151949c64d4d5d55b3f4ffd7eee0c6e8/docutils-0.15.2-py3-none-any.whl (547kB)\n",
      "\n",
      "\b/[2020-01-27 12:06:50,828] INFO - Building wheels for collected packages: alembic, cerberus, python-json-logger, tabulate, sqlalchemy, prometheus-client, Mako\n",
      "\n",
      "[2020-01-27 12:06:50,829] INFO -   Building wheel for alembic (setup.py): started\n",
      "\n",
      "\b/[2020-01-27 12:06:51,238] INFO -   Building wheel for alembic (setup.py): finished with status 'done'\n",
      "\n",
      "[2020-01-27 12:06:51,244] INFO -   Created wheel for alembic: filename=alembic-1.3.3-py2.py3-none-any.whl size=155684 sha256=76a5b093519ce57d526ba29cc06848485685312b9b4cf9c9c2c831d01d6ed878\n",
      "  Stored in directory: /root/.cache/pip/wheels/12/6a/49/94a4af65af2edbccf9f467c0f4b26f24d0e5b61be0d8a7e066\n",
      "\n",
      "[2020-01-27 12:06:51,270] INFO -   Building wheel for cerberus (setup.py): started\n",
      "\n",
      "\b-[2020-01-27 12:06:51,552] INFO -   Building wheel for cerberus (setup.py): finished with status 'done'\n",
      "\n",
      "[2020-01-27 12:06:51,554] INFO -   Created wheel for cerberus: filename=Cerberus-1.3.2-cp37-none-any.whl size=54336 sha256=6c602bbd6a2ef588f7cc64cdb1962fd18d770148be7866e9e67a3aa828c3eb4a\n",
      "\n",
      "[2020-01-27 12:06:51,554] INFO -   Stored in directory: /root/.cache/pip/wheels/e9/38/1f/f2cc84182676f3ae7134b9b2d744f9c235b24d2ddc8f7fe465\n",
      "\n",
      "[2020-01-27 12:06:51,566] INFO -   Building wheel for python-json-logger (setup.py): started\n",
      "\n",
      "\b\\[2020-01-27 12:06:51,830] INFO -   Building wheel for python-json-logger (setup.py): finished with status 'done'\n",
      "  Created wheel for python-json-logger: filename=python_json_logger-0.1.11-py2.py3-none-any.whl size=5076 sha256=3caa5cfdc376c76780f99612bcdb4b589b30a0bab700e629c32be1968b3a8a2a\n",
      "  Stored in directory: /root/.cache/pip/wheels/97/f7/a1/752e22bb30c1cfe38194ea0070a5c66e76ef4d06ad0c7dc401\n",
      "  Building wheel for tabulate (setup.py): started\n",
      "\n",
      "\b/[2020-01-27 12:06:52,100] INFO -   Building wheel for tabulate (setup.py): finished with status 'done'\n",
      "\n",
      "[2020-01-27 12:06:52,101] INFO -   Created wheel for tabulate: filename=tabulate-0.8.6-cp37-none-any.whl size=23274 sha256=cc12543e51b02de4ed78e669430e0c6ad9d70310d1dd213c56bea0c9391ad228\n",
      "\n",
      "[2020-01-27 12:06:52,101] INFO -   Stored in directory: /root/.cache/pip/wheels/9c/9b/f4/eb243fdb89676ec00588e8c54bb54360724c06e7fafe95278e\n",
      "\n",
      "[2020-01-27 12:06:52,108] INFO -   Building wheel for sqlalchemy (setup.py): started\n",
      "\n",
      "\b/[2020-01-27 12:06:53,719] INFO -   Building wheel for sqlalchemy (setup.py): finished with status 'done'\n",
      "\n",
      "[2020-01-27 12:06:53,725] INFO -   Created wheel for sqlalchemy: filename=SQLAlchemy-1.3.13-cp37-cp37m-linux_x86_64.whl size=1223695 sha256=28d87592c11bbd7c385641828a6a773c88dfcb93e24263e9e7eecf6a046080cd\n",
      "  Stored in directory: /root/.cache/pip/wheels/b3/35/98/4c9cb3fd63d21d5606b972dd70643769745adf60e622467b71\n",
      "\n",
      "\b|[2020-01-27 12:06:53,835] INFO -   Building wheel for prometheus-client (setup.py): started\n",
      "\n",
      "\b/[2020-01-27 12:06:54,132] INFO -   Building wheel for prometheus-client (setup.py): finished with status 'done'\n",
      "\n",
      "[2020-01-27 12:06:54,133] INFO -   Created wheel for prometheus-client: filename=prometheus_client-0.7.1-cp37-none-any.whl size=41402 sha256=88e583efe8010312d83c8382121095f62f49a321e6c98e14b4a9f70d4cb422a3\n",
      "  Stored in directory: /root/.cache/pip/wheels/1c/54/34/fd47cd9b308826cc4292b54449c1899a30251ef3b506bc91ea\n",
      "\n",
      "[2020-01-27 12:06:54,144] INFO -   Building wheel for Mako (setup.py): started\n",
      "\n",
      "\b/[2020-01-27 12:06:54,515] INFO -   Building wheel for Mako (setup.py): finished with status 'done'\n",
      "\n",
      "[2020-01-27 12:06:54,516] INFO -   Created wheel for Mako: filename=Mako-1.1.1-cp37-none-any.whl size=75411 sha256=0b031671a27f16c591528c5181a6e49a2dcfabcd4f33bc6db05ae334b99a2603\n",
      "  Stored in directory: /root/.cache/pip/wheels/ff/50/a9/0ddeed8679a1fb65bf4677cb9c92701828b2c1821e22ef72fd\n",
      "\n",
      "[2020-01-27 12:06:54,533] INFO - Successfully built alembic cerberus python-json-logger tabulate sqlalchemy prometheus-client Mako\n",
      "\n",
      "\b-[2020-01-27 12:06:54,901] INFO - Installing collected packages: websocket-client, docker, sqlalchemy, MarkupSafe, Mako, python-editor, python-dateutil, alembic, ruamel.yaml.clib, ruamel.yaml, cerberus, Werkzeug, click, itsdangerous, Jinja2, flask, python-json-logger, tabulate, protobuf, configparser, grpcio, docutils, jmespath, botocore, s3transfer, boto3, pyparsing, packaging, prometheus-client, humanfriendly, pytz, pandas, bentoml, torch, pillow, torchvision, joblib, scikit-learn, imageio\n",
      "\n",
      "\b-[2020-01-27 12:07:16,337] INFO - Successfully installed Jinja2-2.11.0 Mako-1.1.1 MarkupSafe-1.1.1 Werkzeug-0.16.1 alembic-1.3.3 bentoml-0.6.1 boto3-1.11.9 botocore-1.14.9 cerberus-1.3.2 click-7.0 configparser-4.0.2 docker-4.1.0 docutils-0.15.2 flask-1.1.1 grpcio-1.26.0 humanfriendly-4.18 imageio-2.6.1 itsdangerous-1.1.0 jmespath-0.9.4 joblib-0.14.1 packaging-20.1 pandas-0.25.3 pillow-7.0.0 prometheus-client-0.7.1 protobuf-3.11.2 pyparsing-2.4.6 python-dateutil-2.8.0 python-editor-1.0.4 python-json-logger-0.1.11 pytz-2019.3 ruamel.yaml-0.16.6 ruamel.yaml.clib-0.2.0 s3transfer-0.3.2 scikit-learn-0.22.1 sqlalchemy-1.3.13 tabulate-0.8.6 torch-1.4.0 torchvision-0.5.0 websocket-client-0.57.0\n",
      "\n",
      "\b|[2020-01-27 12:07:52,889] INFO -  ---> 0b1ebe21b3e4\n",
      "\n",
      "[2020-01-27 12:07:52,890] INFO - Step 9/11 : RUN if [ -f /bento/bentoml_init.sh ]; then /bin/bash -c /bento/bentoml_init.sh; fi\n",
      "[2020-01-27 12:07:52,890] INFO - \n",
      "\n",
      "\b-[2020-01-27 12:07:53,021] INFO -  ---> Running in 2a00d75527ea\n",
      "\n",
      "\b|[2020-01-27 12:07:54,463] INFO -  ---> e63414b3d60f\n",
      "\n",
      "[2020-01-27 12:07:54,463] INFO - Step 10/11 : RUN if [ -f /opt/program/setup.sh ]; then /bin/bash -c /opt/program/setup.sh; fi\n",
      "[2020-01-27 12:07:54,463] INFO - \n",
      "\n",
      "\b\\[2020-01-27 12:07:54,639] INFO -  ---> Running in b9f0b9484b33\n",
      "\n",
      "\b\\[2020-01-27 12:07:56,300] INFO -  ---> 8b42fcfaf6e5\n",
      "\n",
      "[2020-01-27 12:07:56,300] INFO - Step 11/11 : ENV PATH=\"/opt/program:${PATH}\"\n",
      "[2020-01-27 12:07:56,300] INFO - \n",
      "\n",
      "\b-[2020-01-27 12:07:56,410] INFO -  ---> Running in ba8aa95b4b64\n",
      "\n",
      "\b|[2020-01-27 12:07:56,620] INFO -  ---> 034276b99746\n",
      "\n",
      "\b\\[2020-01-27 12:07:56,632] INFO - Successfully built 034276b99746\n",
      "\n",
      "[2020-01-27 12:07:56,636] INFO - Successfully tagged 192023623294.dkr.ecr.us-west-2.amazonaws.com/pytorchimageclassifier-sagemaker:20200127115720_71B982\n",
      "\n",
      "\b/[2020-01-27 12:19:11,763] INFO - ApplyDeployment (first-pytorch, namespace dev) succeeded\n",
      "\u001b[32mSuccessfully created AWS Sagemaker deployment first-pytorch\u001b[0m\n",
      "\u001b[39m{\n",
      "  \"namespace\": \"dev\",\n",
      "  \"name\": \"first-pytorch\",\n",
      "  \"spec\": {\n",
      "    \"bentoName\": \"PytorchImageClassifier\",\n",
      "    \"bentoVersion\": \"20200127115720_71B982\",\n",
      "    \"operator\": \"AWS_SAGEMAKER\",\n",
      "    \"sagemakerOperatorConfig\": {\n",
      "      \"region\": \"us-west-2\",\n",
      "      \"instanceType\": \"ml.m4.xlarge\",\n",
      "      \"instanceCount\": 1,\n",
      "      \"apiName\": \"predict\"\n",
      "    }\n",
      "  },\n",
      "  \"state\": {\n",
      "    \"state\": \"RUNNING\",\n",
      "    \"infoJson\": {\n",
      "      \"EndpointName\": \"dev-first-pytorch\",\n",
      "      \"EndpointArn\": \"arn:aws:sagemaker:us-west-2:192023623294:endpoint/dev-first-pytorch\",\n",
      "      \"EndpointConfigName\": \"dev-first-pytorch-PytorchImageClassifier-20200127115720-71B982\",\n",
      "      \"ProductionVariants\": [\n",
      "        {\n",
      "          \"VariantName\": \"dev-first-pytorch-PytorchImageClassifier-20200127115720-71B982\",\n",
      "          \"DeployedImages\": [\n",
      "            {\n",
      "              \"SpecifiedImage\": \"192023623294.dkr.ecr.us-west-2.amazonaws.com/pytorchimageclassifier-sagemaker:20200127115720_71B982\",\n",
      "              \"ResolvedImage\": \"192023623294.dkr.ecr.us-west-2.amazonaws.com/pytorchimageclassifier-sagemaker@sha256:60c5dccbc2fd0ea0eccf88564539f6c3b34d1f8b118466d14c16c30c4a7f5268\",\n",
      "              \"ResolutionTime\": \"2020-01-27 12:19:13.669000-08:00\"\n",
      "            }\n",
      "          ],\n",
      "          \"CurrentWeight\": 1.0,\n",
      "          \"DesiredWeight\": 1.0,\n",
      "          \"CurrentInstanceCount\": 1,\n",
      "          \"DesiredInstanceCount\": 1\n",
      "        }\n",
      "      ],\n",
      "      \"EndpointStatus\": \"InService\",\n",
      "      \"CreationTime\": \"2020-01-27 12:19:11.719000-08:00\",\n",
      "      \"LastModifiedTime\": \"2020-01-27 12:28:24.976000-08:00\",\n",
      "      \"ResponseMetadata\": {\n",
      "        \"RequestId\": \"42db6ea8-ecf9-4a39-9e9e-bfca9340104e\",\n",
      "        \"HTTPStatusCode\": 200,\n",
      "        \"HTTPHeaders\": {\n",
      "          \"x-amzn-requestid\": \"42db6ea8-ecf9-4a39-9e9e-bfca9340104e\",\n",
      "          \"content-type\": \"application/x-amz-json-1.1\",\n",
      "          \"content-length\": \"839\",\n",
      "          \"date\": \"Mon, 27 Jan 2020 20:28:25 GMT\"\n",
      "        },\n",
      "        \"RetryAttempts\": 0\n",
      "      }\n",
      "    },\n",
      "    \"timestamp\": \"2020-01-27T20:28:26.011116Z\"\n",
      "  },\n",
      "  \"createdAt\": \"2020-01-27T20:05:28.156619Z\",\n",
      "  \"lastUpdatedAt\": \"2020-01-27T20:05:28.156658Z\"\n",
      "}\u001b[0m\n"
     ]
    }
   ],
   "source": [
    "!bentoml sagemaker deploy first-pytorch -b PytorchImageClassifier:20200127115720_71B982 --api-name predict"
   ]
  },
  {
   "cell_type": "markdown",
   "metadata": {},
   "source": [
    "**We can use `bentoml sagemaker get <deployment name>` to get the latest information**"
   ]
  },
  {
   "cell_type": "code",
   "execution_count": 23,
   "metadata": {},
   "outputs": [
    {
     "name": "stdout",
     "output_type": "stream",
     "text": [
      "\u001b[39m{\n",
      "  \"namespace\": \"dev\",\n",
      "  \"name\": \"first-pytorch\",\n",
      "  \"spec\": {\n",
      "    \"bentoName\": \"PytorchImageClassifier\",\n",
      "    \"bentoVersion\": \"20200127115720_71B982\",\n",
      "    \"operator\": \"AWS_SAGEMAKER\",\n",
      "    \"sagemakerOperatorConfig\": {\n",
      "      \"region\": \"us-west-2\",\n",
      "      \"instanceType\": \"ml.m4.xlarge\",\n",
      "      \"instanceCount\": 1,\n",
      "      \"apiName\": \"predict\"\n",
      "    }\n",
      "  },\n",
      "  \"state\": {\n",
      "    \"state\": \"RUNNING\",\n",
      "    \"infoJson\": {\n",
      "      \"EndpointName\": \"dev-first-pytorch\",\n",
      "      \"EndpointArn\": \"arn:aws:sagemaker:us-west-2:192023623294:endpoint/dev-first-pytorch\",\n",
      "      \"EndpointConfigName\": \"dev-first-pytorch-PytorchImageClassifier-20200127115720-71B982\",\n",
      "      \"ProductionVariants\": [\n",
      "        {\n",
      "          \"VariantName\": \"dev-first-pytorch-PytorchImageClassifier-20200127115720-71B982\",\n",
      "          \"DeployedImages\": [\n",
      "            {\n",
      "              \"SpecifiedImage\": \"192023623294.dkr.ecr.us-west-2.amazonaws.com/pytorchimageclassifier-sagemaker:20200127115720_71B982\",\n",
      "              \"ResolvedImage\": \"192023623294.dkr.ecr.us-west-2.amazonaws.com/pytorchimageclassifier-sagemaker@sha256:60c5dccbc2fd0ea0eccf88564539f6c3b34d1f8b118466d14c16c30c4a7f5268\",\n",
      "              \"ResolutionTime\": \"2020-01-27 12:19:13.669000-08:00\"\n",
      "            }\n",
      "          ],\n",
      "          \"CurrentWeight\": 1.0,\n",
      "          \"DesiredWeight\": 1.0,\n",
      "          \"CurrentInstanceCount\": 1,\n",
      "          \"DesiredInstanceCount\": 1\n",
      "        }\n",
      "      ],\n",
      "      \"EndpointStatus\": \"InService\",\n",
      "      \"CreationTime\": \"2020-01-27 12:19:11.719000-08:00\",\n",
      "      \"LastModifiedTime\": \"2020-01-27 12:28:24.976000-08:00\",\n",
      "      \"ResponseMetadata\": {\n",
      "        \"RequestId\": \"63ccfe2d-bc46-41fc-afb8-03469e14dbd9\",\n",
      "        \"HTTPStatusCode\": 200,\n",
      "        \"HTTPHeaders\": {\n",
      "          \"x-amzn-requestid\": \"63ccfe2d-bc46-41fc-afb8-03469e14dbd9\",\n",
      "          \"content-type\": \"application/x-amz-json-1.1\",\n",
      "          \"content-length\": \"839\",\n",
      "          \"date\": \"Mon, 27 Jan 2020 20:29:47 GMT\"\n",
      "        },\n",
      "        \"RetryAttempts\": 0\n",
      "      }\n",
      "    },\n",
      "    \"timestamp\": \"2020-01-27T20:29:47.288957Z\"\n",
      "  },\n",
      "  \"createdAt\": \"2020-01-27T20:05:28.156619Z\",\n",
      "  \"lastUpdatedAt\": \"2020-01-27T20:05:28.156658Z\"\n",
      "}\u001b[0m\n"
     ]
    }
   ],
   "source": [
    "!bentoml sagemaker get first-pytorch"
   ]
  },
  {
   "cell_type": "markdown",
   "metadata": {},
   "source": [
    "**Quick test with sample data to validate prediction result from the deployment**"
   ]
  },
  {
   "cell_type": "code",
   "execution_count": 4,
   "metadata": {},
   "outputs": [
    {
     "name": "stdout",
     "output_type": "stream",
     "text": [
      "{\n",
      "    \"ContentType\": \"application/json\",\n",
      "    \"InvokedProductionVariant\": \"dev-first-pytorch-PytorchImageClassifier-20200127115720-71B982\"\n",
      "}\n",
      "\"bird\""
     ]
    }
   ],
   "source": [
    "!aws sagemaker-runtime invoke-endpoint --endpoint-name dev-first-pytorch \\\n",
    "--body fileb:///Users/bozhaoyu/src/bento_gallery/pytorch/cifar10-image-classification/bird.jpg \\\n",
    "--content-type image/jpg output.json && cat output.json"
   ]
  },
  {
   "cell_type": "markdown",
   "metadata": {},
   "source": [
    "**`bentoml sagemaker list` is great tool to list all of the sagemaker dpeloyments**"
   ]
  },
  {
   "cell_type": "code",
   "execution_count": 5,
   "metadata": {},
   "outputs": [
    {
     "name": "stdout",
     "output_type": "stream",
     "text": [
      "\u001b[39mNAME           NAMESPACE    LABELS    PLATFORM       STATUS    AGE\n",
      "first-pytorch  dev                    aws-sagemaker  running   38 minutes and 11.5 seconds\u001b[0m\n"
     ]
    }
   ],
   "source": [
    "!bentoml sagemaker list"
   ]
  },
  {
   "cell_type": "markdown",
   "metadata": {},
   "source": [
    "**`bentoml sagemaker delete` delete Sagemaker deployment and its related resources**"
   ]
  },
  {
   "cell_type": "code",
   "execution_count": 6,
   "metadata": {},
   "outputs": [
    {
     "name": "stdout",
     "output_type": "stream",
     "text": [
      "\u001b[32mSuccessfully deleted AWS Sagemaker deployment \"first-pytorch\"\u001b[0m\n"
     ]
    }
   ],
   "source": [
    "!bentoml sagemaker delete first-pytorch"
   ]
  },
  {
   "cell_type": "code",
   "execution_count": null,
   "metadata": {},
   "outputs": [],
   "source": []
  }
 ],
 "metadata": {
  "kernelspec": {
   "display_name": "bentoml-dev-py36",
   "language": "python",
   "name": "bentoml-dev-py36"
  },
  "language_info": {
   "codemirror_mode": {
    "name": "ipython",
    "version": 3
   },
   "file_extension": ".py",
   "mimetype": "text/x-python",
   "name": "python",
   "nbconvert_exporter": "python",
   "pygments_lexer": "ipython3",
   "version": "3.6.10"
  }
 },
 "nbformat": 4,
 "nbformat_minor": 4
}
