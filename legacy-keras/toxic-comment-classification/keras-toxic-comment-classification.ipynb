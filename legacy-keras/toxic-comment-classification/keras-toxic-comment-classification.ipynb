{
 "cells": [
  {
   "cell_type": "markdown",
   "metadata": {},
   "source": [
    "# BentoML Example: Keras Toxic Comment Classification\n",
    "\n",
    "\n",
    "[BentoML](http://bentoml.ai) is an open source platform for machine learning model serving and deployment. \n",
    "\n",
    "This notebook demonstrates how to use BentoML to turn a Keras model into a docker image containing a REST API server serving this model, how to use your ML service built with BentoML as a CLI tool, and how to distribute it a pypi package.\n",
    "\n",
    "\n",
    "This notebook is built based on: https://www.kaggle.com/sarvajna/keras-sequential-model-lb-0-052\n",
    "\n",
    "![Impression](https://www.google-analytics.com/collect?v=1&tid=UA-112879361-3&cid=555&t=event&ec=keras&ea=keras-toxic-comment-classification&dt=keras-toxic-comment-classification)"
   ]
  },
  {
   "cell_type": "code",
   "execution_count": 1,
   "metadata": {},
   "outputs": [],
   "source": [
    "%reload_ext autoreload\n",
    "%autoreload 2\n",
    "%matplotlib inline"
   ]
  },
  {
   "cell_type": "code",
   "execution_count": 2,
   "metadata": {
    "scrolled": true
   },
   "outputs": [
    {
     "name": "stdout",
     "output_type": "stream",
     "text": [
      "Requirement already satisfied: bentoml in /home/bentoml/BentoML (0.8.3+47.g7af5a8f)\n",
      "Requirement already satisfied: aiohttp in /opt/anaconda3/envs/bentoml-py3_6-tf1_4/lib/python3.6/site-packages (from bentoml) (3.6.2)\n",
      "Requirement already satisfied: alembic in /opt/anaconda3/envs/bentoml-py3_6-tf1_4/lib/python3.6/site-packages (from bentoml) (1.4.2)\n",
      "Requirement already satisfied: boto3 in /opt/anaconda3/envs/bentoml-py3_6-tf1_4/lib/python3.6/site-packages (from bentoml) (1.14.30)\n",
      "Requirement already satisfied: cerberus in /opt/anaconda3/envs/bentoml-py3_6-tf1_4/lib/python3.6/site-packages (from bentoml) (1.3.2)\n",
      "Requirement already satisfied: certifi in /opt/anaconda3/envs/bentoml-py3_6-tf1_4/lib/python3.6/site-packages (from bentoml) (2020.6.20)\n",
      "Requirement already satisfied: click>=7.0 in /opt/anaconda3/envs/bentoml-py3_6-tf1_4/lib/python3.6/site-packages (from bentoml) (7.1.2)\n",
      "Requirement already satisfied: configparser in /opt/anaconda3/envs/bentoml-py3_6-tf1_4/lib/python3.6/site-packages (from bentoml) (5.0.0)\n",
      "Requirement already satisfied: docker in /opt/anaconda3/envs/bentoml-py3_6-tf1_4/lib/python3.6/site-packages (from bentoml) (4.2.0)\n",
      "Requirement already satisfied: flask in /opt/anaconda3/envs/bentoml-py3_6-tf1_4/lib/python3.6/site-packages (from bentoml) (1.1.2)\n",
      "Requirement already satisfied: grpcio<=1.27.2 in /opt/anaconda3/envs/bentoml-py3_6-tf1_4/lib/python3.6/site-packages (from bentoml) (1.27.2)\n",
      "Requirement already satisfied: gunicorn in /opt/anaconda3/envs/bentoml-py3_6-tf1_4/lib/python3.6/site-packages (from bentoml) (20.0.4)\n",
      "Requirement already satisfied: humanfriendly in /opt/anaconda3/envs/bentoml-py3_6-tf1_4/lib/python3.6/site-packages (from bentoml) (8.2)\n",
      "Requirement already satisfied: numpy in /opt/anaconda3/envs/bentoml-py3_6-tf1_4/lib/python3.6/site-packages (from bentoml) (1.16.6)\n",
      "Requirement already satisfied: packaging in /opt/anaconda3/envs/bentoml-py3_6-tf1_4/lib/python3.6/site-packages (from bentoml) (20.4)\n",
      "Requirement already satisfied: prometheus_client in /opt/anaconda3/envs/bentoml-py3_6-tf1_4/lib/python3.6/site-packages (from bentoml) (0.7.1)\n",
      "Requirement already satisfied: protobuf>=3.6.0 in /opt/anaconda3/envs/bentoml-py3_6-tf1_4/lib/python3.6/site-packages (from bentoml) (3.11.4)\n",
      "Requirement already satisfied: psutil in /opt/anaconda3/envs/bentoml-py3_6-tf1_4/lib/python3.6/site-packages (from bentoml) (5.7.2)\n",
      "Requirement already satisfied: py_zipkin in /opt/anaconda3/envs/bentoml-py3_6-tf1_4/lib/python3.6/site-packages (from bentoml) (0.20.0)\n",
      "Requirement already satisfied: python-dateutil<2.8.1,>=2.1 in /opt/anaconda3/envs/bentoml-py3_6-tf1_4/lib/python3.6/site-packages (from bentoml) (2.8.0)\n",
      "Requirement already satisfied: python-json-logger in /opt/anaconda3/envs/bentoml-py3_6-tf1_4/lib/python3.6/site-packages (from bentoml) (0.1.11)\n",
      "Requirement already satisfied: requests in /opt/anaconda3/envs/bentoml-py3_6-tf1_4/lib/python3.6/site-packages (from bentoml) (2.23.0)\n",
      "Requirement already satisfied: ruamel.yaml>=0.15.0 in /opt/anaconda3/envs/bentoml-py3_6-tf1_4/lib/python3.6/site-packages (from bentoml) (0.16.10)\n",
      "Requirement already satisfied: sqlalchemy-utils in /opt/anaconda3/envs/bentoml-py3_6-tf1_4/lib/python3.6/site-packages (from bentoml) (0.36.8)\n",
      "Requirement already satisfied: sqlalchemy>=1.3.0 in /opt/anaconda3/envs/bentoml-py3_6-tf1_4/lib/python3.6/site-packages (from bentoml) (1.3.13)\n",
      "Requirement already satisfied: tabulate in /opt/anaconda3/envs/bentoml-py3_6-tf1_4/lib/python3.6/site-packages (from bentoml) (0.8.7)\n",
      "Requirement already satisfied: multidict in /opt/anaconda3/envs/bentoml-py3_6-tf1_4/lib/python3.6/site-packages (from bentoml) (4.7.6)\n",
      "Requirement already satisfied: contextvars in /opt/anaconda3/envs/bentoml-py3_6-tf1_4/lib/python3.6/site-packages (from bentoml) (2.4)\n",
      "Requirement already satisfied: attrs>=17.3.0 in /opt/anaconda3/envs/bentoml-py3_6-tf1_4/lib/python3.6/site-packages (from aiohttp->bentoml) (19.3.0)\n",
      "Requirement already satisfied: chardet<4.0,>=2.0 in /opt/anaconda3/envs/bentoml-py3_6-tf1_4/lib/python3.6/site-packages (from aiohttp->bentoml) (3.0.4)\n",
      "Requirement already satisfied: typing-extensions>=3.6.5; python_version < \"3.7\" in /opt/anaconda3/envs/bentoml-py3_6-tf1_4/lib/python3.6/site-packages (from aiohttp->bentoml) (3.7.4.2)\n",
      "Requirement already satisfied: async-timeout<4.0,>=3.0 in /opt/anaconda3/envs/bentoml-py3_6-tf1_4/lib/python3.6/site-packages (from aiohttp->bentoml) (3.0.1)\n",
      "Requirement already satisfied: yarl<2.0,>=1.0 in /opt/anaconda3/envs/bentoml-py3_6-tf1_4/lib/python3.6/site-packages (from aiohttp->bentoml) (1.5.0)\n",
      "Requirement already satisfied: idna-ssl>=1.0; python_version < \"3.7\" in /opt/anaconda3/envs/bentoml-py3_6-tf1_4/lib/python3.6/site-packages (from aiohttp->bentoml) (1.1.0)\n",
      "Requirement already satisfied: python-editor>=0.3 in /opt/anaconda3/envs/bentoml-py3_6-tf1_4/lib/python3.6/site-packages (from alembic->bentoml) (1.0.4)\n",
      "Requirement already satisfied: Mako in /opt/anaconda3/envs/bentoml-py3_6-tf1_4/lib/python3.6/site-packages (from alembic->bentoml) (1.1.2)\n",
      "Requirement already satisfied: s3transfer<0.4.0,>=0.3.0 in /opt/anaconda3/envs/bentoml-py3_6-tf1_4/lib/python3.6/site-packages (from boto3->bentoml) (0.3.3)\n",
      "Requirement already satisfied: jmespath<1.0.0,>=0.7.1 in /opt/anaconda3/envs/bentoml-py3_6-tf1_4/lib/python3.6/site-packages (from boto3->bentoml) (0.10.0)\n",
      "Requirement already satisfied: botocore<1.18.0,>=1.17.30 in /opt/anaconda3/envs/bentoml-py3_6-tf1_4/lib/python3.6/site-packages (from boto3->bentoml) (1.17.30)\n",
      "Requirement already satisfied: setuptools in /opt/anaconda3/envs/bentoml-py3_6-tf1_4/lib/python3.6/site-packages (from cerberus->bentoml) (46.2.0.post20200511)\n",
      "Requirement already satisfied: six>=1.4.0 in /opt/anaconda3/envs/bentoml-py3_6-tf1_4/lib/python3.6/site-packages (from docker->bentoml) (1.14.0)\n",
      "Requirement already satisfied: websocket-client>=0.32.0 in /opt/anaconda3/envs/bentoml-py3_6-tf1_4/lib/python3.6/site-packages (from docker->bentoml) (0.57.0)\n",
      "Requirement already satisfied: Jinja2>=2.10.1 in /opt/anaconda3/envs/bentoml-py3_6-tf1_4/lib/python3.6/site-packages (from flask->bentoml) (2.11.2)\n",
      "Requirement already satisfied: Werkzeug>=0.15 in /opt/anaconda3/envs/bentoml-py3_6-tf1_4/lib/python3.6/site-packages (from flask->bentoml) (1.0.1)\n",
      "Requirement already satisfied: itsdangerous>=0.24 in /opt/anaconda3/envs/bentoml-py3_6-tf1_4/lib/python3.6/site-packages (from flask->bentoml) (1.1.0)\n",
      "Requirement already satisfied: pyparsing>=2.0.2 in /opt/anaconda3/envs/bentoml-py3_6-tf1_4/lib/python3.6/site-packages (from packaging->bentoml) (2.4.7)\n",
      "Requirement already satisfied: thriftpy2>=0.4.0 in /opt/anaconda3/envs/bentoml-py3_6-tf1_4/lib/python3.6/site-packages (from py_zipkin->bentoml) (0.4.11)\n",
      "Requirement already satisfied: idna<3,>=2.5 in /opt/anaconda3/envs/bentoml-py3_6-tf1_4/lib/python3.6/site-packages (from requests->bentoml) (2.9)\n",
      "Requirement already satisfied: urllib3!=1.25.0,!=1.25.1,<1.26,>=1.21.1 in /opt/anaconda3/envs/bentoml-py3_6-tf1_4/lib/python3.6/site-packages (from requests->bentoml) (1.24.3)\n",
      "Requirement already satisfied: ruamel.yaml.clib>=0.1.2; platform_python_implementation == \"CPython\" and python_version < \"3.9\" in /opt/anaconda3/envs/bentoml-py3_6-tf1_4/lib/python3.6/site-packages (from ruamel.yaml>=0.15.0->bentoml) (0.2.0)\n",
      "Requirement already satisfied: immutables>=0.9 in /opt/anaconda3/envs/bentoml-py3_6-tf1_4/lib/python3.6/site-packages (from contextvars->bentoml) (0.14)\n",
      "Requirement already satisfied: MarkupSafe>=0.9.2 in /opt/anaconda3/envs/bentoml-py3_6-tf1_4/lib/python3.6/site-packages (from Mako->alembic->bentoml) (1.1.1)\n",
      "Requirement already satisfied: docutils<0.16,>=0.10 in /opt/anaconda3/envs/bentoml-py3_6-tf1_4/lib/python3.6/site-packages (from botocore<1.18.0,>=1.17.30->boto3->bentoml) (0.15.2)\n",
      "Requirement already satisfied: ply<4.0,>=3.4 in /opt/anaconda3/envs/bentoml-py3_6-tf1_4/lib/python3.6/site-packages (from thriftpy2>=0.4.0->py_zipkin->bentoml) (3.11)\n",
      "Requirement already satisfied: keras==2.3.1 in /opt/anaconda3/envs/bentoml-py3_6-tf1_4/lib/python3.6/site-packages (2.3.1)\n",
      "Requirement already satisfied: kaggle in /opt/anaconda3/envs/bentoml-py3_6-tf1_4/lib/python3.6/site-packages (1.5.6)\n",
      "Requirement already satisfied: tensorflow==1.14.0 in /opt/anaconda3/envs/bentoml-py3_6-tf1_4/lib/python3.6/site-packages (1.14.0)\n",
      "Requirement already satisfied: scikit-learn in /opt/anaconda3/envs/bentoml-py3_6-tf1_4/lib/python3.6/site-packages (0.23.1)\n",
      "Requirement already satisfied: numpy>=1.9.1 in /opt/anaconda3/envs/bentoml-py3_6-tf1_4/lib/python3.6/site-packages (from keras==2.3.1) (1.16.6)\n",
      "Requirement already satisfied: six>=1.9.0 in /opt/anaconda3/envs/bentoml-py3_6-tf1_4/lib/python3.6/site-packages (from keras==2.3.1) (1.14.0)\n",
      "Requirement already satisfied: h5py in /opt/anaconda3/envs/bentoml-py3_6-tf1_4/lib/python3.6/site-packages (from keras==2.3.1) (2.10.0)\n",
      "Requirement already satisfied: scipy>=0.14 in /opt/anaconda3/envs/bentoml-py3_6-tf1_4/lib/python3.6/site-packages (from keras==2.3.1) (1.4.1)\n",
      "Requirement already satisfied: keras-preprocessing>=1.0.5 in /opt/anaconda3/envs/bentoml-py3_6-tf1_4/lib/python3.6/site-packages (from keras==2.3.1) (1.1.0)\n",
      "Requirement already satisfied: keras-applications>=1.0.6 in /opt/anaconda3/envs/bentoml-py3_6-tf1_4/lib/python3.6/site-packages (from keras==2.3.1) (1.0.8)\n",
      "Requirement already satisfied: pyyaml in /opt/anaconda3/envs/bentoml-py3_6-tf1_4/lib/python3.6/site-packages (from keras==2.3.1) (5.3.1)\n",
      "Requirement already satisfied: python-slugify in /opt/anaconda3/envs/bentoml-py3_6-tf1_4/lib/python3.6/site-packages (from kaggle) (4.0.1)\n",
      "Requirement already satisfied: urllib3<1.25,>=1.21.1 in /opt/anaconda3/envs/bentoml-py3_6-tf1_4/lib/python3.6/site-packages (from kaggle) (1.24.3)\n",
      "Requirement already satisfied: python-dateutil in /opt/anaconda3/envs/bentoml-py3_6-tf1_4/lib/python3.6/site-packages (from kaggle) (2.8.0)\n",
      "Requirement already satisfied: requests in /opt/anaconda3/envs/bentoml-py3_6-tf1_4/lib/python3.6/site-packages (from kaggle) (2.23.0)\n",
      "Requirement already satisfied: tqdm in /opt/anaconda3/envs/bentoml-py3_6-tf1_4/lib/python3.6/site-packages (from kaggle) (4.48.2)\n",
      "Requirement already satisfied: certifi in /opt/anaconda3/envs/bentoml-py3_6-tf1_4/lib/python3.6/site-packages (from kaggle) (2020.6.20)\n",
      "Requirement already satisfied: wheel>=0.26 in /opt/anaconda3/envs/bentoml-py3_6-tf1_4/lib/python3.6/site-packages (from tensorflow==1.14.0) (0.34.2)\n",
      "Requirement already satisfied: wrapt>=1.11.1 in /opt/anaconda3/envs/bentoml-py3_6-tf1_4/lib/python3.6/site-packages (from tensorflow==1.14.0) (1.12.1)\n",
      "Requirement already satisfied: protobuf>=3.6.1 in /opt/anaconda3/envs/bentoml-py3_6-tf1_4/lib/python3.6/site-packages (from tensorflow==1.14.0) (3.11.4)\n",
      "Requirement already satisfied: grpcio>=1.8.6 in /opt/anaconda3/envs/bentoml-py3_6-tf1_4/lib/python3.6/site-packages (from tensorflow==1.14.0) (1.27.2)\n",
      "Requirement already satisfied: google-pasta>=0.1.6 in /opt/anaconda3/envs/bentoml-py3_6-tf1_4/lib/python3.6/site-packages (from tensorflow==1.14.0) (0.2.0)\n",
      "Requirement already satisfied: astor>=0.6.0 in /opt/anaconda3/envs/bentoml-py3_6-tf1_4/lib/python3.6/site-packages (from tensorflow==1.14.0) (0.8.0)\n",
      "Requirement already satisfied: tensorboard<1.15.0,>=1.14.0 in /opt/anaconda3/envs/bentoml-py3_6-tf1_4/lib/python3.6/site-packages (from tensorflow==1.14.0) (1.14.0)\n",
      "Requirement already satisfied: tensorflow-estimator<1.15.0rc0,>=1.14.0rc0 in /opt/anaconda3/envs/bentoml-py3_6-tf1_4/lib/python3.6/site-packages (from tensorflow==1.14.0) (1.14.0)\n",
      "Requirement already satisfied: gast>=0.2.0 in /opt/anaconda3/envs/bentoml-py3_6-tf1_4/lib/python3.6/site-packages (from tensorflow==1.14.0) (0.3.3)\n",
      "Requirement already satisfied: termcolor>=1.1.0 in /opt/anaconda3/envs/bentoml-py3_6-tf1_4/lib/python3.6/site-packages (from tensorflow==1.14.0) (1.1.0)\n",
      "Requirement already satisfied: absl-py>=0.7.0 in /opt/anaconda3/envs/bentoml-py3_6-tf1_4/lib/python3.6/site-packages (from tensorflow==1.14.0) (0.9.0)\n",
      "Requirement already satisfied: threadpoolctl>=2.0.0 in /opt/anaconda3/envs/bentoml-py3_6-tf1_4/lib/python3.6/site-packages (from scikit-learn) (2.1.0)\n",
      "Requirement already satisfied: joblib>=0.11 in /opt/anaconda3/envs/bentoml-py3_6-tf1_4/lib/python3.6/site-packages (from scikit-learn) (0.16.0)\n",
      "Requirement already satisfied: text-unidecode>=1.3 in /opt/anaconda3/envs/bentoml-py3_6-tf1_4/lib/python3.6/site-packages (from python-slugify->kaggle) (1.3)\n",
      "Requirement already satisfied: chardet<4,>=3.0.2 in /opt/anaconda3/envs/bentoml-py3_6-tf1_4/lib/python3.6/site-packages (from requests->kaggle) (3.0.4)\n",
      "Requirement already satisfied: idna<3,>=2.5 in /opt/anaconda3/envs/bentoml-py3_6-tf1_4/lib/python3.6/site-packages (from requests->kaggle) (2.9)\n",
      "Requirement already satisfied: setuptools in /opt/anaconda3/envs/bentoml-py3_6-tf1_4/lib/python3.6/site-packages (from protobuf>=3.6.1->tensorflow==1.14.0) (46.2.0.post20200511)\n",
      "Requirement already satisfied: markdown>=2.6.8 in /opt/anaconda3/envs/bentoml-py3_6-tf1_4/lib/python3.6/site-packages (from tensorboard<1.15.0,>=1.14.0->tensorflow==1.14.0) (3.1.1)\n",
      "Requirement already satisfied: werkzeug>=0.11.15 in /opt/anaconda3/envs/bentoml-py3_6-tf1_4/lib/python3.6/site-packages (from tensorboard<1.15.0,>=1.14.0->tensorflow==1.14.0) (1.0.1)\n"
     ]
    }
   ],
   "source": [
    "!pip install bentoml\n",
    "!pip install keras==2.3.1 kaggle tensorflow==1.14.0 scikit-learn"
   ]
  },
  {
   "cell_type": "code",
   "execution_count": 3,
   "metadata": {},
   "outputs": [],
   "source": [
    "import bentoml\n",
    "import numpy as np\n",
    "import pandas as pd\n",
    "from keras.preprocessing import text, sequence\n",
    "from keras.models import Sequential\n",
    "from keras.layers import Dense, Dropout, Activation\n",
    "from keras.layers import Embedding\n",
    "from keras.layers import Conv1D, GlobalMaxPooling1D\n",
    "from sklearn.model_selection import train_test_split"
   ]
  },
  {
   "cell_type": "code",
   "execution_count": 4,
   "metadata": {},
   "outputs": [],
   "source": [
    "list_of_classes = [\"toxic\", \"severe_toxic\", \"obscene\", \"threat\", \"insult\", \"identity_hate\"]\n",
    "max_features = 20000\n",
    "max_text_length = 400\n",
    "embedding_dims = 50\n",
    "filters = 250\n",
    "kernel_size = 3\n",
    "hidden_dims = 250\n",
    "batch_size = 32\n",
    "epochs = 2"
   ]
  },
  {
   "cell_type": "markdown",
   "metadata": {},
   "source": [
    "## Prepare Dataset\n",
    "\n",
    "Please Download data with Kaggle at https://www.kaggle.com/sarvajna/keras-sequential-model-lb-0-052/data\n",
    "\n",
    "If you are running this notebook in Google Colab, fill in your kaggle credential below and download the training dataset from Kaggle:"
   ]
  },
  {
   "cell_type": "code",
   "execution_count": 12,
   "metadata": {},
   "outputs": [],
   "source": [
    "%%bash\n",
    "\n",
    "export KAGGLE_USERNAME=\n",
    "export KAGGLE_KEY=\n",
    "\n",
    "if [ ! -f ./train.csv.zip ]; then\n",
    "    kaggle competitions download -c jigsaw-toxic-comment-classification-challenge\n",
    "    unzip jigsaw-toxic-comment-classification-challenge.zip\n",
    "    unzip train.csv.zip\n",
    "    unzip sample_submission.csv.zip\n",
    "    unzip test.csv.zip\n",
    "    unzip test_labels.csv.zip\n",
    "fi"
   ]
  },
  {
   "cell_type": "code",
   "execution_count": 13,
   "metadata": {},
   "outputs": [
    {
     "name": "stdout",
     "output_type": "stream",
     "text": [
      "                 id                                       comment_text  toxic  \\\n",
      "0  0000997932d777bf  Explanation\\nWhy the edits made under my usern...      0   \n",
      "1  000103f0d9cfb60f  D'aww! He matches this background colour I'm s...      0   \n",
      "2  000113f07ec002fd  Hey man, I'm really not trying to edit war. It...      0   \n",
      "3  0001b41b1c6bb37e  \"\\nMore\\nI can't make any real suggestions on ...      0   \n",
      "4  0001d958c54c6e35  You, sir, are my hero. Any chance you remember...      0   \n",
      "\n",
      "   severe_toxic  obscene  threat  insult  identity_hate  \n",
      "0             0        0       0       0              0  \n",
      "1             0        0       0       0              0  \n",
      "2             0        0       0       0              0  \n",
      "3             0        0       0       0              0  \n",
      "4             0        0       0       0              0  \n"
     ]
    }
   ],
   "source": [
    "train_df = pd.read_csv('./train.csv')\n",
    "\n",
    "print(train_df.head())"
   ]
  },
  {
   "cell_type": "code",
   "execution_count": 14,
   "metadata": {},
   "outputs": [
    {
     "name": "stdout",
     "output_type": "stream",
     "text": [
      "[\"Explanation\\nWhy the edits made under my username Hardcore Metallica Fan were reverted? They weren't vandalisms, just closure on some GAs after I voted at New York Dolls FAC. And please don't remove the template from the talk page since I'm retired now.89.205.38.27\"\n",
      " \"D'aww! He matches this background colour I'm seemingly stuck with. Thanks.  (talk) 21:51, January 11, 2016 (UTC)\"\n",
      " \"Hey man, I'm really not trying to edit war. It's just that this guy is constantly removing relevant information and talking to me through edits instead of my talk page. He seems to care more about the formatting than the actual info.\"\n",
      " ...\n",
      " 'Spitzer \\n\\nUmm, theres no actual article for prostitution ring.  - Crunch Captain.'\n",
      " 'And it looks like it was actually you who put on the speedy to have the first version deleted now that I look at it.'\n",
      " '\"\\nAnd ... I really don\\'t think you understand.  I came here and my idea was bad right away.  What kind of community goes \"\"you have bad ideas\"\" go away, instead of helping rewrite them.   \"']\n"
     ]
    }
   ],
   "source": [
    "x = train_df['comment_text'].values\n",
    "print(x)"
   ]
  },
  {
   "cell_type": "code",
   "execution_count": 15,
   "metadata": {},
   "outputs": [
    {
     "name": "stdout",
     "output_type": "stream",
     "text": [
      "[[0 0 0 0 0 0]\n",
      " [0 0 0 0 0 0]\n",
      " [0 0 0 0 0 0]\n",
      " ...\n",
      " [0 0 0 0 0 0]\n",
      " [0 0 0 0 0 0]\n",
      " [0 0 0 0 0 0]]\n"
     ]
    }
   ],
   "source": [
    "y = train_df[list_of_classes].values\n",
    "print(y)"
   ]
  },
  {
   "cell_type": "code",
   "execution_count": 16,
   "metadata": {},
   "outputs": [
    {
     "name": "stdout",
     "output_type": "stream",
     "text": [
      "<keras_preprocessing.text.Tokenizer object at 0x7f1381625ac8>\n",
      "<keras_preprocessing.text.Tokenizer object at 0x7f1381625ac8>\n"
     ]
    }
   ],
   "source": [
    "x_tokenizer = text.Tokenizer(num_words=max_features)\n",
    "print(x_tokenizer)\n",
    "x_tokenizer.fit_on_texts(list(x))\n",
    "print(x_tokenizer)\n",
    "x_tokenized = x_tokenizer.texts_to_sequences(x) #list of lists(containing numbers), so basically a list of sequences, not a numpy array\n",
    "#pad_sequences:transform a list of num_samples sequences (lists of scalars) into a 2D Numpy array of shape \n",
    "x_train_val = sequence.pad_sequences(x_tokenized, maxlen=max_text_length)"
   ]
  },
  {
   "cell_type": "code",
   "execution_count": 17,
   "metadata": {},
   "outputs": [],
   "source": [
    "x_train, x_val, y_train, y_val = train_test_split(x_train_val, y, test_size=0.1, random_state=1)"
   ]
  },
  {
   "cell_type": "code",
   "execution_count": 18,
   "metadata": {},
   "outputs": [
    {
     "name": "stdout",
     "output_type": "stream",
     "text": [
      "Build model...\n",
      "WARNING:tensorflow:From /opt/anaconda3/envs/bentoml-py3_6-tf1_4/lib/python3.6/site-packages/tensorflow/python/ops/nn_impl.py:180: add_dispatch_support.<locals>.wrapper (from tensorflow.python.ops.array_ops) is deprecated and will be removed in a future version.\n",
      "Instructions for updating:\n",
      "Use tf.where in 2.0, which has the same broadcast rule as np.where\n",
      "Model: \"sequential_1\"\n",
      "_________________________________________________________________\n",
      "Layer (type)                 Output Shape              Param #   \n",
      "=================================================================\n",
      "embedding_1 (Embedding)      (None, 400, 50)           1000000   \n",
      "_________________________________________________________________\n",
      "dropout_1 (Dropout)          (None, 400, 50)           0         \n",
      "_________________________________________________________________\n",
      "conv1d_1 (Conv1D)            (None, 398, 250)          37750     \n",
      "_________________________________________________________________\n",
      "global_max_pooling1d_1 (Glob (None, 250)               0         \n",
      "_________________________________________________________________\n",
      "dense_1 (Dense)              (None, 250)               62750     \n",
      "_________________________________________________________________\n",
      "dropout_2 (Dropout)          (None, 250)               0         \n",
      "_________________________________________________________________\n",
      "activation_1 (Activation)    (None, 250)               0         \n",
      "_________________________________________________________________\n",
      "dense_2 (Dense)              (None, 6)                 1506      \n",
      "_________________________________________________________________\n",
      "activation_2 (Activation)    (None, 6)                 0         \n",
      "=================================================================\n",
      "Total params: 1,102,006\n",
      "Trainable params: 1,102,006\n",
      "Non-trainable params: 0\n",
      "_________________________________________________________________\n"
     ]
    }
   ],
   "source": [
    "print('Build model...')\n",
    "model = Sequential()\n",
    "\n",
    "# we start off with an efficient embedding layer which maps\n",
    "# our vocab indices into embedding_dims dimensions\n",
    "model.add(Embedding(max_features,\n",
    "                    embedding_dims,\n",
    "                    input_length=max_text_length))\n",
    "model.add(Dropout(0.2))\n",
    "\n",
    "# we add a Convolution1D, which will learn filters\n",
    "# word group filters of size filter_length:\n",
    "model.add(Conv1D(filters,\n",
    "                 kernel_size,\n",
    "                 padding='valid',\n",
    "                 activation='relu',\n",
    "                 strides=1))\n",
    "# we use max pooling:\n",
    "model.add(GlobalMaxPooling1D())\n",
    "\n",
    "# We add a vanilla hidden layer:\n",
    "model.add(Dense(hidden_dims))\n",
    "model.add(Dropout(0.2))\n",
    "model.add(Activation('relu'))\n",
    "\n",
    "# We project onto 6 output layers, and squash it with a sigmoid:\n",
    "model.add(Dense(6))\n",
    "model.add(Activation('sigmoid'))\n",
    "\n",
    "model.compile(loss='binary_crossentropy',\n",
    "              optimizer='adam',\n",
    "              metrics=['accuracy'])\n",
    "\n",
    "model.summary()"
   ]
  },
  {
   "cell_type": "code",
   "execution_count": 19,
   "metadata": {},
   "outputs": [
    {
     "name": "stdout",
     "output_type": "stream",
     "text": [
      "WARNING:tensorflow:From /opt/anaconda3/envs/bentoml-py3_6-tf1_4/lib/python3.6/site-packages/keras/backend/tensorflow_backend.py:422: The name tf.global_variables is deprecated. Please use tf.compat.v1.global_variables instead.\n",
      "\n",
      "Train on 143613 samples, validate on 15958 samples\n",
      "Epoch 1/2\n",
      "143613/143613 [==============================] - 35s 242us/step - loss: 0.0659 - accuracy: 0.9779 - val_loss: 0.0539 - val_accuracy: 0.9808\n",
      "Epoch 2/2\n",
      "143613/143613 [==============================] - 34s 234us/step - loss: 0.0463 - accuracy: 0.9827 - val_loss: 0.0505 - val_accuracy: 0.9814\n"
     ]
    },
    {
     "data": {
      "text/plain": [
       "<keras.callbacks.callbacks.History at 0x7f1384ab7ef0>"
      ]
     },
     "execution_count": 19,
     "metadata": {},
     "output_type": "execute_result"
    }
   ],
   "source": [
    "model.fit(x_train, y_train,\n",
    "          batch_size=batch_size,\n",
    "          epochs=epochs,\n",
    "validation_data=(x_val, y_val))"
   ]
  },
  {
   "cell_type": "code",
   "execution_count": 20,
   "metadata": {},
   "outputs": [],
   "source": [
    "test_df = pd.read_csv('./test.csv')"
   ]
  },
  {
   "cell_type": "code",
   "execution_count": 21,
   "metadata": {},
   "outputs": [],
   "source": [
    "x_test = test_df['comment_text'].values"
   ]
  },
  {
   "cell_type": "code",
   "execution_count": 22,
   "metadata": {},
   "outputs": [],
   "source": [
    "x_test_tokenized = x_tokenizer.texts_to_sequences(x_test)\n",
    "x_testing = sequence.pad_sequences(x_test_tokenized, maxlen=max_text_length)"
   ]
  },
  {
   "cell_type": "code",
   "execution_count": 23,
   "metadata": {},
   "outputs": [
    {
     "name": "stdout",
     "output_type": "stream",
     "text": [
      "153164/153164 [==============================] - 8s 51us/step\n"
     ]
    }
   ],
   "source": [
    "y_testing = model.predict(x_testing, verbose=1)"
   ]
  },
  {
   "cell_type": "code",
   "execution_count": 24,
   "metadata": {},
   "outputs": [],
   "source": [
    "sample_submission = pd.read_csv(\"./sample_submission.csv\")\n",
    "sample_submission[list_of_classes] = y_testing\n",
    "sample_submission.to_csv(\"toxic_comment_classification.csv\", index=False)"
   ]
  },
  {
   "cell_type": "markdown",
   "metadata": {},
   "source": [
    "## Create BentoService for model serving"
   ]
  },
  {
   "cell_type": "code",
   "execution_count": 25,
   "metadata": {},
   "outputs": [
    {
     "name": "stdout",
     "output_type": "stream",
     "text": [
      "Overwriting toxic_comment_classifier.py\n"
     ]
    }
   ],
   "source": [
    "%%writefile toxic_comment_classifier.py\n",
    "\n",
    "from bentoml import api, artifacts, env, BentoService\n",
    "from bentoml.artifact import PickleArtifact, KerasModelArtifact\n",
    "from bentoml.adapters import DataframeInput\n",
    "\n",
    "from keras.preprocessing import text, sequence\n",
    "import numpy as np\n",
    "\n",
    "list_of_classes = [\"toxic\", \"severe_toxic\", \"obscene\", \"threat\", \"insult\", \"identity_hate\"]\n",
    "max_text_length = 400\n",
    "\n",
    "@env(pip_dependencies=['tensorflow==1.14.0', 'keras==2.3.1', 'pandas', 'numpy'])\n",
    "@artifacts([PickleArtifact('x_tokenizer'), KerasModelArtifact('model')])\n",
    "class ToxicCommentClassification(BentoService):\n",
    "    \n",
    "    def tokenize_df(self, df):\n",
    "        comments = df['comment_text'].values\n",
    "        tokenized = self.artifacts.x_tokenizer.texts_to_sequences(comments)        \n",
    "        input_data = sequence.pad_sequences(tokenized, maxlen=max_text_length)\n",
    "        return input_data\n",
    "    \n",
    "    @api(input=DataframeInput())\n",
    "    def predict(self, df):\n",
    "        input_data = self.tokenize_df(df)\n",
    "        prediction = self.artifacts.model.predict(input_data)\n",
    "        result = []\n",
    "        for i in prediction:\n",
    "            result.append(list_of_classes[np.argmax(i)])\n",
    "        return result"
   ]
  },
  {
   "cell_type": "markdown",
   "metadata": {},
   "source": [
    "## Save BentoService to file archive"
   ]
  },
  {
   "cell_type": "code",
   "execution_count": 26,
   "metadata": {
    "scrolled": true
   },
   "outputs": [
    {
     "name": "stdout",
     "output_type": "stream",
     "text": [
      "[2020-08-04 15:55:56,880] WARNING - Using BentoML installed in `editable` model, the local BentoML repository including all code changes will be packaged together with saved bundle created, under the './bundled_pip_dependencies' directory of the saved bundle.\n",
      "WARNING:tensorflow:From /home/bentoml/BentoML/bentoml/artifact/keras_model_artifact.py:137: The name tf.keras.backend.get_session is deprecated. Please use tf.compat.v1.keras.backend.get_session instead.\n",
      "\n",
      "[2020-08-04 15:56:14,668] INFO - Detect BentoML installed in development model, copying local BentoML module file to target saved bundle path\n",
      "running sdist\n",
      "running egg_info\n",
      "writing BentoML.egg-info/PKG-INFO\n",
      "writing dependency_links to BentoML.egg-info/dependency_links.txt\n",
      "writing entry points to BentoML.egg-info/entry_points.txt\n",
      "writing requirements to BentoML.egg-info/requires.txt\n",
      "writing top-level names to BentoML.egg-info/top_level.txt\n",
      "reading manifest file 'BentoML.egg-info/SOURCES.txt'\n",
      "reading manifest template 'MANIFEST.in'\n"
     ]
    },
    {
     "name": "stderr",
     "output_type": "stream",
     "text": [
      "warning: no previously-included files matching '*~' found anywhere in distribution\n",
      "warning: no previously-included files matching '*.pyo' found anywhere in distribution\n",
      "warning: no previously-included files matching '.git' found anywhere in distribution\n",
      "warning: no previously-included files matching '.ipynb_checkpoints' found anywhere in distribution\n",
      "warning: no previously-included files matching '__pycache__' found anywhere in distribution\n",
      "warning: no directories found matching 'bentoml/server/static'\n",
      "warning: no directories found matching 'bentoml/yatai/web/dist'\n",
      "no previously-included directories found matching 'e2e_tests'\n",
      "no previously-included directories found matching 'tests'\n",
      "no previously-included directories found matching 'benchmark'\n"
     ]
    },
    {
     "name": "stdout",
     "output_type": "stream",
     "text": [
      "writing manifest file 'BentoML.egg-info/SOURCES.txt'\n",
      "running check\n",
      "creating BentoML-0.8.3+49.gdcc2e8b\n",
      "creating BentoML-0.8.3+49.gdcc2e8b/BentoML.egg-info\n",
      "creating BentoML-0.8.3+49.gdcc2e8b/bentoml\n",
      "creating BentoML-0.8.3+49.gdcc2e8b/bentoml/adapters\n",
      "creating BentoML-0.8.3+49.gdcc2e8b/bentoml/artifact\n",
      "creating BentoML-0.8.3+49.gdcc2e8b/bentoml/cli\n",
      "creating BentoML-0.8.3+49.gdcc2e8b/bentoml/clipper\n",
      "creating BentoML-0.8.3+49.gdcc2e8b/bentoml/configuration\n",
      "creating BentoML-0.8.3+49.gdcc2e8b/bentoml/configuration/__pycache__\n",
      "creating BentoML-0.8.3+49.gdcc2e8b/bentoml/handlers\n",
      "creating BentoML-0.8.3+49.gdcc2e8b/bentoml/marshal\n",
      "creating BentoML-0.8.3+49.gdcc2e8b/bentoml/saved_bundle\n",
      "creating BentoML-0.8.3+49.gdcc2e8b/bentoml/server\n",
      "creating BentoML-0.8.3+49.gdcc2e8b/bentoml/utils\n",
      "creating BentoML-0.8.3+49.gdcc2e8b/bentoml/yatai\n",
      "creating BentoML-0.8.3+49.gdcc2e8b/bentoml/yatai/client\n",
      "creating BentoML-0.8.3+49.gdcc2e8b/bentoml/yatai/deployment\n",
      "creating BentoML-0.8.3+49.gdcc2e8b/bentoml/yatai/deployment/aws_lambda\n",
      "creating BentoML-0.8.3+49.gdcc2e8b/bentoml/yatai/deployment/azure_functions\n",
      "creating BentoML-0.8.3+49.gdcc2e8b/bentoml/yatai/deployment/sagemaker\n",
      "creating BentoML-0.8.3+49.gdcc2e8b/bentoml/yatai/migrations\n",
      "creating BentoML-0.8.3+49.gdcc2e8b/bentoml/yatai/migrations/__pycache__\n",
      "creating BentoML-0.8.3+49.gdcc2e8b/bentoml/yatai/migrations/versions\n",
      "creating BentoML-0.8.3+49.gdcc2e8b/bentoml/yatai/migrations/versions/__pycache__\n",
      "creating BentoML-0.8.3+49.gdcc2e8b/bentoml/yatai/proto\n",
      "creating BentoML-0.8.3+49.gdcc2e8b/bentoml/yatai/repository\n",
      "creating BentoML-0.8.3+49.gdcc2e8b/bentoml/yatai/validator\n",
      "copying files to BentoML-0.8.3+49.gdcc2e8b...\n",
      "copying LICENSE -> BentoML-0.8.3+49.gdcc2e8b\n",
      "copying MANIFEST.in -> BentoML-0.8.3+49.gdcc2e8b\n",
      "copying README.md -> BentoML-0.8.3+49.gdcc2e8b\n",
      "copying pyproject.toml -> BentoML-0.8.3+49.gdcc2e8b\n",
      "copying setup.cfg -> BentoML-0.8.3+49.gdcc2e8b\n",
      "copying setup.py -> BentoML-0.8.3+49.gdcc2e8b\n",
      "copying versioneer.py -> BentoML-0.8.3+49.gdcc2e8b\n",
      "copying BentoML.egg-info/PKG-INFO -> BentoML-0.8.3+49.gdcc2e8b/BentoML.egg-info\n",
      "copying BentoML.egg-info/SOURCES.txt -> BentoML-0.8.3+49.gdcc2e8b/BentoML.egg-info\n",
      "copying BentoML.egg-info/dependency_links.txt -> BentoML-0.8.3+49.gdcc2e8b/BentoML.egg-info\n",
      "copying BentoML.egg-info/entry_points.txt -> BentoML-0.8.3+49.gdcc2e8b/BentoML.egg-info\n",
      "copying BentoML.egg-info/requires.txt -> BentoML-0.8.3+49.gdcc2e8b/BentoML.egg-info\n",
      "copying BentoML.egg-info/top_level.txt -> BentoML-0.8.3+49.gdcc2e8b/BentoML.egg-info\n",
      "copying bentoml/__init__.py -> BentoML-0.8.3+49.gdcc2e8b/bentoml\n",
      "copying bentoml/_version.py -> BentoML-0.8.3+49.gdcc2e8b/bentoml\n",
      "copying bentoml/exceptions.py -> BentoML-0.8.3+49.gdcc2e8b/bentoml\n",
      "copying bentoml/service.py -> BentoML-0.8.3+49.gdcc2e8b/bentoml\n",
      "copying bentoml/service_env.py -> BentoML-0.8.3+49.gdcc2e8b/bentoml\n",
      "copying bentoml/adapters/__init__.py -> BentoML-0.8.3+49.gdcc2e8b/bentoml/adapters\n",
      "copying bentoml/adapters/base_input.py -> BentoML-0.8.3+49.gdcc2e8b/bentoml/adapters\n",
      "copying bentoml/adapters/base_output.py -> BentoML-0.8.3+49.gdcc2e8b/bentoml/adapters\n",
      "copying bentoml/adapters/clipper_input.py -> BentoML-0.8.3+49.gdcc2e8b/bentoml/adapters\n",
      "copying bentoml/adapters/dataframe_input.py -> BentoML-0.8.3+49.gdcc2e8b/bentoml/adapters\n",
      "copying bentoml/adapters/dataframe_output.py -> BentoML-0.8.3+49.gdcc2e8b/bentoml/adapters\n",
      "copying bentoml/adapters/default_output.py -> BentoML-0.8.3+49.gdcc2e8b/bentoml/adapters\n",
      "copying bentoml/adapters/fastai_image_input.py -> BentoML-0.8.3+49.gdcc2e8b/bentoml/adapters\n",
      "copying bentoml/adapters/file_input.py -> BentoML-0.8.3+49.gdcc2e8b/bentoml/adapters\n",
      "copying bentoml/adapters/image_input.py -> BentoML-0.8.3+49.gdcc2e8b/bentoml/adapters\n",
      "copying bentoml/adapters/json_input.py -> BentoML-0.8.3+49.gdcc2e8b/bentoml/adapters\n",
      "copying bentoml/adapters/json_output.py -> BentoML-0.8.3+49.gdcc2e8b/bentoml/adapters\n",
      "copying bentoml/adapters/legacy_image_input.py -> BentoML-0.8.3+49.gdcc2e8b/bentoml/adapters\n",
      "copying bentoml/adapters/legacy_json_input.py -> BentoML-0.8.3+49.gdcc2e8b/bentoml/adapters\n",
      "copying bentoml/adapters/multi_image_input.py -> BentoML-0.8.3+49.gdcc2e8b/bentoml/adapters\n",
      "copying bentoml/adapters/pytorch_tensor_input.py -> BentoML-0.8.3+49.gdcc2e8b/bentoml/adapters\n",
      "copying bentoml/adapters/tensorflow_tensor_input.py -> BentoML-0.8.3+49.gdcc2e8b/bentoml/adapters\n",
      "copying bentoml/adapters/tensorflow_tensor_output.py -> BentoML-0.8.3+49.gdcc2e8b/bentoml/adapters\n",
      "copying bentoml/adapters/utils.py -> BentoML-0.8.3+49.gdcc2e8b/bentoml/adapters\n",
      "copying bentoml/artifact/__init__.py -> BentoML-0.8.3+49.gdcc2e8b/bentoml/artifact\n",
      "copying bentoml/artifact/artifact.py -> BentoML-0.8.3+49.gdcc2e8b/bentoml/artifact\n",
      "copying bentoml/artifact/coreml_model_artifact.py -> BentoML-0.8.3+49.gdcc2e8b/bentoml/artifact\n",
      "copying bentoml/artifact/fastai2_model_artifact.py -> BentoML-0.8.3+49.gdcc2e8b/bentoml/artifact\n",
      "copying bentoml/artifact/fastai_model_artifact.py -> BentoML-0.8.3+49.gdcc2e8b/bentoml/artifact\n",
      "copying bentoml/artifact/fasttext_model_artifact.py -> BentoML-0.8.3+49.gdcc2e8b/bentoml/artifact\n",
      "copying bentoml/artifact/h2o_model_artifact.py -> BentoML-0.8.3+49.gdcc2e8b/bentoml/artifact\n",
      "copying bentoml/artifact/json_artifact.py -> BentoML-0.8.3+49.gdcc2e8b/bentoml/artifact\n",
      "copying bentoml/artifact/keras_model_artifact.py -> BentoML-0.8.3+49.gdcc2e8b/bentoml/artifact\n",
      "copying bentoml/artifact/lightgbm_model_artifact.py -> BentoML-0.8.3+49.gdcc2e8b/bentoml/artifact\n",
      "copying bentoml/artifact/onnx_model_artifact.py -> BentoML-0.8.3+49.gdcc2e8b/bentoml/artifact\n",
      "copying bentoml/artifact/pickle_artifact.py -> BentoML-0.8.3+49.gdcc2e8b/bentoml/artifact\n",
      "copying bentoml/artifact/pytorch_model_artifact.py -> BentoML-0.8.3+49.gdcc2e8b/bentoml/artifact\n",
      "copying bentoml/artifact/sklearn_model_artifact.py -> BentoML-0.8.3+49.gdcc2e8b/bentoml/artifact\n",
      "copying bentoml/artifact/spacy_model_artifact.py -> BentoML-0.8.3+49.gdcc2e8b/bentoml/artifact\n",
      "copying bentoml/artifact/text_file_artifact.py -> BentoML-0.8.3+49.gdcc2e8b/bentoml/artifact\n",
      "copying bentoml/artifact/tf_savedmodel_artifact.py -> BentoML-0.8.3+49.gdcc2e8b/bentoml/artifact\n",
      "copying bentoml/artifact/xgboost_model_artifact.py -> BentoML-0.8.3+49.gdcc2e8b/bentoml/artifact\n",
      "copying bentoml/cli/__init__.py -> BentoML-0.8.3+49.gdcc2e8b/bentoml/cli\n",
      "copying bentoml/cli/aws_lambda.py -> BentoML-0.8.3+49.gdcc2e8b/bentoml/cli\n",
      "copying bentoml/cli/aws_sagemaker.py -> BentoML-0.8.3+49.gdcc2e8b/bentoml/cli\n",
      "copying bentoml/cli/azure_functions.py -> BentoML-0.8.3+49.gdcc2e8b/bentoml/cli\n",
      "copying bentoml/cli/bento_management.py -> BentoML-0.8.3+49.gdcc2e8b/bentoml/cli\n",
      "copying bentoml/cli/bento_service.py -> BentoML-0.8.3+49.gdcc2e8b/bentoml/cli\n",
      "copying bentoml/cli/click_utils.py -> BentoML-0.8.3+49.gdcc2e8b/bentoml/cli\n",
      "copying bentoml/cli/config.py -> BentoML-0.8.3+49.gdcc2e8b/bentoml/cli\n",
      "copying bentoml/cli/deployment.py -> BentoML-0.8.3+49.gdcc2e8b/bentoml/cli\n",
      "copying bentoml/cli/utils.py -> BentoML-0.8.3+49.gdcc2e8b/bentoml/cli\n",
      "copying bentoml/cli/yatai_service.py -> BentoML-0.8.3+49.gdcc2e8b/bentoml/cli\n",
      "copying bentoml/clipper/__init__.py -> BentoML-0.8.3+49.gdcc2e8b/bentoml/clipper\n",
      "copying bentoml/configuration/__init__.py -> BentoML-0.8.3+49.gdcc2e8b/bentoml/configuration\n",
      "copying bentoml/configuration/configparser.py -> BentoML-0.8.3+49.gdcc2e8b/bentoml/configuration\n",
      "copying bentoml/configuration/default_bentoml.cfg -> BentoML-0.8.3+49.gdcc2e8b/bentoml/configuration\n",
      "copying bentoml/configuration/__pycache__/__init__.cpython-36.pyc -> BentoML-0.8.3+49.gdcc2e8b/bentoml/configuration/__pycache__\n",
      "copying bentoml/configuration/__pycache__/__init__.cpython-37.pyc -> BentoML-0.8.3+49.gdcc2e8b/bentoml/configuration/__pycache__\n",
      "copying bentoml/configuration/__pycache__/__init__.cpython-38.pyc -> BentoML-0.8.3+49.gdcc2e8b/bentoml/configuration/__pycache__\n",
      "copying bentoml/configuration/__pycache__/configparser.cpython-36.pyc -> BentoML-0.8.3+49.gdcc2e8b/bentoml/configuration/__pycache__\n",
      "copying bentoml/configuration/__pycache__/configparser.cpython-37.pyc -> BentoML-0.8.3+49.gdcc2e8b/bentoml/configuration/__pycache__\n",
      "copying bentoml/configuration/__pycache__/configparser.cpython-38.pyc -> BentoML-0.8.3+49.gdcc2e8b/bentoml/configuration/__pycache__\n",
      "copying bentoml/handlers/__init__.py -> BentoML-0.8.3+49.gdcc2e8b/bentoml/handlers\n",
      "copying bentoml/marshal/__init__.py -> BentoML-0.8.3+49.gdcc2e8b/bentoml/marshal\n",
      "copying bentoml/marshal/dispatcher.py -> BentoML-0.8.3+49.gdcc2e8b/bentoml/marshal\n",
      "copying bentoml/marshal/marshal.py -> BentoML-0.8.3+49.gdcc2e8b/bentoml/marshal\n",
      "copying bentoml/marshal/utils.py -> BentoML-0.8.3+49.gdcc2e8b/bentoml/marshal\n",
      "copying bentoml/saved_bundle/__init__.py -> BentoML-0.8.3+49.gdcc2e8b/bentoml/saved_bundle\n",
      "copying bentoml/saved_bundle/bentoml-init.sh -> BentoML-0.8.3+49.gdcc2e8b/bentoml/saved_bundle\n",
      "copying bentoml/saved_bundle/bundler.py -> BentoML-0.8.3+49.gdcc2e8b/bentoml/saved_bundle\n",
      "copying bentoml/saved_bundle/config.py -> BentoML-0.8.3+49.gdcc2e8b/bentoml/saved_bundle\n",
      "copying bentoml/saved_bundle/docker-entrypoint.sh -> BentoML-0.8.3+49.gdcc2e8b/bentoml/saved_bundle\n",
      "copying bentoml/saved_bundle/loader.py -> BentoML-0.8.3+49.gdcc2e8b/bentoml/saved_bundle\n",
      "copying bentoml/saved_bundle/pip_pkg.py -> BentoML-0.8.3+49.gdcc2e8b/bentoml/saved_bundle\n",
      "copying bentoml/saved_bundle/py_module_utils.py -> BentoML-0.8.3+49.gdcc2e8b/bentoml/saved_bundle\n",
      "copying bentoml/saved_bundle/templates.py -> BentoML-0.8.3+49.gdcc2e8b/bentoml/saved_bundle\n",
      "copying bentoml/server/__init__.py -> BentoML-0.8.3+49.gdcc2e8b/bentoml/server\n",
      "copying bentoml/server/api_server.py -> BentoML-0.8.3+49.gdcc2e8b/bentoml/server\n",
      "copying bentoml/server/gunicorn_config.py -> BentoML-0.8.3+49.gdcc2e8b/bentoml/server\n",
      "copying bentoml/server/gunicorn_server.py -> BentoML-0.8.3+49.gdcc2e8b/bentoml/server\n",
      "copying bentoml/server/instruments.py -> BentoML-0.8.3+49.gdcc2e8b/bentoml/server\n",
      "copying bentoml/server/marshal_server.py -> BentoML-0.8.3+49.gdcc2e8b/bentoml/server\n",
      "copying bentoml/server/open_api.py -> BentoML-0.8.3+49.gdcc2e8b/bentoml/server\n",
      "copying bentoml/server/trace.py -> BentoML-0.8.3+49.gdcc2e8b/bentoml/server\n",
      "copying bentoml/server/utils.py -> BentoML-0.8.3+49.gdcc2e8b/bentoml/server\n",
      "copying bentoml/utils/__init__.py -> BentoML-0.8.3+49.gdcc2e8b/bentoml/utils\n",
      "copying bentoml/utils/alg.py -> BentoML-0.8.3+49.gdcc2e8b/bentoml/utils\n",
      "copying bentoml/utils/benchmark.py -> BentoML-0.8.3+49.gdcc2e8b/bentoml/utils\n",
      "copying bentoml/utils/cloudpickle.py -> BentoML-0.8.3+49.gdcc2e8b/bentoml/utils\n",
      "copying bentoml/utils/dataframe_util.py -> BentoML-0.8.3+49.gdcc2e8b/bentoml/utils\n",
      "copying bentoml/utils/flask_ngrok.py -> BentoML-0.8.3+49.gdcc2e8b/bentoml/utils\n",
      "copying bentoml/utils/hybridmethod.py -> BentoML-0.8.3+49.gdcc2e8b/bentoml/utils\n",
      "copying bentoml/utils/lazy_loader.py -> BentoML-0.8.3+49.gdcc2e8b/bentoml/utils\n",
      "copying bentoml/utils/log.py -> BentoML-0.8.3+49.gdcc2e8b/bentoml/utils\n",
      "copying bentoml/utils/s3.py -> BentoML-0.8.3+49.gdcc2e8b/bentoml/utils\n",
      "copying bentoml/utils/tempdir.py -> BentoML-0.8.3+49.gdcc2e8b/bentoml/utils\n",
      "copying bentoml/utils/usage_stats.py -> BentoML-0.8.3+49.gdcc2e8b/bentoml/utils\n",
      "copying bentoml/yatai/__init__.py -> BentoML-0.8.3+49.gdcc2e8b/bentoml/yatai\n",
      "copying bentoml/yatai/alembic.ini -> BentoML-0.8.3+49.gdcc2e8b/bentoml/yatai\n",
      "copying bentoml/yatai/db.py -> BentoML-0.8.3+49.gdcc2e8b/bentoml/yatai\n",
      "copying bentoml/yatai/deployment_utils.py -> BentoML-0.8.3+49.gdcc2e8b/bentoml/yatai\n",
      "copying bentoml/yatai/status.py -> BentoML-0.8.3+49.gdcc2e8b/bentoml/yatai\n",
      "copying bentoml/yatai/utils.py -> BentoML-0.8.3+49.gdcc2e8b/bentoml/yatai\n",
      "copying bentoml/yatai/yatai_service.py -> BentoML-0.8.3+49.gdcc2e8b/bentoml/yatai\n",
      "copying bentoml/yatai/yatai_service_impl.py -> BentoML-0.8.3+49.gdcc2e8b/bentoml/yatai\n",
      "copying bentoml/yatai/client/__init__.py -> BentoML-0.8.3+49.gdcc2e8b/bentoml/yatai/client\n",
      "copying bentoml/yatai/client/bento_repository_api.py -> BentoML-0.8.3+49.gdcc2e8b/bentoml/yatai/client\n",
      "copying bentoml/yatai/client/deployment_api.py -> BentoML-0.8.3+49.gdcc2e8b/bentoml/yatai/client\n",
      "copying bentoml/yatai/deployment/__init__.py -> BentoML-0.8.3+49.gdcc2e8b/bentoml/yatai/deployment\n",
      "copying bentoml/yatai/deployment/operator.py -> BentoML-0.8.3+49.gdcc2e8b/bentoml/yatai/deployment\n",
      "copying bentoml/yatai/deployment/store.py -> BentoML-0.8.3+49.gdcc2e8b/bentoml/yatai/deployment\n",
      "copying bentoml/yatai/deployment/utils.py -> BentoML-0.8.3+49.gdcc2e8b/bentoml/yatai/deployment\n",
      "copying bentoml/yatai/deployment/aws_lambda/__init__.py -> BentoML-0.8.3+49.gdcc2e8b/bentoml/yatai/deployment/aws_lambda\n",
      "copying bentoml/yatai/deployment/aws_lambda/download_extra_resources.py -> BentoML-0.8.3+49.gdcc2e8b/bentoml/yatai/deployment/aws_lambda\n",
      "copying bentoml/yatai/deployment/aws_lambda/lambda_app.py -> BentoML-0.8.3+49.gdcc2e8b/bentoml/yatai/deployment/aws_lambda\n",
      "copying bentoml/yatai/deployment/aws_lambda/operator.py -> BentoML-0.8.3+49.gdcc2e8b/bentoml/yatai/deployment/aws_lambda\n",
      "copying bentoml/yatai/deployment/aws_lambda/utils.py -> BentoML-0.8.3+49.gdcc2e8b/bentoml/yatai/deployment/aws_lambda\n",
      "copying bentoml/yatai/deployment/azure_functions/Dockerfile -> BentoML-0.8.3+49.gdcc2e8b/bentoml/yatai/deployment/azure_functions\n",
      "copying bentoml/yatai/deployment/azure_functions/__init__.py -> BentoML-0.8.3+49.gdcc2e8b/bentoml/yatai/deployment/azure_functions\n",
      "copying bentoml/yatai/deployment/azure_functions/app_init.py -> BentoML-0.8.3+49.gdcc2e8b/bentoml/yatai/deployment/azure_functions\n",
      "copying bentoml/yatai/deployment/azure_functions/constants.py -> BentoML-0.8.3+49.gdcc2e8b/bentoml/yatai/deployment/azure_functions\n",
      "copying bentoml/yatai/deployment/azure_functions/host.json -> BentoML-0.8.3+49.gdcc2e8b/bentoml/yatai/deployment/azure_functions\n",
      "copying bentoml/yatai/deployment/azure_functions/local.settings.json -> BentoML-0.8.3+49.gdcc2e8b/bentoml/yatai/deployment/azure_functions\n",
      "copying bentoml/yatai/deployment/azure_functions/operator.py -> BentoML-0.8.3+49.gdcc2e8b/bentoml/yatai/deployment/azure_functions\n",
      "copying bentoml/yatai/deployment/azure_functions/templates.py -> BentoML-0.8.3+49.gdcc2e8b/bentoml/yatai/deployment/azure_functions\n",
      "copying bentoml/yatai/deployment/sagemaker/__init__.py -> BentoML-0.8.3+49.gdcc2e8b/bentoml/yatai/deployment/sagemaker\n",
      "copying bentoml/yatai/deployment/sagemaker/model_server.py -> BentoML-0.8.3+49.gdcc2e8b/bentoml/yatai/deployment/sagemaker\n",
      "copying bentoml/yatai/deployment/sagemaker/nginx.conf -> BentoML-0.8.3+49.gdcc2e8b/bentoml/yatai/deployment/sagemaker\n",
      "copying bentoml/yatai/deployment/sagemaker/operator.py -> BentoML-0.8.3+49.gdcc2e8b/bentoml/yatai/deployment/sagemaker\n",
      "copying bentoml/yatai/deployment/sagemaker/serve -> BentoML-0.8.3+49.gdcc2e8b/bentoml/yatai/deployment/sagemaker\n",
      "copying bentoml/yatai/deployment/sagemaker/wsgi.py -> BentoML-0.8.3+49.gdcc2e8b/bentoml/yatai/deployment/sagemaker\n",
      "copying bentoml/yatai/migrations/README -> BentoML-0.8.3+49.gdcc2e8b/bentoml/yatai/migrations\n",
      "copying bentoml/yatai/migrations/__init__.py -> BentoML-0.8.3+49.gdcc2e8b/bentoml/yatai/migrations\n",
      "copying bentoml/yatai/migrations/env.py -> BentoML-0.8.3+49.gdcc2e8b/bentoml/yatai/migrations\n",
      "copying bentoml/yatai/migrations/script.py.mako -> BentoML-0.8.3+49.gdcc2e8b/bentoml/yatai/migrations\n",
      "copying bentoml/yatai/migrations/__pycache__/env.cpython-36.pyc -> BentoML-0.8.3+49.gdcc2e8b/bentoml/yatai/migrations/__pycache__\n",
      "copying bentoml/yatai/migrations/versions/__init__.py -> BentoML-0.8.3+49.gdcc2e8b/bentoml/yatai/migrations/versions\n",
      "copying bentoml/yatai/migrations/versions/a6b00ae45279_add_last_updated_at_for_deployments.py -> BentoML-0.8.3+49.gdcc2e8b/bentoml/yatai/migrations/versions\n",
      "copying bentoml/yatai/migrations/versions/__pycache__/a6b00ae45279_add_last_updated_at_for_deployments.cpython-36.pyc -> BentoML-0.8.3+49.gdcc2e8b/bentoml/yatai/migrations/versions/__pycache__\n",
      "copying bentoml/yatai/proto/__init__.py -> BentoML-0.8.3+49.gdcc2e8b/bentoml/yatai/proto\n",
      "copying bentoml/yatai/proto/deployment_pb2.py -> BentoML-0.8.3+49.gdcc2e8b/bentoml/yatai/proto\n",
      "copying bentoml/yatai/proto/repository_pb2.py -> BentoML-0.8.3+49.gdcc2e8b/bentoml/yatai/proto\n",
      "copying bentoml/yatai/proto/status_pb2.py -> BentoML-0.8.3+49.gdcc2e8b/bentoml/yatai/proto\n",
      "copying bentoml/yatai/proto/yatai_service_pb2.py -> BentoML-0.8.3+49.gdcc2e8b/bentoml/yatai/proto\n",
      "copying bentoml/yatai/proto/yatai_service_pb2_grpc.py -> BentoML-0.8.3+49.gdcc2e8b/bentoml/yatai/proto\n",
      "copying bentoml/yatai/repository/__init__.py -> BentoML-0.8.3+49.gdcc2e8b/bentoml/yatai/repository\n",
      "copying bentoml/yatai/repository/base_repository.py -> BentoML-0.8.3+49.gdcc2e8b/bentoml/yatai/repository\n",
      "copying bentoml/yatai/repository/local_repository.py -> BentoML-0.8.3+49.gdcc2e8b/bentoml/yatai/repository\n",
      "copying bentoml/yatai/repository/metadata_store.py -> BentoML-0.8.3+49.gdcc2e8b/bentoml/yatai/repository\n",
      "copying bentoml/yatai/repository/repository.py -> BentoML-0.8.3+49.gdcc2e8b/bentoml/yatai/repository\n",
      "copying bentoml/yatai/repository/s3_repository.py -> BentoML-0.8.3+49.gdcc2e8b/bentoml/yatai/repository\n",
      "copying bentoml/yatai/validator/__init__.py -> BentoML-0.8.3+49.gdcc2e8b/bentoml/yatai/validator\n",
      "copying bentoml/yatai/validator/deployment_pb_validator.py -> BentoML-0.8.3+49.gdcc2e8b/bentoml/yatai/validator\n",
      "Writing BentoML-0.8.3+49.gdcc2e8b/setup.cfg\n",
      "UPDATING BentoML-0.8.3+49.gdcc2e8b/bentoml/_version.py\n",
      "set BentoML-0.8.3+49.gdcc2e8b/bentoml/_version.py to '0.8.3+49.gdcc2e8b'\n",
      "Creating tar archive\n",
      "removing 'BentoML-0.8.3+49.gdcc2e8b' (and everything under it)\n",
      "[2020-08-04 15:56:15,933] INFO - BentoService bundle 'ToxicCommentClassification:20200804155557_9AD242' saved to: /home/bentoml/bentoml/repository/ToxicCommentClassification/20200804155557_9AD242\n"
     ]
    }
   ],
   "source": [
    "# 1) import the custom BentoService defined above\n",
    "from toxic_comment_classifier import ToxicCommentClassification\n",
    "\n",
    "# 2) `pack` it with required artifacts\n",
    "svc = ToxicCommentClassification()\n",
    "svc.pack('x_tokenizer', x_tokenizer)\n",
    "svc.pack('model', model)\n",
    "\n",
    "# 3) save your BentoSerivce\n",
    "saved_path = svc.save()"
   ]
  },
  {
   "cell_type": "markdown",
   "metadata": {},
   "source": [
    "## Load BentoService from archive"
   ]
  },
  {
   "cell_type": "code",
   "execution_count": 27,
   "metadata": {},
   "outputs": [
    {
     "name": "stdout",
     "output_type": "stream",
     "text": [
      "                  id                                       comment_text\n",
      "40  0011cefc680993ba                      REDIRECT Talk:Mi Vida Eres Tú\n",
      "41  0011ef6aa33d42e6  \" \\n I'm not convinced that he was blind. Wher...\n",
      "[2020-08-04 15:59:10,504] WARNING - Saved BentoService bundle version mismatch: loading BentoService bundle create with BentoML version 0.8.3, but loading from BentoML version 0.8.3+49.gdcc2e8b\n",
      "[2020-08-04 15:59:10,505] WARNING - Module `toxic_comment_classifier` already loaded, using existing imported module.\n",
      "WARNING:tensorflow:From /home/bentoml/BentoML/bentoml/artifact/keras_model_artifact.py:151: The name tf.keras.backend.set_session is deprecated. Please use tf.compat.v1.keras.backend.set_session instead.\n",
      "\n",
      "['toxic', 'toxic']\n"
     ]
    }
   ],
   "source": [
    "sample_test = test_df.iloc[40:42]\n",
    "print(sample_test)\n",
    "bento_service = bentoml.load(saved_path)\n",
    "\n",
    "print(bento_service.predict(sample_test))"
   ]
  },
  {
   "cell_type": "code",
   "execution_count": null,
   "metadata": {},
   "outputs": [],
   "source": [
    "!bentoml get ToxicCommentClassification"
   ]
  },
  {
   "cell_type": "code",
   "execution_count": 29,
   "metadata": {},
   "outputs": [
    {
     "name": "stdout",
     "output_type": "stream",
     "text": [
      "[2020-08-04 16:08:02,608] INFO - Getting latest version ToxicCommentClassification:20200804155557_9AD242\n",
      "\u001b[39m{\n",
      "  \"name\": \"ToxicCommentClassification\",\n",
      "  \"version\": \"20200804155557_9AD242\",\n",
      "  \"uri\": {\n",
      "    \"type\": \"LOCAL\",\n",
      "    \"uri\": \"/home/bentoml/bentoml/repository/ToxicCommentClassification/20200804155557_9AD242\"\n",
      "  },\n",
      "  \"bentoServiceMetadata\": {\n",
      "    \"name\": \"ToxicCommentClassification\",\n",
      "    \"version\": \"20200804155557_9AD242\",\n",
      "    \"createdAt\": \"2020-08-04T07:56:15.887774Z\",\n",
      "    \"env\": {\n",
      "      \"condaEnv\": \"name: bentoml-ToxicCommentClassification\\nchannels:\\n- defaults\\ndependencies:\\n- python=3.6.10\\n- pip\\n\",\n",
      "      \"pipDependencies\": \"tensorflow==1.14.0\\npandas\\nbentoml==0.8.3\\nkeras==2.3.1\\nnumpy\",\n",
      "      \"pythonVersion\": \"3.6.10\",\n",
      "      \"dockerBaseImage\": \"bentoml/model-server:0.8.3\"\n",
      "    },\n",
      "    \"artifacts\": [\n",
      "      {\n",
      "        \"name\": \"x_tokenizer\",\n",
      "        \"artifactType\": \"PickleArtifact\"\n",
      "      },\n",
      "      {\n",
      "        \"name\": \"model\",\n",
      "        \"artifactType\": \"KerasModelArtifact\"\n",
      "      }\n",
      "    ],\n",
      "    \"apis\": [\n",
      "      {\n",
      "        \"name\": \"predict\",\n",
      "        \"inputType\": \"DataframeInput\",\n",
      "        \"docs\": \"BentoService inference API 'predict', input: 'DataframeInput', output: 'DefaultOutput'\",\n",
      "        \"inputConfig\": {\n",
      "          \"orient\": null,\n",
      "          \"typ\": \"frame\",\n",
      "          \"is_batch_input\": true,\n",
      "          \"input_dtypes\": null\n",
      "        },\n",
      "        \"outputConfig\": {\n",
      "          \"cors\": \"*\"\n",
      "        },\n",
      "        \"outputType\": \"DefaultOutput\",\n",
      "        \"mbMaxLatency\": 10000,\n",
      "        \"mbMaxBatchSize\": 2000\n",
      "      }\n",
      "    ]\n",
      "  }\n",
      "}\u001b[0m\n"
     ]
    }
   ],
   "source": [
    "!bentoml get ToxicCommentClassification:latest "
   ]
  },
  {
   "cell_type": "code",
   "execution_count": 30,
   "metadata": {},
   "outputs": [
    {
     "name": "stdout",
     "output_type": "stream",
     "text": [
      "[2020-08-04 16:08:14,398] INFO - Getting latest version ToxicCommentClassification:20200804155557_9AD242\n",
      "[2020-08-04 16:08:14,423] WARNING - Using BentoML installed in `editable` model, the local BentoML repository including all code changes will be packaged together with saved bundle created, under the './bundled_pip_dependencies' directory of the saved bundle.\n",
      "[2020-08-04 16:08:14,440] WARNING - Saved BentoService bundle version mismatch: loading BentoService bundle create with BentoML version 0.8.3, but loading from BentoML version 0.8.3+49.gdcc2e8b\n",
      "\u001b[39m{\n",
      "  \"name\": \"ToxicCommentClassification\",\n",
      "  \"version\": \"20200804155557_9AD242\",\n",
      "  \"created_at\": \"2020-08-04T07:56:14.442752Z\",\n",
      "  \"env\": {\n",
      "    \"conda_env\": \"name: bentoml-ToxicCommentClassification\\nchannels:\\n- defaults\\ndependencies:\\n- python=3.6.10\\n- pip\\n\",\n",
      "    \"pip_dependencies\": \"tensorflow==1.14.0\\npandas\\nbentoml==0.8.3\\nkeras==2.3.1\\nnumpy\",\n",
      "    \"python_version\": \"3.6.10\",\n",
      "    \"docker_base_image\": \"bentoml/model-server:0.8.3\"\n",
      "  },\n",
      "  \"artifacts\": [\n",
      "    {\n",
      "      \"name\": \"x_tokenizer\",\n",
      "      \"artifact_type\": \"PickleArtifact\"\n",
      "    },\n",
      "    {\n",
      "      \"name\": \"model\",\n",
      "      \"artifact_type\": \"KerasModelArtifact\"\n",
      "    }\n",
      "  ],\n",
      "  \"apis\": [\n",
      "    {\n",
      "      \"name\": \"predict\",\n",
      "      \"input_type\": \"DataframeInput\",\n",
      "      \"docs\": \"BentoService inference API 'predict', input: 'DataframeInput', output: 'DefaultOutput'\",\n",
      "      \"input_config\": {\n",
      "        \"orient\": null,\n",
      "        \"typ\": \"frame\",\n",
      "        \"is_batch_input\": true,\n",
      "        \"input_dtypes\": null\n",
      "      },\n",
      "      \"output_config\": {\n",
      "        \"cors\": \"*\"\n",
      "      },\n",
      "      \"output_type\": \"DefaultOutput\",\n",
      "      \"mb_max_latency\": 10000,\n",
      "      \"mb_max_batch_size\": 2000\n",
      "    }\n",
      "  ]\n",
      "}\u001b[0m\n"
     ]
    }
   ],
   "source": [
    "!bentoml info ToxicCommentClassification:latest"
   ]
  },
  {
   "cell_type": "code",
   "execution_count": 1,
   "metadata": {
    "scrolled": true
   },
   "outputs": [
    {
     "name": "stdout",
     "output_type": "stream",
     "text": [
      "[2020-08-04 16:16:37,636] INFO - Getting latest version ToxicCommentClassification:20200804155557_9AD242\n",
      "[2020-08-04 16:16:38,720] WARNING - Using BentoML installed in `editable` model, the local BentoML repository including all code changes will be packaged together with saved bundle created, under the './bundled_pip_dependencies' directory of the saved bundle.\n",
      "[2020-08-04 16:16:38,741] WARNING - Saved BentoService bundle version mismatch: loading BentoService bundle create with BentoML version 0.8.3, but loading from BentoML version 0.8.3+49.gdcc2e8b\n",
      "Using TensorFlow backend.\n",
      "2020-08-04 16:16:39.974511: I tensorflow/stream_executor/platform/default/dso_loader.cc:42] Successfully opened dynamic library libcuda.so.1\n",
      "2020-08-04 16:16:39.995019: I tensorflow/stream_executor/cuda/cuda_gpu_executor.cc:1005] successful NUMA node read from SysFS had negative value (-1), but there must be at least one NUMA node, so returning NUMA node zero\n",
      "2020-08-04 16:16:39.995436: I tensorflow/core/common_runtime/gpu/gpu_device.cc:1640] Found device 0 with properties: \n",
      "name: GeForce GTX 1060 major: 6 minor: 1 memoryClockRate(GHz): 1.6705\n",
      "pciBusID: 0000:01:00.0\n",
      "2020-08-04 16:16:39.995656: I tensorflow/stream_executor/platform/default/dso_loader.cc:42] Successfully opened dynamic library libcudart.so.10.1\n",
      "2020-08-04 16:16:39.996963: I tensorflow/stream_executor/platform/default/dso_loader.cc:42] Successfully opened dynamic library libcublas.so.10\n",
      "2020-08-04 16:16:39.998180: I tensorflow/stream_executor/platform/default/dso_loader.cc:42] Successfully opened dynamic library libcufft.so.10\n",
      "2020-08-04 16:16:39.998446: I tensorflow/stream_executor/platform/default/dso_loader.cc:42] Successfully opened dynamic library libcurand.so.10\n",
      "2020-08-04 16:16:39.999825: I tensorflow/stream_executor/platform/default/dso_loader.cc:42] Successfully opened dynamic library libcusolver.so.10\n",
      "2020-08-04 16:16:40.000446: I tensorflow/stream_executor/platform/default/dso_loader.cc:42] Successfully opened dynamic library libcusparse.so.10\n",
      "2020-08-04 16:16:40.003207: I tensorflow/stream_executor/platform/default/dso_loader.cc:42] Successfully opened dynamic library libcudnn.so.7\n",
      "2020-08-04 16:16:40.003382: I tensorflow/stream_executor/cuda/cuda_gpu_executor.cc:1005] successful NUMA node read from SysFS had negative value (-1), but there must be at least one NUMA node, so returning NUMA node zero\n",
      "2020-08-04 16:16:40.003937: I tensorflow/stream_executor/cuda/cuda_gpu_executor.cc:1005] successful NUMA node read from SysFS had negative value (-1), but there must be at least one NUMA node, so returning NUMA node zero\n",
      "2020-08-04 16:16:40.004337: I tensorflow/core/common_runtime/gpu/gpu_device.cc:1763] Adding visible gpu devices: 0\n",
      "2020-08-04 16:16:40.004615: I tensorflow/core/platform/cpu_feature_guard.cc:142] Your CPU supports instructions that this TensorFlow binary was not compiled to use: SSE4.1 SSE4.2 AVX AVX2 FMA\n",
      "2020-08-04 16:16:40.032799: I tensorflow/core/platform/profile_utils/cpu_utils.cc:94] CPU Frequency: 2699905000 Hz\n",
      "2020-08-04 16:16:40.033244: I tensorflow/compiler/xla/service/service.cc:168] XLA service 0x55b2276ce3c0 executing computations on platform Host. Devices:\n",
      "2020-08-04 16:16:40.033296: I tensorflow/compiler/xla/service/service.cc:175]   StreamExecutor device (0): <undefined>, <undefined>\n",
      "2020-08-04 16:16:40.033566: I tensorflow/stream_executor/cuda/cuda_gpu_executor.cc:1005] successful NUMA node read from SysFS had negative value (-1), but there must be at least one NUMA node, so returning NUMA node zero\n",
      "2020-08-04 16:16:40.034136: I tensorflow/core/common_runtime/gpu/gpu_device.cc:1640] Found device 0 with properties: \n",
      "name: GeForce GTX 1060 major: 6 minor: 1 memoryClockRate(GHz): 1.6705\n",
      "pciBusID: 0000:01:00.0\n",
      "2020-08-04 16:16:40.034198: I tensorflow/stream_executor/platform/default/dso_loader.cc:42] Successfully opened dynamic library libcudart.so.10.1\n",
      "2020-08-04 16:16:40.034228: I tensorflow/stream_executor/platform/default/dso_loader.cc:42] Successfully opened dynamic library libcublas.so.10\n",
      "2020-08-04 16:16:40.034253: I tensorflow/stream_executor/platform/default/dso_loader.cc:42] Successfully opened dynamic library libcufft.so.10\n",
      "2020-08-04 16:16:40.034279: I tensorflow/stream_executor/platform/default/dso_loader.cc:42] Successfully opened dynamic library libcurand.so.10\n",
      "2020-08-04 16:16:40.034305: I tensorflow/stream_executor/platform/default/dso_loader.cc:42] Successfully opened dynamic library libcusolver.so.10\n",
      "2020-08-04 16:16:40.034331: I tensorflow/stream_executor/platform/default/dso_loader.cc:42] Successfully opened dynamic library libcusparse.so.10\n",
      "2020-08-04 16:16:40.034357: I tensorflow/stream_executor/platform/default/dso_loader.cc:42] Successfully opened dynamic library libcudnn.so.7\n",
      "2020-08-04 16:16:40.034451: I tensorflow/stream_executor/cuda/cuda_gpu_executor.cc:1005] successful NUMA node read from SysFS had negative value (-1), but there must be at least one NUMA node, so returning NUMA node zero\n",
      "2020-08-04 16:16:40.035038: I tensorflow/stream_executor/cuda/cuda_gpu_executor.cc:1005] successful NUMA node read from SysFS had negative value (-1), but there must be at least one NUMA node, so returning NUMA node zero\n",
      "2020-08-04 16:16:40.035569: I tensorflow/core/common_runtime/gpu/gpu_device.cc:1763] Adding visible gpu devices: 0\n",
      "2020-08-04 16:16:40.035632: I tensorflow/stream_executor/platform/default/dso_loader.cc:42] Successfully opened dynamic library libcudart.so.10.1\n",
      "2020-08-04 16:16:40.167909: I tensorflow/core/common_runtime/gpu/gpu_device.cc:1181] Device interconnect StreamExecutor with strength 1 edge matrix:\n",
      "2020-08-04 16:16:40.167939: I tensorflow/core/common_runtime/gpu/gpu_device.cc:1187]      0 \n",
      "2020-08-04 16:16:40.167945: I tensorflow/core/common_runtime/gpu/gpu_device.cc:1200] 0:   N \n",
      "2020-08-04 16:16:40.168099: I tensorflow/stream_executor/cuda/cuda_gpu_executor.cc:1005] successful NUMA node read from SysFS had negative value (-1), but there must be at least one NUMA node, so returning NUMA node zero\n",
      "2020-08-04 16:16:40.168542: I tensorflow/stream_executor/cuda/cuda_gpu_executor.cc:1005] successful NUMA node read from SysFS had negative value (-1), but there must be at least one NUMA node, so returning NUMA node zero\n",
      "2020-08-04 16:16:40.168876: I tensorflow/stream_executor/cuda/cuda_gpu_executor.cc:1005] successful NUMA node read from SysFS had negative value (-1), but there must be at least one NUMA node, so returning NUMA node zero\n",
      "2020-08-04 16:16:40.169731: I tensorflow/core/common_runtime/gpu/gpu_device.cc:1326] Created TensorFlow device (/job:localhost/replica:0/task:0/device:GPU:0 with 4551 MB memory) -> physical GPU (device: 0, name: GeForce GTX 1060, pci bus id: 0000:01:00.0, compute capability: 6.1)\n",
      "2020-08-04 16:16:40.171270: I tensorflow/compiler/xla/service/service.cc:168] XLA service 0x55b22b8e1b40 executing computations on platform CUDA. Devices:\n",
      "2020-08-04 16:16:40.171316: I tensorflow/compiler/xla/service/service.cc:175]   StreamExecutor device (0): GeForce GTX 1060, Compute Capability 6.1\n",
      "WARNING:tensorflow:From /home/bentoml/BentoML/bentoml/artifact/keras_model_artifact.py:151: The name tf.keras.backend.set_session is deprecated. Please use tf.compat.v1.keras.backend.set_session instead.\n",
      "\n",
      "WARNING:tensorflow:From /opt/anaconda3/envs/bentoml-py3_6-tf1_4/lib/python3.6/site-packages/tensorflow/python/ops/nn_impl.py:180: add_dispatch_support.<locals>.wrapper (from tensorflow.python.ops.array_ops) is deprecated and will be removed in a future version.\n",
      "Instructions for updating:\n",
      "Use tf.where in 2.0, which has the same broadcast rule as np.where\n",
      "WARNING:tensorflow:From /opt/anaconda3/envs/bentoml-py3_6-tf1_4/lib/python3.6/site-packages/keras/backend/tensorflow_backend.py:422: The name tf.global_variables is deprecated. Please use tf.compat.v1.global_variables instead.\n",
      "\n",
      "WARNING:tensorflow:From /home/bentoml/BentoML/bentoml/artifact/keras_model_artifact.py:137: The name tf.keras.backend.get_session is deprecated. Please use tf.compat.v1.keras.backend.get_session instead.\n",
      "\n",
      "2020-08-04 16:16:42.541288: I tensorflow/stream_executor/platform/default/dso_loader.cc:42] Successfully opened dynamic library libcublas.so.10\n",
      "2020-08-04 16:16:42.700678: I tensorflow/stream_executor/platform/default/dso_loader.cc:42] Successfully opened dynamic library libcudnn.so.7\n",
      "['toxic']\n"
     ]
    }
   ],
   "source": [
    "!bentoml run ToxicCommentClassification:latest predict --input '[{\"comment_text\": \"bad terrible\"}]'"
   ]
  },
  {
   "cell_type": "markdown",
   "metadata": {},
   "source": [
    "## Use BentoService as PyPI package"
   ]
  },
  {
   "cell_type": "code",
   "execution_count": 33,
   "metadata": {
    "scrolled": true
   },
   "outputs": [],
   "source": [
    "!pip install  --quiet {saved_path}"
   ]
  },
  {
   "cell_type": "code",
   "execution_count": null,
   "metadata": {},
   "outputs": [],
   "source": [
    "import ToxicCommentClassification\n",
    "\n",
    "svc = ToxicCommentClassification.load()\n",
    "result = svc.predict(sample_test)\n",
    "result"
   ]
  },
  {
   "cell_type": "markdown",
   "metadata": {},
   "source": [
    "## Deploy BentoService as REST API server to the cloud\n",
    "\n",
    "\n",
    "BentoML support deployment to multiply cloud provider services, such as AWS Lambda, AWS Sagemaker, Google Cloudrun and etc. You can find the full list and guide on the documentation site at https://docs.bentoml.org/en/latest/deployment/index.html\n",
    "\n",
    "For this project, we are going to deploy to AWS Sagemaker"
   ]
  },
  {
   "cell_type": "markdown",
   "metadata": {},
   "source": [
    "**Use `bentoml sagemaker deploy` to deploy BentoService to AWS Sagemaker**"
   ]
  },
  {
   "cell_type": "code",
   "execution_count": null,
   "metadata": {},
   "outputs": [],
   "source": [
    "!bentoml sagemaker deploy keras-toxic -b ToxicCommentClassification:latest \\\n",
    "    --api-name predict --verbose"
   ]
  },
  {
   "cell_type": "markdown",
   "metadata": {},
   "source": [
    "`bentoml sagemaker list` displays all deployed Sagemaker deployments"
   ]
  },
  {
   "cell_type": "code",
   "execution_count": null,
   "metadata": {},
   "outputs": [],
   "source": [
    "!bentoml sagemaker list"
   ]
  },
  {
   "cell_type": "markdown",
   "metadata": {},
   "source": [
    "`bentoml sagemaker get` retrieve the latest status of Sagemaker deployment"
   ]
  },
  {
   "cell_type": "code",
   "execution_count": null,
   "metadata": {},
   "outputs": [],
   "source": [
    "!bentoml sagemaker get keras-toxic"
   ]
  },
  {
   "cell_type": "markdown",
   "metadata": {},
   "source": [
    "Validate and test Sagemaker deployment with sample data"
   ]
  },
  {
   "cell_type": "code",
   "execution_count": null,
   "metadata": {},
   "outputs": [],
   "source": [
    "!aws sagemaker-runtime invoke-endpoint --endpoint-name bobo-keras-toxic \\\n",
    "--body '[{\"comment_text\": \"bad terrible\"}]' --content-type application/json output.json && cat output.json"
   ]
  },
  {
   "cell_type": "markdown",
   "metadata": {},
   "source": [
    "`bentoml sagemaker delete` will remove Sagmaker deployment and related resources"
   ]
  },
  {
   "cell_type": "code",
   "execution_count": null,
   "metadata": {},
   "outputs": [],
   "source": [
    "!bentoml sagemaker delete keras-toxic"
   ]
  }
 ],
 "metadata": {
  "kernelspec": {
   "display_name": "bentoml-py3_6_10-tf1_14_0",
   "language": "python",
   "name": "bentoml-py3_6_10-tf1_14_0"
  },
  "language_info": {
   "codemirror_mode": {
    "name": "ipython",
    "version": 3
   },
   "file_extension": ".py",
   "mimetype": "text/x-python",
   "name": "python",
   "nbconvert_exporter": "python",
   "pygments_lexer": "ipython3",
   "version": "3.6.10"
  }
 },
 "nbformat": 4,
 "nbformat_minor": 4
}
