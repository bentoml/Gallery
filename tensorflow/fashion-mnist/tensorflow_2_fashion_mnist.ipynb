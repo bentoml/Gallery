{
 "cells": [
  {
   "cell_type": "markdown",
   "metadata": {
    "colab_type": "text",
    "id": "jYysdyb-CaWM"
   },
   "source": [
    "# Basic classification: Classify images of clothing\n",
    "A tensorflow serving style service example using BentoML"
   ]
  },
  {
   "cell_type": "code",
   "execution_count": 1,
   "metadata": {},
   "outputs": [],
   "source": [
    "%reload_ext autoreload\n",
    "%autoreload 2\n",
    "%matplotlib inline"
   ]
  },
  {
   "cell_type": "code",
   "execution_count": 1,
   "metadata": {
    "colab": {},
    "colab_type": "code",
    "id": "dzLKpmZICaWN"
   },
   "outputs": [
    {
     "name": "stdout",
     "output_type": "stream",
     "text": [
      "2.0.0\n"
     ]
    }
   ],
   "source": [
    "from __future__ import absolute_import, division, print_function, unicode_literals\n",
    "\n",
    "import io\n",
    "\n",
    "# TensorFlow\n",
    "import tensorflow as tf\n",
    "\n",
    "# Helper libraries\n",
    "import numpy as np\n",
    "import matplotlib.pyplot as plt\n",
    "print(tf.__version__)"
   ]
  },
  {
   "cell_type": "code",
   "execution_count": 2,
   "metadata": {
    "colab": {},
    "colab_type": "code",
    "id": "7MqDQO0KCaWS"
   },
   "outputs": [],
   "source": [
    "fashion_mnist = tf.keras.datasets.fashion_mnist\n",
    "(_train_images, train_labels), (_test_images, test_labels) = fashion_mnist.load_data()\n",
    "class_names = ['T-shirt/top', 'Trouser', 'Pullover', 'Dress', 'Coat',\n",
    "               'Sandal', 'Shirt', 'Sneaker', 'Bag', 'Ankle boot']\n",
    "train_images = _train_images / 255.0\n",
    "test_images = _test_images / 255.0"
   ]
  },
  {
   "cell_type": "code",
   "execution_count": 3,
   "metadata": {},
   "outputs": [],
   "source": [
    "class FashionMnist(tf.keras.Model):\n",
    "    def __init__(self):\n",
    "        super(FashionMnist, self).__init__()\n",
    "        self.cnn = tf.keras.Sequential([\n",
    "            tf.keras.layers.Flatten(input_shape=(28, 28)),\n",
    "            tf.keras.layers.Dense(128, activation='relu'),\n",
    "            tf.keras.layers.Dense(10, activation='softmax')\n",
    "        ])\n",
    "    \n",
    "    @staticmethod\n",
    "    def image_bytes2tensor(inputs):\n",
    "        inputs = tf.map_fn(lambda i: tf.io.decode_png(i, channels=1), inputs, dtype=tf.uint8)\n",
    "        inputs = tf.cast(inputs, tf.float32)\n",
    "        inputs = (255.0 - inputs) / 255.0\n",
    "        inputs = tf.reshape(inputs, [-1, 28, 28])\n",
    "        return inputs\n",
    "\n",
    "    @tf.function\n",
    "    def predict_image(self, inputs):\n",
    "        inputs = self.image_bytes2tensor(inputs)\n",
    "        return self(inputs)\n",
    "    \n",
    "    def call(self, inputs):\n",
    "        return self.cnn(inputs)\n"
   ]
  },
  {
   "cell_type": "markdown",
   "metadata": {},
   "source": [
    "## test the image preprocessing"
   ]
  },
  {
   "cell_type": "code",
   "execution_count": 4,
   "metadata": {},
   "outputs": [
    {
     "name": "stdout",
     "output_type": "stream",
     "text": [
      "Ankle boot\n"
     ]
    },
    {
     "data": {
      "image/png": "[encoded data removed]",
      "text/plain": [
       "<Figure size 432x288 with 1 Axes>"
      ]
     },
     "metadata": {
      "needs_background": "light"
     },
     "output_type": "display_data"
    }
   ],
   "source": [
    "# pick up a test image\n",
    "d_test_img = _test_images[0]\n",
    "print(class_names[test_labels[0]])\n",
    "\n",
    "plt.imshow(255.0 - d_test_img, cmap='gray')\n",
    "plt.imsave(\"test.png\", 255.0 - d_test_img, cmap='gray')\n",
    "\n",
    "# read bytes\n",
    "with open(\"test.png\", \"rb\") as f:\n",
    "    img_bytes = f.read()\n",
    "\n",
    "# verify saved image\n",
    "assert tf.reduce_mean(FashionMnist.image_bytes2tensor(tf.constant([img_bytes])) - d_test_img) < 0.01"
   ]
  },
  {
   "cell_type": "markdown",
   "metadata": {
    "colab": {},
    "colab_type": "code",
    "id": "9ODch-OFCaW4"
   },
   "source": [
    "## train the model\n"
   ]
  },
  {
   "cell_type": "code",
   "execution_count": 5,
   "metadata": {
    "colab": {},
    "colab_type": "code",
    "id": "Lhan11blCaW7"
   },
   "outputs": [
    {
     "name": "stdout",
     "output_type": "stream",
     "text": [
      "Train on 60000 samples\n",
      "60000/60000 [==============================] - 7s 123us/sample - loss: 0.5046 - accuracy: 0.8245\n"
     ]
    },
    {
     "data": {
      "text/plain": [
       "<tensorflow.python.keras.callbacks.History at 0x7f0e682e2450>"
      ]
     },
     "execution_count": 5,
     "metadata": {},
     "output_type": "execute_result"
    }
   ],
   "source": [
    "model = FashionMnist()\n",
    "model.compile(optimizer='adam',\n",
    "              loss='sparse_categorical_crossentropy',\n",
    "              metrics=['accuracy'])\n",
    "model.fit(train_images, train_labels, epochs=1)"
   ]
  },
  {
   "cell_type": "markdown",
   "metadata": {},
   "source": [
    "## test the model"
   ]
  },
  {
   "cell_type": "code",
   "execution_count": 6,
   "metadata": {},
   "outputs": [
    {
     "data": {
      "text/plain": [
       "'Ankle boot'"
      ]
     },
     "execution_count": 6,
     "metadata": {},
     "output_type": "execute_result"
    }
   ],
   "source": [
    "predict = model.predict_image(tf.constant([img_bytes]))\n",
    "klass = tf.argmax(predict, axis=1)[0]\n",
    "class_names[klass]"
   ]
  },
  {
   "cell_type": "markdown",
   "metadata": {
    "colab_type": "text",
    "id": "YFc2HbEVCaXd"
   },
   "source": [
    "And the model predicts a label as expected."
   ]
  },
  {
   "cell_type": "markdown",
   "metadata": {},
   "source": [
    "# Define & save bentoml servicer"
   ]
  },
  {
   "cell_type": "code",
   "execution_count": 7,
   "metadata": {},
   "outputs": [
    {
     "name": "stdout",
     "output_type": "stream",
     "text": [
      "Overwriting tensorflow_fashion_mnist.py\n"
     ]
    }
   ],
   "source": [
    "%%writefile tensorflow_fashion_mnist.py\n",
    "\n",
    "import bentoml\n",
    "import tensorflow as tf\n",
    "import numpy as np\n",
    "from PIL import Image\n",
    "\n",
    "from bentoml.artifact import (\n",
    "    TensorflowSavedModelArtifact,\n",
    ")\n",
    "from bentoml.handlers import TensorflowTensorHandler\n",
    "\n",
    "\n",
    "FASHION_MNIST_CLASSES = ['T-shirt/top', 'Trouser', 'Pullover', 'Dress', 'Coat',\n",
    "               'Sandal', 'Shirt', 'Sneaker', 'Bag', 'Ankle boot']\n",
    "\n",
    "\n",
    "@bentoml.env(pip_dependencies=['tensorflow', 'numpy'])\n",
    "@bentoml.artifacts([TensorflowSavedModelArtifact('model')])\n",
    "class FashionMNISTServicer(bentoml.BentoService):\n",
    "\n",
    "    @bentoml.api(TensorflowTensorHandler)\n",
    "    def predict(self, inputs):\n",
    "        outputs = self.artifacts.model.predict_image(inputs)\n",
    "        output_classes = tf.math.argmax(outputs, axis=1)\n",
    "        return FASHION_MNIST_CLASSES[output_classes[0]]\n"
   ]
  },
  {
   "cell_type": "code",
   "execution_count": 9,
   "metadata": {
    "scrolled": true
   },
   "outputs": [
    {
     "name": "stdout",
     "output_type": "stream",
     "text": [
      "[2019-12-21 13:43:09,301] WARNING - BentoML local changes detected - Local BentoML repository including all code changes will be bundled together with the BentoService bundle. When used with docker, the base docker image will be default to same version as last PyPI release at version: 0.5.2. You can also force bentoml to use a specific version for deploying your BentoService bundle, by setting the config 'core/bentoml_deploy_version' to a pinned version or your custom BentoML on github, e.g.:'bentoml_deploy_version = git+https://github.com/{username}/bentoml.git@{branch}'\n",
      "[2019-12-21 13:43:10,783] WARNING - BentoML local changes detected - Local BentoML repository including all code changes will be bundled together with the BentoService bundle. When used with docker, the base docker image will be default to same version as last PyPI release at version: 0.5.2. You can also force bentoml to use a specific version for deploying your BentoService bundle, by setting the config 'core/bentoml_deploy_version' to a pinned version or your custom BentoML on github, e.g.:'bentoml_deploy_version = git+https://github.com/{username}/bentoml.git@{branch}'\n",
      "INFO:tensorflow:Assets written to: /tmp/bentoml-temp-1yfqd2k3/FashionMNISTServicer/artifacts/model_saved_model/assets\n",
      "[2019-12-21 13:43:19,708] WARNING - BentoML local changes detected - Local BentoML repository including all code changes will be bundled together with the BentoService bundle. When used with docker, the base docker image will be default to same version as last PyPI release at version: 0.5.2. You can also force bentoml to use a specific version for deploying your BentoService bundle, by setting the config 'core/bentoml_deploy_version' to a pinned version or your custom BentoML on github, e.g.:'bentoml_deploy_version = git+https://github.com/{username}/bentoml.git@{branch}'\n",
      "running sdist\n",
      "running egg_info\n",
      "writing BentoML.egg-info/PKG-INFO\n",
      "writing dependency_links to BentoML.egg-info/dependency_links.txt\n",
      "writing entry points to BentoML.egg-info/entry_points.txt\n",
      "writing requirements to BentoML.egg-info/requires.txt\n",
      "writing top-level names to BentoML.egg-info/top_level.txt\n",
      "reading manifest file 'BentoML.egg-info/SOURCES.txt'\n",
      "reading manifest template 'MANIFEST.in'\n"
     ]
    },
    {
     "name": "stderr",
     "output_type": "stream",
     "text": [
      "no previously-included directories found matching 'examples'\n",
      "no previously-included directories found matching 'tests'\n",
      "no previously-included directories found matching 'docs'\n",
      "warning: no previously-included files matching '*~' found anywhere in distribution\n",
      "warning: no previously-included files matching '*.pyo' found anywhere in distribution\n",
      "warning: no previously-included files matching '.git' found anywhere in distribution\n",
      "warning: no previously-included files matching '.ipynb_checkpoints' found anywhere in distribution\n",
      "warning: no previously-included files matching '__pycache__' found anywhere in distribution\n"
     ]
    },
    {
     "name": "stdout",
     "output_type": "stream",
     "text": [
      "writing manifest file 'BentoML.egg-info/SOURCES.txt'\n",
      "running check\n"
     ]
    },
    {
     "name": "stderr",
     "output_type": "stream",
     "text": [
      "warning: check: missing meta-data: if 'author' supplied, 'author_email' must be supplied too\n",
      "\n"
     ]
    },
    {
     "name": "stdout",
     "output_type": "stream",
     "text": [
      "creating BentoML-0.5.2+38.g5342a8b\n",
      "creating BentoML-0.5.2+38.g5342a8b/BentoML.egg-info\n",
      "creating BentoML-0.5.2+38.g5342a8b/bentoml\n",
      "creating BentoML-0.5.2+38.g5342a8b/bentoml/artifact\n",
      "creating BentoML-0.5.2+38.g5342a8b/bentoml/bundler\n",
      "creating BentoML-0.5.2+38.g5342a8b/bentoml/cli\n",
      "creating BentoML-0.5.2+38.g5342a8b/bentoml/clipper\n",
      "creating BentoML-0.5.2+38.g5342a8b/bentoml/configuration\n",
      "creating BentoML-0.5.2+38.g5342a8b/bentoml/deployment\n",
      "creating BentoML-0.5.2+38.g5342a8b/bentoml/deployment/aws_lambda\n",
      "creating BentoML-0.5.2+38.g5342a8b/bentoml/deployment/sagemaker\n",
      "creating BentoML-0.5.2+38.g5342a8b/bentoml/handlers\n",
      "creating BentoML-0.5.2+38.g5342a8b/bentoml/migrations\n",
      "creating BentoML-0.5.2+38.g5342a8b/bentoml/migrations/versions\n",
      "creating BentoML-0.5.2+38.g5342a8b/bentoml/proto\n",
      "creating BentoML-0.5.2+38.g5342a8b/bentoml/repository\n",
      "creating BentoML-0.5.2+38.g5342a8b/bentoml/server\n",
      "creating BentoML-0.5.2+38.g5342a8b/bentoml/server/static\n",
      "creating BentoML-0.5.2+38.g5342a8b/bentoml/utils\n",
      "creating BentoML-0.5.2+38.g5342a8b/bentoml/utils/validator\n",
      "creating BentoML-0.5.2+38.g5342a8b/bentoml/yatai\n",
      "copying files to BentoML-0.5.2+38.g5342a8b...\n",
      "copying LICENSE -> BentoML-0.5.2+38.g5342a8b\n",
      "copying MANIFEST.in -> BentoML-0.5.2+38.g5342a8b\n",
      "copying README.md -> BentoML-0.5.2+38.g5342a8b\n",
      "copying setup.cfg -> BentoML-0.5.2+38.g5342a8b\n",
      "copying setup.py -> BentoML-0.5.2+38.g5342a8b\n",
      "copying versioneer.py -> BentoML-0.5.2+38.g5342a8b\n",
      "copying BentoML.egg-info/PKG-INFO -> BentoML-0.5.2+38.g5342a8b/BentoML.egg-info\n",
      "copying BentoML.egg-info/SOURCES.txt -> BentoML-0.5.2+38.g5342a8b/BentoML.egg-info\n",
      "copying BentoML.egg-info/dependency_links.txt -> BentoML-0.5.2+38.g5342a8b/BentoML.egg-info\n",
      "copying BentoML.egg-info/entry_points.txt -> BentoML-0.5.2+38.g5342a8b/BentoML.egg-info\n",
      "copying BentoML.egg-info/requires.txt -> BentoML-0.5.2+38.g5342a8b/BentoML.egg-info\n",
      "copying BentoML.egg-info/top_level.txt -> BentoML-0.5.2+38.g5342a8b/BentoML.egg-info\n",
      "copying bentoml/__init__.py -> BentoML-0.5.2+38.g5342a8b/bentoml\n",
      "copying bentoml/_version.py -> BentoML-0.5.2+38.g5342a8b/bentoml\n",
      "copying bentoml/alembic.ini -> BentoML-0.5.2+38.g5342a8b/bentoml\n",
      "copying bentoml/db.py -> BentoML-0.5.2+38.g5342a8b/bentoml\n",
      "copying bentoml/exceptions.py -> BentoML-0.5.2+38.g5342a8b/bentoml\n",
      "copying bentoml/service.py -> BentoML-0.5.2+38.g5342a8b/bentoml\n",
      "copying bentoml/service_env.py -> BentoML-0.5.2+38.g5342a8b/bentoml\n",
      "copying bentoml/artifact/__init__.py -> BentoML-0.5.2+38.g5342a8b/bentoml/artifact\n",
      "copying bentoml/artifact/artifact.py -> BentoML-0.5.2+38.g5342a8b/bentoml/artifact\n",
      "copying bentoml/artifact/fastai_model_artifact.py -> BentoML-0.5.2+38.g5342a8b/bentoml/artifact\n",
      "copying bentoml/artifact/h2o_model_artifact.py -> BentoML-0.5.2+38.g5342a8b/bentoml/artifact\n",
      "copying bentoml/artifact/keras_model_artifact.py -> BentoML-0.5.2+38.g5342a8b/bentoml/artifact\n",
      "copying bentoml/artifact/lightgbm_model_artifact.py -> BentoML-0.5.2+38.g5342a8b/bentoml/artifact\n",
      "copying bentoml/artifact/pickle_artifact.py -> BentoML-0.5.2+38.g5342a8b/bentoml/artifact\n",
      "copying bentoml/artifact/pytorch_model_artifact.py -> BentoML-0.5.2+38.g5342a8b/bentoml/artifact\n",
      "copying bentoml/artifact/sklearn_model_artifact.py -> BentoML-0.5.2+38.g5342a8b/bentoml/artifact\n",
      "copying bentoml/artifact/text_file_artifact.py -> BentoML-0.5.2+38.g5342a8b/bentoml/artifact\n",
      "copying bentoml/artifact/tf_savedmodel_artifact.py -> BentoML-0.5.2+38.g5342a8b/bentoml/artifact\n",
      "copying bentoml/artifact/xgboost_model_artifact.py -> BentoML-0.5.2+38.g5342a8b/bentoml/artifact\n",
      "copying bentoml/bundler/__init__.py -> BentoML-0.5.2+38.g5342a8b/bentoml/bundler\n",
      "copying bentoml/bundler/bundler.py -> BentoML-0.5.2+38.g5342a8b/bentoml/bundler\n",
      "copying bentoml/bundler/config.py -> BentoML-0.5.2+38.g5342a8b/bentoml/bundler\n",
      "copying bentoml/bundler/loader.py -> BentoML-0.5.2+38.g5342a8b/bentoml/bundler\n",
      "copying bentoml/bundler/py_module_utils.py -> BentoML-0.5.2+38.g5342a8b/bentoml/bundler\n",
      "copying bentoml/bundler/templates.py -> BentoML-0.5.2+38.g5342a8b/bentoml/bundler\n",
      "copying bentoml/bundler/utils.py -> BentoML-0.5.2+38.g5342a8b/bentoml/bundler\n",
      "copying bentoml/cli/__init__.py -> BentoML-0.5.2+38.g5342a8b/bentoml/cli\n",
      "copying bentoml/cli/click_utils.py -> BentoML-0.5.2+38.g5342a8b/bentoml/cli\n",
      "copying bentoml/cli/config.py -> BentoML-0.5.2+38.g5342a8b/bentoml/cli\n",
      "copying bentoml/cli/deployment.py -> BentoML-0.5.2+38.g5342a8b/bentoml/cli\n",
      "copying bentoml/cli/utils.py -> BentoML-0.5.2+38.g5342a8b/bentoml/cli\n",
      "copying bentoml/clipper/__init__.py -> BentoML-0.5.2+38.g5342a8b/bentoml/clipper\n",
      "copying bentoml/configuration/__init__.py -> BentoML-0.5.2+38.g5342a8b/bentoml/configuration\n",
      "copying bentoml/configuration/configparser.py -> BentoML-0.5.2+38.g5342a8b/bentoml/configuration\n",
      "copying bentoml/configuration/default_bentoml.cfg -> BentoML-0.5.2+38.g5342a8b/bentoml/configuration\n",
      "copying bentoml/deployment/__init__.py -> BentoML-0.5.2+38.g5342a8b/bentoml/deployment\n",
      "copying bentoml/deployment/operator.py -> BentoML-0.5.2+38.g5342a8b/bentoml/deployment\n",
      "copying bentoml/deployment/store.py -> BentoML-0.5.2+38.g5342a8b/bentoml/deployment\n",
      "copying bentoml/deployment/utils.py -> BentoML-0.5.2+38.g5342a8b/bentoml/deployment\n",
      "copying bentoml/deployment/aws_lambda/__init__.py -> BentoML-0.5.2+38.g5342a8b/bentoml/deployment/aws_lambda\n",
      "copying bentoml/deployment/aws_lambda/download_extra_resources.py -> BentoML-0.5.2+38.g5342a8b/bentoml/deployment/aws_lambda\n",
      "copying bentoml/deployment/aws_lambda/lambda_app.py -> BentoML-0.5.2+38.g5342a8b/bentoml/deployment/aws_lambda\n",
      "copying bentoml/deployment/aws_lambda/utils.py -> BentoML-0.5.2+38.g5342a8b/bentoml/deployment/aws_lambda\n",
      "copying bentoml/deployment/sagemaker/__init__.py -> BentoML-0.5.2+38.g5342a8b/bentoml/deployment/sagemaker\n",
      "copying bentoml/deployment/sagemaker/templates.py -> BentoML-0.5.2+38.g5342a8b/bentoml/deployment/sagemaker\n",
      "copying bentoml/handlers/__init__.py -> BentoML-0.5.2+38.g5342a8b/bentoml/handlers\n",
      "copying bentoml/handlers/base_handlers.py -> BentoML-0.5.2+38.g5342a8b/bentoml/handlers\n",
      "copying bentoml/handlers/clipper_handler.py -> BentoML-0.5.2+38.g5342a8b/bentoml/handlers\n",
      "copying bentoml/handlers/dataframe_handler.py -> BentoML-0.5.2+38.g5342a8b/bentoml/handlers\n",
      "copying bentoml/handlers/fastai_image_handler.py -> BentoML-0.5.2+38.g5342a8b/bentoml/handlers\n",
      "copying bentoml/handlers/image_handler.py -> BentoML-0.5.2+38.g5342a8b/bentoml/handlers\n",
      "copying bentoml/handlers/json_handler.py -> BentoML-0.5.2+38.g5342a8b/bentoml/handlers\n",
      "copying bentoml/handlers/pytorch_tensor_handler.py -> BentoML-0.5.2+38.g5342a8b/bentoml/handlers\n",
      "copying bentoml/handlers/tensorflow_tensor_handler.py -> BentoML-0.5.2+38.g5342a8b/bentoml/handlers\n",
      "copying bentoml/handlers/utils.py -> BentoML-0.5.2+38.g5342a8b/bentoml/handlers\n",
      "copying bentoml/migrations/README -> BentoML-0.5.2+38.g5342a8b/bentoml/migrations\n",
      "copying bentoml/migrations/env.py -> BentoML-0.5.2+38.g5342a8b/bentoml/migrations\n",
      "copying bentoml/migrations/script.py.mako -> BentoML-0.5.2+38.g5342a8b/bentoml/migrations\n",
      "copying bentoml/migrations/versions/a6b00ae45279_add_last_updated_at_for_deployments.py -> BentoML-0.5.2+38.g5342a8b/bentoml/migrations/versions\n",
      "copying bentoml/proto/__init__.py -> BentoML-0.5.2+38.g5342a8b/bentoml/proto\n",
      "copying bentoml/proto/deployment_pb2.py -> BentoML-0.5.2+38.g5342a8b/bentoml/proto\n",
      "copying bentoml/proto/repository_pb2.py -> BentoML-0.5.2+38.g5342a8b/bentoml/proto\n",
      "copying bentoml/proto/status_pb2.py -> BentoML-0.5.2+38.g5342a8b/bentoml/proto\n",
      "copying bentoml/proto/yatai_service_pb2.py -> BentoML-0.5.2+38.g5342a8b/bentoml/proto\n",
      "copying bentoml/proto/yatai_service_pb2_grpc.py -> BentoML-0.5.2+38.g5342a8b/bentoml/proto\n",
      "copying bentoml/repository/__init__.py -> BentoML-0.5.2+38.g5342a8b/bentoml/repository\n",
      "copying bentoml/repository/metadata_store.py -> BentoML-0.5.2+38.g5342a8b/bentoml/repository\n",
      "copying bentoml/server/__init__.py -> BentoML-0.5.2+38.g5342a8b/bentoml/server\n",
      "copying bentoml/server/bento_api_server.py -> BentoML-0.5.2+38.g5342a8b/bentoml/server\n",
      "copying bentoml/server/bento_sagemaker_server.py -> BentoML-0.5.2+38.g5342a8b/bentoml/server\n",
      "copying bentoml/server/gunicorn_config.py -> BentoML-0.5.2+38.g5342a8b/bentoml/server\n",
      "copying bentoml/server/gunicorn_server.py -> BentoML-0.5.2+38.g5342a8b/bentoml/server\n",
      "copying bentoml/server/middlewares.py -> BentoML-0.5.2+38.g5342a8b/bentoml/server\n",
      "copying bentoml/server/utils.py -> BentoML-0.5.2+38.g5342a8b/bentoml/server\n",
      "copying bentoml/server/static/swagger-ui-bundle.js -> BentoML-0.5.2+38.g5342a8b/bentoml/server/static\n",
      "copying bentoml/server/static/swagger-ui.css -> BentoML-0.5.2+38.g5342a8b/bentoml/server/static\n",
      "copying bentoml/utils/__init__.py -> BentoML-0.5.2+38.g5342a8b/bentoml/utils\n",
      "copying bentoml/utils/cloudpickle.py -> BentoML-0.5.2+38.g5342a8b/bentoml/utils\n",
      "copying bentoml/utils/hybirdmethod.py -> BentoML-0.5.2+38.g5342a8b/bentoml/utils\n",
      "copying bentoml/utils/log.py -> BentoML-0.5.2+38.g5342a8b/bentoml/utils\n",
      "copying bentoml/utils/s3.py -> BentoML-0.5.2+38.g5342a8b/bentoml/utils\n",
      "copying bentoml/utils/tempdir.py -> BentoML-0.5.2+38.g5342a8b/bentoml/utils\n",
      "copying bentoml/utils/usage_stats.py -> BentoML-0.5.2+38.g5342a8b/bentoml/utils\n",
      "copying bentoml/utils/validator/__init__.py -> BentoML-0.5.2+38.g5342a8b/bentoml/utils/validator\n",
      "copying bentoml/yatai/__init__.py -> BentoML-0.5.2+38.g5342a8b/bentoml/yatai\n",
      "copying bentoml/yatai/deployment_utils.py -> BentoML-0.5.2+38.g5342a8b/bentoml/yatai\n",
      "copying bentoml/yatai/python_api.py -> BentoML-0.5.2+38.g5342a8b/bentoml/yatai\n",
      "copying bentoml/yatai/status.py -> BentoML-0.5.2+38.g5342a8b/bentoml/yatai\n",
      "copying bentoml/yatai/yatai_service_impl.py -> BentoML-0.5.2+38.g5342a8b/bentoml/yatai\n",
      "Writing BentoML-0.5.2+38.g5342a8b/setup.cfg\n",
      "UPDATING BentoML-0.5.2+38.g5342a8b/bentoml/_version.py\n",
      "set BentoML-0.5.2+38.g5342a8b/bentoml/_version.py to '0.5.2+38.g5342a8b'\n",
      "Creating tar archive\n",
      "removing 'BentoML-0.5.2+38.g5342a8b' (and everything under it)\n",
      "[2019-12-21 13:43:20,447] INFO - BentoService bundle 'FashionMNISTServicer:20191221134309_BD2B31' created at: /tmp/bentoml-temp-1yfqd2k3\n",
      "[2019-12-21 13:43:20,449] WARNING - BentoML local changes detected - Local BentoML repository including all code changes will be bundled together with the BentoService bundle. When used with docker, the base docker image will be default to same version as last PyPI release at version: 0.5.2. You can also force bentoml to use a specific version for deploying your BentoService bundle, by setting the config 'core/bentoml_deploy_version' to a pinned version or your custom BentoML on github, e.g.:'bentoml_deploy_version = git+https://github.com/{username}/bentoml.git@{branch}'\n",
      "[2019-12-21 13:43:20,459] WARNING - Saved BentoService bundle version mismatch: loading BentoServie bundle create with BentoML version 0.5.2,  but loading from BentoML version 0.5.2+38.g5342a8b\n",
      "[2019-12-21 13:43:20,483] INFO - BentoService bundle 'FashionMNISTServicer:20191221134309_BD2B31' created at: /home/bentoml/bentoml/repository/FashionMNISTServicer/20191221134309_BD2B31\n"
     ]
    }
   ],
   "source": [
    "from tensorflow_fashion_mnist import FashionMNISTServicer\n",
    "\n",
    "bento_svc = FashionMNISTServicer()\n",
    "bento_svc.pack(\"model\", model)\n",
    "saved_path = bento_svc.save()\n"
   ]
  },
  {
   "cell_type": "markdown",
   "metadata": {},
   "source": [
    "# Serve bentoml REST server locally"
   ]
  },
  {
   "cell_type": "code",
   "execution_count": null,
   "metadata": {},
   "outputs": [],
   "source": [
    "!/opt/anaconda3/envs/bentoml-dev/bin/bentoml serve {saved_path} --port 8890"
   ]
  },
  {
   "cell_type": "markdown",
   "metadata": {},
   "source": [
    "## query REST API with python"
   ]
  },
  {
   "cell_type": "code",
   "execution_count": 26,
   "metadata": {},
   "outputs": [
    {
     "name": "stdout",
     "output_type": "stream",
     "text": [
      "Data: {\"instances\": [{\"b64\": \"iVBORw0KGgoAAAANSUhEUgAAAB ... ufkz8DPG//sD/AX8I8DvdgnOxdB4B1wAAAAASUVORK5CYII=\"}]}\n",
      "<Response [200]>\n",
      "{\"predictions\": \"Ankle boot\"}\n"
     ]
    }
   ],
   "source": [
    "import base64\n",
    "import json\n",
    "import requests\n",
    "\n",
    "with open(\"test.png\", \"rb\") as f:\n",
    "    img_bytes = f.read()\n",
    "img_b64 = base64.b64encode(img_bytes).decode()\n",
    "\n",
    "\n",
    "headers = {\"content-type\": \"application/json\"}\n",
    "data = json.dumps(\n",
    "       {\"instances\": [{\"b64\": img_b64}]}\n",
    ")\n",
    "print('Data: {} ... {}'.format(data[:50], data[len(data)-52:]))\n",
    "\n",
    "json_response = requests.post(f'http://localhost:8890/predict', data=data, headers=headers)\n",
    "print(json_response)\n",
    "print(json_response.text)"
   ]
  },
  {
   "cell_type": "code",
   "execution_count": null,
   "metadata": {},
   "outputs": [],
   "source": []
  },
  {
   "cell_type": "markdown",
   "metadata": {},
   "source": [
    "# CLI access\n",
    "\n",
    "`pip install $SAVED_PATH` also installs a CLI tool for accessing the BentoML service"
   ]
  },
  {
   "cell_type": "code",
   "execution_count": 22,
   "metadata": {},
   "outputs": [
    {
     "name": "stdout",
     "output_type": "stream",
     "text": [
      "/opt/anaconda3/envs/bentoml-dev/bin/pip\n"
     ]
    }
   ],
   "source": [
    "import os\n",
    "import sys\n",
    "\n",
    "kernel_path = f\"{sys.exec_prefix}/bin\"\n",
    "local_path = f\"{os.environ['HOME']}/.local/bin\"\n",
    "\n",
    "if kernel_path not in os.environ['PATH']:\n",
    "    os.environ['PATH'] = f\"{kernel_path}:{os.environ['PATH']}\"\n",
    "\n",
    "if local_path not in os.environ['PATH']:\n",
    "    os.environ['PATH'] = f\"{local_path}:{os.environ['PATH']}\"\n",
    "\n",
    "!which pip"
   ]
  },
  {
   "cell_type": "code",
   "execution_count": 18,
   "metadata": {
    "scrolled": true
   },
   "outputs": [
    {
     "name": "stdout",
     "output_type": "stream",
     "text": [
      "Processing /home/bentoml/bentoml/repository/FashionMNISTServicer/20191221134309_BD2B31\n",
      "Requirement already satisfied: bentoml==0.5.2 in /home/bentoml/BentoML (from FashionMNISTServicer===20191221134309-BD2B31) (0.5.2+38.g5342a8b)\n",
      "Requirement already satisfied: tensorflow in /opt/anaconda3/envs/bentoml-dev/lib/python3.7/site-packages (from FashionMNISTServicer===20191221134309-BD2B31) (2.0.0)\n",
      "Requirement already satisfied: numpy in /opt/anaconda3/envs/bentoml-dev/lib/python3.7/site-packages (from FashionMNISTServicer===20191221134309-BD2B31) (1.17.3)\n",
      "Requirement already satisfied: ruamel.yaml>=0.15.0 in /home/bentoml/.local/lib/python3.7/site-packages (from bentoml==0.5.2->FashionMNISTServicer===20191221134309-BD2B31) (0.16.5)\n",
      "Requirement already satisfied: flask in /opt/anaconda3/envs/bentoml-dev/lib/python3.7/site-packages (from bentoml==0.5.2->FashionMNISTServicer===20191221134309-BD2B31) (1.1.1)\n",
      "Requirement already satisfied: gunicorn in /home/bentoml/.local/lib/python3.7/site-packages (from bentoml==0.5.2->FashionMNISTServicer===20191221134309-BD2B31) (20.0.4)\n",
      "Requirement already satisfied: click>=7.0 in /opt/anaconda3/envs/bentoml-dev/lib/python3.7/site-packages (from bentoml==0.5.2->FashionMNISTServicer===20191221134309-BD2B31) (7.0)\n",
      "Requirement already satisfied: pandas in /opt/anaconda3/envs/bentoml-dev/lib/python3.7/site-packages (from bentoml==0.5.2->FashionMNISTServicer===20191221134309-BD2B31) (0.25.3)\n",
      "Requirement already satisfied: prometheus_client in /opt/anaconda3/envs/bentoml-dev/lib/python3.7/site-packages (from bentoml==0.5.2->FashionMNISTServicer===20191221134309-BD2B31) (0.7.1)\n",
      "Requirement already satisfied: python-json-logger in /home/bentoml/.local/lib/python3.7/site-packages (from bentoml==0.5.2->FashionMNISTServicer===20191221134309-BD2B31) (0.1.11)\n",
      "Requirement already satisfied: boto3 in /home/bentoml/.local/lib/python3.7/site-packages (from bentoml==0.5.2->FashionMNISTServicer===20191221134309-BD2B31) (1.10.28)\n",
      "Requirement already satisfied: requests in /opt/anaconda3/envs/bentoml-dev/lib/python3.7/site-packages (from bentoml==0.5.2->FashionMNISTServicer===20191221134309-BD2B31) (2.22.0)\n",
      "Requirement already satisfied: packaging in /opt/anaconda3/envs/bentoml-dev/lib/python3.7/site-packages (from bentoml==0.5.2->FashionMNISTServicer===20191221134309-BD2B31) (19.2)\n",
      "Requirement already satisfied: docker in /home/bentoml/.local/lib/python3.7/site-packages (from bentoml==0.5.2->FashionMNISTServicer===20191221134309-BD2B31) (4.1.0)\n",
      "Requirement already satisfied: configparser in /home/bentoml/.local/lib/python3.7/site-packages (from bentoml==0.5.2->FashionMNISTServicer===20191221134309-BD2B31) (4.0.2)\n",
      "Requirement already satisfied: sqlalchemy>=1.3.0 in /opt/anaconda3/envs/bentoml-dev/lib/python3.7/site-packages (from bentoml==0.5.2->FashionMNISTServicer===20191221134309-BD2B31) (1.3.11)\n",
      "Requirement already satisfied: protobuf>=3.6.0 in /opt/anaconda3/envs/bentoml-dev/lib/python3.7/site-packages (from bentoml==0.5.2->FashionMNISTServicer===20191221134309-BD2B31) (3.11.0)\n",
      "Requirement already satisfied: grpcio in /opt/anaconda3/envs/bentoml-dev/lib/python3.7/site-packages (from bentoml==0.5.2->FashionMNISTServicer===20191221134309-BD2B31) (1.16.1)\n",
      "Requirement already satisfied: cerberus in /home/bentoml/.local/lib/python3.7/site-packages (from bentoml==0.5.2->FashionMNISTServicer===20191221134309-BD2B31) (1.3.2)\n",
      "Requirement already satisfied: tabulate in /home/bentoml/.local/lib/python3.7/site-packages (from bentoml==0.5.2->FashionMNISTServicer===20191221134309-BD2B31) (0.8.6)\n",
      "Requirement already satisfied: humanfriendly in /home/bentoml/.local/lib/python3.7/site-packages (from bentoml==0.5.2->FashionMNISTServicer===20191221134309-BD2B31) (4.18)\n",
      "Requirement already satisfied: alembic in /home/bentoml/.local/lib/python3.7/site-packages (from bentoml==0.5.2->FashionMNISTServicer===20191221134309-BD2B31) (1.3.1)\n",
      "Requirement already satisfied: python-dateutil<2.8.1,>=2.1 in /opt/anaconda3/envs/bentoml-dev/lib/python3.7/site-packages (from bentoml==0.5.2->FashionMNISTServicer===20191221134309-BD2B31) (2.8.0)\n",
      "Requirement already satisfied: tensorflow-estimator<2.1.0,>=2.0.0 in /opt/anaconda3/envs/bentoml-dev/lib/python3.7/site-packages (from tensorflow->FashionMNISTServicer===20191221134309-BD2B31) (2.0.0)\n",
      "Requirement already satisfied: keras-preprocessing>=1.0.5 in /opt/anaconda3/envs/bentoml-dev/lib/python3.7/site-packages (from tensorflow->FashionMNISTServicer===20191221134309-BD2B31) (1.1.0)\n",
      "Requirement already satisfied: termcolor>=1.1.0 in /opt/anaconda3/envs/bentoml-dev/lib/python3.7/site-packages (from tensorflow->FashionMNISTServicer===20191221134309-BD2B31) (1.1.0)\n",
      "Requirement already satisfied: opt-einsum>=2.3.2 in /opt/anaconda3/envs/bentoml-dev/lib/python3.7/site-packages (from tensorflow->FashionMNISTServicer===20191221134309-BD2B31) (3.1.0)\n",
      "Requirement already satisfied: six>=1.10.0 in /opt/anaconda3/envs/bentoml-dev/lib/python3.7/site-packages (from tensorflow->FashionMNISTServicer===20191221134309-BD2B31) (1.13.0)\n",
      "Requirement already satisfied: absl-py>=0.7.0 in /opt/anaconda3/envs/bentoml-dev/lib/python3.7/site-packages (from tensorflow->FashionMNISTServicer===20191221134309-BD2B31) (0.8.1)\n",
      "Requirement already satisfied: tensorboard<2.1.0,>=2.0.0 in /opt/anaconda3/envs/bentoml-dev/lib/python3.7/site-packages (from tensorflow->FashionMNISTServicer===20191221134309-BD2B31) (2.0.0)\n",
      "Requirement already satisfied: google-pasta>=0.1.6 in /opt/anaconda3/envs/bentoml-dev/lib/python3.7/site-packages (from tensorflow->FashionMNISTServicer===20191221134309-BD2B31) (0.1.8)\n",
      "Requirement already satisfied: gast==0.2.2 in /opt/anaconda3/envs/bentoml-dev/lib/python3.7/site-packages (from tensorflow->FashionMNISTServicer===20191221134309-BD2B31) (0.2.2)\n",
      "Requirement already satisfied: astor>=0.6.0 in /opt/anaconda3/envs/bentoml-dev/lib/python3.7/site-packages (from tensorflow->FashionMNISTServicer===20191221134309-BD2B31) (0.8.0)\n",
      "Requirement already satisfied: keras-applications>=1.0.8 in /opt/anaconda3/envs/bentoml-dev/lib/python3.7/site-packages (from tensorflow->FashionMNISTServicer===20191221134309-BD2B31) (1.0.8)\n",
      "Requirement already satisfied: wheel>=0.26 in /opt/anaconda3/envs/bentoml-dev/lib/python3.7/site-packages (from tensorflow->FashionMNISTServicer===20191221134309-BD2B31) (0.33.6)\n",
      "Requirement already satisfied: wrapt>=1.11.1 in /opt/anaconda3/envs/bentoml-dev/lib/python3.7/site-packages (from tensorflow->FashionMNISTServicer===20191221134309-BD2B31) (1.11.2)\n",
      "Requirement already satisfied: ruamel.yaml.clib>=0.1.2; platform_python_implementation == \"CPython\" and python_version < \"3.8\" in /home/bentoml/.local/lib/python3.7/site-packages (from ruamel.yaml>=0.15.0->bentoml==0.5.2->FashionMNISTServicer===20191221134309-BD2B31) (0.2.0)\n",
      "Requirement already satisfied: Werkzeug>=0.15 in /opt/anaconda3/envs/bentoml-dev/lib/python3.7/site-packages (from flask->bentoml==0.5.2->FashionMNISTServicer===20191221134309-BD2B31) (0.16.0)\n",
      "Requirement already satisfied: itsdangerous>=0.24 in /opt/anaconda3/envs/bentoml-dev/lib/python3.7/site-packages (from flask->bentoml==0.5.2->FashionMNISTServicer===20191221134309-BD2B31) (1.1.0)\n",
      "Requirement already satisfied: Jinja2>=2.10.1 in /opt/anaconda3/envs/bentoml-dev/lib/python3.7/site-packages (from flask->bentoml==0.5.2->FashionMNISTServicer===20191221134309-BD2B31) (2.10.3)\n",
      "Requirement already satisfied: setuptools>=3.0 in /opt/anaconda3/envs/bentoml-dev/lib/python3.7/site-packages (from gunicorn->bentoml==0.5.2->FashionMNISTServicer===20191221134309-BD2B31) (42.0.1.post20191125)\n",
      "Requirement already satisfied: pytz>=2017.2 in /opt/anaconda3/envs/bentoml-dev/lib/python3.7/site-packages (from pandas->bentoml==0.5.2->FashionMNISTServicer===20191221134309-BD2B31) (2019.3)\n",
      "Requirement already satisfied: botocore<1.14.0,>=1.13.28 in /home/bentoml/.local/lib/python3.7/site-packages (from boto3->bentoml==0.5.2->FashionMNISTServicer===20191221134309-BD2B31) (1.13.28)\n",
      "Requirement already satisfied: jmespath<1.0.0,>=0.7.1 in /home/bentoml/.local/lib/python3.7/site-packages (from boto3->bentoml==0.5.2->FashionMNISTServicer===20191221134309-BD2B31) (0.9.4)\n",
      "Requirement already satisfied: s3transfer<0.3.0,>=0.2.0 in /home/bentoml/.local/lib/python3.7/site-packages (from boto3->bentoml==0.5.2->FashionMNISTServicer===20191221134309-BD2B31) (0.2.1)\n",
      "Requirement already satisfied: chardet<3.1.0,>=3.0.2 in /opt/anaconda3/envs/bentoml-dev/lib/python3.7/site-packages (from requests->bentoml==0.5.2->FashionMNISTServicer===20191221134309-BD2B31) (3.0.4)\n",
      "Requirement already satisfied: urllib3!=1.25.0,!=1.25.1,<1.26,>=1.21.1 in /opt/anaconda3/envs/bentoml-dev/lib/python3.7/site-packages (from requests->bentoml==0.5.2->FashionMNISTServicer===20191221134309-BD2B31) (1.25.7)\n",
      "Requirement already satisfied: certifi>=2017.4.17 in /opt/anaconda3/envs/bentoml-dev/lib/python3.7/site-packages (from requests->bentoml==0.5.2->FashionMNISTServicer===20191221134309-BD2B31) (2019.11.28)\n",
      "Requirement already satisfied: idna<2.9,>=2.5 in /opt/anaconda3/envs/bentoml-dev/lib/python3.7/site-packages (from requests->bentoml==0.5.2->FashionMNISTServicer===20191221134309-BD2B31) (2.8)\n",
      "Requirement already satisfied: pyparsing>=2.0.2 in /opt/anaconda3/envs/bentoml-dev/lib/python3.7/site-packages (from packaging->bentoml==0.5.2->FashionMNISTServicer===20191221134309-BD2B31) (2.4.5)\n",
      "Requirement already satisfied: websocket-client>=0.32.0 in /home/bentoml/.local/lib/python3.7/site-packages (from docker->bentoml==0.5.2->FashionMNISTServicer===20191221134309-BD2B31) (0.56.0)\n",
      "Requirement already satisfied: Mako in /home/bentoml/.local/lib/python3.7/site-packages (from alembic->bentoml==0.5.2->FashionMNISTServicer===20191221134309-BD2B31) (1.1.0)\n",
      "Requirement already satisfied: python-editor>=0.3 in /home/bentoml/.local/lib/python3.7/site-packages (from alembic->bentoml==0.5.2->FashionMNISTServicer===20191221134309-BD2B31) (1.0.4)\n",
      "Requirement already satisfied: markdown>=2.6.8 in /opt/anaconda3/envs/bentoml-dev/lib/python3.7/site-packages (from tensorboard<2.1.0,>=2.0.0->tensorflow->FashionMNISTServicer===20191221134309-BD2B31) (3.1.1)\n",
      "Requirement already satisfied: h5py in /opt/anaconda3/envs/bentoml-dev/lib/python3.7/site-packages (from keras-applications>=1.0.8->tensorflow->FashionMNISTServicer===20191221134309-BD2B31) (2.9.0)\n",
      "Requirement already satisfied: MarkupSafe>=0.23 in /opt/anaconda3/envs/bentoml-dev/lib/python3.7/site-packages (from Jinja2>=2.10.1->flask->bentoml==0.5.2->FashionMNISTServicer===20191221134309-BD2B31) (1.1.1)\n",
      "Requirement already satisfied: docutils<0.16,>=0.10 in /opt/anaconda3/envs/bentoml-dev/lib/python3.7/site-packages (from botocore<1.14.0,>=1.13.28->boto3->bentoml==0.5.2->FashionMNISTServicer===20191221134309-BD2B31) (0.15.2)\n",
      "Building wheels for collected packages: FashionMNISTServicer\n",
      "  Building wheel for FashionMNISTServicer (setup.py) ... \u001b[?25ldone\n",
      "\u001b[?25h  Created wheel for FashionMNISTServicer: filename=FashionMNISTServicer-20191221134309_BD2B31-cp37-none-any.whl size=1155660 sha256=664fc137a421bf424de195ab46dc0e907c9ceaea6afbfcd000ec7f0bcc527d6d\n",
      "  Stored in directory: /tmp/pip-ephem-wheel-cache-sqcu33m2/wheels/e1/23/51/46fbaa2a547f141bbbb2ecdeb7e13398141d08fae81095893e\n",
      "Successfully built FashionMNISTServicer\n",
      "Installing collected packages: FashionMNISTServicer\n",
      "  Found existing installation: FashionMNISTServicer 20191221134309-BD2B31\n",
      "    Uninstalling FashionMNISTServicer-20191221134309-BD2B31:\n",
      "      Successfully uninstalled FashionMNISTServicer-20191221134309-BD2B31\n",
      "\u001b[33m  WARNING: The script FashionMNISTServicer is installed in '/home/bentoml/.local/bin' which is not on PATH.\n",
      "  Consider adding this directory to PATH or, if you prefer to suppress this warning, use --no-warn-script-location.\u001b[0m\n",
      "Successfully installed FashionMNISTServicer-20191221134309-BD2B31\n"
     ]
    }
   ],
   "source": [
    "!pip install --user {saved_path}"
   ]
  },
  {
   "cell_type": "code",
   "execution_count": 23,
   "metadata": {},
   "outputs": [
    {
     "name": "stdout",
     "output_type": "stream",
     "text": [
      "[2019-12-21 13:51:58,980] WARNING - BentoML local changes detected - Local BentoML repository including all code changes will be bundled together with the BentoService bundle. When used with docker, the base docker image will be default to same version as last PyPI release at version: 0.5.2. You can also force bentoml to use a specific version for deploying your BentoService bundle, by setting the config 'core/bentoml_deploy_version' to a pinned version or your custom BentoML on github, e.g.:'bentoml_deploy_version = git+https://github.com/{username}/bentoml.git@{branch}'\n",
      "[2019-12-21 13:51:58,990] WARNING - Saved BentoService bundle version mismatch: loading BentoServie bundle create with BentoML version 0.5.2,  but loading from BentoML version 0.5.2+38.g5342a8b\n",
      "\u001b[39m{\n",
      "  \"name\": \"FashionMNISTServicer\",\n",
      "  \"version\": \"20191221134309_BD2B31\",\n",
      "  \"created_at\": \"2019-12-21T05:43:19.709096Z\",\n",
      "  \"env\": {\n",
      "    \"conda_env\": \"name: bentoml-FashionMNISTServicer\\nchannels:\\n- defaults\\ndependencies:\\n- python=3.7.5\\n- pip\\n\",\n",
      "    \"pip_dependencies\": \"bentoml==0.5.2\\ntensorflow\\nnumpy\",\n",
      "    \"python_version\": \"3.7.5\"\n",
      "  },\n",
      "  \"artifacts\": [\n",
      "    {\n",
      "      \"name\": \"model\",\n",
      "      \"artifact_type\": \"TensorflowSavedModelArtifact\"\n",
      "    }\n",
      "  ],\n",
      "  \"apis\": [\n",
      "    {\n",
      "      \"name\": \"predict\",\n",
      "      \"handler_type\": \"TensorflowTensorHandler\",\n",
      "      \"docs\": \"BentoService API\"\n",
      "    }\n",
      "  ]\n",
      "}\u001b[0m\n"
     ]
    }
   ],
   "source": [
    "!FashionMNISTServicer info"
   ]
  },
  {
   "cell_type": "markdown",
   "metadata": {},
   "source": [
    "### Run 'predict' api with json data:"
   ]
  },
  {
   "cell_type": "code",
   "execution_count": 24,
   "metadata": {},
   "outputs": [
    {
     "name": "stdout",
     "output_type": "stream",
     "text": [
      "[2019-12-21 13:52:09,960] WARNING - BentoML local changes detected - Local BentoML repository including all code changes will be bundled together with the BentoService bundle. When used with docker, the base docker image will be default to same version as last PyPI release at version: 0.5.2. You can also force bentoml to use a specific version for deploying your BentoService bundle, by setting the config 'core/bentoml_deploy_version' to a pinned version or your custom BentoML on github, e.g.:'bentoml_deploy_version = git+https://github.com/{username}/bentoml.git@{branch}'\n",
      "[2019-12-21 13:52:09,969] WARNING - Saved BentoService bundle version mismatch: loading BentoServie bundle create with BentoML version 0.5.2,  but loading from BentoML version 0.5.2+38.g5342a8b\n",
      "[2019-12-21 13:52:09,971] WARNING - BentoML local changes detected - Local BentoML repository including all code changes will be bundled together with the BentoService bundle. When used with docker, the base docker image will be default to same version as last PyPI release at version: 0.5.2. You can also force bentoml to use a specific version for deploying your BentoService bundle, by setting the config 'core/bentoml_deploy_version' to a pinned version or your custom BentoML on github, e.g.:'bentoml_deploy_version = git+https://github.com/{username}/bentoml.git@{branch}'\n",
      "2019-12-21 13:52:10.024698: I tensorflow/core/platform/cpu_feature_guard.cc:145] This TensorFlow binary is optimized with Intel(R) MKL-DNN to use the following CPU instructions in performance critical operations:  SSE4.1 SSE4.2 AVX AVX2 FMA\n",
      "To enable them in non-MKL-DNN operations, rebuild TensorFlow with the appropriate compiler flags.\n",
      "2019-12-21 13:52:10.047979: I tensorflow/core/platform/profile_utils/cpu_utils.cc:94] CPU Frequency: 2712000000 Hz\n",
      "2019-12-21 13:52:10.048294: I tensorflow/compiler/xla/service/service.cc:168] XLA service 0x562b2cd36430 executing computations on platform Host. Devices:\n",
      "2019-12-21 13:52:10.048314: I tensorflow/compiler/xla/service/service.cc:175]   StreamExecutor device (0): Host, Default Version\n",
      "2019-12-21 13:52:10.048780: I tensorflow/core/common_runtime/process_util.cc:115] Creating new thread pool with default inter op setting: 2. Tune using inter_op_parallelism_threads for best performance.\n",
      "[2019-12-21 13:52:10,231] WARNING - BentoML local changes detected - Local BentoML repository including all code changes will be bundled together with the BentoService bundle. When used with docker, the base docker image will be default to same version as last PyPI release at version: 0.5.2. You can also force bentoml to use a specific version for deploying your BentoService bundle, by setting the config 'core/bentoml_deploy_version' to a pinned version or your custom BentoML on github, e.g.:'bentoml_deploy_version = git+https://github.com/{username}/bentoml.git@{branch}'\n",
      "Ankle boot\n"
     ]
    }
   ],
   "source": [
    "!echo '{\\\"instances\\\":[{\\\"b64\\\":\\\"'$(base64 test.png)'\\\"}]}' > test.json\n",
    "!cat test.json | xargs -I {} FashionMNISTServicer predict --input={}"
   ]
  },
  {
   "cell_type": "markdown",
   "metadata": {},
   "source": [
    "# Additional: serve with tf-serving"
   ]
  },
  {
   "cell_type": "code",
   "execution_count": null,
   "metadata": {},
   "outputs": [],
   "source": [
    "TMP_MODEL_DIR = \"/tmp/test-model/\"\n",
    "SERVE_HOST = \"http://localhost:8890\"\n",
    "SERVE_PORT = 8890\n",
    "MODEL_NAME = \"fashion_model\"\n",
    "tf.saved_model.save(model, TMP_MODEL_DIR)\n",
    "!tensorflow_model_server --rest_api_port={SERVE_PORT} --model_name={MODEL_NAME} --model_base_path={TMP_MODEL_DIR}"
   ]
  },
  {
   "cell_type": "code",
   "execution_count": null,
   "metadata": {},
   "outputs": [],
   "source": []
  }
 ],
 "metadata": {
  "colab": {
   "collapsed_sections": [],
   "name": "classification.ipynb",
   "private_outputs": true,
   "provenance": [],
   "toc_visible": true
  },
  "kernelspec": {
   "display_name": "bentoml-dev",
   "language": "python",
   "name": "bentoml-dev"
  },
  "language_info": {
   "codemirror_mode": {
    "name": "ipython",
    "version": 3
   },
   "file_extension": ".py",
   "mimetype": "text/x-python",
   "name": "python",
   "nbconvert_exporter": "python",
   "pygments_lexer": "ipython3",
   "version": "3.7.5"
  }
 },
 "nbformat": 4,
 "nbformat_minor": 4
}
