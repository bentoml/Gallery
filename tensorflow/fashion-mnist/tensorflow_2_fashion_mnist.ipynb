{
 "cells": [
  {
   "cell_type": "markdown",
   "metadata": {
    "colab_type": "text",
    "id": "jYysdyb-CaWM"
   },
   "source": [
    "# Basic classification: Classify images of clothing\n",
    "A tensorflow serving style service example using BentoML\n",
    "\n",
    "\n",
    "![Impression](https://www.google-analytics.com/collect?v=1&tid=UA-112879361-3&cid=555&t=event&ec=tensorflow&ea=tensorflow_2_fashion_mnist&dt=tensorflow_2_fashion_mnist)"
   ]
  },
  {
   "cell_type": "code",
   "execution_count": 2,
   "metadata": {},
   "outputs": [],
   "source": [
    "%reload_ext autoreload\n",
    "%autoreload 2\n",
    "%matplotlib inline"
   ]
  },
  {
   "cell_type": "code",
   "execution_count": 3,
   "metadata": {},
   "outputs": [],
   "source": [
    "!pip install -q bentoml tensorflow matplotlib"
   ]
  },
  {
   "cell_type": "code",
   "execution_count": 1,
   "metadata": {
    "colab": {},
    "colab_type": "code",
    "id": "dzLKpmZICaWN"
   },
   "outputs": [
    {
     "name": "stdout",
     "output_type": "stream",
     "text": [
      "2.1.0\n"
     ]
    }
   ],
   "source": [
    "from __future__ import absolute_import, division, print_function, unicode_literals\n",
    "\n",
    "import io\n",
    "\n",
    "# TensorFlow\n",
    "import tensorflow as tf\n",
    "\n",
    "# Helper libraries\n",
    "import numpy as np\n",
    "import matplotlib.pyplot as plt\n",
    "print(tf.__version__)"
   ]
  },
  {
   "cell_type": "code",
   "execution_count": 2,
   "metadata": {
    "colab": {},
    "colab_type": "code",
    "id": "7MqDQO0KCaWS"
   },
   "outputs": [],
   "source": [
    "fashion_mnist = tf.keras.datasets.fashion_mnist\n",
    "(_train_images, train_labels), (_test_images, test_labels) = fashion_mnist.load_data()\n",
    "class_names = ['T-shirt/top', 'Trouser', 'Pullover', 'Dress', 'Coat',\n",
    "               'Sandal', 'Shirt', 'Sneaker', 'Bag', 'Ankle boot']\n",
    "train_images = _train_images / 255.0\n",
    "test_images = _test_images / 255.0"
   ]
  },
  {
   "cell_type": "code",
   "execution_count": 3,
   "metadata": {},
   "outputs": [],
   "source": [
    "class FashionMnist(tf.keras.Model):\n",
    "    def __init__(self):\n",
    "        super(FashionMnist, self).__init__()\n",
    "        self.cnn = tf.keras.Sequential([\n",
    "            tf.keras.layers.Flatten(input_shape=(28, 28)),\n",
    "            tf.keras.layers.Dense(128, activation='relu'),\n",
    "            tf.keras.layers.Dense(10, activation='softmax')\n",
    "        ])\n",
    "    \n",
    "    @staticmethod\n",
    "    def image_bytes2tensor(inputs):\n",
    "        with tf.device(\"cpu:0\"):  # map_fn has issues on GPU https://github.com/tensorflow/tensorflow/issues/28007\n",
    "            inputs = tf.map_fn(lambda i: tf.io.decode_png(i, channels=1), inputs, dtype=tf.uint8)\n",
    "        inputs = tf.cast(inputs, tf.float32)\n",
    "        inputs = (255.0 - inputs) / 255.0\n",
    "        inputs = tf.reshape(inputs, [-1, 28, 28])\n",
    "        return inputs\n",
    "\n",
    "    @tf.function(input_signature=[tf.TensorSpec(shape=(None,), dtype=tf.string)])\n",
    "    def predict_image(self, inputs):\n",
    "        inputs = self.image_bytes2tensor(inputs)\n",
    "        return self(inputs)\n",
    "    \n",
    "    def call(self, inputs):\n",
    "        return self.cnn(inputs)\n"
   ]
  },
  {
   "cell_type": "markdown",
   "metadata": {},
   "source": [
    "## Build the image preprocessing"
   ]
  },
  {
   "cell_type": "code",
   "execution_count": 4,
   "metadata": {},
   "outputs": [
    {
     "name": "stdout",
     "output_type": "stream",
     "text": [
      "Ankle boot\n"
     ]
    },
    {
     "data": {
      "image/png": "[encoded data removed]",
      "text/plain": [
       "<Figure size 432x288 with 1 Axes>"
      ]
     },
     "metadata": {
      "needs_background": "light"
     },
     "output_type": "display_data"
    }
   ],
   "source": [
    "# pick up a test image\n",
    "d_test_img = _test_images[0]\n",
    "print(class_names[test_labels[0]])\n",
    "\n",
    "plt.imshow(255.0 - d_test_img, cmap='gray')\n",
    "plt.imsave(\"test.png\", 255.0 - d_test_img, cmap='gray')\n",
    "\n",
    "# read bytes\n",
    "with open(\"test.png\", \"rb\") as f:\n",
    "    img_bytes = f.read()\n",
    "\n",
    "# verify saved image\n",
    "assert tf.reduce_mean(FashionMnist.image_bytes2tensor(tf.constant([img_bytes])) - d_test_img) < 0.01"
   ]
  },
  {
   "cell_type": "markdown",
   "metadata": {
    "colab": {},
    "colab_type": "code",
    "id": "9ODch-OFCaW4"
   },
   "source": [
    "## Train the model\n"
   ]
  },
  {
   "cell_type": "code",
   "execution_count": 5,
   "metadata": {
    "colab": {},
    "colab_type": "code",
    "id": "Lhan11blCaW7"
   },
   "outputs": [
    {
     "name": "stdout",
     "output_type": "stream",
     "text": [
      "Train on 60000 samples\n",
      "60000/60000 [==============================] - 4s 59us/sample - loss: 0.5008 - accuracy: 0.8240\n"
     ]
    },
    {
     "data": {
      "text/plain": [
       "<tensorflow.python.keras.callbacks.History at 0x7fcef01ef748>"
      ]
     },
     "execution_count": 5,
     "metadata": {},
     "output_type": "execute_result"
    }
   ],
   "source": [
    "model = FashionMnist()\n",
    "model.compile(optimizer='adam',\n",
    "              loss='sparse_categorical_crossentropy',\n",
    "              metrics=['accuracy'])\n",
    "model.fit(train_images, train_labels, epochs=1)"
   ]
  },
  {
   "cell_type": "markdown",
   "metadata": {},
   "source": [
    "## Model inference test run"
   ]
  },
  {
   "cell_type": "code",
   "execution_count": 6,
   "metadata": {},
   "outputs": [
    {
     "data": {
      "text/plain": [
       "['Ankle boot']"
      ]
     },
     "execution_count": 6,
     "metadata": {},
     "output_type": "execute_result"
    }
   ],
   "source": [
    "predict = model.predict_image(tf.constant([img_bytes]))\n",
    "klass = tf.argmax(predict, axis=1)\n",
    "[class_names[c] for c in klass]"
   ]
  },
  {
   "cell_type": "markdown",
   "metadata": {
    "colab_type": "text",
    "id": "YFc2HbEVCaXd"
   },
   "source": [
    "And the model predicts a label as expected."
   ]
  },
  {
   "cell_type": "markdown",
   "metadata": {},
   "source": [
    "# Create BentoService class"
   ]
  },
  {
   "cell_type": "code",
   "execution_count": 7,
   "metadata": {},
   "outputs": [
    {
     "name": "stdout",
     "output_type": "stream",
     "text": [
      "Overwriting tensorflow_fashion_mnist.py\n"
     ]
    }
   ],
   "source": [
    "%%writefile tensorflow_fashion_mnist.py\n",
    "\n",
    "import bentoml\n",
    "import tensorflow as tf\n",
    "import numpy as np\n",
    "from PIL import Image\n",
    "\n",
    "from bentoml.artifact import (\n",
    "    TensorflowSavedModelArtifact,\n",
    ")\n",
    "from bentoml.handlers import TensorflowTensorHandler\n",
    "\n",
    "\n",
    "FASHION_MNIST_CLASSES = ['T-shirt/top', 'Trouser', 'Pullover', 'Dress', 'Coat',\n",
    "               'Sandal', 'Shirt', 'Sneaker', 'Bag', 'Ankle boot']\n",
    "\n",
    "\n",
    "@bentoml.env(pip_dependencies=['tensorflow', 'numpy', 'pillow'])\n",
    "@bentoml.artifacts([TensorflowSavedModelArtifact('model')])\n",
    "class FashionMnistTensorflow(bentoml.BentoService):\n",
    "\n",
    "    @bentoml.api(TensorflowTensorHandler)\n",
    "    def predict(self, inputs):\n",
    "        outputs = self.artifacts.model.predict_image(inputs)\n",
    "        output_classes = tf.math.argmax(outputs, axis=1)\n",
    "        return [FASHION_MNIST_CLASSES[c] for c in output_classes]"
   ]
  },
  {
   "cell_type": "code",
   "execution_count": 8,
   "metadata": {
    "scrolled": true
   },
   "outputs": [
    {
     "name": "stdout",
     "output_type": "stream",
     "text": [
      "[2020-07-23 08:31:39,901] WARNING - bentoml.handlers.* will be deprecated after BentoML 1.0, use bentoml.adapters.* instead\n",
      "[2020-07-23 08:31:39,903] WARNING - TensorflowTensorHandler will be deprecated after BentoML 1.0, use TfTensorInput instead\n",
      "[2020-07-23 08:31:40,035] WARNING - Using BentoML installed in `editable` model, the local BentoML repository including all code changes will be packaged together with saved bundle created, under the './bundled_pip_dependencies' directory of the saved bundle.\n",
      "WARNING:tensorflow:From /opt/anaconda3/envs/bentoml-dev-py36/lib/python3.6/site-packages/tensorflow_core/python/ops/resource_variable_ops.py:1786: calling BaseResourceVariable.__init__ (from tensorflow.python.ops.resource_variable_ops) with constraint is deprecated and will be removed in a future version.\n",
      "Instructions for updating:\n",
      "If using Keras pass *_constraint arguments to layers.\n",
      "INFO:tensorflow:Assets written to: /tmp/bentoml-temp-rrkuu1sj/FashionMnistTensorflow/artifacts/model_saved_model/assets\n",
      "[2020-07-23 08:31:51,003] INFO - Detect BentoML installed in development model, copying local BentoML module file to target saved bundle path\n",
      "running sdist\n",
      "running egg_info\n",
      "writing BentoML.egg-info/PKG-INFO\n",
      "writing dependency_links to BentoML.egg-info/dependency_links.txt\n",
      "writing entry points to BentoML.egg-info/entry_points.txt\n",
      "writing requirements to BentoML.egg-info/requires.txt\n",
      "writing top-level names to BentoML.egg-info/top_level.txt\n",
      "reading manifest file 'BentoML.egg-info/SOURCES.txt'\n",
      "reading manifest template 'MANIFEST.in'\n"
     ]
    },
    {
     "name": "stderr",
     "output_type": "stream",
     "text": [
      "warning: no previously-included files matching '*~' found anywhere in distribution\n",
      "warning: no previously-included files matching '*.pyo' found anywhere in distribution\n",
      "warning: no previously-included files matching '.git' found anywhere in distribution\n",
      "warning: no previously-included files matching '.ipynb_checkpoints' found anywhere in distribution\n",
      "warning: no previously-included files matching '__pycache__' found anywhere in distribution\n",
      "warning: no directories found matching 'bentoml/server/static'\n",
      "warning: no directories found matching 'bentoml/yatai/web/dist'\n",
      "no previously-included directories found matching 'e2e_tests'\n",
      "no previously-included directories found matching 'tests'\n",
      "no previously-included directories found matching 'benchmark'\n"
     ]
    },
    {
     "name": "stdout",
     "output_type": "stream",
     "text": [
      "writing manifest file 'BentoML.egg-info/SOURCES.txt'\n",
      "running check\n",
      "creating BentoML-0.8.3+37.g4626764\n",
      "creating BentoML-0.8.3+37.g4626764/BentoML.egg-info\n",
      "creating BentoML-0.8.3+37.g4626764/bentoml\n",
      "creating BentoML-0.8.3+37.g4626764/bentoml/adapters\n",
      "creating BentoML-0.8.3+37.g4626764/bentoml/artifact\n",
      "creating BentoML-0.8.3+37.g4626764/bentoml/cli\n",
      "creating BentoML-0.8.3+37.g4626764/bentoml/clipper\n",
      "creating BentoML-0.8.3+37.g4626764/bentoml/configuration\n",
      "creating BentoML-0.8.3+37.g4626764/bentoml/configuration/__pycache__\n",
      "creating BentoML-0.8.3+37.g4626764/bentoml/handlers\n",
      "creating BentoML-0.8.3+37.g4626764/bentoml/marshal\n",
      "creating BentoML-0.8.3+37.g4626764/bentoml/saved_bundle\n",
      "creating BentoML-0.8.3+37.g4626764/bentoml/server\n",
      "creating BentoML-0.8.3+37.g4626764/bentoml/utils\n",
      "creating BentoML-0.8.3+37.g4626764/bentoml/yatai\n",
      "creating BentoML-0.8.3+37.g4626764/bentoml/yatai/client\n",
      "creating BentoML-0.8.3+37.g4626764/bentoml/yatai/deployment\n",
      "creating BentoML-0.8.3+37.g4626764/bentoml/yatai/deployment/aws_lambda\n",
      "creating BentoML-0.8.3+37.g4626764/bentoml/yatai/deployment/azure_functions\n",
      "creating BentoML-0.8.3+37.g4626764/bentoml/yatai/deployment/sagemaker\n",
      "creating BentoML-0.8.3+37.g4626764/bentoml/yatai/migrations\n",
      "creating BentoML-0.8.3+37.g4626764/bentoml/yatai/migrations/__pycache__\n",
      "creating BentoML-0.8.3+37.g4626764/bentoml/yatai/migrations/versions\n",
      "creating BentoML-0.8.3+37.g4626764/bentoml/yatai/migrations/versions/__pycache__\n",
      "creating BentoML-0.8.3+37.g4626764/bentoml/yatai/proto\n",
      "creating BentoML-0.8.3+37.g4626764/bentoml/yatai/repository\n",
      "creating BentoML-0.8.3+37.g4626764/bentoml/yatai/validator\n",
      "copying files to BentoML-0.8.3+37.g4626764...\n",
      "copying LICENSE -> BentoML-0.8.3+37.g4626764\n",
      "copying MANIFEST.in -> BentoML-0.8.3+37.g4626764\n",
      "copying README.md -> BentoML-0.8.3+37.g4626764\n",
      "copying pyproject.toml -> BentoML-0.8.3+37.g4626764\n",
      "copying setup.cfg -> BentoML-0.8.3+37.g4626764\n",
      "copying setup.py -> BentoML-0.8.3+37.g4626764\n",
      "copying versioneer.py -> BentoML-0.8.3+37.g4626764\n",
      "copying BentoML.egg-info/PKG-INFO -> BentoML-0.8.3+37.g4626764/BentoML.egg-info\n",
      "copying BentoML.egg-info/SOURCES.txt -> BentoML-0.8.3+37.g4626764/BentoML.egg-info\n",
      "copying BentoML.egg-info/dependency_links.txt -> BentoML-0.8.3+37.g4626764/BentoML.egg-info\n",
      "copying BentoML.egg-info/entry_points.txt -> BentoML-0.8.3+37.g4626764/BentoML.egg-info\n",
      "copying BentoML.egg-info/requires.txt -> BentoML-0.8.3+37.g4626764/BentoML.egg-info\n",
      "copying BentoML.egg-info/top_level.txt -> BentoML-0.8.3+37.g4626764/BentoML.egg-info\n",
      "copying bentoml/__init__.py -> BentoML-0.8.3+37.g4626764/bentoml\n",
      "copying bentoml/_version.py -> BentoML-0.8.3+37.g4626764/bentoml\n",
      "copying bentoml/exceptions.py -> BentoML-0.8.3+37.g4626764/bentoml\n",
      "copying bentoml/service.py -> BentoML-0.8.3+37.g4626764/bentoml\n",
      "copying bentoml/service_env.py -> BentoML-0.8.3+37.g4626764/bentoml\n",
      "copying bentoml/adapters/__init__.py -> BentoML-0.8.3+37.g4626764/bentoml/adapters\n",
      "copying bentoml/adapters/base_input.py -> BentoML-0.8.3+37.g4626764/bentoml/adapters\n",
      "copying bentoml/adapters/base_output.py -> BentoML-0.8.3+37.g4626764/bentoml/adapters\n",
      "copying bentoml/adapters/clipper_input.py -> BentoML-0.8.3+37.g4626764/bentoml/adapters\n",
      "copying bentoml/adapters/dataframe_input.py -> BentoML-0.8.3+37.g4626764/bentoml/adapters\n",
      "copying bentoml/adapters/dataframe_output.py -> BentoML-0.8.3+37.g4626764/bentoml/adapters\n",
      "copying bentoml/adapters/default_output.py -> BentoML-0.8.3+37.g4626764/bentoml/adapters\n",
      "copying bentoml/adapters/fastai_image_input.py -> BentoML-0.8.3+37.g4626764/bentoml/adapters\n",
      "copying bentoml/adapters/image_input.py -> BentoML-0.8.3+37.g4626764/bentoml/adapters\n",
      "copying bentoml/adapters/json_input.py -> BentoML-0.8.3+37.g4626764/bentoml/adapters\n",
      "copying bentoml/adapters/json_output.py -> BentoML-0.8.3+37.g4626764/bentoml/adapters\n",
      "copying bentoml/adapters/legacy_image_input.py -> BentoML-0.8.3+37.g4626764/bentoml/adapters\n",
      "copying bentoml/adapters/legacy_json_input.py -> BentoML-0.8.3+37.g4626764/bentoml/adapters\n",
      "copying bentoml/adapters/multi_image_input.py -> BentoML-0.8.3+37.g4626764/bentoml/adapters\n",
      "copying bentoml/adapters/pytorch_tensor_input.py -> BentoML-0.8.3+37.g4626764/bentoml/adapters\n",
      "copying bentoml/adapters/tensorflow_tensor_input.py -> BentoML-0.8.3+37.g4626764/bentoml/adapters\n",
      "copying bentoml/adapters/tensorflow_tensor_output.py -> BentoML-0.8.3+37.g4626764/bentoml/adapters\n",
      "copying bentoml/adapters/utils.py -> BentoML-0.8.3+37.g4626764/bentoml/adapters\n",
      "copying bentoml/artifact/__init__.py -> BentoML-0.8.3+37.g4626764/bentoml/artifact\n",
      "copying bentoml/artifact/artifact.py -> BentoML-0.8.3+37.g4626764/bentoml/artifact\n",
      "copying bentoml/artifact/fastai2_model_artifact.py -> BentoML-0.8.3+37.g4626764/bentoml/artifact\n",
      "copying bentoml/artifact/fastai_model_artifact.py -> BentoML-0.8.3+37.g4626764/bentoml/artifact\n",
      "copying bentoml/artifact/fasttext_model_artifact.py -> BentoML-0.8.3+37.g4626764/bentoml/artifact\n",
      "copying bentoml/artifact/h2o_model_artifact.py -> BentoML-0.8.3+37.g4626764/bentoml/artifact\n",
      "copying bentoml/artifact/json_artifact.py -> BentoML-0.8.3+37.g4626764/bentoml/artifact\n",
      "copying bentoml/artifact/keras_model_artifact.py -> BentoML-0.8.3+37.g4626764/bentoml/artifact\n",
      "copying bentoml/artifact/lightgbm_model_artifact.py -> BentoML-0.8.3+37.g4626764/bentoml/artifact\n",
      "copying bentoml/artifact/onnx_model_artifact.py -> BentoML-0.8.3+37.g4626764/bentoml/artifact\n",
      "copying bentoml/artifact/pickle_artifact.py -> BentoML-0.8.3+37.g4626764/bentoml/artifact\n",
      "copying bentoml/artifact/pytorch_model_artifact.py -> BentoML-0.8.3+37.g4626764/bentoml/artifact\n",
      "copying bentoml/artifact/sklearn_model_artifact.py -> BentoML-0.8.3+37.g4626764/bentoml/artifact\n",
      "copying bentoml/artifact/spacy_model_artifact.py -> BentoML-0.8.3+37.g4626764/bentoml/artifact\n",
      "copying bentoml/artifact/text_file_artifact.py -> BentoML-0.8.3+37.g4626764/bentoml/artifact\n",
      "copying bentoml/artifact/tf_savedmodel_artifact.py -> BentoML-0.8.3+37.g4626764/bentoml/artifact\n",
      "copying bentoml/artifact/xgboost_model_artifact.py -> BentoML-0.8.3+37.g4626764/bentoml/artifact\n",
      "copying bentoml/cli/__init__.py -> BentoML-0.8.3+37.g4626764/bentoml/cli\n",
      "copying bentoml/cli/aws_lambda.py -> BentoML-0.8.3+37.g4626764/bentoml/cli\n",
      "copying bentoml/cli/aws_sagemaker.py -> BentoML-0.8.3+37.g4626764/bentoml/cli\n",
      "copying bentoml/cli/azure_functions.py -> BentoML-0.8.3+37.g4626764/bentoml/cli\n",
      "copying bentoml/cli/bento_management.py -> BentoML-0.8.3+37.g4626764/bentoml/cli\n",
      "copying bentoml/cli/bento_service.py -> BentoML-0.8.3+37.g4626764/bentoml/cli\n",
      "copying bentoml/cli/click_utils.py -> BentoML-0.8.3+37.g4626764/bentoml/cli\n",
      "copying bentoml/cli/config.py -> BentoML-0.8.3+37.g4626764/bentoml/cli\n",
      "copying bentoml/cli/deployment.py -> BentoML-0.8.3+37.g4626764/bentoml/cli\n",
      "copying bentoml/cli/utils.py -> BentoML-0.8.3+37.g4626764/bentoml/cli\n",
      "copying bentoml/cli/yatai_service.py -> BentoML-0.8.3+37.g4626764/bentoml/cli\n",
      "copying bentoml/clipper/__init__.py -> BentoML-0.8.3+37.g4626764/bentoml/clipper\n",
      "copying bentoml/configuration/__init__.py -> BentoML-0.8.3+37.g4626764/bentoml/configuration\n",
      "copying bentoml/configuration/configparser.py -> BentoML-0.8.3+37.g4626764/bentoml/configuration\n",
      "copying bentoml/configuration/default_bentoml.cfg -> BentoML-0.8.3+37.g4626764/bentoml/configuration\n",
      "copying bentoml/configuration/__pycache__/__init__.cpython-36.pyc -> BentoML-0.8.3+37.g4626764/bentoml/configuration/__pycache__\n",
      "copying bentoml/configuration/__pycache__/__init__.cpython-37.pyc -> BentoML-0.8.3+37.g4626764/bentoml/configuration/__pycache__\n",
      "copying bentoml/configuration/__pycache__/__init__.cpython-38.pyc -> BentoML-0.8.3+37.g4626764/bentoml/configuration/__pycache__\n",
      "copying bentoml/configuration/__pycache__/configparser.cpython-36.pyc -> BentoML-0.8.3+37.g4626764/bentoml/configuration/__pycache__\n",
      "copying bentoml/configuration/__pycache__/configparser.cpython-37.pyc -> BentoML-0.8.3+37.g4626764/bentoml/configuration/__pycache__\n",
      "copying bentoml/configuration/__pycache__/configparser.cpython-38.pyc -> BentoML-0.8.3+37.g4626764/bentoml/configuration/__pycache__\n",
      "copying bentoml/handlers/__init__.py -> BentoML-0.8.3+37.g4626764/bentoml/handlers\n",
      "copying bentoml/marshal/__init__.py -> BentoML-0.8.3+37.g4626764/bentoml/marshal\n",
      "copying bentoml/marshal/dispatcher.py -> BentoML-0.8.3+37.g4626764/bentoml/marshal\n",
      "copying bentoml/marshal/marshal.py -> BentoML-0.8.3+37.g4626764/bentoml/marshal\n",
      "copying bentoml/marshal/utils.py -> BentoML-0.8.3+37.g4626764/bentoml/marshal\n",
      "copying bentoml/saved_bundle/__init__.py -> BentoML-0.8.3+37.g4626764/bentoml/saved_bundle\n",
      "copying bentoml/saved_bundle/bentoml-init.sh -> BentoML-0.8.3+37.g4626764/bentoml/saved_bundle\n",
      "copying bentoml/saved_bundle/bundler.py -> BentoML-0.8.3+37.g4626764/bentoml/saved_bundle\n",
      "copying bentoml/saved_bundle/config.py -> BentoML-0.8.3+37.g4626764/bentoml/saved_bundle\n",
      "copying bentoml/saved_bundle/docker-entrypoint.sh -> BentoML-0.8.3+37.g4626764/bentoml/saved_bundle\n",
      "copying bentoml/saved_bundle/loader.py -> BentoML-0.8.3+37.g4626764/bentoml/saved_bundle\n",
      "copying bentoml/saved_bundle/pip_pkg.py -> BentoML-0.8.3+37.g4626764/bentoml/saved_bundle\n",
      "copying bentoml/saved_bundle/py_module_utils.py -> BentoML-0.8.3+37.g4626764/bentoml/saved_bundle\n",
      "copying bentoml/saved_bundle/templates.py -> BentoML-0.8.3+37.g4626764/bentoml/saved_bundle\n",
      "copying bentoml/server/__init__.py -> BentoML-0.8.3+37.g4626764/bentoml/server\n",
      "copying bentoml/server/api_server.py -> BentoML-0.8.3+37.g4626764/bentoml/server\n",
      "copying bentoml/server/gunicorn_config.py -> BentoML-0.8.3+37.g4626764/bentoml/server\n",
      "copying bentoml/server/gunicorn_server.py -> BentoML-0.8.3+37.g4626764/bentoml/server\n",
      "copying bentoml/server/instruments.py -> BentoML-0.8.3+37.g4626764/bentoml/server\n",
      "copying bentoml/server/marshal_server.py -> BentoML-0.8.3+37.g4626764/bentoml/server\n",
      "copying bentoml/server/open_api.py -> BentoML-0.8.3+37.g4626764/bentoml/server\n",
      "copying bentoml/server/trace.py -> BentoML-0.8.3+37.g4626764/bentoml/server\n",
      "copying bentoml/server/utils.py -> BentoML-0.8.3+37.g4626764/bentoml/server\n",
      "copying bentoml/utils/__init__.py -> BentoML-0.8.3+37.g4626764/bentoml/utils\n",
      "copying bentoml/utils/alg.py -> BentoML-0.8.3+37.g4626764/bentoml/utils\n",
      "copying bentoml/utils/benchmark.py -> BentoML-0.8.3+37.g4626764/bentoml/utils\n",
      "copying bentoml/utils/cloudpickle.py -> BentoML-0.8.3+37.g4626764/bentoml/utils\n",
      "copying bentoml/utils/dataframe_util.py -> BentoML-0.8.3+37.g4626764/bentoml/utils\n",
      "copying bentoml/utils/flask_ngrok.py -> BentoML-0.8.3+37.g4626764/bentoml/utils\n",
      "copying bentoml/utils/hybridmethod.py -> BentoML-0.8.3+37.g4626764/bentoml/utils\n",
      "copying bentoml/utils/lazy_loader.py -> BentoML-0.8.3+37.g4626764/bentoml/utils\n",
      "copying bentoml/utils/log.py -> BentoML-0.8.3+37.g4626764/bentoml/utils\n",
      "copying bentoml/utils/s3.py -> BentoML-0.8.3+37.g4626764/bentoml/utils\n",
      "copying bentoml/utils/tempdir.py -> BentoML-0.8.3+37.g4626764/bentoml/utils\n",
      "copying bentoml/utils/usage_stats.py -> BentoML-0.8.3+37.g4626764/bentoml/utils\n",
      "copying bentoml/yatai/__init__.py -> BentoML-0.8.3+37.g4626764/bentoml/yatai\n",
      "copying bentoml/yatai/alembic.ini -> BentoML-0.8.3+37.g4626764/bentoml/yatai\n",
      "copying bentoml/yatai/db.py -> BentoML-0.8.3+37.g4626764/bentoml/yatai\n",
      "copying bentoml/yatai/deployment_utils.py -> BentoML-0.8.3+37.g4626764/bentoml/yatai\n",
      "copying bentoml/yatai/status.py -> BentoML-0.8.3+37.g4626764/bentoml/yatai\n",
      "copying bentoml/yatai/utils.py -> BentoML-0.8.3+37.g4626764/bentoml/yatai\n",
      "copying bentoml/yatai/yatai_service.py -> BentoML-0.8.3+37.g4626764/bentoml/yatai\n",
      "copying bentoml/yatai/yatai_service_impl.py -> BentoML-0.8.3+37.g4626764/bentoml/yatai\n",
      "copying bentoml/yatai/client/__init__.py -> BentoML-0.8.3+37.g4626764/bentoml/yatai/client\n",
      "copying bentoml/yatai/client/bento_repository_api.py -> BentoML-0.8.3+37.g4626764/bentoml/yatai/client\n",
      "copying bentoml/yatai/client/deployment_api.py -> BentoML-0.8.3+37.g4626764/bentoml/yatai/client\n",
      "copying bentoml/yatai/deployment/__init__.py -> BentoML-0.8.3+37.g4626764/bentoml/yatai/deployment\n",
      "copying bentoml/yatai/deployment/operator.py -> BentoML-0.8.3+37.g4626764/bentoml/yatai/deployment\n",
      "copying bentoml/yatai/deployment/store.py -> BentoML-0.8.3+37.g4626764/bentoml/yatai/deployment\n",
      "copying bentoml/yatai/deployment/utils.py -> BentoML-0.8.3+37.g4626764/bentoml/yatai/deployment\n",
      "copying bentoml/yatai/deployment/aws_lambda/__init__.py -> BentoML-0.8.3+37.g4626764/bentoml/yatai/deployment/aws_lambda\n",
      "copying bentoml/yatai/deployment/aws_lambda/download_extra_resources.py -> BentoML-0.8.3+37.g4626764/bentoml/yatai/deployment/aws_lambda\n",
      "copying bentoml/yatai/deployment/aws_lambda/lambda_app.py -> BentoML-0.8.3+37.g4626764/bentoml/yatai/deployment/aws_lambda\n",
      "copying bentoml/yatai/deployment/aws_lambda/operator.py -> BentoML-0.8.3+37.g4626764/bentoml/yatai/deployment/aws_lambda\n",
      "copying bentoml/yatai/deployment/aws_lambda/utils.py -> BentoML-0.8.3+37.g4626764/bentoml/yatai/deployment/aws_lambda\n",
      "copying bentoml/yatai/deployment/azure_functions/Dockerfile -> BentoML-0.8.3+37.g4626764/bentoml/yatai/deployment/azure_functions\n",
      "copying bentoml/yatai/deployment/azure_functions/__init__.py -> BentoML-0.8.3+37.g4626764/bentoml/yatai/deployment/azure_functions\n",
      "copying bentoml/yatai/deployment/azure_functions/app_init.py -> BentoML-0.8.3+37.g4626764/bentoml/yatai/deployment/azure_functions\n",
      "copying bentoml/yatai/deployment/azure_functions/constants.py -> BentoML-0.8.3+37.g4626764/bentoml/yatai/deployment/azure_functions\n",
      "copying bentoml/yatai/deployment/azure_functions/host.json -> BentoML-0.8.3+37.g4626764/bentoml/yatai/deployment/azure_functions\n",
      "copying bentoml/yatai/deployment/azure_functions/local.settings.json -> BentoML-0.8.3+37.g4626764/bentoml/yatai/deployment/azure_functions\n",
      "copying bentoml/yatai/deployment/azure_functions/operator.py -> BentoML-0.8.3+37.g4626764/bentoml/yatai/deployment/azure_functions\n",
      "copying bentoml/yatai/deployment/azure_functions/templates.py -> BentoML-0.8.3+37.g4626764/bentoml/yatai/deployment/azure_functions\n",
      "copying bentoml/yatai/deployment/sagemaker/__init__.py -> BentoML-0.8.3+37.g4626764/bentoml/yatai/deployment/sagemaker\n",
      "copying bentoml/yatai/deployment/sagemaker/model_server.py -> BentoML-0.8.3+37.g4626764/bentoml/yatai/deployment/sagemaker\n",
      "copying bentoml/yatai/deployment/sagemaker/nginx.conf -> BentoML-0.8.3+37.g4626764/bentoml/yatai/deployment/sagemaker\n",
      "copying bentoml/yatai/deployment/sagemaker/operator.py -> BentoML-0.8.3+37.g4626764/bentoml/yatai/deployment/sagemaker\n",
      "copying bentoml/yatai/deployment/sagemaker/serve -> BentoML-0.8.3+37.g4626764/bentoml/yatai/deployment/sagemaker\n",
      "copying bentoml/yatai/deployment/sagemaker/wsgi.py -> BentoML-0.8.3+37.g4626764/bentoml/yatai/deployment/sagemaker\n",
      "copying bentoml/yatai/migrations/README -> BentoML-0.8.3+37.g4626764/bentoml/yatai/migrations\n",
      "copying bentoml/yatai/migrations/__init__.py -> BentoML-0.8.3+37.g4626764/bentoml/yatai/migrations\n",
      "copying bentoml/yatai/migrations/env.py -> BentoML-0.8.3+37.g4626764/bentoml/yatai/migrations\n",
      "copying bentoml/yatai/migrations/script.py.mako -> BentoML-0.8.3+37.g4626764/bentoml/yatai/migrations\n",
      "copying bentoml/yatai/migrations/__pycache__/env.cpython-36.pyc -> BentoML-0.8.3+37.g4626764/bentoml/yatai/migrations/__pycache__\n",
      "copying bentoml/yatai/migrations/versions/__init__.py -> BentoML-0.8.3+37.g4626764/bentoml/yatai/migrations/versions\n",
      "copying bentoml/yatai/migrations/versions/a6b00ae45279_add_last_updated_at_for_deployments.py -> BentoML-0.8.3+37.g4626764/bentoml/yatai/migrations/versions\n",
      "copying bentoml/yatai/migrations/versions/__pycache__/a6b00ae45279_add_last_updated_at_for_deployments.cpython-36.pyc -> BentoML-0.8.3+37.g4626764/bentoml/yatai/migrations/versions/__pycache__\n",
      "copying bentoml/yatai/proto/__init__.py -> BentoML-0.8.3+37.g4626764/bentoml/yatai/proto\n",
      "copying bentoml/yatai/proto/deployment_pb2.py -> BentoML-0.8.3+37.g4626764/bentoml/yatai/proto\n",
      "copying bentoml/yatai/proto/repository_pb2.py -> BentoML-0.8.3+37.g4626764/bentoml/yatai/proto\n",
      "copying bentoml/yatai/proto/status_pb2.py -> BentoML-0.8.3+37.g4626764/bentoml/yatai/proto\n",
      "copying bentoml/yatai/proto/yatai_service_pb2.py -> BentoML-0.8.3+37.g4626764/bentoml/yatai/proto\n",
      "copying bentoml/yatai/proto/yatai_service_pb2_grpc.py -> BentoML-0.8.3+37.g4626764/bentoml/yatai/proto\n",
      "copying bentoml/yatai/repository/__init__.py -> BentoML-0.8.3+37.g4626764/bentoml/yatai/repository\n",
      "copying bentoml/yatai/repository/base_repository.py -> BentoML-0.8.3+37.g4626764/bentoml/yatai/repository\n",
      "copying bentoml/yatai/repository/local_repository.py -> BentoML-0.8.3+37.g4626764/bentoml/yatai/repository\n",
      "copying bentoml/yatai/repository/metadata_store.py -> BentoML-0.8.3+37.g4626764/bentoml/yatai/repository\n",
      "copying bentoml/yatai/repository/repository.py -> BentoML-0.8.3+37.g4626764/bentoml/yatai/repository\n",
      "copying bentoml/yatai/repository/s3_repository.py -> BentoML-0.8.3+37.g4626764/bentoml/yatai/repository\n",
      "copying bentoml/yatai/validator/__init__.py -> BentoML-0.8.3+37.g4626764/bentoml/yatai/validator\n",
      "copying bentoml/yatai/validator/deployment_pb_validator.py -> BentoML-0.8.3+37.g4626764/bentoml/yatai/validator\n",
      "Writing BentoML-0.8.3+37.g4626764/setup.cfg\n",
      "UPDATING BentoML-0.8.3+37.g4626764/bentoml/_version.py\n",
      "set BentoML-0.8.3+37.g4626764/bentoml/_version.py to '0.8.3+37.g4626764'\n",
      "Creating tar archive\n",
      "removing 'BentoML-0.8.3+37.g4626764' (and everything under it)\n",
      "[2020-07-23 08:31:52,247] INFO - BentoService bundle 'FashionMnistTensorflow:20200723083140_4A85D5' saved to: /home/bentoml/bentoml/repository/FashionMnistTensorflow/20200723083140_4A85D5\n"
     ]
    }
   ],
   "source": [
    "from tensorflow_fashion_mnist import FashionMnistTensorflow\n",
    "\n",
    "bento_svc = FashionMnistTensorflow()\n",
    "bento_svc.pack(\"model\", model)\n",
    "saved_path = bento_svc.save()"
   ]
  },
  {
   "cell_type": "markdown",
   "metadata": {},
   "source": [
    "## Use BentoService with BentoML CLI"
   ]
  },
  {
   "cell_type": "markdown",
   "metadata": {},
   "source": [
    "**`bentoml get <BentoService Name>` list all of BentoService's versions**"
   ]
  },
  {
   "cell_type": "code",
   "execution_count": 13,
   "metadata": {},
   "outputs": [
    {
     "name": "stdout",
     "output_type": "stream",
     "text": [
      "\u001b[39mBENTO_SERVICE                                 AGE                        APIS                                  ARTIFACTS\n",
      "FashionMnistTensorflow:20200719222038_DE06B8  1 minute and 7.58 seconds  predict<TfTensorInput:DefaultOutput>  model<TensorflowSavedModelArtifact>\u001b[0m\n"
     ]
    }
   ],
   "source": [
    "!bentoml get FashionMnistTensorflow"
   ]
  },
  {
   "cell_type": "markdown",
   "metadata": {},
   "source": [
    "**`bentoml get <BentoService name>:<bentoService version>` display detailed information of the specific BentoService version**"
   ]
  },
  {
   "cell_type": "code",
   "execution_count": 15,
   "metadata": {},
   "outputs": [
    {
     "name": "stdout",
     "output_type": "stream",
     "text": [
      "[2020-07-19 22:22:11,145] INFO - Getting latest version FashionMnistTensorflow:20200719222038_DE06B8\n",
      "\u001b[39m{\n",
      "  \"name\": \"FashionMnistTensorflow\",\n",
      "  \"version\": \"20200719222038_DE06B8\",\n",
      "  \"uri\": {\n",
      "    \"type\": \"LOCAL\",\n",
      "    \"uri\": \"/Users/chaoyu/bentoml/repository/FashionMnistTensorflow/20200719222038_DE06B8\"\n",
      "  },\n",
      "  \"bentoServiceMetadata\": {\n",
      "    \"name\": \"FashionMnistTensorflow\",\n",
      "    \"version\": \"20200719222038_DE06B8\",\n",
      "    \"createdAt\": \"2020-07-20T05:20:57.511519Z\",\n",
      "    \"env\": {\n",
      "      \"condaEnv\": \"name: bentoml-FashionMnistTensorflow\\nchannels:\\n- defaults\\ndependencies:\\n- python=3.7.5\\n- pip\\n\",\n",
      "      \"pipDependencies\": \"tensorflow\\nbentoml==0.8.3\\nnumpy\\npillow\",\n",
      "      \"pythonVersion\": \"3.7.5\",\n",
      "      \"dockerBaseImage\": \"bentoml/model-server:0.8.3\"\n",
      "    },\n",
      "    \"artifacts\": [\n",
      "      {\n",
      "        \"name\": \"model\",\n",
      "        \"artifactType\": \"TensorflowSavedModelArtifact\"\n",
      "      }\n",
      "    ],\n",
      "    \"apis\": [\n",
      "      {\n",
      "        \"name\": \"predict\",\n",
      "        \"inputType\": \"TfTensorInput\",\n",
      "        \"docs\": \"BentoService API\",\n",
      "        \"inputConfig\": {\n",
      "          \"method\": \"predict\",\n",
      "          \"is_batch_input\": true\n",
      "        },\n",
      "        \"outputConfig\": {\n",
      "          \"cors\": \"*\"\n",
      "        },\n",
      "        \"outputType\": \"DefaultOutput\",\n",
      "        \"mbMaxLatency\": 300,\n",
      "        \"mbMaxBatchSize\": 2000\n",
      "      }\n",
      "    ]\n",
      "  }\n",
      "}\u001b[0m\n"
     ]
    }
   ],
   "source": [
    "!bentoml get FashionMnistTensorflow:latest"
   ]
  },
  {
   "cell_type": "markdown",
   "metadata": {},
   "source": [
    "**Serve bentoml REST server locally**"
   ]
  },
  {
   "cell_type": "code",
   "execution_count": 16,
   "metadata": {},
   "outputs": [
    {
     "name": "stdout",
     "output_type": "stream",
     "text": [
      "[2020-07-19 22:22:15,053] INFO - Getting latest version FashionMnistTensorflow:20200719222038_DE06B8\n",
      "[2020-07-19 22:22:18,712] WARNING - bentoml.handlers.* will be deprecated after BentoML 1.0, use bentoml.adapters.* instead\n",
      "[2020-07-19 22:22:18,713] WARNING - TensorflowTensorHandler will be deprecated after BentoML 1.0, use TfTensorInput instead\n",
      "2020-07-19 22:22:18.925997: I tensorflow/core/platform/cpu_feature_guard.cc:142] Your CPU supports instructions that this TensorFlow binary was not compiled to use: AVX2 FMA\n",
      "2020-07-19 22:22:18.946186: I tensorflow/compiler/xla/service/service.cc:168] XLA service 0x7f95871c8720 initialized for platform Host (this does not guarantee that XLA will be used). Devices:\n",
      "2020-07-19 22:22:18.946223: I tensorflow/compiler/xla/service/service.cc:176]   StreamExecutor device (0): Host, Default Version\n",
      " * Serving Flask app \"FashionMnistTensorflow\" (lazy loading)\n",
      " * Environment: production\n",
      "\u001b[31m   WARNING: This is a development server. Do not use it in a production deployment.\u001b[0m\n",
      "\u001b[2m   Use a production WSGI server instead.\u001b[0m\n",
      " * Debug mode: off\n",
      " * Running on http://127.0.0.1:8890/ (Press CTRL+C to quit)\n",
      "^C\n"
     ]
    }
   ],
   "source": [
    "!bentoml serve FashionMnistTensorflow:latest"
   ]
  },
  {
   "cell_type": "markdown",
   "metadata": {},
   "source": [
    "## Query REST API with python"
   ]
  },
  {
   "cell_type": "code",
   "execution_count": 1,
   "metadata": {},
   "outputs": [
    {
     "name": "stdout",
     "output_type": "stream",
     "text": [
      "Data: {\"instances\": [{\"b64\": \"iVBORw0KGgoAAAANSUhEUgAAAB ... ufkz8DPG//sD/AX8I8DvdgnOxdB4B1wAAAAASUVORK5CYII=\"}]}\n",
      "<Response [200]>\n",
      "[\"Ankle boot\"]\n"
     ]
    }
   ],
   "source": [
    "import base64\n",
    "import json\n",
    "import requests\n",
    "\n",
    "with open(\"test.png\", \"rb\") as f:\n",
    "    img_bytes = f.read()\n",
    "img_b64 = base64.b64encode(img_bytes).decode()\n",
    "\n",
    "\n",
    "headers = {\"content-type\": \"application/json\"}\n",
    "data = json.dumps(\n",
    "       {\"instances\": [{\"b64\": img_b64}]}\n",
    ")\n",
    "print('Data: {} ... {}'.format(data[:50], data[len(data)-52:]))\n",
    "\n",
    "json_response = requests.post(f'http://localhost:5000/predict', data=data, headers=headers)\n",
    "print(json_response)\n",
    "print(json_response.text)"
   ]
  },
  {
   "cell_type": "markdown",
   "metadata": {},
   "source": [
    "# Use BentoService as PyPI package\n",
    "\n",
    "`pip install $SAVED_PATH` also installs a CLI tool for accessing the BentoML service"
   ]
  },
  {
   "cell_type": "code",
   "execution_count": 3,
   "metadata": {
    "scrolled": true
   },
   "outputs": [
    {
     "name": "stdout",
     "output_type": "stream",
     "text": [
      "Processing /home/bentoml/bentoml/repository/FashionMnistTensorflow/20200723083140_4A85D5\n",
      "Requirement already satisfied: tensorflow in /opt/anaconda3/envs/bentoml-dev-py36/lib/python3.6/site-packages (from FashionMnistTensorflow===20200723083140-4A85D5) (2.1.0)\n",
      "Requirement already satisfied: bentoml==0.8.3 in /home/bentoml/BentoML (from FashionMnistTensorflow===20200723083140-4A85D5) (0.8.3+37.g4626764)\n",
      "Requirement already satisfied: numpy in /opt/anaconda3/envs/bentoml-dev-py36/lib/python3.6/site-packages (from FashionMnistTensorflow===20200723083140-4A85D5) (1.18.5)\n",
      "Requirement already satisfied: pillow in /opt/anaconda3/envs/bentoml-dev-py36/lib/python3.6/site-packages (from FashionMnistTensorflow===20200723083140-4A85D5) (7.1.2)\n",
      "Requirement already satisfied: keras-applications>=1.0.8 in /opt/anaconda3/envs/bentoml-dev-py36/lib/python3.6/site-packages (from tensorflow->FashionMnistTensorflow===20200723083140-4A85D5) (1.0.8)\n",
      "Requirement already satisfied: astor>=0.6.0 in /opt/anaconda3/envs/bentoml-dev-py36/lib/python3.6/site-packages (from tensorflow->FashionMnistTensorflow===20200723083140-4A85D5) (0.8.0)\n",
      "Requirement already satisfied: google-pasta>=0.1.6 in /opt/anaconda3/envs/bentoml-dev-py36/lib/python3.6/site-packages (from tensorflow->FashionMnistTensorflow===20200723083140-4A85D5) (0.2.0)\n",
      "Requirement already satisfied: tensorflow-estimator<2.2.0,>=2.1.0rc0 in /opt/anaconda3/envs/bentoml-dev-py36/lib/python3.6/site-packages (from tensorflow->FashionMnistTensorflow===20200723083140-4A85D5) (2.1.0)\n",
      "Requirement already satisfied: wheel>=0.26; python_version >= \"3\" in /opt/anaconda3/envs/bentoml-dev-py36/lib/python3.6/site-packages (from tensorflow->FashionMnistTensorflow===20200723083140-4A85D5) (0.34.2)\n",
      "Requirement already satisfied: termcolor>=1.1.0 in /opt/anaconda3/envs/bentoml-dev-py36/lib/python3.6/site-packages (from tensorflow->FashionMnistTensorflow===20200723083140-4A85D5) (1.1.0)\n",
      "Requirement already satisfied: gast==0.2.2 in /opt/anaconda3/envs/bentoml-dev-py36/lib/python3.6/site-packages (from tensorflow->FashionMnistTensorflow===20200723083140-4A85D5) (0.2.2)\n",
      "Requirement already satisfied: opt-einsum>=2.3.2 in /opt/anaconda3/envs/bentoml-dev-py36/lib/python3.6/site-packages (from tensorflow->FashionMnistTensorflow===20200723083140-4A85D5) (3.1.0)\n",
      "Requirement already satisfied: protobuf>=3.8.0 in /opt/anaconda3/envs/bentoml-dev-py36/lib/python3.6/site-packages (from tensorflow->FashionMnistTensorflow===20200723083140-4A85D5) (3.12.2)\n",
      "Requirement already satisfied: wrapt>=1.11.1 in /opt/anaconda3/envs/bentoml-dev-py36/lib/python3.6/site-packages (from tensorflow->FashionMnistTensorflow===20200723083140-4A85D5) (1.11.2)\n",
      "Requirement already satisfied: grpcio>=1.8.6 in /opt/anaconda3/envs/bentoml-dev-py36/lib/python3.6/site-packages (from tensorflow->FashionMnistTensorflow===20200723083140-4A85D5) (1.27.2)\n",
      "Requirement already satisfied: scipy==1.4.1; python_version >= \"3\" in /opt/anaconda3/envs/bentoml-dev-py36/lib/python3.6/site-packages (from tensorflow->FashionMnistTensorflow===20200723083140-4A85D5) (1.4.1)\n",
      "Requirement already satisfied: tensorboard<2.2.0,>=2.1.0 in /opt/anaconda3/envs/bentoml-dev-py36/lib/python3.6/site-packages (from tensorflow->FashionMnistTensorflow===20200723083140-4A85D5) (2.1.0)\n",
      "Requirement already satisfied: absl-py>=0.7.0 in /opt/anaconda3/envs/bentoml-dev-py36/lib/python3.6/site-packages (from tensorflow->FashionMnistTensorflow===20200723083140-4A85D5) (0.9.0)\n",
      "Requirement already satisfied: keras-preprocessing>=1.1.0 in /opt/anaconda3/envs/bentoml-dev-py36/lib/python3.6/site-packages (from tensorflow->FashionMnistTensorflow===20200723083140-4A85D5) (1.1.0)\n",
      "Requirement already satisfied: six>=1.12.0 in /opt/anaconda3/envs/bentoml-dev-py36/lib/python3.6/site-packages (from tensorflow->FashionMnistTensorflow===20200723083140-4A85D5) (1.15.0)\n",
      "Requirement already satisfied: aiohttp in /opt/anaconda3/envs/bentoml-dev-py36/lib/python3.6/site-packages (from bentoml==0.8.3->FashionMnistTensorflow===20200723083140-4A85D5) (3.6.2)\n",
      "Requirement already satisfied: alembic in /opt/anaconda3/envs/bentoml-dev-py36/lib/python3.6/site-packages (from bentoml==0.8.3->FashionMnistTensorflow===20200723083140-4A85D5) (1.4.2)\n",
      "Requirement already satisfied: boto3 in /opt/anaconda3/envs/bentoml-dev-py36/lib/python3.6/site-packages (from bentoml==0.8.3->FashionMnistTensorflow===20200723083140-4A85D5) (1.14.2)\n",
      "Requirement already satisfied: cerberus in /opt/anaconda3/envs/bentoml-dev-py36/lib/python3.6/site-packages (from bentoml==0.8.3->FashionMnistTensorflow===20200723083140-4A85D5) (1.3.2)\n",
      "Requirement already satisfied: certifi in /opt/anaconda3/envs/bentoml-dev-py36/lib/python3.6/site-packages (from bentoml==0.8.3->FashionMnistTensorflow===20200723083140-4A85D5) (2020.6.20)\n",
      "Requirement already satisfied: click>=7.0 in /opt/anaconda3/envs/bentoml-dev-py36/lib/python3.6/site-packages (from bentoml==0.8.3->FashionMnistTensorflow===20200723083140-4A85D5) (7.1.2)\n",
      "Requirement already satisfied: configparser in /opt/anaconda3/envs/bentoml-dev-py36/lib/python3.6/site-packages (from bentoml==0.8.3->FashionMnistTensorflow===20200723083140-4A85D5) (5.0.0)\n",
      "Requirement already satisfied: docker in /opt/anaconda3/envs/bentoml-dev-py36/lib/python3.6/site-packages (from bentoml==0.8.3->FashionMnistTensorflow===20200723083140-4A85D5) (4.2.1)\n",
      "Requirement already satisfied: flask in /opt/anaconda3/envs/bentoml-dev-py36/lib/python3.6/site-packages (from bentoml==0.8.3->FashionMnistTensorflow===20200723083140-4A85D5) (1.1.2)\n",
      "Requirement already satisfied: gunicorn in /opt/anaconda3/envs/bentoml-dev-py36/lib/python3.6/site-packages (from bentoml==0.8.3->FashionMnistTensorflow===20200723083140-4A85D5) (20.0.4)\n",
      "Requirement already satisfied: humanfriendly in /opt/anaconda3/envs/bentoml-dev-py36/lib/python3.6/site-packages (from bentoml==0.8.3->FashionMnistTensorflow===20200723083140-4A85D5) (8.2)\n",
      "Requirement already satisfied: packaging in /opt/anaconda3/envs/bentoml-dev-py36/lib/python3.6/site-packages (from bentoml==0.8.3->FashionMnistTensorflow===20200723083140-4A85D5) (20.4)\n",
      "Requirement already satisfied: prometheus_client in /opt/anaconda3/envs/bentoml-dev-py36/lib/python3.6/site-packages (from bentoml==0.8.3->FashionMnistTensorflow===20200723083140-4A85D5) (0.8.0)\n",
      "Requirement already satisfied: psutil in /opt/anaconda3/envs/bentoml-dev-py36/lib/python3.6/site-packages (from bentoml==0.8.3->FashionMnistTensorflow===20200723083140-4A85D5) (5.7.0)\n",
      "Requirement already satisfied: py_zipkin in /opt/anaconda3/envs/bentoml-dev-py36/lib/python3.6/site-packages (from bentoml==0.8.3->FashionMnistTensorflow===20200723083140-4A85D5) (0.20.0)\n",
      "Requirement already satisfied: python-dateutil<2.8.1,>=2.1 in /opt/anaconda3/envs/bentoml-dev-py36/lib/python3.6/site-packages (from bentoml==0.8.3->FashionMnistTensorflow===20200723083140-4A85D5) (2.8.0)\n",
      "Requirement already satisfied: python-json-logger in /opt/anaconda3/envs/bentoml-dev-py36/lib/python3.6/site-packages (from bentoml==0.8.3->FashionMnistTensorflow===20200723083140-4A85D5) (0.1.11)\n",
      "Requirement already satisfied: requests in /opt/anaconda3/envs/bentoml-dev-py36/lib/python3.6/site-packages (from bentoml==0.8.3->FashionMnistTensorflow===20200723083140-4A85D5) (2.23.0)\n",
      "Requirement already satisfied: ruamel.yaml>=0.15.0 in /opt/anaconda3/envs/bentoml-dev-py36/lib/python3.6/site-packages (from bentoml==0.8.3->FashionMnistTensorflow===20200723083140-4A85D5) (0.16.10)\n",
      "Requirement already satisfied: sqlalchemy-utils in /opt/anaconda3/envs/bentoml-dev-py36/lib/python3.6/site-packages (from bentoml==0.8.3->FashionMnistTensorflow===20200723083140-4A85D5) (0.36.6)\n",
      "Requirement already satisfied: sqlalchemy>=1.3.0 in /opt/anaconda3/envs/bentoml-dev-py36/lib/python3.6/site-packages (from bentoml==0.8.3->FashionMnistTensorflow===20200723083140-4A85D5) (1.3.17)\n",
      "Requirement already satisfied: tabulate in /opt/anaconda3/envs/bentoml-dev-py36/lib/python3.6/site-packages (from bentoml==0.8.3->FashionMnistTensorflow===20200723083140-4A85D5) (0.8.7)\n",
      "Requirement already satisfied: multidict in /opt/anaconda3/envs/bentoml-dev-py36/lib/python3.6/site-packages (from bentoml==0.8.3->FashionMnistTensorflow===20200723083140-4A85D5) (4.7.6)\n",
      "Requirement already satisfied: contextvars in /opt/anaconda3/envs/bentoml-dev-py36/lib/python3.6/site-packages (from bentoml==0.8.3->FashionMnistTensorflow===20200723083140-4A85D5) (2.4)\n",
      "Requirement already satisfied: h5py in /opt/anaconda3/envs/bentoml-dev-py36/lib/python3.6/site-packages (from keras-applications>=1.0.8->tensorflow->FashionMnistTensorflow===20200723083140-4A85D5) (2.10.0)\n",
      "Requirement already satisfied: setuptools in /opt/anaconda3/envs/bentoml-dev-py36/lib/python3.6/site-packages (from protobuf>=3.8.0->tensorflow->FashionMnistTensorflow===20200723083140-4A85D5) (47.1.1)\n",
      "Requirement already satisfied: google-auth<2,>=1.6.3 in /opt/anaconda3/envs/bentoml-dev-py36/lib/python3.6/site-packages (from tensorboard<2.2.0,>=2.1.0->tensorflow->FashionMnistTensorflow===20200723083140-4A85D5) (1.13.1)\n",
      "Requirement already satisfied: google-auth-oauthlib<0.5,>=0.4.1 in /opt/anaconda3/envs/bentoml-dev-py36/lib/python3.6/site-packages (from tensorboard<2.2.0,>=2.1.0->tensorflow->FashionMnistTensorflow===20200723083140-4A85D5) (0.4.1)\n",
      "Requirement already satisfied: markdown>=2.6.8 in /opt/anaconda3/envs/bentoml-dev-py36/lib/python3.6/site-packages (from tensorboard<2.2.0,>=2.1.0->tensorflow->FashionMnistTensorflow===20200723083140-4A85D5) (3.1.1)\n",
      "Requirement already satisfied: werkzeug>=0.11.15 in /opt/anaconda3/envs/bentoml-dev-py36/lib/python3.6/site-packages (from tensorboard<2.2.0,>=2.1.0->tensorflow->FashionMnistTensorflow===20200723083140-4A85D5) (1.0.1)\n",
      "Requirement already satisfied: attrs>=17.3.0 in /opt/anaconda3/envs/bentoml-dev-py36/lib/python3.6/site-packages (from aiohttp->bentoml==0.8.3->FashionMnistTensorflow===20200723083140-4A85D5) (19.3.0)\n",
      "Requirement already satisfied: async-timeout<4.0,>=3.0 in /opt/anaconda3/envs/bentoml-dev-py36/lib/python3.6/site-packages (from aiohttp->bentoml==0.8.3->FashionMnistTensorflow===20200723083140-4A85D5) (3.0.1)\n",
      "Requirement already satisfied: yarl<2.0,>=1.0 in /opt/anaconda3/envs/bentoml-dev-py36/lib/python3.6/site-packages (from aiohttp->bentoml==0.8.3->FashionMnistTensorflow===20200723083140-4A85D5) (1.4.2)\n",
      "Requirement already satisfied: chardet<4.0,>=2.0 in /opt/anaconda3/envs/bentoml-dev-py36/lib/python3.6/site-packages (from aiohttp->bentoml==0.8.3->FashionMnistTensorflow===20200723083140-4A85D5) (3.0.4)\n",
      "Requirement already satisfied: typing-extensions>=3.6.5; python_version < \"3.7\" in /opt/anaconda3/envs/bentoml-dev-py36/lib/python3.6/site-packages (from aiohttp->bentoml==0.8.3->FashionMnistTensorflow===20200723083140-4A85D5) (3.7.4.2)\n",
      "Requirement already satisfied: idna-ssl>=1.0; python_version < \"3.7\" in /opt/anaconda3/envs/bentoml-dev-py36/lib/python3.6/site-packages (from aiohttp->bentoml==0.8.3->FashionMnistTensorflow===20200723083140-4A85D5) (1.1.0)\n",
      "Requirement already satisfied: Mako in /opt/anaconda3/envs/bentoml-dev-py36/lib/python3.6/site-packages (from alembic->bentoml==0.8.3->FashionMnistTensorflow===20200723083140-4A85D5) (1.1.3)\n",
      "Requirement already satisfied: python-editor>=0.3 in /opt/anaconda3/envs/bentoml-dev-py36/lib/python3.6/site-packages (from alembic->bentoml==0.8.3->FashionMnistTensorflow===20200723083140-4A85D5) (1.0.4)\n",
      "Requirement already satisfied: s3transfer<0.4.0,>=0.3.0 in /opt/anaconda3/envs/bentoml-dev-py36/lib/python3.6/site-packages (from boto3->bentoml==0.8.3->FashionMnistTensorflow===20200723083140-4A85D5) (0.3.3)\n",
      "Requirement already satisfied: botocore<1.18.0,>=1.17.2 in /opt/anaconda3/envs/bentoml-dev-py36/lib/python3.6/site-packages (from boto3->bentoml==0.8.3->FashionMnistTensorflow===20200723083140-4A85D5) (1.17.2)\n",
      "Requirement already satisfied: jmespath<1.0.0,>=0.7.1 in /opt/anaconda3/envs/bentoml-dev-py36/lib/python3.6/site-packages (from boto3->bentoml==0.8.3->FashionMnistTensorflow===20200723083140-4A85D5) (0.10.0)\n",
      "Requirement already satisfied: websocket-client>=0.32.0 in /opt/anaconda3/envs/bentoml-dev-py36/lib/python3.6/site-packages (from docker->bentoml==0.8.3->FashionMnistTensorflow===20200723083140-4A85D5) (0.57.0)\n",
      "Requirement already satisfied: Jinja2>=2.10.1 in /opt/anaconda3/envs/bentoml-dev-py36/lib/python3.6/site-packages (from flask->bentoml==0.8.3->FashionMnistTensorflow===20200723083140-4A85D5) (2.11.2)\n",
      "Requirement already satisfied: itsdangerous>=0.24 in /opt/anaconda3/envs/bentoml-dev-py36/lib/python3.6/site-packages (from flask->bentoml==0.8.3->FashionMnistTensorflow===20200723083140-4A85D5) (1.1.0)\n",
      "Requirement already satisfied: pyparsing>=2.0.2 in /opt/anaconda3/envs/bentoml-dev-py36/lib/python3.6/site-packages (from packaging->bentoml==0.8.3->FashionMnistTensorflow===20200723083140-4A85D5) (2.4.7)\n",
      "Requirement already satisfied: thriftpy2>=0.4.0 in /opt/anaconda3/envs/bentoml-dev-py36/lib/python3.6/site-packages (from py_zipkin->bentoml==0.8.3->FashionMnistTensorflow===20200723083140-4A85D5) (0.4.11)\n",
      "Requirement already satisfied: idna<3,>=2.5 in /opt/anaconda3/envs/bentoml-dev-py36/lib/python3.6/site-packages (from requests->bentoml==0.8.3->FashionMnistTensorflow===20200723083140-4A85D5) (2.9)\n",
      "Requirement already satisfied: urllib3!=1.25.0,!=1.25.1,<1.26,>=1.21.1 in /opt/anaconda3/envs/bentoml-dev-py36/lib/python3.6/site-packages (from requests->bentoml==0.8.3->FashionMnistTensorflow===20200723083140-4A85D5) (1.25.9)\n",
      "Requirement already satisfied: ruamel.yaml.clib>=0.1.2; platform_python_implementation == \"CPython\" and python_version < \"3.9\" in /opt/anaconda3/envs/bentoml-dev-py36/lib/python3.6/site-packages (from ruamel.yaml>=0.15.0->bentoml==0.8.3->FashionMnistTensorflow===20200723083140-4A85D5) (0.2.0)\n",
      "Requirement already satisfied: immutables>=0.9 in /opt/anaconda3/envs/bentoml-dev-py36/lib/python3.6/site-packages (from contextvars->bentoml==0.8.3->FashionMnistTensorflow===20200723083140-4A85D5) (0.14)\n",
      "Requirement already satisfied: cachetools<5.0,>=2.0.0 in /opt/anaconda3/envs/bentoml-dev-py36/lib/python3.6/site-packages (from google-auth<2,>=1.6.3->tensorboard<2.2.0,>=2.1.0->tensorflow->FashionMnistTensorflow===20200723083140-4A85D5) (3.1.1)\n",
      "Requirement already satisfied: rsa<4.1,>=3.1.4 in /opt/anaconda3/envs/bentoml-dev-py36/lib/python3.6/site-packages (from google-auth<2,>=1.6.3->tensorboard<2.2.0,>=2.1.0->tensorflow->FashionMnistTensorflow===20200723083140-4A85D5) (4.0)\n",
      "Requirement already satisfied: pyasn1-modules>=0.2.1 in /opt/anaconda3/envs/bentoml-dev-py36/lib/python3.6/site-packages (from google-auth<2,>=1.6.3->tensorboard<2.2.0,>=2.1.0->tensorflow->FashionMnistTensorflow===20200723083140-4A85D5) (0.2.7)\n",
      "Requirement already satisfied: requests-oauthlib>=0.7.0 in /opt/anaconda3/envs/bentoml-dev-py36/lib/python3.6/site-packages (from google-auth-oauthlib<0.5,>=0.4.1->tensorboard<2.2.0,>=2.1.0->tensorflow->FashionMnistTensorflow===20200723083140-4A85D5) (1.3.0)\n",
      "Requirement already satisfied: MarkupSafe>=0.9.2 in /opt/anaconda3/envs/bentoml-dev-py36/lib/python3.6/site-packages (from Mako->alembic->bentoml==0.8.3->FashionMnistTensorflow===20200723083140-4A85D5) (1.1.1)\n",
      "Requirement already satisfied: docutils<0.16,>=0.10 in /opt/anaconda3/envs/bentoml-dev-py36/lib/python3.6/site-packages (from botocore<1.18.0,>=1.17.2->boto3->bentoml==0.8.3->FashionMnistTensorflow===20200723083140-4A85D5) (0.15.2)\n",
      "Requirement already satisfied: ply<4.0,>=3.4 in /opt/anaconda3/envs/bentoml-dev-py36/lib/python3.6/site-packages (from thriftpy2>=0.4.0->py_zipkin->bentoml==0.8.3->FashionMnistTensorflow===20200723083140-4A85D5) (3.11)\n",
      "Requirement already satisfied: pyasn1>=0.1.3 in /opt/anaconda3/envs/bentoml-dev-py36/lib/python3.6/site-packages (from rsa<4.1,>=3.1.4->google-auth<2,>=1.6.3->tensorboard<2.2.0,>=2.1.0->tensorflow->FashionMnistTensorflow===20200723083140-4A85D5) (0.4.8)\n",
      "Requirement already satisfied: oauthlib>=3.0.0 in /opt/anaconda3/envs/bentoml-dev-py36/lib/python3.6/site-packages (from requests-oauthlib>=0.7.0->google-auth-oauthlib<0.5,>=0.4.1->tensorboard<2.2.0,>=2.1.0->tensorflow->FashionMnistTensorflow===20200723083140-4A85D5) (3.1.0)\n",
      "Building wheels for collected packages: FashionMnistTensorflow\n",
      "  Building wheel for FashionMnistTensorflow (setup.py) ... \u001b[?25ldone\n",
      "\u001b[?25h  Created wheel for FashionMnistTensorflow: filename=FashionMnistTensorflow-20200723083140_4A85D5-py3-none-any.whl size=1139229 sha256=8c8e5665546f58b7246d8dfae239eff6e349d14d43318fb57a83be575de1a15f\n",
      "  Stored in directory: /tmp/pip-ephem-wheel-cache-fesvg5p7/wheels/ad/62/32/9e80224574e37cc1c4920da2eeb72690c471ea8eb6d106fdb8\n",
      "Successfully built FashionMnistTensorflow\n",
      "Installing collected packages: FashionMnistTensorflow\n",
      "  Attempting uninstall: FashionMnistTensorflow\n",
      "    Found existing installation: FashionMnistTensorflow 20200723081930-47CA61\n",
      "    Uninstalling FashionMnistTensorflow-20200723081930-47CA61:\n",
      "      Successfully uninstalled FashionMnistTensorflow-20200723081930-47CA61\n",
      "Successfully installed FashionMnistTensorflow-20200723083140-4A85D5\n"
     ]
    }
   ],
   "source": [
    "!pip install {saved_path}"
   ]
  },
  {
   "cell_type": "code",
   "execution_count": 4,
   "metadata": {},
   "outputs": [
    {
     "name": "stdout",
     "output_type": "stream",
     "text": [
      "Usage: FashionMnistTensorflow [OPTIONS] COMMAND [ARGS]...\n",
      "\n",
      "  BentoML CLI tool\n",
      "\n",
      "Options:\n",
      "  --version  Show the version and exit.\n",
      "  --help     Show this message and exit.\n",
      "\n",
      "Commands:\n",
      "  containerize        Containerizes given Bento into a ready-to-use Docker\n",
      "                      image\n",
      "\n",
      "  info                List APIs\n",
      "  install-completion  Install shell command completion\n",
      "  open-api-spec       Display OpenAPI/Swagger JSON specs\n",
      "  run                 Run API function\n",
      "  serve               Start local dev API server\n",
      "  serve-gunicorn      Start production API server\n"
     ]
    }
   ],
   "source": [
    "!FashionMnistTensorflow --help"
   ]
  },
  {
   "cell_type": "markdown",
   "metadata": {},
   "source": [
    "### Run 'predict' api with json data:"
   ]
  },
  {
   "cell_type": "code",
   "execution_count": 8,
   "metadata": {},
   "outputs": [
    {
     "name": "stdout",
     "output_type": "stream",
     "text": [
      "2020-07-23 08:35:42.485465: I tensorflow/stream_executor/platform/default/dso_loader.cc:44] Successfully opened dynamic library libcuda.so.1\n",
      "2020-07-23 08:35:42.498660: I tensorflow/stream_executor/cuda/cuda_gpu_executor.cc:981] successful NUMA node read from SysFS had negative value (-1), but there must be at least one NUMA node, so returning NUMA node zero\n",
      "2020-07-23 08:35:42.499011: I tensorflow/core/common_runtime/gpu/gpu_device.cc:1555] Found device 0 with properties: \n",
      "pciBusID: 0000:01:00.0 name: GeForce GTX 1060 computeCapability: 6.1\n",
      "coreClock: 1.6705GHz coreCount: 10 deviceMemorySize: 5.93GiB deviceMemoryBandwidth: 178.99GiB/s\n",
      "2020-07-23 08:35:42.499162: I tensorflow/stream_executor/platform/default/dso_loader.cc:44] Successfully opened dynamic library libcudart.so.10.1\n",
      "2020-07-23 08:35:42.500530: I tensorflow/stream_executor/platform/default/dso_loader.cc:44] Successfully opened dynamic library libcublas.so.10\n",
      "2020-07-23 08:35:42.501843: I tensorflow/stream_executor/platform/default/dso_loader.cc:44] Successfully opened dynamic library libcufft.so.10\n",
      "2020-07-23 08:35:42.502077: I tensorflow/stream_executor/platform/default/dso_loader.cc:44] Successfully opened dynamic library libcurand.so.10\n",
      "2020-07-23 08:35:42.503792: I tensorflow/stream_executor/platform/default/dso_loader.cc:44] Successfully opened dynamic library libcusolver.so.10\n",
      "2020-07-23 08:35:42.504822: I tensorflow/stream_executor/platform/default/dso_loader.cc:44] Successfully opened dynamic library libcusparse.so.10\n",
      "2020-07-23 08:35:42.508396: I tensorflow/stream_executor/platform/default/dso_loader.cc:44] Successfully opened dynamic library libcudnn.so.7\n",
      "2020-07-23 08:35:42.508540: I tensorflow/stream_executor/cuda/cuda_gpu_executor.cc:981] successful NUMA node read from SysFS had negative value (-1), but there must be at least one NUMA node, so returning NUMA node zero\n",
      "2020-07-23 08:35:42.508944: I tensorflow/stream_executor/cuda/cuda_gpu_executor.cc:981] successful NUMA node read from SysFS had negative value (-1), but there must be at least one NUMA node, so returning NUMA node zero\n",
      "2020-07-23 08:35:42.509331: I tensorflow/core/common_runtime/gpu/gpu_device.cc:1697] Adding visible gpu devices: 0\n",
      "2020-07-23 08:35:42.509615: I tensorflow/core/platform/cpu_feature_guard.cc:142] Your CPU supports instructions that this TensorFlow binary was not compiled to use: SSE4.1 SSE4.2 AVX AVX2 FMA\n",
      "2020-07-23 08:35:42.533597: I tensorflow/core/platform/profile_utils/cpu_utils.cc:94] CPU Frequency: 2699905000 Hz\n",
      "2020-07-23 08:35:42.534003: I tensorflow/compiler/xla/service/service.cc:168] XLA service 0x5629bd79b700 initialized for platform Host (this does not guarantee that XLA will be used). Devices:\n",
      "2020-07-23 08:35:42.534041: I tensorflow/compiler/xla/service/service.cc:176]   StreamExecutor device (0): Host, Default Version\n",
      "2020-07-23 08:35:42.534263: I tensorflow/stream_executor/cuda/cuda_gpu_executor.cc:981] successful NUMA node read from SysFS had negative value (-1), but there must be at least one NUMA node, so returning NUMA node zero\n",
      "2020-07-23 08:35:42.534651: I tensorflow/core/common_runtime/gpu/gpu_device.cc:1555] Found device 0 with properties: \n",
      "pciBusID: 0000:01:00.0 name: GeForce GTX 1060 computeCapability: 6.1\n",
      "coreClock: 1.6705GHz coreCount: 10 deviceMemorySize: 5.93GiB deviceMemoryBandwidth: 178.99GiB/s\n",
      "2020-07-23 08:35:42.534692: I tensorflow/stream_executor/platform/default/dso_loader.cc:44] Successfully opened dynamic library libcudart.so.10.1\n",
      "2020-07-23 08:35:42.534706: I tensorflow/stream_executor/platform/default/dso_loader.cc:44] Successfully opened dynamic library libcublas.so.10\n",
      "2020-07-23 08:35:42.534719: I tensorflow/stream_executor/platform/default/dso_loader.cc:44] Successfully opened dynamic library libcufft.so.10\n",
      "2020-07-23 08:35:42.534730: I tensorflow/stream_executor/platform/default/dso_loader.cc:44] Successfully opened dynamic library libcurand.so.10\n",
      "2020-07-23 08:35:42.534741: I tensorflow/stream_executor/platform/default/dso_loader.cc:44] Successfully opened dynamic library libcusolver.so.10\n",
      "2020-07-23 08:35:42.534753: I tensorflow/stream_executor/platform/default/dso_loader.cc:44] Successfully opened dynamic library libcusparse.so.10\n",
      "2020-07-23 08:35:42.534765: I tensorflow/stream_executor/platform/default/dso_loader.cc:44] Successfully opened dynamic library libcudnn.so.7\n",
      "2020-07-23 08:35:42.534819: I tensorflow/stream_executor/cuda/cuda_gpu_executor.cc:981] successful NUMA node read from SysFS had negative value (-1), but there must be at least one NUMA node, so returning NUMA node zero\n",
      "2020-07-23 08:35:42.535154: I tensorflow/stream_executor/cuda/cuda_gpu_executor.cc:981] successful NUMA node read from SysFS had negative value (-1), but there must be at least one NUMA node, so returning NUMA node zero\n",
      "2020-07-23 08:35:42.535450: I tensorflow/core/common_runtime/gpu/gpu_device.cc:1697] Adding visible gpu devices: 0\n",
      "2020-07-23 08:35:42.535477: I tensorflow/stream_executor/platform/default/dso_loader.cc:44] Successfully opened dynamic library libcudart.so.10.1\n",
      "2020-07-23 08:35:42.647904: I tensorflow/core/common_runtime/gpu/gpu_device.cc:1096] Device interconnect StreamExecutor with strength 1 edge matrix:\n",
      "2020-07-23 08:35:42.647933: I tensorflow/core/common_runtime/gpu/gpu_device.cc:1102]      0 \n",
      "2020-07-23 08:35:42.647940: I tensorflow/core/common_runtime/gpu/gpu_device.cc:1115] 0:   N \n",
      "2020-07-23 08:35:42.648090: I tensorflow/stream_executor/cuda/cuda_gpu_executor.cc:981] successful NUMA node read from SysFS had negative value (-1), but there must be at least one NUMA node, so returning NUMA node zero\n",
      "2020-07-23 08:35:42.648465: I tensorflow/stream_executor/cuda/cuda_gpu_executor.cc:981] successful NUMA node read from SysFS had negative value (-1), but there must be at least one NUMA node, so returning NUMA node zero\n",
      "2020-07-23 08:35:42.648803: I tensorflow/stream_executor/cuda/cuda_gpu_executor.cc:981] successful NUMA node read from SysFS had negative value (-1), but there must be at least one NUMA node, so returning NUMA node zero\n",
      "2020-07-23 08:35:42.649120: I tensorflow/core/common_runtime/gpu/gpu_device.cc:1241] Created TensorFlow device (/job:localhost/replica:0/task:0/device:GPU:0 with 5212 MB memory) -> physical GPU (device: 0, name: GeForce GTX 1060, pci bus id: 0000:01:00.0, compute capability: 6.1)\n",
      "2020-07-23 08:35:42.650914: I tensorflow/compiler/xla/service/service.cc:168] XLA service 0x5629be69cdd0 initialized for platform CUDA (this does not guarantee that XLA will be used). Devices:\n",
      "2020-07-23 08:35:42.650935: I tensorflow/compiler/xla/service/service.cc:176]   StreamExecutor device (0): GeForce GTX 1060, Compute Capability 6.1\n",
      "2020-07-23 08:35:44.294385: I tensorflow/stream_executor/platform/default/dso_loader.cc:44] Successfully opened dynamic library libcublas.so.10\n",
      "['Ankle boot']\n"
     ]
    }
   ],
   "source": [
    "!echo '{\\\"instances\\\":[{\\\"b64\\\":\\\"'$(base64 test.png)'\\\"}]}' > test.json\n",
    "!cat test.json | xargs -I {} FashionMnistTensorflow run predict --input={}"
   ]
  },
  {
   "cell_type": "markdown",
   "metadata": {},
   "source": [
    "## Build realtime prediction service in docker with BentoService"
   ]
  },
  {
   "cell_type": "code",
   "execution_count": null,
   "metadata": {},
   "outputs": [],
   "source": [
    "!cd {saved_path} && docker build -t tensorflow2-fashion-mnist ."
   ]
  },
  {
   "cell_type": "code",
   "execution_count": null,
   "metadata": {},
   "outputs": [],
   "source": [
    "!docker run -p 5000:5000 tensorflow2-fashion-mnist"
   ]
  },
  {
   "cell_type": "markdown",
   "metadata": {},
   "source": [
    "# Deploy BentoService as REST API server to the cloud\n",
    "\n",
    "\n",
    "BentoML support deployment to multiply cloud provider services, such as AWS Lambda, AWS Sagemaker, Google Cloudrun and etc. You can find the full list and guide on the documentation site at https://docs.bentoml.org/en/latest/deployment/index.html\n",
    "\n",
    "For this demo, we are going to deploy to AWS Sagemaker"
   ]
  },
  {
   "cell_type": "code",
   "execution_count": null,
   "metadata": {},
   "outputs": [],
   "source": [
    "bento_service_tag = f'{bento_svc.name}:{bento_svc.version}'\n",
    "print(bento_service_tag)"
   ]
  },
  {
   "cell_type": "code",
   "execution_count": null,
   "metadata": {},
   "outputs": [],
   "source": [
    "!bentoml sagemaker deploy first-tf-fashion -b {bento_service_tag} --api-name predict --verbose"
   ]
  },
  {
   "cell_type": "code",
   "execution_count": null,
   "metadata": {},
   "outputs": [],
   "source": [
    "!bentoml sagemaker get first-tf-fashion"
   ]
  },
  {
   "cell_type": "code",
   "execution_count": null,
   "metadata": {},
   "outputs": [],
   "source": [
    "!aws sagemaker-runtime invoke-endpoint --endpoint-name dev-first-tf-fashion --content-type 'application/json' \\\n",
    "--body \"{\\\"instances\\\":[{\\\"b64\\\":\\\"iVBORw0KGgoAAAANSUhEUgAAABwAAAAcCAYAAAByDd+UAAAABHNCSVQICAgIfAhkiAAAAAlwSFlzAAAPYQAAD2EBqD+naQAAA2dJREFUSIntlk9L60oYh59Mp43axJoiVj2KboSuXPoJXLkQ/Fx+Ahe6ceFG3CtdWlFcFf9RKlhFatpSbWuaNLHJnIW3OR7ugcu9BzxccGAgZCbv887v/b1JNKWU4hOH+EzYF/AL+OeBYRjysct83wegUqn8HlApRRRFADw+PrK/v4/jOCQSCTRNi/fpug7AwcHB7wEBhHh/9Pj4mGKxyM7Ozt/2NBoNdnd3MU0zvif/CywMQ6SUnJ+fc3NzQy6Xo1KpsLGxgWVZ9Pt9FhYWaLVadLtd5ubmfiT6b2FRFCGlxHEc9vf3UUrR7/d5fX1FKRXPq6srpJRYlsVgMPhn4LD4URTF12EYxlJubW2Ry+WYnp7G8zz6/T65XC6uYzqdRtd1fN+n2+3iOM6vgcPgw+ILIdA0jTAMSSQSAOzt7WHbNtPT0xiGQbvdJpvNMjU1RTKZJAxD3t7e4ni9Xo/b29tfA4egKIoYDAZxAkPYzs4OpVKJ+fl5Wq0W7XYbz/PIZDK8vr6iaRpjY2Mkk0mUUnG8w8ND4INphjbXNA2lFEKIWD6AWq3GwcEBnuextLSE4zj4vk+r1SKVSqFpGq7rxsnpuo4QgnQ6jRCCYrH4DhxK9TH4MKtms0m1WqVcLvP09EQqlWJ8fJx2u0232+Xt7Q3f9xFCUK1WGQwGTExMkEwmEUKglGJ0dJQwDDEMg8vLS+RQqnq9zv39Pb1ej16vh+d53N3d4bouUkpM0ySKIjqdDp7nIaXEdV1GR0fRdZ0gCJidnaXT6eC6LpZl4TgOLy8vpNNpbNvm+fn5XdJCoUCtVkNKSbPZjA0yBDmOg23bKKXwfR/LsoiiCMdxCMOQdDqNYRhkMhkajUaslGVZCCHwPI8gCJBSIo+Ojtje3iafzzMzMxOfJJVKxe9G0zQJggAhRNxvnuehaRpRFGHbNvV6nevra4IgIAxDAAzDwHVddF3HMAympqaQKysrnJ6ecnFx8aOwf50sm82SzWbJZDIEQYBSilarRblcxnVdut0umqZRKpVYXl5mcXGRQqGA7/uxD6SUfPv2DdM031388SfKcRzOzs4ol8ucnJzQbDZ/atqhA7PZLPl8ntXVVdbW1hgZGYnX19fXeXh4YHJyEtM0MU0TKSW6rrO5ufkz8DPG//sD/AX8I8DvdgnOxdB4B1wAAAAASUVORK5CYII=\\\"}]}\" \\\n",
    "output.json && cat output.json"
   ]
  },
  {
   "cell_type": "code",
   "execution_count": null,
   "metadata": {},
   "outputs": [],
   "source": [
    "!bentoml sagemaker delete first-tf-fashion --force"
   ]
  },
  {
   "cell_type": "code",
   "execution_count": null,
   "metadata": {},
   "outputs": [],
   "source": []
  }
 ],
 "metadata": {
  "colab": {
   "collapsed_sections": [],
   "name": "classification.ipynb",
   "private_outputs": true,
   "provenance": [],
   "toc_visible": true
  },
  "kernelspec": {
   "display_name": "bentoml-dev-py36",
   "language": "python",
   "name": "bentoml-dev-py36"
  },
  "language_info": {
   "codemirror_mode": {
    "name": "ipython",
    "version": 3
   },
   "file_extension": ".py",
   "mimetype": "text/x-python",
   "name": "python",
   "nbconvert_exporter": "python",
   "pygments_lexer": "ipython3",
   "version": "3.6.10"
  }
 },
 "nbformat": 4,
 "nbformat_minor": 4
}
