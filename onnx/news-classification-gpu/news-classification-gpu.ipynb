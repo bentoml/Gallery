{
 "cells": [
  {
   "cell_type": "markdown",
   "id": "baec0f03",
   "metadata": {},
   "source": [
    "# BentoML Example: ONNX GPU Serving\n",
    "\n",
    "BentoML makes moving trained ML models to production easy:\n",
    "\n",
    "    Package models trained with any ML framework and reproduce them for model serving in production\n",
    "    Deploy anywhere for online API serving or offline batch serving\n",
    "    High-Performance API model server with adaptive micro-batching support\n",
    "    Central hub for managing models and deployment process via Web UI and APIs\n",
    "    Modular and flexible design making it adaptable to your infrastrcuture\n",
    "\n",
    "BentoML is a framework for serving, managing, and deploying machine learning models. It is aiming to bridge the gap between Data Science and DevOps, and enable teams to deliver prediction services in a fast, repeatable, and scalable way. Before reading this example project, be sure to check out the Getting started guide to learn about the basic concepts in BentoML.\n",
    "\n",
    "This notebook demonstrates how to export your PyTorch model the serve with BentoML, building a Docker Images that has GPU supports. Please refers to [GPU Serving guides](https://docs.bentoml.org/en/latest/guides/gpu_serving.html) for more information.\n",
    "\n",
    "This is an extension of [BentoML's PyTorch with GPU Serving](https://github.com/bentoml/gallery/blob/master/pytorch/news-classification-gpu/news-classification.ipynb). Please refers to that tutorial before going with forward."
   ]
  },
  {
   "cell_type": "code",
   "execution_count": 1,
   "id": "bb73e3a4",
   "metadata": {},
   "outputs": [],
   "source": [
    "%reload_ext autoreload\n",
    "%autoreload 2"
   ]
  },
  {
   "cell_type": "code",
   "execution_count": 2,
   "id": "0b936172",
   "metadata": {},
   "outputs": [],
   "source": [
    "!pip install -q bentoml torch==1.8.1+cu111 torchtext==0.9.1 -f https://download.pytorch.org/whl/torch_stable.html onnxruntime-gpu onnx"
   ]
  },
  {
   "cell_type": "code",
   "execution_count": 3,
   "id": "e50a3df1",
   "metadata": {},
   "outputs": [],
   "source": [
    "!cp -r ../../pytorch/news-classification-gpu/model/ ."
   ]
  },
  {
   "cell_type": "code",
   "execution_count": 4,
   "id": "b2628dd6",
   "metadata": {},
   "outputs": [],
   "source": [
    "import torch\n",
    "from torch import nn\n",
    "from torchtext.datasets import AG_NEWS\n",
    "from torchtext.data.utils import get_tokenizer\n",
    "from collections import Counter\n",
    "from torchtext.vocab import Vocab\n",
    "\n",
    "\n",
    "from bentoml import BentoService, api, env, artifacts\n",
    "from bentoml.adapters import JsonInput, JsonOutput\n",
    "from bentoml.frameworks.onnx import OnnxModelArtifact\n",
    "from bentoml.service.artifacts.pickle import PickleArtifact\n",
    "\n",
    "import onnx\n",
    "from onnxruntime.capi.onnxruntime_pybind11_state import InvalidArgument"
   ]
  },
  {
   "cell_type": "markdown",
   "id": "41891239",
   "metadata": {},
   "source": [
    "## Convert our PyTorch model to ONNX format"
   ]
  },
  {
   "cell_type": "markdown",
   "id": "be78ed02",
   "metadata": {},
   "source": [
    "We need to define our PyTorch model and some helpers functions, refers to [BentoML's PyTorch with GPU Serving](https://github.com/bentoml/gallery/blob/master/pytorch/news-classification-gpu/news-classification.ipynb)"
   ]
  },
  {
   "cell_type": "code",
   "execution_count": 5,
   "id": "9db6764c",
   "metadata": {},
   "outputs": [],
   "source": [
    "# https://www.onnxruntime.ai/python/auto_examples/plot_common_errors.html\n",
    "\n",
    "device = torch.device('cuda:0' if torch.cuda.is_available() else 'cpu')\n",
    "\n",
    "EMSIZE = 64\n",
    "\n",
    "\n",
    "class TextClassificationModel(nn.Module):\n",
    "\n",
    "    def __init__(self, vocab_size, embed_dim, num_class):\n",
    "        super().__init__()\n",
    "        self.embedding = nn.EmbeddingBag(vocab_size, embed_dim, sparse=True)\n",
    "        self.fc = nn.Linear(embed_dim, num_class)\n",
    "        self.offsets = torch.tensor([0]).to(device)\n",
    "        self.init_weights()\n",
    "\n",
    "    def init_weights(self):\n",
    "        init_range = 0.5\n",
    "        self.embedding.weight.data.uniform_(-init_range, init_range)\n",
    "        self.fc.weight.data.uniform_(-init_range, init_range)\n",
    "        self.fc.bias.data.zero_()\n",
    "\n",
    "    def forward(self, text):\n",
    "        embedded = self.embedding(text, offsets=self.offsets)\n",
    "        return self.fc(embedded)\n",
    "\n",
    "\n",
    "def get_tokenizer_vocab(dataset=AG_NEWS, tokenizer_fn='basic_english', root_data_dir='dataset'):\n",
    "    print('Getting tokenizer and vocab...')\n",
    "    tokenizer = get_tokenizer(tokenizer_fn)\n",
    "    train_ = dataset(root=root_data_dir, split='train')\n",
    "    counter = Counter()\n",
    "    for (label, line) in train_:\n",
    "        counter.update(tokenizer(line))\n",
    "    vocab = Vocab(counter, min_freq=1)\n",
    "    return tokenizer, vocab\n",
    "\n",
    "\n",
    "def get_model_params(vocab):\n",
    "    print('Setup model params...')\n",
    "    train_iter = AG_NEWS(root='dataset', split='train')\n",
    "    num_class = len(set([label for (label, text) in train_iter]))\n",
    "    vocab_size = len(vocab)\n",
    "    return vocab_size, EMSIZE, num_class\n"
   ]
  },
  {
   "cell_type": "markdown",
   "id": "b32d42d0",
   "metadata": {},
   "source": [
    "## Define our BentoService\n",
    "\n",
    "Please refers to our [GPU Serving guide](https://docs.bentoml.org/en/latest/guides/gpu_serving.html) to setup your environment correctly.\n",
    "\n",
    "We will be using Docker images provided by *BentoML* : `bentoml/model-server:0.12.1-py38-gpu` to prepare our CUDA-enabled images."
   ]
  },
  {
   "cell_type": "markdown",
   "id": "bfa09398",
   "metadata": {},
   "source": [
    "Since `onnxruntime.InferenceSession` only accepts numpy array, refers [ONNX API](https://www.onnxruntime.ai/python/api_summary) for more information. \n",
    "\n",
    "We need to convert our `torch.Tensor` to numpy array with `to_numpy` below. `.detach()` is used to make sure that if you have a `requires_grad=True` tensor the function will convert correctly."
   ]
  },
  {
   "cell_type": "code",
   "execution_count": 6,
   "id": "0ad466fa",
   "metadata": {},
   "outputs": [
    {
     "name": "stdout",
     "output_type": "stream",
     "text": [
      "Overwriting bento_svc.py\n"
     ]
    }
   ],
   "source": [
    "%%writefile bento_svc.py\n",
    "\n",
    "import torch\n",
    "from bentoml import BentoService, api, env, artifacts\n",
    "from bentoml.adapters import JsonInput, JsonOutput\n",
    "from bentoml.frameworks.onnx import OnnxModelArtifact\n",
    "from bentoml.service.artifacts.pickle import PickleArtifact\n",
    "from onnxruntime.capi.onnxruntime_pybind11_state import InvalidArgument\n",
    "\n",
    "\n",
    "device = torch.device(\"cuda:0\" if torch.cuda.is_available() else \"cpu\")\n",
    "\n",
    "\n",
    "\n",
    "def get_pipeline(tokenizer, vocab):\n",
    "    print('Setup pipeline...')\n",
    "    text_pipeline = lambda x: [vocab[token] for token in tokenizer(x)]\n",
    "    label_pipeline = lambda x: int(x) - 1\n",
    "    return text_pipeline, label_pipeline\n",
    "\n",
    "def to_numpy(tensor):\n",
    "    return tensor.detach().cpu().clone().numpy() if tensor.requires_grad else tensor.cpu().clone().numpy()\n",
    "\n",
    "\n",
    "@env(infer_pip_packages=False, pip_packages=['onnxruntime-gpu'], requirements_txt_file=\"./requirements.txt\", docker_base_image=\"bentoml/model-server:0.12.1-py38-gpu\")\n",
    "@artifacts(\n",
    "    [OnnxModelArtifact('model', backend='onnxruntime-gpu'), PickleArtifact('tokenizer'), PickleArtifact('vocab')])\n",
    "class OnnxService(BentoService):\n",
    "    def __init__(self):\n",
    "        super().__init__()\n",
    "        self.news_label = {1: 'World',\n",
    "                           2: 'Sports',\n",
    "                           3: 'Business',\n",
    "                           4: 'Sci/Tec'}\n",
    "\n",
    "    def classify_categories(self, sentence):\n",
    "        text_pipeline, _ = get_pipeline(self.artifacts.tokenizer, self.artifacts.vocab)\n",
    "        text = to_numpy(torch.tensor(text_pipeline(sentence)).to(device))\n",
    "        tensor_name = self.artifacts.model.get_inputs()[0].name\n",
    "        output_name = self.artifacts.model.get_outputs()[0].name\n",
    "        onnx_inputs = {tensor_name: text}\n",
    "        print(f'providers: {self.artifacts.model.get_providers()}')\n",
    "\n",
    "        try:\n",
    "            r = self.artifacts.model.run([output_name], onnx_inputs)[0]\n",
    "            return r.argmax(1).item() + 1\n",
    "        except (RuntimeError, InvalidArgument) as e:\n",
    "            print(f\"ERROR with shape: {onnx_inputs[tensor_name].shape} - {e}\")\n",
    "\n",
    "    @api(input=JsonInput(), output=JsonOutput())\n",
    "    def predict(self, parsed_json):\n",
    "        sentence = parsed_json.get('text')\n",
    "        return {'categories': self.news_label[self.classify_categories(sentence)]}"
   ]
  },
  {
   "cell_type": "markdown",
   "id": "16a9f641",
   "metadata": {},
   "source": [
    "## Pack our BentoService"
   ]
  },
  {
   "cell_type": "code",
   "execution_count": 7,
   "id": "aeabecd5",
   "metadata": {},
   "outputs": [
    {
     "name": "stdout",
     "output_type": "stream",
     "text": [
      "[2021-06-04 13:31:18,292] WARNING - Ignoring pip_packages as requirements_txt_file is set.\n",
      "[2021-06-04 13:31:18,405] WARNING - Using BentoML installed in `editable` model, the local BentoML repository including all code changes will be packaged together with saved bundle created, under the './bundled_pip_dependencies' directory of the saved bundle.\n",
      "[2021-06-04 13:31:18,556] INFO - Using user specified docker base image: `bentoml/model-server:0.12.1-py38-gpu`, usermust make sure that the base image either has Python 3.8 or conda installed.\n",
      "Getting tokenizer and vocab...\n",
      "Setup model params...\n",
      "\n",
      "Exporting torch model to onnx...\n"
     ]
    }
   ],
   "source": [
    "from bento_svc import OnnxService\n",
    "\n",
    "device = torch.device(\"cuda\" if torch.cuda.is_available() else \"cpu\")\n",
    "onnx_model_path = \"model/pytorch_model.onnx\"\n",
    "\n",
    "\n",
    "tokenizer, vocab = get_tokenizer_vocab()\n",
    "vocab_size, embedding_size, num_class = get_model_params(vocab)\n",
    "model = TextClassificationModel(vocab_size, embedding_size, num_class).to(device)\n",
    "model.load_state_dict(torch.load(\"model/pytorch_model.pt\"))\n",
    "model.eval()\n",
    "\n",
    "# convert our dummy inputs to torch.cuda.LongTensor\n",
    "print(\"\\nExporting torch model to onnx...\")\n",
    "inp = torch.rand(vocab_size).long().to(device)\n",
    "\n",
    "# set our dynamic_axes to vocab_size since our inputs for news piece can vary.  Users have to make sure that variables name in dynamic_axes match our dummy ones\n",
    "# e.g: since we define our vocab_size as our size for dummy inputs, dynamic_axes parameters have to follow as shown below.\n",
    "torch.onnx.export(model, inp, onnx_model_path, export_params=True, opset_version=11, do_constant_folding=True,\n",
    "                  input_names=[\"input\"], output_names=[\"output\"],\n",
    "                  dynamic_axes={\"input\": {0: \"vocab_size\"}, \"output\": {0: \"vocab_size\"}})"
   ]
  },
  {
   "cell_type": "code",
   "execution_count": 8,
   "id": "8efecde2",
   "metadata": {},
   "outputs": [
    {
     "name": "stdout",
     "output_type": "stream",
     "text": [
      "\n",
      " Loading model to check...\n",
      "[2021-06-04 13:31:28,129] WARNING - pip package requirement `onnxruntime` not found in current python environment\n",
      "[2021-06-04 13:31:30,729] INFO - Detected non-PyPI-released BentoML installed, copying local BentoML modulefiles to target saved bundle path..\n"
     ]
    },
    {
     "name": "stderr",
     "output_type": "stream",
     "text": [
      "/home/aarnphm/.pyenv/versions/3.8.8/lib/python3.8/site-packages/setuptools/distutils_patch.py:25: UserWarning: Distutils was imported before Setuptools. This usage is discouraged and may exhibit undesirable behaviors or errors. Please use Setuptools' objects directly or at least import Setuptools first.\n",
      "  warnings.warn(\n",
      "warning: no previously-included files matching '*~' found anywhere in distribution\n",
      "warning: no previously-included files matching '*.pyo' found anywhere in distribution\n",
      "warning: no previously-included files matching '.git' found anywhere in distribution\n",
      "warning: no previously-included files matching '.ipynb_checkpoints' found anywhere in distribution\n",
      "warning: no previously-included files matching '__pycache__' found anywhere in distribution\n",
      "no previously-included directories found matching 'e2e_tests'\n",
      "no previously-included directories found matching 'tests'\n",
      "no previously-included directories found matching 'benchmark'\n"
     ]
    },
    {
     "name": "stdout",
     "output_type": "stream",
     "text": [
      "UPDATING BentoML-0.12.1+53.g9d8b599/bentoml/_version.py\n",
      "set BentoML-0.12.1+53.g9d8b599/bentoml/_version.py to '0.12.1+53.g9d8b599'\n",
      "[2021-06-04 13:31:35,111] WARNING - Saved BentoService bundle version mismatch: loading BentoService bundle create with BentoML version 0.12.1, but loading from BentoML version 0.12.1+53.g9d8b599\n",
      "[2021-06-04 13:31:35,361] INFO - BentoService bundle 'OnnxService:20210604133128_5B736C' saved to: /home/aarnphm/bentoml/repository/OnnxService/20210604133128_5B736C\n"
     ]
    }
   ],
   "source": [
    "print(\"\\n Loading model to check...\")\n",
    "onnx_model = onnx.load(onnx_model_path)\n",
    "onnx.checker.check_model(onnx_model)\n",
    "\n",
    "# check will returns nothing if our ONNX model is valid.\n",
    "bento_svc = OnnxService()\n",
    "bento_svc.pack(\"model\", onnx_model_path)\n",
    "bento_svc.pack(\"tokenizer\", tokenizer)\n",
    "bento_svc.pack(\"vocab\", vocab)\n",
    "saved_path = bento_svc.save()\n"
   ]
  },
  {
   "cell_type": "markdown",
   "id": "35c6a0da",
   "metadata": {},
   "source": [
    "## REST API Model Serving\n",
    "\n",
    "To start a REST API model server with the BentoService save above, use the `serve` command:"
   ]
  },
  {
   "cell_type": "code",
   "execution_count": 9,
   "id": "aca3d378",
   "metadata": {},
   "outputs": [
    {
     "name": "stdout",
     "output_type": "stream",
     "text": [
      "[2021-06-04 13:31:36,615] INFO - Getting latest version OnnxService:20210604133128_5B736C\n",
      "[2021-06-04 13:31:36,639] INFO - Starting BentoML API proxy in development mode..\n",
      "[2021-06-04 13:31:36,642] INFO - Starting BentoML API server in development mode..\n",
      "[2021-06-04 13:31:36,674] WARNING - Using BentoML installed in `editable` model, the local BentoML repository including all code changes will be packaged together with saved bundle created, under the './bundled_pip_dependencies' directory of the saved bundle.\n",
      "[2021-06-04 13:31:36,674] WARNING - Using BentoML installed in `editable` model, the local BentoML repository including all code changes will be packaged together with saved bundle created, under the './bundled_pip_dependencies' directory of the saved bundle.\n",
      "[2021-06-04 13:31:36,749] WARNING - Saved BentoService bundle version mismatch: loading BentoService bundle create with BentoML version 0.12.1, but loading from BentoML version 0.12.1+53.g9d8b599\n",
      "[2021-06-04 13:31:36,750] WARNING - Saved BentoService bundle version mismatch: loading BentoService bundle create with BentoML version 0.12.1, but loading from BentoML version 0.12.1+53.g9d8b599\n",
      "[2021-06-04 13:31:36,752] INFO - Your system nofile limit is 4096, which means each instance of microbatch service is able to hold this number of connections at same time. You can increase the number of file descriptors for the server process, or launch more microbatch instances to accept more concurrent connection.\n",
      "======== Running on http://0.0.0.0:5000 ========\n",
      "(Press CTRL+C to quit)\n",
      "[2021-06-04 13:31:37,433] WARNING - Ignoring pip_packages as requirements_txt_file is set.\n",
      "[2021-06-04 13:31:37,481] INFO - Using user specified docker base image: `bentoml/model-server:0.12.1-py38-gpu`, usermust make sure that the base image either has Python 3.8 or conda installed.\n",
      "[2021-06-04 13:31:37,585] WARNING - pip package requirement `onnxruntime` not found in current python environment\n",
      " * Serving Flask app 'OnnxService' (lazy loading)\n",
      " * Environment: production\n",
      "\u001b[31m   WARNING: This is a development server. Do not use it in a production deployment.\u001b[0m\n",
      "\u001b[2m   Use a production WSGI server instead.\u001b[0m\n",
      " * Debug mode: off\n",
      "INFO:werkzeug: * Running on http://127.0.0.1:56609/ (Press CTRL+C to quit)\n",
      "INFO:werkzeug:127.0.0.1 - - [04/Jun/2021 13:31:55] \"GET / HTTP/1.1\" 200 -\n",
      "INFO:werkzeug:127.0.0.1 - - [04/Jun/2021 13:31:55] \"\u001b[36mGET /static_content/main.css HTTP/1.1\u001b[0m\" 304 -\n",
      "INFO:werkzeug:127.0.0.1 - - [04/Jun/2021 13:31:55] \"\u001b[36mGET /static_content/swagger-ui.css HTTP/1.1\u001b[0m\" 304 -\n",
      "INFO:werkzeug:127.0.0.1 - - [04/Jun/2021 13:31:55] \"\u001b[36mGET /static_content/readme.css HTTP/1.1\u001b[0m\" 304 -\n",
      "INFO:werkzeug:127.0.0.1 - - [04/Jun/2021 13:31:55] \"\u001b[36mGET /static_content/swagger-ui-bundle.js HTTP/1.1\u001b[0m\" 304 -\n",
      "INFO:werkzeug:127.0.0.1 - - [04/Jun/2021 13:31:55] \"\u001b[36mGET /static_content/marked.min.js HTTP/1.1\u001b[0m\" 304 -\n",
      "INFO:werkzeug:127.0.0.1 - - [04/Jun/2021 13:31:55] \"GET /docs.json HTTP/1.1\" 200 -\n",
      "Setup pipeline...\n",
      "[2021-06-04 13:32:05,997] INFO - Initializing onnxruntime InferenceSession from onnx file:'/home/aarnphm/bentoml/repository/OnnxService/20210604133128_5B736C/OnnxService/artifacts/model.onnx'\n",
      "2021-06-04 13:32:06.254352914 [W:onnxruntime:, graph_utils.cc:121 CanUpdateImplicitInputNameInSubgraphs]  Implicit input name 17 cannot be safely updated to 12 in one of the subgraphs.\n",
      "2021-06-04 13:32:06.254434141 [W:onnxruntime:, graph_utils.cc:121 CanUpdateImplicitInputNameInSubgraphs]  Implicit input name 17 cannot be safely updated to 12 in one of the subgraphs.\n",
      "2021-06-04 13:32:06.254626241 [W:onnxruntime:, graph_utils.cc:121 CanUpdateImplicitInputNameInSubgraphs]  Implicit input name 17 cannot be safely updated to 12 in one of the subgraphs.\n",
      "providers: ['CUDAExecutionProvider', 'CPUExecutionProvider']\n",
      "[2021-06-04 13:32:07,835] INFO - {'service_name': 'OnnxService', 'service_version': '20210604133128_5B736C', 'api': 'predict', 'task': {'data': '{\"text\":\"WASHINGTON — President Biden offered a series of concessions to try to secure a $1 trillion infrastructure deal with Senate Republicans in an Oval Office meeting this week, narrowing both his spending and tax proposals as negotiations barreled into the final days of what could be an improbable agreement or a blame game that escalates quickly.\"}', 'task_id': '8596ba67-807c-4e87-8198-8a882438144e', 'http_headers': (('Host', 'localhost:5000'), ('User-Agent', 'Mozilla/5.0 (X11; Linux x86_64; rv:88.0) Gecko/20100101 Firefox/88.0'), ('Accept', '*/*'), ('Accept-Language', 'en-US,en;q=0.5'), ('Accept-Encoding', 'gzip, deflate'), ('Referer', 'http://localhost:5000/'), ('Content-Type', 'application/json'), ('Origin', 'http://localhost:5000'), ('Content-Length', '357'), ('Dnt', '1'), ('Connection', 'keep-alive'), ('Cookie', 'username-localhost-8888=\"2|1:0|10:1622788250|23:username-localhost-8888|44:Yzg2OTNlMWRmYjBjNDY2NjkyNzNkZmUxYjQ2YjZkYmM=|df53891cd11d2c1ee8e5ec8603e79f4c37b67d178711e1778ac907d8afb5acf0\"; _xsrf=2|33d87053|2d1249d56e8ad5d63c884ea9a243cc2a|1622740800; username-localhost-8889=\"2|1:0|10:1622781169|23:username-localhost-8889|44:MDYwN2JlMDFmYWMyNGRlNmIwOWRjOTNjZDI5MmMwOWQ=|9dbbfeba548b71497371eb9688b6aa246ca19720c5e2b043cfbaa436a77ce27a\"'))}, 'result': {'data': '{\"categories\": \"Business\"}', 'http_status': 200, 'http_headers': (('Content-Type', 'application/json'),)}, 'request_id': '8596ba67-807c-4e87-8198-8a882438144e'}\n",
      "INFO:werkzeug:127.0.0.1 - - [04/Jun/2021 13:32:07] \"POST /predict HTTP/1.1\" 200 -\n",
      "^C\n"
     ]
    }
   ],
   "source": [
    "!bentoml serve OnnxService:latest"
   ]
  },
  {
   "cell_type": "code",
   "execution_count": 10,
   "id": "bd37ed3f",
   "metadata": {},
   "outputs": [
    {
     "name": "stdout",
     "output_type": "stream",
     "text": [
      "Fri Jun  4 13:32:15 2021       \r\n",
      "+-----------------------------------------------------------------------------+\r\n",
      "| NVIDIA-SMI 465.31       Driver Version: 465.31       CUDA Version: 11.3     |\r\n",
      "|-------------------------------+----------------------+----------------------+\r\n",
      "| GPU  Name        Persistence-M| Bus-Id        Disp.A | Volatile Uncorr. ECC |\r\n",
      "| Fan  Temp  Perf  Pwr:Usage/Cap|         Memory-Usage | GPU-Util  Compute M. |\r\n",
      "|                               |                      |               MIG M. |\r\n",
      "|===============================+======================+======================|\r\n",
      "|   0  NVIDIA GeForce ...  Off  | 00000000:01:00.0 Off |                  N/A |\r\n",
      "| N/A   70C    P2    29W /  N/A |    819MiB /  6078MiB |      0%      Default |\r\n",
      "|                               |                      |                  N/A |\r\n",
      "+-------------------------------+----------------------+----------------------+\r\n",
      "                                                                               \r\n",
      "+-----------------------------------------------------------------------------+\r\n",
      "| Processes:                                                                  |\r\n",
      "|  GPU   GI   CI        PID   Type   Process name                  GPU Memory |\r\n",
      "|        ID   ID                                                   Usage      |\r\n",
      "|=============================================================================|\r\n",
      "|    0   N/A  N/A      1191      G   /usr/lib/Xorg                       4MiB |\r\n",
      "|    0   N/A  N/A    518032      C   ...sions/3.8.8/bin/python3.8      811MiB |\r\n",
      "+-----------------------------------------------------------------------------+\r\n"
     ]
    }
   ],
   "source": [
    "!nvidia-smi"
   ]
  },
  {
   "cell_type": "markdown",
   "id": "0d6a6e8e",
   "metadata": {},
   "source": [
    "If you are running this notebook from Google Colab, start the dev server with `--run-with-ngrok` option to gain access to the API endpoint via a public endpoint managed by [ngrok](https://ngrok.com/):"
   ]
  },
  {
   "cell_type": "code",
   "execution_count": null,
   "id": "f8b54e43",
   "metadata": {},
   "outputs": [],
   "source": [
    "!bentoml serve PyTorchFashionClassifier:latest --run-with-ngrok"
   ]
  },
  {
   "cell_type": "markdown",
   "id": "4b91935e",
   "metadata": {},
   "source": [
    "## Containerize our model server with Docker\n",
    "\n",
    "One common way of distributing this model API server for production deployment, is via Docker containers. And BentoML provides a convenient way to do that.\n",
    "\n",
    "Note that docker is not available in Google Colab. You will need to download and run this notebook locally to try out this containerization with docker feature.\n",
    "\n",
    "If you already have docker configured, simply run the follow command to product a docker container serving the ONNXService with GPU prediction service created above:"
   ]
  },
  {
   "cell_type": "code",
   "execution_count": 11,
   "id": "bfd0d1f0",
   "metadata": {},
   "outputs": [
    {
     "name": "stdout",
     "output_type": "stream",
     "text": [
      "[2021-06-04 13:32:22,759] INFO - Getting latest version OnnxService:20210604133128_5B736C\n",
      "\u001b[39mFound Bento: /home/aarnphm/bentoml/repository/OnnxService/20210604133128_5B736C\u001b[0m\n",
      "[2021-06-04 13:32:22,787] WARNING - Using BentoML installed in `editable` model, the local BentoML repository including all code changes will be packaged together with saved bundle created, under the './bundled_pip_dependencies' directory of the saved bundle.\n",
      "[2021-06-04 13:32:22,854] WARNING - Saved BentoService bundle version mismatch: loading BentoService bundle create with BentoML version 0.12.1, but loading from BentoML version 0.12.1+53.g9d8b599\n",
      "Containerizing OnnxService:20210604133128_5B736C with local YataiService and docker daemon from local environment|^C\n",
      "\b \r"
     ]
    }
   ],
   "source": [
    "!bentoml containerize OnnxService:latest -t onnx-service-gpu:latest"
   ]
  },
  {
   "cell_type": "code",
   "execution_count": 12,
   "id": "b4a2db77",
   "metadata": {},
   "outputs": [
    {
     "name": "stdout",
     "output_type": "stream",
     "text": [
      "[2021-06-04 06:32:34,031] INFO - Starting BentoML proxy in production mode..\n",
      "[2021-06-04 06:32:34,032] INFO - Starting BentoML API server in production mode..\n",
      "[2021-06-04 06:32:34,046] INFO - Running micro batch service on :5000\n",
      "[2021-06-04 06:32:34 +0000] [20] [INFO] Starting gunicorn 20.1.0\n",
      "[2021-06-04 06:32:34 +0000] [20] [INFO] Listening at: http://0.0.0.0:54499 (20)\n",
      "[2021-06-04 06:32:34 +0000] [20] [INFO] Using worker: sync\n",
      "[2021-06-04 06:32:34 +0000] [21] [INFO] Booting worker with pid: 21\n",
      "[2021-06-04 06:32:34,062] WARNING - Using BentoML not from official PyPI release. In order to find the same version of BentoML when deploying your BentoService, you must set the 'core/bentoml_deploy_version' config to a http/git location of your BentoML fork, e.g.: 'bentoml_deploy_version = git+https://github.com/{username}/bentoml.git@{branch}'\n",
      "[2021-06-04 06:32:34,081] WARNING - Saved BentoService bundle version mismatch: loading BentoService bundle create with BentoML version 0.12.1, but loading from BentoML version 0.12.1+53.g9d8b599\n",
      "[2021-06-04 06:32:34 +0000] [1] [INFO] Starting gunicorn 20.1.0\n",
      "[2021-06-04 06:32:34 +0000] [1] [INFO] Listening at: http://0.0.0.0:5000 (1)\n",
      "[2021-06-04 06:32:34 +0000] [1] [INFO] Using worker: aiohttp.worker.GunicornWebWorker\n",
      "[2021-06-04 06:32:34 +0000] [22] [INFO] Booting worker with pid: 22\n",
      "[2021-06-04 06:32:34,179] WARNING - Using BentoML not from official PyPI release. In order to find the same version of BentoML when deploying your BentoService, you must set the 'core/bentoml_deploy_version' config to a http/git location of your BentoML fork, e.g.: 'bentoml_deploy_version = git+https://github.com/{username}/bentoml.git@{branch}'\n",
      "[2021-06-04 06:32:34,195] WARNING - Saved BentoService bundle version mismatch: loading BentoService bundle create with BentoML version 0.12.1, but loading from BentoML version 0.12.1+53.g9d8b599\n",
      "[2021-06-04 06:32:34,197] INFO - Your system nofile limit is 1048576, which means each instance of microbatch service is able to hold this number of connections at same time. You can increase the number of file descriptors for the server process, or launch more microbatch instances to accept more concurrent connection.\n",
      "[2021-06-04 06:32:36,330] WARNING - Ignoring pip_packages as requirements_txt_file is set.\n",
      "[2021-06-04 06:32:36,377] INFO - Using user specified docker base image: `bentoml/model-server:0.12.1-py38-gpu`, usermust make sure that the base image either has Python 3.8 or conda installed.\n",
      "[2021-06-04 06:32:36,578] WARNING - pip package requirement `onnxruntime` not found in current python environment\n",
      "Setup pipeline...\n",
      "[2021-06-04 06:32:50,294] INFO - Initializing onnxruntime InferenceSession from onnx file:'./OnnxService/artifacts/model.onnx'\n",
      "2021-06-04 06:32:50.602900911 [W:onnxruntime:, graph_utils.cc:121 CanUpdateImplicitInputNameInSubgraphs]  Implicit input name 17 cannot be safely updated to 12 in one of the subgraphs.\n",
      "2021-06-04 06:32:50.603000976 [W:onnxruntime:, graph_utils.cc:121 CanUpdateImplicitInputNameInSubgraphs]  Implicit input name 17 cannot be safely updated to 12 in one of the subgraphs.\n",
      "2021-06-04 06:32:50.603301562 [W:onnxruntime:, graph_utils.cc:121 CanUpdateImplicitInputNameInSubgraphs]  Implicit input name 17 cannot be safely updated to 12 in one of the subgraphs.\n",
      "providers: ['CUDAExecutionProvider', 'CPUExecutionProvider']\n",
      "[2021-06-04 06:32:52,649] INFO - {'service_name': 'OnnxService', 'service_version': '20210604132022_031FC3', 'api': 'predict', 'task': {'data': '{\"text\":\"WASHINGTON — President Biden offered a series of concessions to try to secure a $1 trillion infrastructure deal with Senate Republicans in an Oval Office meeting this week, narrowing both his spending and tax proposals as negotiations barreled into the final days of what could be an improbable agreement or a blame game that escalates quickly.\"}', 'task_id': '6ade33c6-0b8f-4988-90dc-6c9eb9e6b5c7', 'http_headers': (('Host', 'localhost:5000'), ('User-Agent', 'Mozilla/5.0 (X11; Linux x86_64; rv:88.0) Gecko/20100101 Firefox/88.0'), ('Accept', '*/*'), ('Accept-Language', 'en-US,en;q=0.5'), ('Accept-Encoding', 'gzip, deflate'), ('Referer', 'http://localhost:5000/'), ('Content-Type', 'application/json'), ('Origin', 'http://localhost:5000'), ('Content-Length', '357'), ('Dnt', '1'), ('Connection', 'keep-alive'), ('Cookie', 'username-localhost-8888=\"2|1:0|10:1622788250|23:username-localhost-8888|44:Yzg2OTNlMWRmYjBjNDY2NjkyNzNkZmUxYjQ2YjZkYmM=|df53891cd11d2c1ee8e5ec8603e79f4c37b67d178711e1778ac907d8afb5acf0\"; _xsrf=2|33d87053|2d1249d56e8ad5d63c884ea9a243cc2a|1622740800; username-localhost-8889=\"2|1:0|10:1622781169|23:username-localhost-8889|44:MDYwN2JlMDFmYWMyNGRlNmIwOWRjOTNjZDI5MmMwOWQ=|9dbbfeba548b71497371eb9688b6aa246ca19720c5e2b043cfbaa436a77ce27a\"'))}, 'result': {'data': '{\"categories\": \"Business\"}', 'http_status': 200, 'http_headers': (('Content-Type', 'application/json'),)}, 'request_id': '6ade33c6-0b8f-4988-90dc-6c9eb9e6b5c7'}\n",
      "^C\n",
      "[2021-06-04 06:32:56 +0000] [1] [INFO] Handling signal: int\n",
      "[2021-06-04 06:32:56 +0000] [22] [INFO] Worker exiting (pid: 22)\n",
      "[2021-06-04 06:32:56 +0000] [20] [INFO] Handling signal: term\n",
      "[2021-06-04 06:32:56 +0000] [21] [INFO] Worker exiting (pid: 21)\n"
     ]
    }
   ],
   "source": [
    "!docker run --gpus all --device /dev/nvidia0 --device /dev/nvidiactl --device /dev/nvidia-modeset --device /dev/nvidia-uvm --device /dev/nvidia-uvm-tools -p 5000:5000 onnx-service-gpu"
   ]
  },
  {
   "cell_type": "markdown",
   "id": "a891b2f1",
   "metadata": {},
   "source": [
    "## Deployment Options\n",
    "\n",
    "If you are at a small team with limited engineering or DevOps resources, try out automated deployment with BentoML CLI, currently supporting AWS Lambda, AWS SageMaker, and Azure Functions:\n",
    "- [AWS Lambda Deployment Guide](https://docs.bentoml.org/en/latest/deployment/aws_lambda.html)\n",
    "- [AWS SageMaker Deployment Guide](https://docs.bentoml.org/en/latest/deployment/aws_sagemaker.html)\n",
    "- [Azure Functions Deployment Guide](https://docs.bentoml.org/en/latest/deployment/azure_functions.html)\n",
    "\n",
    "If the cloud platform you are working with is not on the list above, try out these step-by-step guide on manually deploying BentoML packaged model to cloud platforms:\n",
    "- [AWS ECS Deployment](https://docs.bentoml.org/en/latest/deployment/aws_ecs.html)\n",
    "- [Google Cloud Run Deployment](https://docs.bentoml.org/en/latest/deployment/google_cloud_run.html)\n",
    "- [Azure container instance Deployment](https://docs.bentoml.org/en/latest/deployment/azure_container_instance.html)\n",
    "- [Heroku Deployment](https://docs.bentoml.org/en/latest/deployment/heroku.html)\n",
    "\n",
    "Lastly, if you have a DevOps or ML Engineering team who's operating a Kubernetes or OpenShift cluster, use the following guides as references for implementating your deployment strategy:\n",
    "- [Kubernetes Deployment](https://docs.bentoml.org/en/latest/deployment/kubernetes.html)\n",
    "- [Knative Deployment](https://docs.bentoml.org/en/latest/deployment/knative.html)\n",
    "- [Kubeflow Deployment](https://docs.bentoml.org/en/latest/deployment/kubeflow.html)\n",
    "- [KFServing Deployment](https://docs.bentoml.org/en/latest/deployment/kfserving.html)\n",
    "- [Clipper.ai Deployment Guide](https://docs.bentoml.org/en/latest/deployment/clipper.html)"
   ]
  },
  {
   "cell_type": "code",
   "execution_count": null,
   "id": "af56307c",
   "metadata": {},
   "outputs": [],
   "source": []
  }
 ],
 "metadata": {
  "kernelspec": {
   "display_name": "Python 3",
   "language": "python",
   "name": "python3"
  },
  "language_info": {
   "codemirror_mode": {
    "name": "ipython",
    "version": 3
   },
   "file_extension": ".py",
   "mimetype": "text/x-python",
   "name": "python",
   "nbconvert_exporter": "python",
   "pygments_lexer": "ipython3",
   "version": "3.8.8"
  }
 },
 "nbformat": 4,
 "nbformat_minor": 5
}
