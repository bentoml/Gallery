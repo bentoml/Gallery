{
 "cells": [
  {
   "cell_type": "markdown",
   "id": "a682ea0b",
   "metadata": {},
   "source": [
    "# BentoML {{cookiecutter.framework}} {{cookiecutter.project_name}} Tutorial\n",
    "\n",
    "[Source](https://github.com/bentoml/gallery/blob/main/{{ cookiecutter.__project_dir }}/{{ cookiecutter.__project_slug }}).\n",
    "Try it out on [Colab](https://colab.research.google.com/github/bentoml/gallery/blob/main/{{ cookiecutter.__project_dir }}/{{ cookiecutter.__project_slug }}/{{ cookiecutter.__full_name }}_demo.ipynb).\n",
    "\n",
    "Install required dependencies:"
   ]
  },
  {
   "cell_type": "code",
   "execution_count": null,
   "id": "3ad00863",
   "metadata": {},
   "outputs": [],
   "source": [
    "!pip install -r requirements.txt"
   ]
  },
  {
   "cell_type": "markdown",
   "id": "45393b74",
   "metadata": {},
   "source": [
    "## Define the model\n",
    "\n",
    "First let's define a simple {{cookiecutter.framework}} model"
   ]
  },
  {
   "cell_type": "code",
   "execution_count": null,
   "id": "caeff07d",
   "metadata": {},
   "outputs": [],
   "source": [
    "# Contributed by {{cookiecutter.author}}.\n",
    "# {{cookiecutter.framework}} {{cookiecutter.project_name}} model implementation.\n",
    "\n",
    "import {{ cookiecutter.__project_dir.replace('pytorch', 'torch') }}"
   ]
  },
  {
   "cell_type": "markdown",
   "id": "38888f0a",
   "metadata": {},
   "source": [
    "## Training and Saving the model\n",
    "\n",
    "Then we define some helper functions that can be used for training:"
   ]
  },
  {
   "cell_type": "code",
   "execution_count": null,
   "id": "c62db15c",
   "metadata": {},
   "outputs": [],
   "source": [
    "import os\n",
    "import random\n",
    "\n",
    "import bentoml\n",
    "import numpy as np\n",
    "from sklearn.model_selection import KFold\n",
    "#import necessary library for training here\n",
    "\n",
    "# reproducible setup for testing\n",
    "seed = 42\n",
    "random.seed(seed)\n",
    "np.random.seed(seed)"
   ]
  },
  {
   "cell_type": "code",
   "execution_count": null,
   "id": "539b5097",
   "metadata": {},
   "outputs": [],
   "source": [
    "K_FOLDS = 5\n",
    "NUM_EPOCHS = 5\n",
    "LOSS_FUNCTION = ... # callable loss function\n",
    "\n",
    "def get_dataset(): ...\n",
    "\n",
    "\n",
    "def train_epoch(model, optimizer, loss_function, train_loader, epoch, device=\"cpu\"): ...\n",
    "\n",
    "\n",
    "def test_model(model, test_loader, device=\"cpu\"): ..."
   ]
  },
  {
   "cell_type": "code",
   "execution_count": null,
   "id": "8d2db4a8",
   "metadata": {},
   "outputs": [],
   "source": [
    "# load data\n",
    "train_set, test_set = get_dataset()\n",
    "test_loader = ... "
   ]
  },
  {
   "cell_type": "markdown",
   "id": "788c19a0",
   "metadata": {},
   "source": [
    "### Cross Validation\n",
    "\n",
    "We can do some cross validation and the results can be saved with the model as metadata\n"
   ]
  },
  {
   "cell_type": "code",
   "execution_count": null,
   "id": "0b2fdd72",
   "metadata": {},
   "outputs": [],
   "source": [
    "def cross_validate(dataset, epochs=NUM_EPOCHS, k_folds=K_FOLDS): ... "
   ]
  },
  {
   "cell_type": "code",
   "execution_count": null,
   "id": "bd06de8f",
   "metadata": {},
   "outputs": [],
   "source": [
    "cv_results = cross_validate(train_set, epochs=1)"
   ]
  },
  {
   "cell_type": "markdown",
   "id": "ad2104a6",
   "metadata": {},
   "source": [
    "### Training the model"
   ]
  },
  {
   "cell_type": "code",
   "execution_count": null,
   "id": "d3d311c5",
   "metadata": {},
   "outputs": [],
   "source": [
    "def train(dataset, epochs=NUM_EPOCHS, device=\"cpu\"): ..."
   ]
  },
  {
   "cell_type": "code",
   "execution_count": null,
   "id": "e8df05c4",
   "metadata": {},
   "outputs": [],
   "source": [
    "trained_model = train(train_set)"
   ]
  },
  {
   "cell_type": "markdown",
   "id": "92d9b23c",
   "metadata": {},
   "source": [
    "### Saving the model with some metadata"
   ]
  },
  {
   "cell_type": "code",
   "execution_count": null,
   "id": "1fe9c4a7",
   "metadata": {},
   "outputs": [],
   "source": [
    "correct, total = test_model(trained_model, test_loader)\n",
    "metadata = {\n",
    "    \"accuracy\": float(correct)/total,\n",
    "    \"cv_stats\": cv_results,\n",
    "}\n",
    "\n",
    "tag = bentoml.{{ cookiecutter.__project_dir }}.save(\n",
    "    \"{{ cookiecutter.__full_name }}\",\n",
    "    trained_model,\n",
    "    metadata=metadata,\n",
    ")"
   ]
  },
  {
   "cell_type": "markdown",
   "id": "bdf35e55",
   "metadata": {},
   "source": [
    "## Create a BentoML Service for serving the model\n"
   ]
  },
  {
   "cell_type": "markdown",
   "id": "7f7c9b5a",
   "metadata": {},
   "source": [
    "Note: using `%%writefile` here because `bentoml.Service` instance must be created in a separate `.py` file\n",
    "\n",
    "Even though we have only one model, we can create as many API endpoints as we want. Here we create endpoints..."
   ]
  },
  {
   "cell_type": "code",
   "execution_count": null,
   "id": "f3e2f590",
   "metadata": {},
   "outputs": [],
   "source": [
    "%%writefile service.py\n",
    "import typing as t\n",
    "\n",
    "import bentoml\n",
    "import numpy as np\n",
    "import PIL.Image\n",
    "\n",
    "from bentoml.io import Image, NumpyNdarray\n",
    "from PIL.Image import Image as PILImage\n",
    "\n",
    "{{ cookiecutter.__project_slug }}_runner = bentoml.{{ cookiecutter.__project_dir }}.load_runner(\n",
    "    \"{{ cookiecutter.__full_name }}\",\n",
    "    name=\"{{ cookiecutter.__project_slug }}_runner\",\n",
    ")\n",
    "\n",
    "svc = bentoml.Service(\n",
    "    name=\"{{ cookiecutter.__full_name }}\",\n",
    "    runners=[\n",
    "        {{ cookiecutter.__project_slug }}_runner,\n",
    "    ],\n",
    ")"
   ]
  },
  {
   "cell_type": "markdown",
   "id": "590147aa",
   "metadata": {},
   "source": [
    "Start a dev model server to test out the service defined above"
   ]
  },
  {
   "cell_type": "code",
   "execution_count": null,
   "id": "29173871",
   "metadata": {},
   "outputs": [],
   "source": [
    "!bentoml serve service.py:svc"
   ]
  },
  {
   "cell_type": "markdown",
   "id": "606c1b36",
   "metadata": {},
   "source": [
    "Now you can use something like:\n",
    "\n",
    "```bash\n",
    "$ curl -H \"Content-Type: multipart/form-data\" -F'fileobj=@samples/1.png;type=image/png' http://127.0.0.1:5000/predict\n",
    "```\n",
    "    \n",
    "to send an image to the digit recognition service"
   ]
  },
  {
   "cell_type": "markdown",
   "id": "c7f03564",
   "metadata": {},
   "source": [
    "## Build a Bento for distribution and deployment\n",
    "There are two ways to build a BentoML bundle:"
   ]
  },
  {
   "cell_type": "markdown",
   "id": "29835b03",
   "metadata": {},
   "source": [
    "One can define a `bentofile.yaml`:"
   ]
  },
  {
   "cell_type": "markdown",
   "id": "99854282",
   "metadata": {},
   "source": [
    "```yaml\n",
    "service: \"service:svc\"\n",
    "description: \"file: ./README.md\"\n",
    "labels:\n",
    "  owner: {{cookiecutter.author.lower().replace(' ', '-')}}\n",
    "  stage: demo\n",
    "include:\n",
    "- \"*.py\"\n",
    "exclude:\n",
    "- \"tests/\"\n",
    "python:\n",
    "  packages:\n",
    "    - scikit-learn\n",
    "    - Pillow\n",
    "```"
   ]
  },
  {
   "cell_type": "markdown",
   "id": "1052a551",
   "metadata": {},
   "source": [
    "Then run `bentoml build` in a terminal session in this directory:"
   ]
  },
  {
   "cell_type": "markdown",
   "id": "fdabd517",
   "metadata": {},
   "source": [
    "```bash\n",
    "$ bentoml build\n",
    "```"
   ]
  },
  {
   "cell_type": "markdown",
   "id": "97464be6",
   "metadata": {},
   "source": [
    "One can also use BentoML's python API `bentoml.build`: "
   ]
  },
  {
   "cell_type": "code",
   "execution_count": null,
   "id": "207561bc",
   "metadata": {},
   "outputs": [],
   "source": [
    "bentoml.build(\n",
    "    \"service.py:svc\",\n",
    "    include=[\"*.py\"],\n",
    "    exclude=[\"tests/\"],\n",
    "    description=\"file:./README.md\",\n",
    "    python=dict(\n",
    "        packages=[\"scikit-learn\", \"torch\", \"Pillow\"],\n",
    "    )\n",
    ")"
   ]
  },
  {
   "cell_type": "markdown",
   "id": "36306933",
   "metadata": {},
   "source": [
    "Starting a development server with the new bento with `bentoml serve`:"
   ]
  },
  {
   "cell_type": "markdown",
   "id": "4265f0c3",
   "metadata": {},
   "source": [
    "```bash\n",
    "$ bentoml serve {{ cookiecutter.__full_name }}:latest\n",
    "```"
   ]
  },
  {
   "cell_type": "code",
   "execution_count": null,
   "id": "f05fae93",
   "metadata": {},
   "outputs": [],
   "source": []
  }
 ],
 "metadata": {
  "kernelspec": {
   "display_name": "Python 3 (ipykernel)",
   "language": "python",
   "name": "python3"
  },
  "language_info": {
   "codemirror_mode": {
    "name": "ipython",
    "version": 3
   },
   "file_extension": ".py",
   "mimetype": "text/x-python",
   "name": "python",
   "nbconvert_exporter": "python",
   "pygments_lexer": "ipython3",
   "version": "3.9.10"
  },
  "name": "{{ cookiecutter.__full_name }}_demo.ipynb"
 },
 "nbformat": 4,
 "nbformat_minor": 5
}
