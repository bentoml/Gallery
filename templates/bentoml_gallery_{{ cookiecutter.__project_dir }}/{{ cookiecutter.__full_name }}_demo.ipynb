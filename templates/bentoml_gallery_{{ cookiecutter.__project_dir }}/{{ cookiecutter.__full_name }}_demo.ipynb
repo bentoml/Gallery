{
 "cells": [
  {
   "cell_type": "markdown",
   "id": "a682ea0b",
   "metadata": {},
   "source": [
    "# BentoML {{cookiecutter.framework}} {{cookiecutter.project_name}} Tutorial\n",
    "\n",
    "[Source](https://github.com/bentoml/gallery/blob/main/{{ cookiecutter.__project_dir }}/{{ cookiecutter.__project_slug }}).\n",
    "Try it out on [Colab](https://colab.research.google.com/github/bentoml/gallery/blob/main/{{ cookiecutter.__project_dir }}/{{ cookiecutter.__project_slug }}/{{ cookiecutter.__full_name }}_demo.ipynb).\n",
    "\n",
    "Install required dependencies:"
   ]
  },
  {
   "cell_type": "code",
   "execution_count": null,
   "id": "3ad00863",
   "metadata": {},
   "outputs": [],
   "source": [
    "!pip install -r requirements.txt"
   ]
  },
  {
   "cell_type": "markdown",
   "id": "45393b74",
   "metadata": {},
   "source": [
    "## Define the model\n",
    "\n",
    "First let's define a simple {{cookiecutter.framework}} model"
   ]
  },
  {
   "cell_type": "code",
   "execution_count": null,
   "id": "9324f38a",
   "metadata": {},
   "outputs": [],
   "source": []
  },
  {
   "cell_type": "markdown",
   "id": "38888f0a",
   "metadata": {},
   "source": [
    "## Training and Saving the model\n",
    "\n",
    "Then we define some helper functions that can be used for training:"
   ]
  },
  {
   "cell_type": "code",
   "execution_count": null,
   "id": "8055eefb",
   "metadata": {},
   "outputs": [],
   "source": []
  },
  {
   "cell_type": "markdown",
   "id": "bdf35e55",
   "metadata": {},
   "source": [
    "## Create a BentoML Service for serving the model\n"
   ]
  },
  {
   "cell_type": "code",
   "execution_count": null,
   "id": "87ea3c93",
   "metadata": {},
   "outputs": [],
   "source": []
  },
  {
   "cell_type": "markdown",
   "id": "c7f03564",
   "metadata": {},
   "source": [
    "## Build a Bento for distribution and deployment\n",
    "There are two ways to build a BentoML bundle:"
   ]
  },
  {
   "cell_type": "code",
   "execution_count": null,
   "id": "f05fae93",
   "metadata": {},
   "outputs": [],
   "source": []
  }
 ],
 "metadata": {
  "kernelspec": {
   "display_name": "Python 3 (ipykernel)",
   "language": "python",
   "name": "python3"
  },
  "language_info": {
   "codemirror_mode": {
    "name": "ipython",
    "version": 3
   },
   "file_extension": ".py",
   "mimetype": "text/x-python",
   "name": "python",
   "nbconvert_exporter": "python",
   "pygments_lexer": "ipython3",
   "version": "3.10.2"
  },
  "name": "{{ cookiecutter.__full_name }}_demo.ipynb"
 },
 "nbformat": 4,
 "nbformat_minor": 5
}
