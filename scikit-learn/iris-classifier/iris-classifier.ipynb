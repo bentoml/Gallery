{
  "cells": [
    {
      "cell_type": "markdown",
      "metadata": {
        "id": "aZ0Tv8OmUQS0",
        "colab_type": "text"
      },
      "source": [
        "# BentoML Demo: Iris Classifier with custom web UI\n",
        "\n",
        "[BentoML](http://bentoml.ai) is an open source platform for machine learning model serving and deployment. \n",
        "\n",
        "This notebook demonstrates how to use BentoML to __serve a Iris Classification model containing a REST API server with Custom Web UI__.\n",
        "\n",
        "![Impression](https://www.google-analytics.com/collect?v=1&tid=UA-112879361-3&cid=555&t=event&ec=h2o&ea=h2o-loan-default-prediction&dt=h2o-loan-default-prediction)"
      ]
    },
    {
      "cell_type": "code",
      "metadata": {
        "id": "vzf20abXU_vz",
        "colab_type": "code",
        "colab": {}
      },
      "source": [
        "%reload_ext autoreload\n",
        "%autoreload 2\n",
        "%matplotlib inline\n",
        "\n",
        "import warnings\n",
        "warnings.filterwarnings(\"ignore\")"
      ],
      "execution_count": 1,
      "outputs": []
    },
    {
      "cell_type": "code",
      "metadata": {
        "id": "5fANNcHQVC-g",
        "colab_type": "code",
        "colab": {
          "base_uri": "https://localhost:8080/",
          "height": 989
        },
        "outputId": "dbedb6bf-97b7-45af-8891-99e67a08d96b"
      },
      "source": [
        "!pip install bentoml\n",
        "!pip install sklearn"
      ],
      "execution_count": 2,
      "outputs": [
        {
          "output_type": "stream",
          "text": [
            "Requirement already satisfied: bentoml in /mnt/Vault/Projects/MLH/bentoml/BentoML (0.8.1+8.ge89f7fc)\n",
            "Requirement already satisfied: aiohttp in /home/kiteretsu/anaconda3/envs/MLH/lib/python3.7/site-packages (from bentoml) (3.6.2)\n",
            "Requirement already satisfied: alembic in /home/kiteretsu/anaconda3/envs/MLH/lib/python3.7/site-packages (from bentoml) (1.4.2)\n",
            "Requirement already satisfied: boto3 in /home/kiteretsu/anaconda3/envs/MLH/lib/python3.7/site-packages (from bentoml) (1.14.0)\n",
            "Requirement already satisfied: cerberus in /home/kiteretsu/anaconda3/envs/MLH/lib/python3.7/site-packages (from bentoml) (1.3.2)\n",
            "Requirement already satisfied: certifi in /home/kiteretsu/anaconda3/envs/MLH/lib/python3.7/site-packages (from bentoml) (2020.4.5.2)\n",
            "Requirement already satisfied: click>=7.0 in /home/kiteretsu/anaconda3/envs/MLH/lib/python3.7/site-packages (from bentoml) (7.1.2)\n",
            "Requirement already satisfied: configparser in /home/kiteretsu/anaconda3/envs/MLH/lib/python3.7/site-packages (from bentoml) (5.0.0)\n",
            "Requirement already satisfied: docker in /home/kiteretsu/anaconda3/envs/MLH/lib/python3.7/site-packages (from bentoml) (4.2.1)\n",
            "Requirement already satisfied: flask in /home/kiteretsu/anaconda3/envs/MLH/lib/python3.7/site-packages (from bentoml) (1.1.2)\n",
            "Requirement already satisfied: grpcio<=1.27.2 in /home/kiteretsu/anaconda3/envs/MLH/lib/python3.7/site-packages (from bentoml) (1.27.2)\n",
            "Requirement already satisfied: gunicorn in /home/kiteretsu/anaconda3/envs/MLH/lib/python3.7/site-packages (from bentoml) (20.0.4)\n",
            "Requirement already satisfied: humanfriendly in /home/kiteretsu/anaconda3/envs/MLH/lib/python3.7/site-packages (from bentoml) (8.2)\n",
            "Requirement already satisfied: numpy in /home/kiteretsu/anaconda3/envs/MLH/lib/python3.7/site-packages (from bentoml) (1.18.5)\n",
            "Requirement already satisfied: packaging in /home/kiteretsu/anaconda3/envs/MLH/lib/python3.7/site-packages (from bentoml) (20.4)\n",
            "Requirement already satisfied: prometheus_client in /home/kiteretsu/anaconda3/envs/MLH/lib/python3.7/site-packages (from bentoml) (0.8.0)\n",
            "Requirement already satisfied: protobuf>=3.6.0 in /home/kiteretsu/anaconda3/envs/MLH/lib/python3.7/site-packages (from bentoml) (3.12.2)\n",
            "Requirement already satisfied: psutil in /home/kiteretsu/anaconda3/envs/MLH/lib/python3.7/site-packages (from bentoml) (5.7.0)\n",
            "Requirement already satisfied: py_zipkin in /home/kiteretsu/anaconda3/envs/MLH/lib/python3.7/site-packages (from bentoml) (0.20.0)\n",
            "Requirement already satisfied: python-dateutil<2.8.1,>=2.1 in /home/kiteretsu/anaconda3/envs/MLH/lib/python3.7/site-packages (from bentoml) (2.8.0)\n",
            "Requirement already satisfied: python-json-logger in /home/kiteretsu/anaconda3/envs/MLH/lib/python3.7/site-packages (from bentoml) (0.1.11)\n",
            "Requirement already satisfied: requests in /home/kiteretsu/anaconda3/envs/MLH/lib/python3.7/site-packages (from bentoml) (2.23.0)\n",
            "Requirement already satisfied: ruamel.yaml>=0.15.0 in /home/kiteretsu/anaconda3/envs/MLH/lib/python3.7/site-packages (from bentoml) (0.16.10)\n",
            "Requirement already satisfied: sqlalchemy-utils in /home/kiteretsu/anaconda3/envs/MLH/lib/python3.7/site-packages (from bentoml) (0.36.6)\n",
            "Requirement already satisfied: sqlalchemy>=1.3.0 in /home/kiteretsu/anaconda3/envs/MLH/lib/python3.7/site-packages (from bentoml) (1.3.17)\n",
            "Requirement already satisfied: tabulate in /home/kiteretsu/anaconda3/envs/MLH/lib/python3.7/site-packages (from bentoml) (0.8.7)\n",
            "Requirement already satisfied: yarl<2.0,>=1.0 in /home/kiteretsu/anaconda3/envs/MLH/lib/python3.7/site-packages (from aiohttp->bentoml) (1.4.2)\n",
            "Requirement already satisfied: attrs>=17.3.0 in /home/kiteretsu/anaconda3/envs/MLH/lib/python3.7/site-packages (from aiohttp->bentoml) (19.3.0)\n",
            "Requirement already satisfied: multidict<5.0,>=4.5 in /home/kiteretsu/anaconda3/envs/MLH/lib/python3.7/site-packages (from aiohttp->bentoml) (4.7.6)\n",
            "Requirement already satisfied: chardet<4.0,>=2.0 in /home/kiteretsu/anaconda3/envs/MLH/lib/python3.7/site-packages (from aiohttp->bentoml) (3.0.4)\n",
            "Requirement already satisfied: async-timeout<4.0,>=3.0 in /home/kiteretsu/anaconda3/envs/MLH/lib/python3.7/site-packages (from aiohttp->bentoml) (3.0.1)\n",
            "Requirement already satisfied: python-editor>=0.3 in /home/kiteretsu/anaconda3/envs/MLH/lib/python3.7/site-packages (from alembic->bentoml) (1.0.4)\n",
            "Requirement already satisfied: Mako in /home/kiteretsu/anaconda3/envs/MLH/lib/python3.7/site-packages (from alembic->bentoml) (1.1.3)\n",
            "Requirement already satisfied: jmespath<1.0.0,>=0.7.1 in /home/kiteretsu/anaconda3/envs/MLH/lib/python3.7/site-packages (from boto3->bentoml) (0.10.0)\n",
            "Requirement already satisfied: s3transfer<0.4.0,>=0.3.0 in /home/kiteretsu/anaconda3/envs/MLH/lib/python3.7/site-packages (from boto3->bentoml) (0.3.3)\n",
            "Requirement already satisfied: botocore<1.18.0,>=1.17.0 in /home/kiteretsu/anaconda3/envs/MLH/lib/python3.7/site-packages (from boto3->bentoml) (1.17.0)\n",
            "Requirement already satisfied: setuptools in /home/kiteretsu/anaconda3/envs/MLH/lib/python3.7/site-packages (from cerberus->bentoml) (47.1.1.post20200529)\n",
            "Requirement already satisfied: websocket-client>=0.32.0 in /home/kiteretsu/anaconda3/envs/MLH/lib/python3.7/site-packages (from docker->bentoml) (0.57.0)\n",
            "Requirement already satisfied: six>=1.4.0 in /home/kiteretsu/anaconda3/envs/MLH/lib/python3.7/site-packages (from docker->bentoml) (1.15.0)\n",
            "Requirement already satisfied: Jinja2>=2.10.1 in /home/kiteretsu/anaconda3/envs/MLH/lib/python3.7/site-packages (from flask->bentoml) (2.11.2)\n",
            "Requirement already satisfied: Werkzeug>=0.15 in /home/kiteretsu/anaconda3/envs/MLH/lib/python3.7/site-packages (from flask->bentoml) (1.0.1)\n",
            "Requirement already satisfied: itsdangerous>=0.24 in /home/kiteretsu/anaconda3/envs/MLH/lib/python3.7/site-packages (from flask->bentoml) (1.1.0)\n",
            "Requirement already satisfied: pyparsing>=2.0.2 in /home/kiteretsu/anaconda3/envs/MLH/lib/python3.7/site-packages (from packaging->bentoml) (2.4.7)\n",
            "Requirement already satisfied: thriftpy2>=0.4.0 in /home/kiteretsu/anaconda3/envs/MLH/lib/python3.7/site-packages (from py_zipkin->bentoml) (0.4.11)\n",
            "Requirement already satisfied: idna<3,>=2.5 in /home/kiteretsu/anaconda3/envs/MLH/lib/python3.7/site-packages (from requests->bentoml) (2.9)\n",
            "Requirement already satisfied: urllib3!=1.25.0,!=1.25.1,<1.26,>=1.21.1 in /home/kiteretsu/anaconda3/envs/MLH/lib/python3.7/site-packages (from requests->bentoml) (1.25.9)\n",
            "Requirement already satisfied: ruamel.yaml.clib>=0.1.2; platform_python_implementation == \"CPython\" and python_version < \"3.9\" in /home/kiteretsu/anaconda3/envs/MLH/lib/python3.7/site-packages (from ruamel.yaml>=0.15.0->bentoml) (0.2.0)\n",
            "Requirement already satisfied: MarkupSafe>=0.9.2 in /home/kiteretsu/anaconda3/envs/MLH/lib/python3.7/site-packages (from Mako->alembic->bentoml) (1.1.1)\n",
            "Requirement already satisfied: docutils<0.16,>=0.10 in /home/kiteretsu/anaconda3/envs/MLH/lib/python3.7/site-packages (from botocore<1.18.0,>=1.17.0->boto3->bentoml) (0.15.2)\n",
            "Requirement already satisfied: ply<4.0,>=3.4 in /home/kiteretsu/anaconda3/envs/MLH/lib/python3.7/site-packages (from thriftpy2>=0.4.0->py_zipkin->bentoml) (3.11)\n",
            "Requirement already satisfied: sklearn in /home/kiteretsu/anaconda3/envs/MLH/lib/python3.7/site-packages (0.0)\n",
            "Requirement already satisfied: scikit-learn in /home/kiteretsu/anaconda3/envs/MLH/lib/python3.7/site-packages (from sklearn) (0.23.1)\n",
            "Requirement already satisfied: scipy>=0.19.1 in /home/kiteretsu/anaconda3/envs/MLH/lib/python3.7/site-packages (from scikit-learn->sklearn) (1.4.1)\n",
            "Requirement already satisfied: threadpoolctl>=2.0.0 in /home/kiteretsu/anaconda3/envs/MLH/lib/python3.7/site-packages (from scikit-learn->sklearn) (2.1.0)\n",
            "Requirement already satisfied: numpy>=1.13.3 in /home/kiteretsu/anaconda3/envs/MLH/lib/python3.7/site-packages (from scikit-learn->sklearn) (1.18.5)\n",
            "Requirement already satisfied: joblib>=0.11 in /home/kiteretsu/anaconda3/envs/MLH/lib/python3.7/site-packages (from scikit-learn->sklearn) (0.15.1)\n"
          ],
          "name": "stdout"
        }
      ]
    },
    {
      "cell_type": "markdown",
      "metadata": {
        "id": "_a2_xA2JtCEo",
        "colab_type": "text"
      },
      "source": [
        "## Create BentoService for model serving"
      ]
    },
    {
      "cell_type": "code",
      "metadata": {
        "id": "ixGEZTxpVXPe",
        "colab_type": "code",
        "colab": {
          "base_uri": "https://localhost:8080/",
          "height": 34
        },
        "outputId": "9c80ae20-f8e1-4933-8fe9-8e4498f23dca"
      },
      "source": [
        "%%writefile iris_classifier.py\n",
        "from bentoml import env, artifacts, api, BentoService\n",
        "from bentoml.adapters import DataframeInput\n",
        "from bentoml.artifact import SklearnModelArtifact\n",
        "\n",
        "@env(auto_pip_dependencies=True)\n",
        "@artifacts([SklearnModelArtifact('model')])\n",
        "class IrisClassifier(BentoService):\n",
        "\n",
        "    @api(input=DataframeInput())\n",
        "    def predict(self, df):\n",
        "        # Optional pre-processing, post-processing code goes here\n",
        "        return self.artifacts.model.predict(df)"
      ],
      "execution_count": 3,
      "outputs": [
        {
          "output_type": "stream",
          "text": [
            "Writing iris_classifier.py\n"
          ],
          "name": "stdout"
        }
      ]
    },
    {
      "cell_type": "code",
      "metadata": {
        "id": "LolMzwYrWaqI",
        "colab_type": "code",
        "colab": {
          "base_uri": "https://localhost:8080/",
          "height": 34
        },
        "outputId": "cecd7fbe-7b5d-4f85-f94d-9db41fa19e6c"
      },
      "source": [
        "from sklearn import svm\n",
        "from sklearn import datasets\n",
        "\n",
        "from iris_classifier import IrisClassifier\n",
        "\n",
        "if __name__ == \"__main__\":\n",
        "  # Load training data\n",
        "  iris = datasets.load_iris()\n",
        "  X, y = iris.data, iris.target\n",
        "\n",
        "  # Model Training\n",
        "  clf = svm.SVC(gamma='scale')\n",
        "  clf.fit(X, y)\n",
        "\n",
        "  # Create a iris classifier service instance\n",
        "  iris_classifier_service = IrisClassifier()\n",
        "\n",
        "  # Pack the newly trained model artifact\n",
        "  iris_classifier_service.pack('model', clf)\n",
        "\n",
        "  # Save the prediction service to disk for model serving\n",
        "  saved_path = iris_classifier_service.save()"
      ],
      "execution_count": 4,
      "outputs": [
        {
          "output_type": "stream",
          "text": [
            "Writing main.py\n"
          ],
          "name": "stdout"
        }
      ]
    },
    {
      "cell_type": "code",
      "metadata": {
        "id": "YvMA7Xrvz5Yi",
        "colab_type": "code",
        "colab": {
          "base_uri": "https://localhost:8080/",
          "height": 1000
        },
        "outputId": "16277dd2-cec1-4235-dc8a-dc3dfbb71126"
      },
      "source": [
        "!python3 main.py"
      ],
      "execution_count": 5,
      "outputs": [
        {
          "output_type": "stream",
          "text": [
            "[2020-07-07 11:37:23,967] WARNING - BentoML local changes detected - Local BentoML repository including all code changes will be packaged together with saved bundle created, under './bundled_pip_dependencies' directory. For using a modified version of BentoML for production deployment, it is recommended to set the 'core/bentoml_deploy_version' config to a http location or your BentoML for on github, e.g.: 'bentoml_deploy_version = git+https://github.com/{username}/bentoml.git@{branch}'\n",
            "[2020-07-07 11:37:30,939] INFO - Detect BentoML installed in development model, copying local BentoML module file to target saved bundle path\n",
            "running sdist\n",
            "running egg_info\n",
            "writing BentoML.egg-info/PKG-INFO\n",
            "writing dependency_links to BentoML.egg-info/dependency_links.txt\n",
            "writing entry points to BentoML.egg-info/entry_points.txt\n",
            "writing requirements to BentoML.egg-info/requires.txt\n",
            "writing top-level names to BentoML.egg-info/top_level.txt\n",
            "reading manifest file 'BentoML.egg-info/SOURCES.txt'\n",
            "reading manifest template 'MANIFEST.in'\n",
            "warning: no previously-included files matching '*~' found anywhere in distribution\n",
            "warning: no previously-included files matching '*.pyo' found anywhere in distribution\n",
            "warning: no previously-included files matching '.git' found anywhere in distribution\n",
            "warning: no previously-included files matching '.ipynb_checkpoints' found anywhere in distribution\n",
            "warning: no previously-included files matching '__pycache__' found anywhere in distribution\n",
            "warning: no directories found matching 'bentoml/server/static'\n",
            "warning: no directories found matching 'bentoml/yatai/web/dist'\n",
            "warning: no files found matching 'bentoml/yatai/deployment/sagemaker/sagemaker_nginx.conf'\n",
            "no previously-included directories found matching 'e2e_tests'\n",
            "no previously-included directories found matching 'tests'\n",
            "no previously-included directories found matching 'benchmark'\n",
            "writing manifest file 'BentoML.egg-info/SOURCES.txt'\n",
            "running check\n",
            "creating BentoML-0.8.1+8.ge89f7fc\n",
            "creating BentoML-0.8.1+8.ge89f7fc/BentoML.egg-info\n",
            "creating BentoML-0.8.1+8.ge89f7fc/bentoml\n",
            "creating BentoML-0.8.1+8.ge89f7fc/bentoml/adapters\n",
            "creating BentoML-0.8.1+8.ge89f7fc/bentoml/artifact\n",
            "creating BentoML-0.8.1+8.ge89f7fc/bentoml/cli\n",
            "creating BentoML-0.8.1+8.ge89f7fc/bentoml/clipper\n",
            "creating BentoML-0.8.1+8.ge89f7fc/bentoml/configuration\n",
            "creating BentoML-0.8.1+8.ge89f7fc/bentoml/configuration/__pycache__\n",
            "creating BentoML-0.8.1+8.ge89f7fc/bentoml/handlers\n",
            "creating BentoML-0.8.1+8.ge89f7fc/bentoml/marshal\n",
            "creating BentoML-0.8.1+8.ge89f7fc/bentoml/saved_bundle\n",
            "creating BentoML-0.8.1+8.ge89f7fc/bentoml/server\n",
            "creating BentoML-0.8.1+8.ge89f7fc/bentoml/utils\n",
            "creating BentoML-0.8.1+8.ge89f7fc/bentoml/yatai\n",
            "creating BentoML-0.8.1+8.ge89f7fc/bentoml/yatai/client\n",
            "creating BentoML-0.8.1+8.ge89f7fc/bentoml/yatai/deployment\n",
            "creating BentoML-0.8.1+8.ge89f7fc/bentoml/yatai/deployment/aws_lambda\n",
            "creating BentoML-0.8.1+8.ge89f7fc/bentoml/yatai/deployment/sagemaker\n",
            "creating BentoML-0.8.1+8.ge89f7fc/bentoml/yatai/migrations\n",
            "creating BentoML-0.8.1+8.ge89f7fc/bentoml/yatai/migrations/__pycache__\n",
            "creating BentoML-0.8.1+8.ge89f7fc/bentoml/yatai/migrations/versions\n",
            "creating BentoML-0.8.1+8.ge89f7fc/bentoml/yatai/migrations/versions/__pycache__\n",
            "creating BentoML-0.8.1+8.ge89f7fc/bentoml/yatai/proto\n",
            "creating BentoML-0.8.1+8.ge89f7fc/bentoml/yatai/repository\n",
            "creating BentoML-0.8.1+8.ge89f7fc/bentoml/yatai/validator\n",
            "copying files to BentoML-0.8.1+8.ge89f7fc...\n",
            "copying LICENSE -> BentoML-0.8.1+8.ge89f7fc\n",
            "copying MANIFEST.in -> BentoML-0.8.1+8.ge89f7fc\n",
            "copying README.md -> BentoML-0.8.1+8.ge89f7fc\n",
            "copying pyproject.toml -> BentoML-0.8.1+8.ge89f7fc\n",
            "copying setup.cfg -> BentoML-0.8.1+8.ge89f7fc\n",
            "copying setup.py -> BentoML-0.8.1+8.ge89f7fc\n",
            "copying versioneer.py -> BentoML-0.8.1+8.ge89f7fc\n",
            "copying BentoML.egg-info/PKG-INFO -> BentoML-0.8.1+8.ge89f7fc/BentoML.egg-info\n",
            "copying BentoML.egg-info/SOURCES.txt -> BentoML-0.8.1+8.ge89f7fc/BentoML.egg-info\n",
            "copying BentoML.egg-info/dependency_links.txt -> BentoML-0.8.1+8.ge89f7fc/BentoML.egg-info\n",
            "copying BentoML.egg-info/entry_points.txt -> BentoML-0.8.1+8.ge89f7fc/BentoML.egg-info\n",
            "copying BentoML.egg-info/requires.txt -> BentoML-0.8.1+8.ge89f7fc/BentoML.egg-info\n",
            "copying BentoML.egg-info/top_level.txt -> BentoML-0.8.1+8.ge89f7fc/BentoML.egg-info\n",
            "copying bentoml/__init__.py -> BentoML-0.8.1+8.ge89f7fc/bentoml\n",
            "copying bentoml/_version.py -> BentoML-0.8.1+8.ge89f7fc/bentoml\n",
            "copying bentoml/exceptions.py -> BentoML-0.8.1+8.ge89f7fc/bentoml\n",
            "copying bentoml/service.py -> BentoML-0.8.1+8.ge89f7fc/bentoml\n",
            "copying bentoml/service_env.py -> BentoML-0.8.1+8.ge89f7fc/bentoml\n",
            "copying bentoml/adapters/__init__.py -> BentoML-0.8.1+8.ge89f7fc/bentoml/adapters\n",
            "copying bentoml/adapters/base_input.py -> BentoML-0.8.1+8.ge89f7fc/bentoml/adapters\n",
            "copying bentoml/adapters/base_output.py -> BentoML-0.8.1+8.ge89f7fc/bentoml/adapters\n",
            "copying bentoml/adapters/clipper_input.py -> BentoML-0.8.1+8.ge89f7fc/bentoml/adapters\n",
            "copying bentoml/adapters/dataframe_input.py -> BentoML-0.8.1+8.ge89f7fc/bentoml/adapters\n",
            "copying bentoml/adapters/dataframe_output.py -> BentoML-0.8.1+8.ge89f7fc/bentoml/adapters\n",
            "copying bentoml/adapters/default_output.py -> BentoML-0.8.1+8.ge89f7fc/bentoml/adapters\n",
            "copying bentoml/adapters/fastai_image_input.py -> BentoML-0.8.1+8.ge89f7fc/bentoml/adapters\n",
            "copying bentoml/adapters/image_input.py -> BentoML-0.8.1+8.ge89f7fc/bentoml/adapters\n",
            "copying bentoml/adapters/json_input.py -> BentoML-0.8.1+8.ge89f7fc/bentoml/adapters\n",
            "copying bentoml/adapters/json_output.py -> BentoML-0.8.1+8.ge89f7fc/bentoml/adapters\n",
            "copying bentoml/adapters/legacy_image_input.py -> BentoML-0.8.1+8.ge89f7fc/bentoml/adapters\n",
            "copying bentoml/adapters/pytorch_tensor_input.py -> BentoML-0.8.1+8.ge89f7fc/bentoml/adapters\n",
            "copying bentoml/adapters/tensorflow_tensor_input.py -> BentoML-0.8.1+8.ge89f7fc/bentoml/adapters\n",
            "copying bentoml/adapters/tensorflow_tensor_output.py -> BentoML-0.8.1+8.ge89f7fc/bentoml/adapters\n",
            "copying bentoml/adapters/utils.py -> BentoML-0.8.1+8.ge89f7fc/bentoml/adapters\n",
            "copying bentoml/artifact/__init__.py -> BentoML-0.8.1+8.ge89f7fc/bentoml/artifact\n",
            "copying bentoml/artifact/artifact.py -> BentoML-0.8.1+8.ge89f7fc/bentoml/artifact\n",
            "copying bentoml/artifact/fastai2_model_artifact.py -> BentoML-0.8.1+8.ge89f7fc/bentoml/artifact\n",
            "copying bentoml/artifact/fastai_model_artifact.py -> BentoML-0.8.1+8.ge89f7fc/bentoml/artifact\n",
            "copying bentoml/artifact/fasttext_model_artifact.py -> BentoML-0.8.1+8.ge89f7fc/bentoml/artifact\n",
            "copying bentoml/artifact/h2o_model_artifact.py -> BentoML-0.8.1+8.ge89f7fc/bentoml/artifact\n",
            "copying bentoml/artifact/json_artifact.py -> BentoML-0.8.1+8.ge89f7fc/bentoml/artifact\n",
            "copying bentoml/artifact/keras_model_artifact.py -> BentoML-0.8.1+8.ge89f7fc/bentoml/artifact\n",
            "copying bentoml/artifact/lightgbm_model_artifact.py -> BentoML-0.8.1+8.ge89f7fc/bentoml/artifact\n",
            "copying bentoml/artifact/onnx_model_artifact.py -> BentoML-0.8.1+8.ge89f7fc/bentoml/artifact\n",
            "copying bentoml/artifact/pickle_artifact.py -> BentoML-0.8.1+8.ge89f7fc/bentoml/artifact\n",
            "copying bentoml/artifact/pytorch_model_artifact.py -> BentoML-0.8.1+8.ge89f7fc/bentoml/artifact\n",
            "copying bentoml/artifact/sklearn_model_artifact.py -> BentoML-0.8.1+8.ge89f7fc/bentoml/artifact\n",
            "copying bentoml/artifact/spacy_model_artifact.py -> BentoML-0.8.1+8.ge89f7fc/bentoml/artifact\n",
            "copying bentoml/artifact/text_file_artifact.py -> BentoML-0.8.1+8.ge89f7fc/bentoml/artifact\n",
            "copying bentoml/artifact/tf_savedmodel_artifact.py -> BentoML-0.8.1+8.ge89f7fc/bentoml/artifact\n",
            "copying bentoml/artifact/xgboost_model_artifact.py -> BentoML-0.8.1+8.ge89f7fc/bentoml/artifact\n",
            "copying bentoml/cli/__init__.py -> BentoML-0.8.1+8.ge89f7fc/bentoml/cli\n",
            "copying bentoml/cli/aws_lambda.py -> BentoML-0.8.1+8.ge89f7fc/bentoml/cli\n",
            "copying bentoml/cli/aws_sagemaker.py -> BentoML-0.8.1+8.ge89f7fc/bentoml/cli\n",
            "copying bentoml/cli/bento.py -> BentoML-0.8.1+8.ge89f7fc/bentoml/cli\n",
            "copying bentoml/cli/click_utils.py -> BentoML-0.8.1+8.ge89f7fc/bentoml/cli\n",
            "copying bentoml/cli/config.py -> BentoML-0.8.1+8.ge89f7fc/bentoml/cli\n",
            "copying bentoml/cli/deployment.py -> BentoML-0.8.1+8.ge89f7fc/bentoml/cli\n",
            "copying bentoml/cli/utils.py -> BentoML-0.8.1+8.ge89f7fc/bentoml/cli\n",
            "copying bentoml/cli/yatai_service.py -> BentoML-0.8.1+8.ge89f7fc/bentoml/cli\n",
            "copying bentoml/clipper/__init__.py -> BentoML-0.8.1+8.ge89f7fc/bentoml/clipper\n",
            "copying bentoml/configuration/__init__.py -> BentoML-0.8.1+8.ge89f7fc/bentoml/configuration\n",
            "copying bentoml/configuration/configparser.py -> BentoML-0.8.1+8.ge89f7fc/bentoml/configuration\n",
            "copying bentoml/configuration/default_bentoml.cfg -> BentoML-0.8.1+8.ge89f7fc/bentoml/configuration\n",
            "copying bentoml/configuration/__pycache__/__init__.cpython-36.pyc -> BentoML-0.8.1+8.ge89f7fc/bentoml/configuration/__pycache__\n",
            "copying bentoml/configuration/__pycache__/__init__.cpython-37.pyc -> BentoML-0.8.1+8.ge89f7fc/bentoml/configuration/__pycache__\n",
            "copying bentoml/configuration/__pycache__/configparser.cpython-36.pyc -> BentoML-0.8.1+8.ge89f7fc/bentoml/configuration/__pycache__\n",
            "copying bentoml/configuration/__pycache__/configparser.cpython-37.pyc -> BentoML-0.8.1+8.ge89f7fc/bentoml/configuration/__pycache__\n",
            "copying bentoml/handlers/__init__.py -> BentoML-0.8.1+8.ge89f7fc/bentoml/handlers\n",
            "copying bentoml/marshal/__init__.py -> BentoML-0.8.1+8.ge89f7fc/bentoml/marshal\n",
            "copying bentoml/marshal/dispatcher.py -> BentoML-0.8.1+8.ge89f7fc/bentoml/marshal\n",
            "copying bentoml/marshal/marshal.py -> BentoML-0.8.1+8.ge89f7fc/bentoml/marshal\n",
            "copying bentoml/marshal/utils.py -> BentoML-0.8.1+8.ge89f7fc/bentoml/marshal\n",
            "copying bentoml/saved_bundle/__init__.py -> BentoML-0.8.1+8.ge89f7fc/bentoml/saved_bundle\n",
            "copying bentoml/saved_bundle/bentoml-init.sh -> BentoML-0.8.1+8.ge89f7fc/bentoml/saved_bundle\n",
            "copying bentoml/saved_bundle/bundler.py -> BentoML-0.8.1+8.ge89f7fc/bentoml/saved_bundle\n",
            "copying bentoml/saved_bundle/config.py -> BentoML-0.8.1+8.ge89f7fc/bentoml/saved_bundle\n",
            "copying bentoml/saved_bundle/docker-entrypoint.sh -> BentoML-0.8.1+8.ge89f7fc/bentoml/saved_bundle\n",
            "copying bentoml/saved_bundle/loader.py -> BentoML-0.8.1+8.ge89f7fc/bentoml/saved_bundle\n",
            "copying bentoml/saved_bundle/pip_pkg.py -> BentoML-0.8.1+8.ge89f7fc/bentoml/saved_bundle\n",
            "copying bentoml/saved_bundle/py_module_utils.py -> BentoML-0.8.1+8.ge89f7fc/bentoml/saved_bundle\n",
            "copying bentoml/saved_bundle/templates.py -> BentoML-0.8.1+8.ge89f7fc/bentoml/saved_bundle\n",
            "copying bentoml/server/__init__.py -> BentoML-0.8.1+8.ge89f7fc/bentoml/server\n",
            "copying bentoml/server/bento_api_server.py -> BentoML-0.8.1+8.ge89f7fc/bentoml/server\n",
            "copying bentoml/server/gunicorn_config.py -> BentoML-0.8.1+8.ge89f7fc/bentoml/server\n",
            "copying bentoml/server/gunicorn_server.py -> BentoML-0.8.1+8.ge89f7fc/bentoml/server\n",
            "copying bentoml/server/instruments.py -> BentoML-0.8.1+8.ge89f7fc/bentoml/server\n",
            "copying bentoml/server/marshal_server.py -> BentoML-0.8.1+8.ge89f7fc/bentoml/server\n",
            "copying bentoml/server/open_api.py -> BentoML-0.8.1+8.ge89f7fc/bentoml/server\n",
            "copying bentoml/server/trace.py -> BentoML-0.8.1+8.ge89f7fc/bentoml/server\n",
            "copying bentoml/server/utils.py -> BentoML-0.8.1+8.ge89f7fc/bentoml/server\n",
            "copying bentoml/utils/__init__.py -> BentoML-0.8.1+8.ge89f7fc/bentoml/utils\n",
            "copying bentoml/utils/alg.py -> BentoML-0.8.1+8.ge89f7fc/bentoml/utils\n",
            "copying bentoml/utils/benchmark.py -> BentoML-0.8.1+8.ge89f7fc/bentoml/utils\n",
            "copying bentoml/utils/cloudpickle.py -> BentoML-0.8.1+8.ge89f7fc/bentoml/utils\n",
            "copying bentoml/utils/hybridmethod.py -> BentoML-0.8.1+8.ge89f7fc/bentoml/utils\n",
            "copying bentoml/utils/log.py -> BentoML-0.8.1+8.ge89f7fc/bentoml/utils\n",
            "copying bentoml/utils/s3.py -> BentoML-0.8.1+8.ge89f7fc/bentoml/utils\n",
            "copying bentoml/utils/tempdir.py -> BentoML-0.8.1+8.ge89f7fc/bentoml/utils\n",
            "copying bentoml/utils/usage_stats.py -> BentoML-0.8.1+8.ge89f7fc/bentoml/utils\n",
            "copying bentoml/yatai/__init__.py -> BentoML-0.8.1+8.ge89f7fc/bentoml/yatai\n",
            "copying bentoml/yatai/alembic.ini -> BentoML-0.8.1+8.ge89f7fc/bentoml/yatai\n",
            "copying bentoml/yatai/db.py -> BentoML-0.8.1+8.ge89f7fc/bentoml/yatai\n",
            "copying bentoml/yatai/deployment_utils.py -> BentoML-0.8.1+8.ge89f7fc/bentoml/yatai\n",
            "copying bentoml/yatai/status.py -> BentoML-0.8.1+8.ge89f7fc/bentoml/yatai\n",
            "copying bentoml/yatai/utils.py -> BentoML-0.8.1+8.ge89f7fc/bentoml/yatai\n",
            "copying bentoml/yatai/yatai_service.py -> BentoML-0.8.1+8.ge89f7fc/bentoml/yatai\n",
            "copying bentoml/yatai/yatai_service_impl.py -> BentoML-0.8.1+8.ge89f7fc/bentoml/yatai\n",
            "copying bentoml/yatai/client/__init__.py -> BentoML-0.8.1+8.ge89f7fc/bentoml/yatai/client\n",
            "copying bentoml/yatai/client/bento_repository_api.py -> BentoML-0.8.1+8.ge89f7fc/bentoml/yatai/client\n",
            "copying bentoml/yatai/client/deployment_api.py -> BentoML-0.8.1+8.ge89f7fc/bentoml/yatai/client\n",
            "copying bentoml/yatai/deployment/__init__.py -> BentoML-0.8.1+8.ge89f7fc/bentoml/yatai/deployment\n",
            "copying bentoml/yatai/deployment/operator.py -> BentoML-0.8.1+8.ge89f7fc/bentoml/yatai/deployment\n",
            "copying bentoml/yatai/deployment/store.py -> BentoML-0.8.1+8.ge89f7fc/bentoml/yatai/deployment\n",
            "copying bentoml/yatai/deployment/utils.py -> BentoML-0.8.1+8.ge89f7fc/bentoml/yatai/deployment\n",
            "copying bentoml/yatai/deployment/aws_lambda/__init__.py -> BentoML-0.8.1+8.ge89f7fc/bentoml/yatai/deployment/aws_lambda\n",
            "copying bentoml/yatai/deployment/aws_lambda/download_extra_resources.py -> BentoML-0.8.1+8.ge89f7fc/bentoml/yatai/deployment/aws_lambda\n",
            "copying bentoml/yatai/deployment/aws_lambda/lambda_app.py -> BentoML-0.8.1+8.ge89f7fc/bentoml/yatai/deployment/aws_lambda\n",
            "copying bentoml/yatai/deployment/aws_lambda/operator.py -> BentoML-0.8.1+8.ge89f7fc/bentoml/yatai/deployment/aws_lambda\n",
            "copying bentoml/yatai/deployment/aws_lambda/utils.py -> BentoML-0.8.1+8.ge89f7fc/bentoml/yatai/deployment/aws_lambda\n",
            "copying bentoml/yatai/deployment/sagemaker/__init__.py -> BentoML-0.8.1+8.ge89f7fc/bentoml/yatai/deployment/sagemaker\n",
            "copying bentoml/yatai/deployment/sagemaker/model_server.py -> BentoML-0.8.1+8.ge89f7fc/bentoml/yatai/deployment/sagemaker\n",
            "copying bentoml/yatai/deployment/sagemaker/operator.py -> BentoML-0.8.1+8.ge89f7fc/bentoml/yatai/deployment/sagemaker\n",
            "copying bentoml/yatai/deployment/sagemaker/wsgi.py -> BentoML-0.8.1+8.ge89f7fc/bentoml/yatai/deployment/sagemaker\n",
            "copying bentoml/yatai/migrations/README -> BentoML-0.8.1+8.ge89f7fc/bentoml/yatai/migrations\n",
            "copying bentoml/yatai/migrations/__init__.py -> BentoML-0.8.1+8.ge89f7fc/bentoml/yatai/migrations\n",
            "copying bentoml/yatai/migrations/env.py -> BentoML-0.8.1+8.ge89f7fc/bentoml/yatai/migrations\n",
            "copying bentoml/yatai/migrations/script.py.mako -> BentoML-0.8.1+8.ge89f7fc/bentoml/yatai/migrations\n",
            "copying bentoml/yatai/migrations/__pycache__/env.cpython-36.pyc -> BentoML-0.8.1+8.ge89f7fc/bentoml/yatai/migrations/__pycache__\n",
            "copying bentoml/yatai/migrations/__pycache__/env.cpython-37.pyc -> BentoML-0.8.1+8.ge89f7fc/bentoml/yatai/migrations/__pycache__\n",
            "copying bentoml/yatai/migrations/versions/__init__.py -> BentoML-0.8.1+8.ge89f7fc/bentoml/yatai/migrations/versions\n",
            "copying bentoml/yatai/migrations/versions/a6b00ae45279_add_last_updated_at_for_deployments.py -> BentoML-0.8.1+8.ge89f7fc/bentoml/yatai/migrations/versions\n",
            "copying bentoml/yatai/migrations/versions/__pycache__/a6b00ae45279_add_last_updated_at_for_deployments.cpython-36.pyc -> BentoML-0.8.1+8.ge89f7fc/bentoml/yatai/migrations/versions/__pycache__\n",
            "copying bentoml/yatai/migrations/versions/__pycache__/a6b00ae45279_add_last_updated_at_for_deployments.cpython-37.pyc -> BentoML-0.8.1+8.ge89f7fc/bentoml/yatai/migrations/versions/__pycache__\n",
            "copying bentoml/yatai/proto/__init__.py -> BentoML-0.8.1+8.ge89f7fc/bentoml/yatai/proto\n",
            "copying bentoml/yatai/proto/deployment_pb2.py -> BentoML-0.8.1+8.ge89f7fc/bentoml/yatai/proto\n",
            "copying bentoml/yatai/proto/repository_pb2.py -> BentoML-0.8.1+8.ge89f7fc/bentoml/yatai/proto\n",
            "copying bentoml/yatai/proto/status_pb2.py -> BentoML-0.8.1+8.ge89f7fc/bentoml/yatai/proto\n",
            "copying bentoml/yatai/proto/yatai_service_pb2.py -> BentoML-0.8.1+8.ge89f7fc/bentoml/yatai/proto\n",
            "copying bentoml/yatai/proto/yatai_service_pb2_grpc.py -> BentoML-0.8.1+8.ge89f7fc/bentoml/yatai/proto\n",
            "copying bentoml/yatai/repository/__init__.py -> BentoML-0.8.1+8.ge89f7fc/bentoml/yatai/repository\n",
            "copying bentoml/yatai/repository/base_repository.py -> BentoML-0.8.1+8.ge89f7fc/bentoml/yatai/repository\n",
            "copying bentoml/yatai/repository/local_repository.py -> BentoML-0.8.1+8.ge89f7fc/bentoml/yatai/repository\n",
            "copying bentoml/yatai/repository/metadata_store.py -> BentoML-0.8.1+8.ge89f7fc/bentoml/yatai/repository\n",
            "copying bentoml/yatai/repository/repository.py -> BentoML-0.8.1+8.ge89f7fc/bentoml/yatai/repository\n",
            "copying bentoml/yatai/repository/s3_repository.py -> BentoML-0.8.1+8.ge89f7fc/bentoml/yatai/repository\n",
            "copying bentoml/yatai/validator/__init__.py -> BentoML-0.8.1+8.ge89f7fc/bentoml/yatai/validator\n",
            "copying bentoml/yatai/validator/deployment_pb_validator.py -> BentoML-0.8.1+8.ge89f7fc/bentoml/yatai/validator\n",
            "Writing BentoML-0.8.1+8.ge89f7fc/setup.cfg\n",
            "UPDATING BentoML-0.8.1+8.ge89f7fc/bentoml/_version.py\n",
            "set BentoML-0.8.1+8.ge89f7fc/bentoml/_version.py to '0.8.1+8.ge89f7fc'\n",
            "Creating tar archive\n",
            "removing 'BentoML-0.8.1+8.ge89f7fc' (and everything under it)\n",
            "[2020-07-07 11:37:31,466] WARNING - Saved BentoService bundle version mismatch: loading BentoService bundle create with BentoML version 0.8.1,  but loading from BentoML version 0.8.1+8.ge89f7fc\n",
            "[2020-07-07 11:37:31,495] INFO - BentoService bundle 'IrisClassifier:20200707113724_204699' saved to: /home/kiteretsu/bentoml/repository/IrisClassifier/20200707113724_204699\n"
          ],
          "name": "stdout"
        }
      ]
    },
    {
      "cell_type": "markdown",
      "metadata": {
        "id": "-mEDm1JZtZgp",
        "colab_type": "text"
      },
      "source": [
        "## Model Serving via REST API\n",
        "\n",
        "Start local API model server with `bentoml serve` command:"
      ]
    },
    {
      "cell_type": "code",
      "metadata": {
        "id": "PGo6Y_KNWjpY",
        "colab_type": "code",
        "colab": {
          "base_uri": "https://localhost:8080/",
          "height": 360
        },
        "outputId": "3d6e17a0-64dd-490f-be7f-2cfe4fbf0d62"
      },
      "source": [
        "!bentoml serve IrisClassifier:latest"
      ],
      "execution_count": 6,
      "outputs": [
        {
          "output_type": "stream",
          "text": [
            "[2020-07-07 11:37:33,682] INFO - Getting latest version IrisClassifier:20200707113724_204699\n",
            "[2020-07-07 11:37:34,772] WARNING - BentoML local changes detected - Local BentoML repository including all code changes will be packaged together with saved bundle created, under './bundled_pip_dependencies' directory. For using a modified version of BentoML for production deployment, it is recommended to set the 'core/bentoml_deploy_version' config to a http location or your BentoML for on github, e.g.: 'bentoml_deploy_version = git+https://github.com/{username}/bentoml.git@{branch}'\n",
            "[2020-07-07 11:37:34,785] WARNING - Saved BentoService bundle version mismatch: loading BentoService bundle create with BentoML version 0.8.1,  but loading from BentoML version 0.8.1+8.ge89f7fc\n",
            " * Serving Flask app \"IrisClassifier\" (lazy loading)\n",
            " * Environment: production\n",
            "\u001b[31m   WARNING: This is a development server. Do not use it in a production deployment.\u001b[0m\n",
            "\u001b[2m   Use a production WSGI server instead.\u001b[0m\n",
            " * Debug mode: off\n",
            " * Running on http://127.0.0.1:5000/ (Press CTRL+C to quit)\n",
            "127.0.0.1 - - [07/Jul/2020 11:37:39] \"\u001b[37mGET / HTTP/1.1\u001b[0m\" 200 -\n",
            "127.0.0.1 - - [07/Jul/2020 11:37:40] \"\u001b[37mGET /docs.json HTTP/1.1\u001b[0m\" 200 -\n",
            "127.0.0.1 - - [07/Jul/2020 11:37:40] \"\u001b[37mGET / HTTP/1.1\u001b[0m\" 200 -\n",
            "127.0.0.1 - - [07/Jul/2020 11:37:43] \"\u001b[37mGET / HTTP/1.1\u001b[0m\" 200 -\n",
            "127.0.0.1 - - [07/Jul/2020 11:37:43] \"\u001b[37mGET /swagger_static/swagger-ui.css HTTP/1.1\u001b[0m\" 200 -\n",
            "127.0.0.1 - - [07/Jul/2020 11:37:43] \"\u001b[37mGET /swagger_static/swagger-ui-bundle.js HTTP/1.1\u001b[0m\" 200 -\n",
            "127.0.0.1 - - [07/Jul/2020 11:37:43] \"\u001b[37mGET /docs.json HTTP/1.1\u001b[0m\" 200 -\n",
            "127.0.0.1 - - [07/Jul/2020 11:37:43] \"\u001b[37mGET / HTTP/1.1\u001b[0m\" 200 -\n",
            "127.0.0.1 - - [07/Jul/2020 11:37:43] \"\u001b[33mGET /favicon.ico HTTP/1.1\u001b[0m\" 404 -\n",
            "^C\n"
          ],
          "name": "stdout"
        }
      ]
    },
    {
      "cell_type": "markdown",
      "metadata": {
        "id": "qllScrbHtqKl",
        "colab_type": "text"
      },
      "source": [
        "At this point you can test out the Rest API server either by opening http://localhost:5000 in a new tab which will serve the swagger docs:\n",
        "\n",
        "![alt text](https://raw.githubusercontent.com/bentoml/gallery/master/scikit-learn/iris-classifier/swagger.png)\n",
        "\n",
        "\n",
        "or by making a curl request in a another terminal window:\n",
        "\n",
        "```bash\n",
        "curl -i \\\n",
        "--header \"Content-Type: application/json\" \\\n",
        "--request POST \\\n",
        "--data '[[1,2,1,2]]' \\\n",
        "localhost:5000/predict\n",
        "```"
      ]
    },
    {
      "cell_type": "markdown",
      "metadata": {
        "id": "_WN9nDgcvcul",
        "colab_type": "text"
      },
      "source": [
        "## Adding Custom Web Static Content\n"
      ]
    },
    {
      "cell_type": "code",
      "metadata": {
        "id": "HO47OfDivier",
        "colab_type": "code",
        "colab": {
          "base_uri": "https://localhost:8080/",
          "height": 68
        },
        "outputId": "1a9c658e-7422-4bbd-e75f-38860fec18ef"
      },
      "source": [
        "!curl https://raw.githubusercontent.com/bentoml/gallery/master/scikit-learn/iris-classifier/static.tar.xz -o static.tar.xz\n",
        "!tar --xz -xf static.tar.xz\n",
        "!rm static.tar.xz"
      ],
      "execution_count": 7,
      "outputs": [
        {
          "output_type": "stream",
          "text": [
            "  % Total    % Received % Xferd  Average Speed   Time    Time     Time  Current\r\n",
            "                                 Dload  Upload   Total   Spent    Left  Speed\n",
            "100  197k  100  197k    0     0  4481k      0 --:--:-- --:--:-- --:--:-- 4481k\n"
          ],
          "name": "stdout"
        }
      ]
    },
    {
      "cell_type": "markdown",
      "metadata": {
        "id": "rzJ1Wx-fyRcG",
        "colab_type": "text"
      },
      "source": [
        "Here we have a very simple web ui as our static content that bento will serve.\n",
        "Now we will edit our bento service to point to this static directory.\n",
        "\n",
        "Add `@web_static_content('./static')` to `iris_classifier.py`\n",
        "\n",
        "**Note**: The path can be both relative or absolute. "
      ]
    },
    {
      "cell_type": "code",
      "metadata": {
        "id": "mgakbz1JxMpc",
        "colab_type": "code",
        "colab": {
          "base_uri": "https://localhost:8080/",
          "height": 34
        },
        "outputId": "8f8ed48d-4686-430d-e215-1868ce76f0a0"
      },
      "source": [
        "%%writefile iris_classifier.py\n",
        "from bentoml import env, artifacts, api, BentoService, web_static_content\n",
        "from bentoml.adapters import DataframeInput\n",
        "from bentoml.artifact import SklearnModelArtifact\n",
        "\n",
        "@env(auto_pip_dependencies=True)\n",
        "@artifacts([SklearnModelArtifact('model')])\n",
        "@web_static_content('./static')\n",
        "class IrisClassifier(BentoService):\n",
        "\n",
        "    @api(input=DataframeInput())\n",
        "    def predict(self, df):\n",
        "        # Optional pre-processing, post-processing code goes here\n",
        "        return self.artifacts.model.predict(df)"
      ],
      "execution_count": 11,
      "outputs": [
        {
          "output_type": "stream",
          "text": [
            "Overwriting iris_classifier.py\n"
          ],
          "name": "stdout"
        }
      ]
    },
    {
      "cell_type": "code",
      "metadata": {
        "id": "2Qvrte2YzY72",
        "colab_type": "code",
        "colab": {
          "base_uri": "https://localhost:8080/",
          "height": 1000
        },
        "outputId": "46655fef-5450-4f86-e56d-b01bf5836986"
      },
      "source": [
        "!python3 main.py"
      ],
      "execution_count": 12,
      "outputs": [
        {
          "output_type": "stream",
          "text": [
            "[2020-07-07 11:38:38,441] WARNING - BentoML local changes detected - Local BentoML repository including all code changes will be packaged together with saved bundle created, under './bundled_pip_dependencies' directory. For using a modified version of BentoML for production deployment, it is recommended to set the 'core/bentoml_deploy_version' config to a http location or your BentoML for on github, e.g.: 'bentoml_deploy_version = git+https://github.com/{username}/bentoml.git@{branch}'\n",
            "[2020-07-07 11:38:45,162] INFO - Detect BentoML installed in development model, copying local BentoML module file to target saved bundle path\n",
            "running sdist\n",
            "running egg_info\n",
            "writing BentoML.egg-info/PKG-INFO\n",
            "writing dependency_links to BentoML.egg-info/dependency_links.txt\n",
            "writing entry points to BentoML.egg-info/entry_points.txt\n",
            "writing requirements to BentoML.egg-info/requires.txt\n",
            "writing top-level names to BentoML.egg-info/top_level.txt\n",
            "reading manifest file 'BentoML.egg-info/SOURCES.txt'\n",
            "reading manifest template 'MANIFEST.in'\n",
            "warning: no previously-included files matching '*~' found anywhere in distribution\n",
            "warning: no previously-included files matching '*.pyo' found anywhere in distribution\n",
            "warning: no previously-included files matching '.git' found anywhere in distribution\n",
            "warning: no previously-included files matching '.ipynb_checkpoints' found anywhere in distribution\n",
            "warning: no previously-included files matching '__pycache__' found anywhere in distribution\n",
            "warning: no directories found matching 'bentoml/server/static'\n",
            "warning: no directories found matching 'bentoml/yatai/web/dist'\n",
            "warning: no files found matching 'bentoml/yatai/deployment/sagemaker/sagemaker_nginx.conf'\n",
            "no previously-included directories found matching 'e2e_tests'\n",
            "no previously-included directories found matching 'tests'\n",
            "no previously-included directories found matching 'benchmark'\n",
            "writing manifest file 'BentoML.egg-info/SOURCES.txt'\n",
            "running check\n",
            "creating BentoML-0.8.1+8.ge89f7fc\n",
            "creating BentoML-0.8.1+8.ge89f7fc/BentoML.egg-info\n",
            "creating BentoML-0.8.1+8.ge89f7fc/bentoml\n",
            "creating BentoML-0.8.1+8.ge89f7fc/bentoml/adapters\n",
            "creating BentoML-0.8.1+8.ge89f7fc/bentoml/artifact\n",
            "creating BentoML-0.8.1+8.ge89f7fc/bentoml/cli\n",
            "creating BentoML-0.8.1+8.ge89f7fc/bentoml/clipper\n",
            "creating BentoML-0.8.1+8.ge89f7fc/bentoml/configuration\n",
            "creating BentoML-0.8.1+8.ge89f7fc/bentoml/configuration/__pycache__\n",
            "creating BentoML-0.8.1+8.ge89f7fc/bentoml/handlers\n",
            "creating BentoML-0.8.1+8.ge89f7fc/bentoml/marshal\n",
            "creating BentoML-0.8.1+8.ge89f7fc/bentoml/saved_bundle\n",
            "creating BentoML-0.8.1+8.ge89f7fc/bentoml/server\n",
            "creating BentoML-0.8.1+8.ge89f7fc/bentoml/utils\n",
            "creating BentoML-0.8.1+8.ge89f7fc/bentoml/yatai\n",
            "creating BentoML-0.8.1+8.ge89f7fc/bentoml/yatai/client\n",
            "creating BentoML-0.8.1+8.ge89f7fc/bentoml/yatai/deployment\n",
            "creating BentoML-0.8.1+8.ge89f7fc/bentoml/yatai/deployment/aws_lambda\n",
            "creating BentoML-0.8.1+8.ge89f7fc/bentoml/yatai/deployment/sagemaker\n",
            "creating BentoML-0.8.1+8.ge89f7fc/bentoml/yatai/migrations\n",
            "creating BentoML-0.8.1+8.ge89f7fc/bentoml/yatai/migrations/__pycache__\n",
            "creating BentoML-0.8.1+8.ge89f7fc/bentoml/yatai/migrations/versions\n",
            "creating BentoML-0.8.1+8.ge89f7fc/bentoml/yatai/migrations/versions/__pycache__\n",
            "creating BentoML-0.8.1+8.ge89f7fc/bentoml/yatai/proto\n",
            "creating BentoML-0.8.1+8.ge89f7fc/bentoml/yatai/repository\n",
            "creating BentoML-0.8.1+8.ge89f7fc/bentoml/yatai/validator\n",
            "copying files to BentoML-0.8.1+8.ge89f7fc...\n",
            "copying LICENSE -> BentoML-0.8.1+8.ge89f7fc\n",
            "copying MANIFEST.in -> BentoML-0.8.1+8.ge89f7fc\n",
            "copying README.md -> BentoML-0.8.1+8.ge89f7fc\n",
            "copying pyproject.toml -> BentoML-0.8.1+8.ge89f7fc\n",
            "copying setup.cfg -> BentoML-0.8.1+8.ge89f7fc\n",
            "copying setup.py -> BentoML-0.8.1+8.ge89f7fc\n",
            "copying versioneer.py -> BentoML-0.8.1+8.ge89f7fc\n",
            "copying BentoML.egg-info/PKG-INFO -> BentoML-0.8.1+8.ge89f7fc/BentoML.egg-info\n",
            "copying BentoML.egg-info/SOURCES.txt -> BentoML-0.8.1+8.ge89f7fc/BentoML.egg-info\n",
            "copying BentoML.egg-info/dependency_links.txt -> BentoML-0.8.1+8.ge89f7fc/BentoML.egg-info\n",
            "copying BentoML.egg-info/entry_points.txt -> BentoML-0.8.1+8.ge89f7fc/BentoML.egg-info\n",
            "copying BentoML.egg-info/requires.txt -> BentoML-0.8.1+8.ge89f7fc/BentoML.egg-info\n",
            "copying BentoML.egg-info/top_level.txt -> BentoML-0.8.1+8.ge89f7fc/BentoML.egg-info\n",
            "copying bentoml/__init__.py -> BentoML-0.8.1+8.ge89f7fc/bentoml\n",
            "copying bentoml/_version.py -> BentoML-0.8.1+8.ge89f7fc/bentoml\n",
            "copying bentoml/exceptions.py -> BentoML-0.8.1+8.ge89f7fc/bentoml\n",
            "copying bentoml/service.py -> BentoML-0.8.1+8.ge89f7fc/bentoml\n",
            "copying bentoml/service_env.py -> BentoML-0.8.1+8.ge89f7fc/bentoml\n",
            "copying bentoml/adapters/__init__.py -> BentoML-0.8.1+8.ge89f7fc/bentoml/adapters\n",
            "copying bentoml/adapters/base_input.py -> BentoML-0.8.1+8.ge89f7fc/bentoml/adapters\n",
            "copying bentoml/adapters/base_output.py -> BentoML-0.8.1+8.ge89f7fc/bentoml/adapters\n",
            "copying bentoml/adapters/clipper_input.py -> BentoML-0.8.1+8.ge89f7fc/bentoml/adapters\n",
            "copying bentoml/adapters/dataframe_input.py -> BentoML-0.8.1+8.ge89f7fc/bentoml/adapters\n",
            "copying bentoml/adapters/dataframe_output.py -> BentoML-0.8.1+8.ge89f7fc/bentoml/adapters\n",
            "copying bentoml/adapters/default_output.py -> BentoML-0.8.1+8.ge89f7fc/bentoml/adapters\n",
            "copying bentoml/adapters/fastai_image_input.py -> BentoML-0.8.1+8.ge89f7fc/bentoml/adapters\n",
            "copying bentoml/adapters/image_input.py -> BentoML-0.8.1+8.ge89f7fc/bentoml/adapters\n",
            "copying bentoml/adapters/json_input.py -> BentoML-0.8.1+8.ge89f7fc/bentoml/adapters\n",
            "copying bentoml/adapters/json_output.py -> BentoML-0.8.1+8.ge89f7fc/bentoml/adapters\n",
            "copying bentoml/adapters/legacy_image_input.py -> BentoML-0.8.1+8.ge89f7fc/bentoml/adapters\n",
            "copying bentoml/adapters/pytorch_tensor_input.py -> BentoML-0.8.1+8.ge89f7fc/bentoml/adapters\n",
            "copying bentoml/adapters/tensorflow_tensor_input.py -> BentoML-0.8.1+8.ge89f7fc/bentoml/adapters\n",
            "copying bentoml/adapters/tensorflow_tensor_output.py -> BentoML-0.8.1+8.ge89f7fc/bentoml/adapters\n",
            "copying bentoml/adapters/utils.py -> BentoML-0.8.1+8.ge89f7fc/bentoml/adapters\n",
            "copying bentoml/artifact/__init__.py -> BentoML-0.8.1+8.ge89f7fc/bentoml/artifact\n",
            "copying bentoml/artifact/artifact.py -> BentoML-0.8.1+8.ge89f7fc/bentoml/artifact\n",
            "copying bentoml/artifact/fastai2_model_artifact.py -> BentoML-0.8.1+8.ge89f7fc/bentoml/artifact\n",
            "copying bentoml/artifact/fastai_model_artifact.py -> BentoML-0.8.1+8.ge89f7fc/bentoml/artifact\n",
            "copying bentoml/artifact/fasttext_model_artifact.py -> BentoML-0.8.1+8.ge89f7fc/bentoml/artifact\n",
            "copying bentoml/artifact/h2o_model_artifact.py -> BentoML-0.8.1+8.ge89f7fc/bentoml/artifact\n",
            "copying bentoml/artifact/json_artifact.py -> BentoML-0.8.1+8.ge89f7fc/bentoml/artifact\n",
            "copying bentoml/artifact/keras_model_artifact.py -> BentoML-0.8.1+8.ge89f7fc/bentoml/artifact\n",
            "copying bentoml/artifact/lightgbm_model_artifact.py -> BentoML-0.8.1+8.ge89f7fc/bentoml/artifact\n",
            "copying bentoml/artifact/onnx_model_artifact.py -> BentoML-0.8.1+8.ge89f7fc/bentoml/artifact\n",
            "copying bentoml/artifact/pickle_artifact.py -> BentoML-0.8.1+8.ge89f7fc/bentoml/artifact\n",
            "copying bentoml/artifact/pytorch_model_artifact.py -> BentoML-0.8.1+8.ge89f7fc/bentoml/artifact\n",
            "copying bentoml/artifact/sklearn_model_artifact.py -> BentoML-0.8.1+8.ge89f7fc/bentoml/artifact\n",
            "copying bentoml/artifact/spacy_model_artifact.py -> BentoML-0.8.1+8.ge89f7fc/bentoml/artifact\n",
            "copying bentoml/artifact/text_file_artifact.py -> BentoML-0.8.1+8.ge89f7fc/bentoml/artifact\n",
            "copying bentoml/artifact/tf_savedmodel_artifact.py -> BentoML-0.8.1+8.ge89f7fc/bentoml/artifact\n",
            "copying bentoml/artifact/xgboost_model_artifact.py -> BentoML-0.8.1+8.ge89f7fc/bentoml/artifact\n",
            "copying bentoml/cli/__init__.py -> BentoML-0.8.1+8.ge89f7fc/bentoml/cli\n",
            "copying bentoml/cli/aws_lambda.py -> BentoML-0.8.1+8.ge89f7fc/bentoml/cli\n",
            "copying bentoml/cli/aws_sagemaker.py -> BentoML-0.8.1+8.ge89f7fc/bentoml/cli\n",
            "copying bentoml/cli/bento.py -> BentoML-0.8.1+8.ge89f7fc/bentoml/cli\n",
            "copying bentoml/cli/click_utils.py -> BentoML-0.8.1+8.ge89f7fc/bentoml/cli\n",
            "copying bentoml/cli/config.py -> BentoML-0.8.1+8.ge89f7fc/bentoml/cli\n",
            "copying bentoml/cli/deployment.py -> BentoML-0.8.1+8.ge89f7fc/bentoml/cli\n",
            "copying bentoml/cli/utils.py -> BentoML-0.8.1+8.ge89f7fc/bentoml/cli\n",
            "copying bentoml/cli/yatai_service.py -> BentoML-0.8.1+8.ge89f7fc/bentoml/cli\n",
            "copying bentoml/clipper/__init__.py -> BentoML-0.8.1+8.ge89f7fc/bentoml/clipper\n",
            "copying bentoml/configuration/__init__.py -> BentoML-0.8.1+8.ge89f7fc/bentoml/configuration\n",
            "copying bentoml/configuration/configparser.py -> BentoML-0.8.1+8.ge89f7fc/bentoml/configuration\n",
            "copying bentoml/configuration/default_bentoml.cfg -> BentoML-0.8.1+8.ge89f7fc/bentoml/configuration\n",
            "copying bentoml/configuration/__pycache__/__init__.cpython-36.pyc -> BentoML-0.8.1+8.ge89f7fc/bentoml/configuration/__pycache__\n",
            "copying bentoml/configuration/__pycache__/__init__.cpython-37.pyc -> BentoML-0.8.1+8.ge89f7fc/bentoml/configuration/__pycache__\n",
            "copying bentoml/configuration/__pycache__/configparser.cpython-36.pyc -> BentoML-0.8.1+8.ge89f7fc/bentoml/configuration/__pycache__\n",
            "copying bentoml/configuration/__pycache__/configparser.cpython-37.pyc -> BentoML-0.8.1+8.ge89f7fc/bentoml/configuration/__pycache__\n",
            "copying bentoml/handlers/__init__.py -> BentoML-0.8.1+8.ge89f7fc/bentoml/handlers\n",
            "copying bentoml/marshal/__init__.py -> BentoML-0.8.1+8.ge89f7fc/bentoml/marshal\n",
            "copying bentoml/marshal/dispatcher.py -> BentoML-0.8.1+8.ge89f7fc/bentoml/marshal\n",
            "copying bentoml/marshal/marshal.py -> BentoML-0.8.1+8.ge89f7fc/bentoml/marshal\n",
            "copying bentoml/marshal/utils.py -> BentoML-0.8.1+8.ge89f7fc/bentoml/marshal\n",
            "copying bentoml/saved_bundle/__init__.py -> BentoML-0.8.1+8.ge89f7fc/bentoml/saved_bundle\n",
            "copying bentoml/saved_bundle/bentoml-init.sh -> BentoML-0.8.1+8.ge89f7fc/bentoml/saved_bundle\n",
            "copying bentoml/saved_bundle/bundler.py -> BentoML-0.8.1+8.ge89f7fc/bentoml/saved_bundle\n",
            "copying bentoml/saved_bundle/config.py -> BentoML-0.8.1+8.ge89f7fc/bentoml/saved_bundle\n",
            "copying bentoml/saved_bundle/docker-entrypoint.sh -> BentoML-0.8.1+8.ge89f7fc/bentoml/saved_bundle\n",
            "copying bentoml/saved_bundle/loader.py -> BentoML-0.8.1+8.ge89f7fc/bentoml/saved_bundle\n",
            "copying bentoml/saved_bundle/pip_pkg.py -> BentoML-0.8.1+8.ge89f7fc/bentoml/saved_bundle\n",
            "copying bentoml/saved_bundle/py_module_utils.py -> BentoML-0.8.1+8.ge89f7fc/bentoml/saved_bundle\n",
            "copying bentoml/saved_bundle/templates.py -> BentoML-0.8.1+8.ge89f7fc/bentoml/saved_bundle\n",
            "copying bentoml/server/__init__.py -> BentoML-0.8.1+8.ge89f7fc/bentoml/server\n",
            "copying bentoml/server/bento_api_server.py -> BentoML-0.8.1+8.ge89f7fc/bentoml/server\n",
            "copying bentoml/server/gunicorn_config.py -> BentoML-0.8.1+8.ge89f7fc/bentoml/server\n",
            "copying bentoml/server/gunicorn_server.py -> BentoML-0.8.1+8.ge89f7fc/bentoml/server\n",
            "copying bentoml/server/instruments.py -> BentoML-0.8.1+8.ge89f7fc/bentoml/server\n",
            "copying bentoml/server/marshal_server.py -> BentoML-0.8.1+8.ge89f7fc/bentoml/server\n",
            "copying bentoml/server/open_api.py -> BentoML-0.8.1+8.ge89f7fc/bentoml/server\n",
            "copying bentoml/server/trace.py -> BentoML-0.8.1+8.ge89f7fc/bentoml/server\n",
            "copying bentoml/server/utils.py -> BentoML-0.8.1+8.ge89f7fc/bentoml/server\n",
            "copying bentoml/utils/__init__.py -> BentoML-0.8.1+8.ge89f7fc/bentoml/utils\n",
            "copying bentoml/utils/alg.py -> BentoML-0.8.1+8.ge89f7fc/bentoml/utils\n",
            "copying bentoml/utils/benchmark.py -> BentoML-0.8.1+8.ge89f7fc/bentoml/utils\n",
            "copying bentoml/utils/cloudpickle.py -> BentoML-0.8.1+8.ge89f7fc/bentoml/utils\n",
            "copying bentoml/utils/hybridmethod.py -> BentoML-0.8.1+8.ge89f7fc/bentoml/utils\n",
            "copying bentoml/utils/log.py -> BentoML-0.8.1+8.ge89f7fc/bentoml/utils\n",
            "copying bentoml/utils/s3.py -> BentoML-0.8.1+8.ge89f7fc/bentoml/utils\n",
            "copying bentoml/utils/tempdir.py -> BentoML-0.8.1+8.ge89f7fc/bentoml/utils\n",
            "copying bentoml/utils/usage_stats.py -> BentoML-0.8.1+8.ge89f7fc/bentoml/utils\n",
            "copying bentoml/yatai/__init__.py -> BentoML-0.8.1+8.ge89f7fc/bentoml/yatai\n",
            "copying bentoml/yatai/alembic.ini -> BentoML-0.8.1+8.ge89f7fc/bentoml/yatai\n",
            "copying bentoml/yatai/db.py -> BentoML-0.8.1+8.ge89f7fc/bentoml/yatai\n",
            "copying bentoml/yatai/deployment_utils.py -> BentoML-0.8.1+8.ge89f7fc/bentoml/yatai\n",
            "copying bentoml/yatai/status.py -> BentoML-0.8.1+8.ge89f7fc/bentoml/yatai\n",
            "copying bentoml/yatai/utils.py -> BentoML-0.8.1+8.ge89f7fc/bentoml/yatai\n",
            "copying bentoml/yatai/yatai_service.py -> BentoML-0.8.1+8.ge89f7fc/bentoml/yatai\n",
            "copying bentoml/yatai/yatai_service_impl.py -> BentoML-0.8.1+8.ge89f7fc/bentoml/yatai\n",
            "copying bentoml/yatai/client/__init__.py -> BentoML-0.8.1+8.ge89f7fc/bentoml/yatai/client\n",
            "copying bentoml/yatai/client/bento_repository_api.py -> BentoML-0.8.1+8.ge89f7fc/bentoml/yatai/client\n",
            "copying bentoml/yatai/client/deployment_api.py -> BentoML-0.8.1+8.ge89f7fc/bentoml/yatai/client\n",
            "copying bentoml/yatai/deployment/__init__.py -> BentoML-0.8.1+8.ge89f7fc/bentoml/yatai/deployment\n",
            "copying bentoml/yatai/deployment/operator.py -> BentoML-0.8.1+8.ge89f7fc/bentoml/yatai/deployment\n",
            "copying bentoml/yatai/deployment/store.py -> BentoML-0.8.1+8.ge89f7fc/bentoml/yatai/deployment\n",
            "copying bentoml/yatai/deployment/utils.py -> BentoML-0.8.1+8.ge89f7fc/bentoml/yatai/deployment\n",
            "copying bentoml/yatai/deployment/aws_lambda/__init__.py -> BentoML-0.8.1+8.ge89f7fc/bentoml/yatai/deployment/aws_lambda\n",
            "copying bentoml/yatai/deployment/aws_lambda/download_extra_resources.py -> BentoML-0.8.1+8.ge89f7fc/bentoml/yatai/deployment/aws_lambda\n",
            "copying bentoml/yatai/deployment/aws_lambda/lambda_app.py -> BentoML-0.8.1+8.ge89f7fc/bentoml/yatai/deployment/aws_lambda\n",
            "copying bentoml/yatai/deployment/aws_lambda/operator.py -> BentoML-0.8.1+8.ge89f7fc/bentoml/yatai/deployment/aws_lambda\n",
            "copying bentoml/yatai/deployment/aws_lambda/utils.py -> BentoML-0.8.1+8.ge89f7fc/bentoml/yatai/deployment/aws_lambda\n",
            "copying bentoml/yatai/deployment/sagemaker/__init__.py -> BentoML-0.8.1+8.ge89f7fc/bentoml/yatai/deployment/sagemaker\n",
            "copying bentoml/yatai/deployment/sagemaker/model_server.py -> BentoML-0.8.1+8.ge89f7fc/bentoml/yatai/deployment/sagemaker\n",
            "copying bentoml/yatai/deployment/sagemaker/operator.py -> BentoML-0.8.1+8.ge89f7fc/bentoml/yatai/deployment/sagemaker\n",
            "copying bentoml/yatai/deployment/sagemaker/wsgi.py -> BentoML-0.8.1+8.ge89f7fc/bentoml/yatai/deployment/sagemaker\n",
            "copying bentoml/yatai/migrations/README -> BentoML-0.8.1+8.ge89f7fc/bentoml/yatai/migrations\n",
            "copying bentoml/yatai/migrations/__init__.py -> BentoML-0.8.1+8.ge89f7fc/bentoml/yatai/migrations\n",
            "copying bentoml/yatai/migrations/env.py -> BentoML-0.8.1+8.ge89f7fc/bentoml/yatai/migrations\n",
            "copying bentoml/yatai/migrations/script.py.mako -> BentoML-0.8.1+8.ge89f7fc/bentoml/yatai/migrations\n",
            "copying bentoml/yatai/migrations/__pycache__/env.cpython-36.pyc -> BentoML-0.8.1+8.ge89f7fc/bentoml/yatai/migrations/__pycache__\n",
            "copying bentoml/yatai/migrations/__pycache__/env.cpython-37.pyc -> BentoML-0.8.1+8.ge89f7fc/bentoml/yatai/migrations/__pycache__\n",
            "copying bentoml/yatai/migrations/versions/__init__.py -> BentoML-0.8.1+8.ge89f7fc/bentoml/yatai/migrations/versions\n",
            "copying bentoml/yatai/migrations/versions/a6b00ae45279_add_last_updated_at_for_deployments.py -> BentoML-0.8.1+8.ge89f7fc/bentoml/yatai/migrations/versions\n",
            "copying bentoml/yatai/migrations/versions/__pycache__/a6b00ae45279_add_last_updated_at_for_deployments.cpython-36.pyc -> BentoML-0.8.1+8.ge89f7fc/bentoml/yatai/migrations/versions/__pycache__\n",
            "copying bentoml/yatai/migrations/versions/__pycache__/a6b00ae45279_add_last_updated_at_for_deployments.cpython-37.pyc -> BentoML-0.8.1+8.ge89f7fc/bentoml/yatai/migrations/versions/__pycache__\n",
            "copying bentoml/yatai/proto/__init__.py -> BentoML-0.8.1+8.ge89f7fc/bentoml/yatai/proto\n",
            "copying bentoml/yatai/proto/deployment_pb2.py -> BentoML-0.8.1+8.ge89f7fc/bentoml/yatai/proto\n",
            "copying bentoml/yatai/proto/repository_pb2.py -> BentoML-0.8.1+8.ge89f7fc/bentoml/yatai/proto\n",
            "copying bentoml/yatai/proto/status_pb2.py -> BentoML-0.8.1+8.ge89f7fc/bentoml/yatai/proto\n",
            "copying bentoml/yatai/proto/yatai_service_pb2.py -> BentoML-0.8.1+8.ge89f7fc/bentoml/yatai/proto\n",
            "copying bentoml/yatai/proto/yatai_service_pb2_grpc.py -> BentoML-0.8.1+8.ge89f7fc/bentoml/yatai/proto\n",
            "copying bentoml/yatai/repository/__init__.py -> BentoML-0.8.1+8.ge89f7fc/bentoml/yatai/repository\n",
            "copying bentoml/yatai/repository/base_repository.py -> BentoML-0.8.1+8.ge89f7fc/bentoml/yatai/repository\n",
            "copying bentoml/yatai/repository/local_repository.py -> BentoML-0.8.1+8.ge89f7fc/bentoml/yatai/repository\n",
            "copying bentoml/yatai/repository/metadata_store.py -> BentoML-0.8.1+8.ge89f7fc/bentoml/yatai/repository\n",
            "copying bentoml/yatai/repository/repository.py -> BentoML-0.8.1+8.ge89f7fc/bentoml/yatai/repository\n",
            "copying bentoml/yatai/repository/s3_repository.py -> BentoML-0.8.1+8.ge89f7fc/bentoml/yatai/repository\n",
            "copying bentoml/yatai/validator/__init__.py -> BentoML-0.8.1+8.ge89f7fc/bentoml/yatai/validator\n",
            "copying bentoml/yatai/validator/deployment_pb_validator.py -> BentoML-0.8.1+8.ge89f7fc/bentoml/yatai/validator\n",
            "Writing BentoML-0.8.1+8.ge89f7fc/setup.cfg\n",
            "UPDATING BentoML-0.8.1+8.ge89f7fc/bentoml/_version.py\n",
            "set BentoML-0.8.1+8.ge89f7fc/bentoml/_version.py to '0.8.1+8.ge89f7fc'\n",
            "Creating tar archive\n",
            "removing 'BentoML-0.8.1+8.ge89f7fc' (and everything under it)\n",
            "[2020-07-07 11:38:45,685] WARNING - Saved BentoService bundle version mismatch: loading BentoService bundle create with BentoML version 0.8.1,  but loading from BentoML version 0.8.1+8.ge89f7fc\n",
            "[2020-07-07 11:38:45,717] INFO - BentoService bundle 'IrisClassifier:20200707113838_243E46' saved to: /home/kiteretsu/bentoml/repository/IrisClassifier/20200707113838_243E46\n"
          ],
          "name": "stdout"
        }
      ]
    },
    {
      "cell_type": "code",
      "metadata": {
        "id": "rfbaTgKW0D78",
        "colab_type": "code",
        "colab": {
          "base_uri": "https://localhost:8080/",
          "height": 394
        },
        "outputId": "558b2660-2a45-4d4e-db66-9a559ace69a9"
      },
      "source": [
        "!bentoml serve IrisClassifier:latest"
      ],
      "execution_count": 13,
      "outputs": [
        {
          "output_type": "stream",
          "text": [
            "[2020-07-07 11:39:22,727] INFO - Getting latest version IrisClassifier:20200707113838_243E46\n",
            "[2020-07-07 11:39:23,814] WARNING - BentoML local changes detected - Local BentoML repository including all code changes will be packaged together with saved bundle created, under './bundled_pip_dependencies' directory. For using a modified version of BentoML for production deployment, it is recommended to set the 'core/bentoml_deploy_version' config to a http location or your BentoML for on github, e.g.: 'bentoml_deploy_version = git+https://github.com/{username}/bentoml.git@{branch}'\n",
            "[2020-07-07 11:39:23,828] WARNING - Saved BentoService bundle version mismatch: loading BentoService bundle create with BentoML version 0.8.1,  but loading from BentoML version 0.8.1+8.ge89f7fc\n",
            " * Serving Flask app \"IrisClassifier\" (lazy loading)\n",
            " * Environment: production\n",
            "\u001b[31m   WARNING: This is a development server. Do not use it in a production deployment.\u001b[0m\n",
            "\u001b[2m   Use a production WSGI server instead.\u001b[0m\n",
            " * Debug mode: off\n",
            " * Running on http://127.0.0.1:5000/ (Press CTRL+C to quit)\n",
            "127.0.0.1 - - [07/Jul/2020 11:39:26] \"\u001b[33mGET /sw.js HTTP/1.1\u001b[0m\" 404 -\n",
            "127.0.0.1 - - [07/Jul/2020 11:39:26] \"\u001b[37mGET / HTTP/1.1\u001b[0m\" 200 -\n",
            "127.0.0.1 - - [07/Jul/2020 11:39:26] \"\u001b[37mGET /css/styles.css?v=1.0 HTTP/1.1\u001b[0m\" 200 -\n",
            "127.0.0.1 - - [07/Jul/2020 11:39:26] \"\u001b[37mGET /js/scripts.js HTTP/1.1\u001b[0m\" 200 -\n",
            "127.0.0.1 - - [07/Jul/2020 11:39:26] \"\u001b[37mGET /img/setosa.jpeg HTTP/1.1\u001b[0m\" 200 -\n",
            "127.0.0.1 - - [07/Jul/2020 11:39:26] \"\u001b[37mGET /img/versicolor.jpeg HTTP/1.1\u001b[0m\" 200 -\n",
            "127.0.0.1 - - [07/Jul/2020 11:39:26] \"\u001b[37mGET /img/verginica.jpeg HTTP/1.1\u001b[0m\" 200 -\n",
            "127.0.0.1 - - [07/Jul/2020 11:39:27] \"\u001b[33mGET /favicon.ico HTTP/1.1\u001b[0m\" 404 -\n",
            "127.0.0.1 - - [07/Jul/2020 11:40:02] \"\u001b[37mGET /docs.json HTTP/1.1\u001b[0m\" 200 -\n",
            "127.0.0.1 - - [07/Jul/2020 11:40:03] \"\u001b[37mGET /docs.json HTTP/1.1\u001b[0m\" 200 -\n",
            "127.0.0.1 - - [07/Jul/2020 11:40:03] \"\u001b[33mGET /favicon.ico HTTP/1.1\u001b[0m\" 404 -\n",
            "^C\n"
          ],
          "name": "stdout"
        }
      ]
    },
    {
      "cell_type": "markdown",
      "metadata": {
        "id": "IIOGBpOZ0GoL",
        "colab_type": "text"
      },
      "source": [
        "Now if you visit http://localhost:5000/, you should be served with a beautiful UI:\n",
        "\n",
        "![Custom UI](https://raw.githubusercontent.com/bentoml/gallery/master/scikit-learn/iris-classifier/webui.png)\n",
        "\n",
        "It's still possible to access the swagger docs at `/docs`"
      ]
    }
  ],
  "metadata": {
    "colab": {
      "name": "BentoML.ipynb",
      "provenance": [],
      "collapsed_sections": [],
      "toc_visible": true
    },
    "kernelspec": {
      "name": "python3",
      "display_name": "Python 3"
    }
  },
  "nbformat": 4,
  "nbformat_minor": 0
}