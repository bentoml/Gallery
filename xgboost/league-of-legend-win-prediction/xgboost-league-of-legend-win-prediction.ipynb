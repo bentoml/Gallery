{
 "cells": [
  {
   "cell_type": "markdown",
   "metadata": {},
   "source": [
    "### BentoML Example\n",
    "\n",
    "# XGBoost League of legend Win prediction \n",
    "\n",
    "This is a BentoML Demo Project demonstrating how to train a League of Legend win prdiction model, and use BentoML to package and serve the model for building applictions.\n",
    "\n",
    "[BentoML](http://bentoml.ai) is an open source platform for machine learning model serving and deployment.\n",
    "\n",
    "Example notebook built based on https://slundberg.github.io/shap/notebooks/League%20of%20Legends%20Win%20Prediction%20with%20XGBoost.html\n",
    "\n",
    "![Impression](https://www.google-analytics.com/collect?v=1&tid=UA-112879361-3&cid=555&t=event&ec=xgboost&ea=xgboost-league-of-legend-win-prediction&dt=xgboost-league-of-legend-win-prediction)"
   ]
  },
  {
   "cell_type": "code",
   "execution_count": 1,
   "metadata": {},
   "outputs": [],
   "source": [
    "%reload_ext autoreload\n",
    "%autoreload 2\n",
    "%matplotlib inline\n",
    "\n",
    "import warnings\n",
    "warnings.filterwarnings(\"ignore\")"
   ]
  },
  {
   "cell_type": "code",
   "execution_count": 1,
   "metadata": {},
   "outputs": [
    {
     "name": "stdout",
     "output_type": "stream",
     "text": [
      "Requirement already satisfied: bentoml in /Users/chaoyuyang/workspace/BentoML (0.3.1)\n",
      "Requirement already satisfied: ruamel.yaml>=0.15.0 in /Users/chaoyuyang/anaconda3/envs/bentoml-dev/lib/python3.7/site-packages (from bentoml) (0.15.99)\n",
      "Requirement already satisfied: numpy in /Users/chaoyuyang/anaconda3/envs/bentoml-dev/lib/python3.7/site-packages (from bentoml) (1.16.4)\n",
      "Requirement already satisfied: flask in /Users/chaoyuyang/anaconda3/envs/bentoml-dev/lib/python3.7/site-packages (from bentoml) (1.1.1)\n",
      "Requirement already satisfied: gunicorn in /Users/chaoyuyang/anaconda3/envs/bentoml-dev/lib/python3.7/site-packages (from bentoml) (19.9.0)\n",
      "Requirement already satisfied: six in /Users/chaoyuyang/anaconda3/envs/bentoml-dev/lib/python3.7/site-packages (from bentoml) (1.12.0)\n",
      "Requirement already satisfied: click in /Users/chaoyuyang/anaconda3/envs/bentoml-dev/lib/python3.7/site-packages (from bentoml) (7.0)\n",
      "Requirement already satisfied: pandas in /Users/chaoyuyang/anaconda3/envs/bentoml-dev/lib/python3.7/site-packages (from bentoml) (0.24.2)\n",
      "Requirement already satisfied: dill in /Users/chaoyuyang/anaconda3/envs/bentoml-dev/lib/python3.7/site-packages (from bentoml) (0.3.0)\n",
      "Requirement already satisfied: prometheus_client in /Users/chaoyuyang/anaconda3/envs/bentoml-dev/lib/python3.7/site-packages (from bentoml) (0.7.1)\n",
      "Requirement already satisfied: python-json-logger in /Users/chaoyuyang/anaconda3/envs/bentoml-dev/lib/python3.7/site-packages (from bentoml) (0.1.11)\n",
      "Requirement already satisfied: boto3 in /Users/chaoyuyang/anaconda3/envs/bentoml-dev/lib/python3.7/site-packages (from bentoml) (1.9.188)\n",
      "Requirement already satisfied: pathlib2 in /Users/chaoyuyang/anaconda3/envs/bentoml-dev/lib/python3.7/site-packages (from bentoml) (2.3.4)\n",
      "Requirement already satisfied: requests in /Users/chaoyuyang/anaconda3/envs/bentoml-dev/lib/python3.7/site-packages (from bentoml) (2.22.0)\n",
      "Requirement already satisfied: packaging in /Users/chaoyuyang/anaconda3/envs/bentoml-dev/lib/python3.7/site-packages (from bentoml) (19.0)\n",
      "Requirement already satisfied: docker in /Users/chaoyuyang/anaconda3/envs/bentoml-dev/lib/python3.7/site-packages (from bentoml) (4.0.2)\n",
      "Requirement already satisfied: configparser in /Users/chaoyuyang/anaconda3/envs/bentoml-dev/lib/python3.7/site-packages (from bentoml) (3.7.4)\n",
      "Requirement already satisfied: sqlalchemy in /Users/chaoyuyang/anaconda3/envs/bentoml-dev/lib/python3.7/site-packages (from bentoml) (1.3.4)\n",
      "Requirement already satisfied: protobuf>=3.6.0 in /Users/chaoyuyang/anaconda3/envs/bentoml-dev/lib/python3.7/site-packages (from bentoml) (3.7.0)\n",
      "Requirement already satisfied: Werkzeug>=0.15 in /Users/chaoyuyang/anaconda3/envs/bentoml-dev/lib/python3.7/site-packages (from flask->bentoml) (0.15.4)\n",
      "Requirement already satisfied: itsdangerous>=0.24 in /Users/chaoyuyang/anaconda3/envs/bentoml-dev/lib/python3.7/site-packages (from flask->bentoml) (1.1.0)\n",
      "Requirement already satisfied: Jinja2>=2.10.1 in /Users/chaoyuyang/anaconda3/envs/bentoml-dev/lib/python3.7/site-packages (from flask->bentoml) (2.10.1)\n",
      "Requirement already satisfied: python-dateutil>=2.5.0 in /Users/chaoyuyang/anaconda3/envs/bentoml-dev/lib/python3.7/site-packages (from pandas->bentoml) (2.8.0)\n",
      "Requirement already satisfied: pytz>=2011k in /Users/chaoyuyang/anaconda3/envs/bentoml-dev/lib/python3.7/site-packages (from pandas->bentoml) (2019.1)\n",
      "Requirement already satisfied: botocore<1.13.0,>=1.12.188 in /Users/chaoyuyang/anaconda3/envs/bentoml-dev/lib/python3.7/site-packages (from boto3->bentoml) (1.12.188)\n",
      "Requirement already satisfied: s3transfer<0.3.0,>=0.2.0 in /Users/chaoyuyang/anaconda3/envs/bentoml-dev/lib/python3.7/site-packages (from boto3->bentoml) (0.2.1)\n",
      "Requirement already satisfied: jmespath<1.0.0,>=0.7.1 in /Users/chaoyuyang/.local/lib/python3.7/site-packages (from boto3->bentoml) (0.9.3)\n",
      "Requirement already satisfied: urllib3!=1.25.0,!=1.25.1,<1.26,>=1.21.1 in /Users/chaoyuyang/anaconda3/envs/bentoml-dev/lib/python3.7/site-packages (from requests->bentoml) (1.25.3)\n",
      "Requirement already satisfied: chardet<3.1.0,>=3.0.2 in /Users/chaoyuyang/anaconda3/envs/bentoml-dev/lib/python3.7/site-packages (from requests->bentoml) (3.0.4)\n",
      "Requirement already satisfied: idna<2.9,>=2.5 in /Users/chaoyuyang/anaconda3/envs/bentoml-dev/lib/python3.7/site-packages (from requests->bentoml) (2.8)\n",
      "Requirement already satisfied: certifi>=2017.4.17 in /Users/chaoyuyang/anaconda3/envs/bentoml-dev/lib/python3.7/site-packages (from requests->bentoml) (2019.6.16)\n",
      "Requirement already satisfied: pyparsing>=2.0.2 in /Users/chaoyuyang/anaconda3/envs/bentoml-dev/lib/python3.7/site-packages (from packaging->bentoml) (2.4.0)\n",
      "Requirement already satisfied: websocket-client>=0.32.0 in /Users/chaoyuyang/anaconda3/envs/bentoml-dev/lib/python3.7/site-packages (from docker->bentoml) (0.56.0)\n",
      "Requirement already satisfied: setuptools in /Users/chaoyuyang/.local/lib/python3.7/site-packages (from protobuf>=3.6.0->bentoml) (40.6.3)\n",
      "Requirement already satisfied: MarkupSafe>=0.23 in /Users/chaoyuyang/anaconda3/envs/bentoml-dev/lib/python3.7/site-packages (from Jinja2>=2.10.1->flask->bentoml) (1.1.1)\n",
      "Requirement already satisfied: docutils>=0.10 in /Users/chaoyuyang/.local/lib/python3.7/site-packages (from botocore<1.13.0,>=1.12.188->boto3->bentoml) (0.14)\n",
      "Requirement already satisfied: numpy in /Users/chaoyuyang/anaconda3/envs/bentoml-dev/lib/python3.7/site-packages (1.16.4)\n",
      "Requirement already satisfied: xgboost in /Users/chaoyuyang/anaconda3/envs/bentoml-dev/lib/python3.7/site-packages (0.90)\n",
      "Requirement already satisfied: sklearn in /Users/chaoyuyang/anaconda3/envs/bentoml-dev/lib/python3.7/site-packages (0.0)\n",
      "Requirement already satisfied: matplotlib in /Users/chaoyuyang/anaconda3/envs/bentoml-dev/lib/python3.7/site-packages (3.1.1)\n",
      "Requirement already satisfied: scipy in /Users/chaoyuyang/anaconda3/envs/bentoml-dev/lib/python3.7/site-packages (from xgboost) (1.3.0)\n",
      "Requirement already satisfied: scikit-learn in /Users/chaoyuyang/anaconda3/envs/bentoml-dev/lib/python3.7/site-packages (from sklearn) (0.21.2)\n",
      "Requirement already satisfied: python-dateutil>=2.1 in /Users/chaoyuyang/anaconda3/envs/bentoml-dev/lib/python3.7/site-packages (from matplotlib) (2.8.0)\n",
      "Requirement already satisfied: kiwisolver>=1.0.1 in /Users/chaoyuyang/anaconda3/envs/bentoml-dev/lib/python3.7/site-packages (from matplotlib) (1.0.1)\n",
      "Requirement already satisfied: pyparsing!=2.0.4,!=2.1.2,!=2.1.6,>=2.0.1 in /Users/chaoyuyang/anaconda3/envs/bentoml-dev/lib/python3.7/site-packages (from matplotlib) (2.4.0)\n",
      "Requirement already satisfied: cycler>=0.10 in /Users/chaoyuyang/anaconda3/envs/bentoml-dev/lib/python3.7/site-packages (from matplotlib) (0.10.0)\n",
      "Requirement already satisfied: joblib>=0.11 in /Users/chaoyuyang/anaconda3/envs/bentoml-dev/lib/python3.7/site-packages (from scikit-learn->sklearn) (0.13.2)\n",
      "Requirement already satisfied: six>=1.5 in /Users/chaoyuyang/anaconda3/envs/bentoml-dev/lib/python3.7/site-packages (from python-dateutil>=2.1->matplotlib) (1.12.0)\n",
      "Requirement already satisfied: setuptools in /Users/chaoyuyang/.local/lib/python3.7/site-packages (from kiwisolver>=1.0.1->matplotlib) (40.6.3)\n"
     ]
    }
   ],
   "source": [
    "!pip install bentoml\n",
    "!pip install numpy xgboost sklearn matplotlib kaggle"
   ]
  },
  {
   "cell_type": "code",
   "execution_count": 2,
   "metadata": {},
   "outputs": [],
   "source": [
    "import pandas as pd\n",
    "import numpy as np\n",
    "import xgboost as xgb\n",
    "import matplotlib.pyplot as pl\n",
    "from sklearn.model_selection import train_test_split"
   ]
  },
  {
   "cell_type": "markdown",
   "metadata": {},
   "source": [
    "## Download Data\n",
    "\n",
    "This notebook uses data from kaggle [paololol/league-of-legends-ranked-matches](https://www.kaggle.com/paololol/league-of-legends-ranked-matches)\n",
    "\n",
    "You can set your Kaggle credential below and download the dataset automatically. The kaggle key can be created by going to the 'Account' tab of your user profile (https://www.kaggle.com/<username>/account) and select 'Create API Token'. This will trigger the download of kaggle.json, a file containing your API credentials, and fill it in the cell below.\n",
    "\n",
    "Alternativelly, you can download it manually from [here](https://www.kaggle.com/paololol/league-of-legends-ranked-matches) and place unzip'd data in this folder."
   ]
  },
  {
   "cell_type": "code",
   "execution_count": 4,
   "metadata": {
    "scrolled": true
   },
   "outputs": [
    {
     "name": "stdout",
     "output_type": "stream",
     "text": [
      "Process is interrupted.\n"
     ]
    }
   ],
   "source": [
    "%%bash\n",
    "export KAGGLE_USERNAME=\n",
    "export KAGGLE_KEY=\n",
    "\n",
    "if [ ! -f ./league-of-legends-ranked-matches.zip ]; then\n",
    "    kaggle datasets download paololol/league-of-legends-ranked-matches\n",
    "    unzip -n league-of-legends-ranked-matches.zip\n",
    "fi"
   ]
  },
  {
   "cell_type": "markdown",
   "metadata": {},
   "source": [
    "## Load data"
   ]
  },
  {
   "cell_type": "code",
   "execution_count": 5,
   "metadata": {},
   "outputs": [],
   "source": [
    "# read in the data\n",
    "matches = pd.read_csv(\"matches.csv\")\n",
    "participants = pd.read_csv(\"participants.csv\")\n",
    "stats1 = pd.read_csv(\"stats1.csv\", low_memory=False)\n",
    "stats2 = pd.read_csv(\"stats2.csv\", low_memory=False)\n",
    "stats = pd.concat([stats1,stats2])\n",
    "\n",
    "# merge into a single DataFrame\n",
    "a = pd.merge(participants, matches, left_on=\"matchid\", right_on=\"id\")\n",
    "allstats_orig = pd.merge(a, stats, left_on=\"matchid\", right_on=\"id\")\n",
    "allstats = allstats_orig.copy()\n",
    "\n",
    "# drop games that lasted less than 10 minutes\n",
    "allstats = allstats.loc[allstats[\"duration\"] >= 10*60,:]\n",
    "\n",
    "# Convert string-based categories to numeric values\n",
    "cat_cols = [\"role\", \"position\", \"version\", \"platformid\"]\n",
    "for c in cat_cols:\n",
    "    allstats[c] = allstats[c].astype('category')\n",
    "    allstats[c] = allstats[c].cat.codes\n",
    "allstats[\"wardsbought\"] = allstats[\"wardsbought\"].astype(np.int32)\n",
    "\n",
    "X = allstats.drop([\"win\"], axis=1)\n",
    "y = allstats[\"win\"]\n",
    "\n",
    "# convert all features we want to consider as rates\n",
    "rate_features = [\n",
    "    \"kills\", \"deaths\", \"assists\", \"killingsprees\", \"doublekills\",\n",
    "    \"triplekills\", \"quadrakills\", \"pentakills\", \"legendarykills\",\n",
    "    \"totdmgdealt\", \"magicdmgdealt\", \"physicaldmgdealt\", \"truedmgdealt\",\n",
    "    \"totdmgtochamp\", \"magicdmgtochamp\", \"physdmgtochamp\", \"truedmgtochamp\",\n",
    "    \"totheal\", \"totunitshealed\", \"dmgtoobj\", \"timecc\", \"totdmgtaken\",\n",
    "    \"magicdmgtaken\" , \"physdmgtaken\", \"truedmgtaken\", \"goldearned\", \"goldspent\",\n",
    "    \"totminionskilled\", \"neutralminionskilled\", \"ownjunglekills\",\n",
    "    \"enemyjunglekills\", \"totcctimedealt\", \"pinksbought\", \"wardsbought\",\n",
    "    \"wardsplaced\", \"wardskilled\"\n",
    "]\n",
    "for feature_name in rate_features:\n",
    "    X[feature_name] /= X[\"duration\"] / 60 # per minute rate\n",
    "\n",
    "# convert to fraction of game\n",
    "X[\"longesttimespentliving\"] /= X[\"duration\"]\n",
    "\n",
    "# define friendly names for the features\n",
    "full_names = {\n",
    "    \"kills\": \"Kills per min.\",\n",
    "    \"deaths\": \"Deaths per min.\",\n",
    "    \"assists\": \"Assists per min.\",\n",
    "    \"killingsprees\": \"Killing sprees per min.\",\n",
    "    \"longesttimespentliving\": \"Longest time living as % of game\",\n",
    "    \"doublekills\": \"Double kills per min.\",\n",
    "    \"triplekills\": \"Triple kills per min.\",\n",
    "    \"quadrakills\": \"Quadra kills per min.\",\n",
    "    \"pentakills\": \"Penta kills per min.\",\n",
    "    \"legendarykills\": \"Legendary kills per min.\",\n",
    "    \"totdmgdealt\": \"Total damage dealt per min.\",\n",
    "    \"magicdmgdealt\": \"Magic damage dealt per min.\",\n",
    "    \"physicaldmgdealt\": \"Physical damage dealt per min.\",\n",
    "    \"truedmgdealt\": \"True damage dealt per min.\",\n",
    "    \"totdmgtochamp\": \"Total damage to champions per min.\",\n",
    "    \"magicdmgtochamp\": \"Magic damage to champions per min.\",\n",
    "    \"physdmgtochamp\": \"Physical damage to champions per min.\",\n",
    "    \"truedmgtochamp\": \"True damage to champions per min.\",\n",
    "    \"totheal\": \"Total healing per min.\",\n",
    "    \"totunitshealed\": \"Total units healed per min.\",\n",
    "    \"dmgtoobj\": \"Damage to objects per min.\",\n",
    "    \"timecc\": \"Time spent with crown control per min.\",\n",
    "    \"totdmgtaken\": \"Total damage taken per min.\",\n",
    "    \"magicdmgtaken\": \"Magic damage taken per min.\",\n",
    "    \"physdmgtaken\": \"Physical damage taken per min.\",\n",
    "    \"truedmgtaken\": \"True damage taken per min.\",\n",
    "    \"goldearned\": \"Gold earned per min.\",\n",
    "    \"goldspent\": \"Gold spent per min.\",\n",
    "    \"totminionskilled\": \"Total minions killed per min.\",\n",
    "    \"neutralminionskilled\": \"Neutral minions killed per min.\",\n",
    "    \"ownjunglekills\": \"Own jungle kills per min.\",\n",
    "    \"enemyjunglekills\": \"Enemy jungle kills per min.\",\n",
    "    \"totcctimedealt\": \"Total crown control time dealt per min.\",\n",
    "    \"pinksbought\": \"Pink wards bought per min.\",\n",
    "    \"wardsbought\": \"Wards bought per min.\",\n",
    "    \"wardsplaced\": \"Wards placed per min.\",\n",
    "    \"turretkills\": \"# of turret kills\",\n",
    "    \"inhibkills\": \"# of inhibitor kills\",\n",
    "    \"dmgtoturrets\": \"Damage to turrets\"\n",
    "}\n",
    "feature_names = [full_names.get(n, n) for n in X.columns]\n",
    "X.columns = feature_names\n",
    "\n",
    "# create train/validation split\n",
    "Xt, Xv, yt, yv = train_test_split(X,y, test_size=0.2, random_state=10)\n",
    "dt = xgb.DMatrix(Xt, label=yt.values)\n",
    "dv = xgb.DMatrix(Xv, label=yv.values)"
   ]
  },
  {
   "cell_type": "markdown",
   "metadata": {},
   "source": [
    "## Train the XGBoost model\n"
   ]
  },
  {
   "cell_type": "code",
   "execution_count": 7,
   "metadata": {},
   "outputs": [
    {
     "name": "stdout",
     "output_type": "stream",
     "text": [
      "[0]\ttrain-logloss:0.543193\tvalid-logloss:0.541947\n",
      "Multiple eval metrics have been passed: 'valid-logloss' will be used for early stopping.\n",
      "\n",
      "Will train until valid-logloss hasn't improved in 5 rounds.\n",
      "[10]\ttrain-logloss:0.340893\tvalid-logloss:0.340785\n",
      "[20]\ttrain-logloss:0.298629\tvalid-logloss:0.298923\n",
      "[30]\ttrain-logloss:0.275069\tvalid-logloss:0.27588\n",
      "[40]\ttrain-logloss:0.262759\tvalid-logloss:0.264077\n",
      "[50]\ttrain-logloss:0.251781\tvalid-logloss:0.253591\n",
      "[60]\ttrain-logloss:0.243637\tvalid-logloss:0.245847\n",
      "[70]\ttrain-logloss:0.236876\tvalid-logloss:0.239301\n",
      "[80]\ttrain-logloss:0.230745\tvalid-logloss:0.233482\n",
      "[90]\ttrain-logloss:0.225845\tvalid-logloss:0.228773\n",
      "[99]\ttrain-logloss:0.221568\tvalid-logloss:0.224798\n"
     ]
    }
   ],
   "source": [
    "params = {\n",
    "    \"eta\": 0.5,\n",
    "    \"max_depth\": 4,\n",
    "    \"objective\": \"binary:logistic\",\n",
    "    \"silent\": 1,\n",
    "    \"base_score\": np.mean(yt),\n",
    "    \"eval_metric\": \"logloss\"\n",
    "}\n",
    "model = xgb.train(params, dt, 100, [(dt, \"train\"),(dv, \"valid\")], early_stopping_rounds=5, verbose_eval=10)"
   ]
  },
  {
   "cell_type": "code",
   "execution_count": 8,
   "metadata": {},
   "outputs": [
    {
     "data": {
      "text/html": [
       "<div>\n",
       "<style scoped>\n",
       "    .dataframe tbody tr th:only-of-type {\n",
       "        vertical-align: middle;\n",
       "    }\n",
       "\n",
       "    .dataframe tbody tr th {\n",
       "        vertical-align: top;\n",
       "    }\n",
       "\n",
       "    .dataframe thead th {\n",
       "        text-align: right;\n",
       "    }\n",
       "</style>\n",
       "<table border=\"1\" class=\"dataframe\">\n",
       "  <thead>\n",
       "    <tr style=\"text-align: right;\">\n",
       "      <th></th>\n",
       "      <th>id_x</th>\n",
       "      <th>matchid</th>\n",
       "      <th>player</th>\n",
       "      <th>championid</th>\n",
       "      <th>ss1</th>\n",
       "      <th>ss2</th>\n",
       "      <th>role</th>\n",
       "      <th>position</th>\n",
       "      <th>id_y</th>\n",
       "      <th>gameid</th>\n",
       "      <th>...</th>\n",
       "      <th>Neutral minions killed per min.</th>\n",
       "      <th>Own jungle kills per min.</th>\n",
       "      <th>Enemy jungle kills per min.</th>\n",
       "      <th>Total crown control time dealt per min.</th>\n",
       "      <th>champlvl</th>\n",
       "      <th>Pink wards bought per min.</th>\n",
       "      <th>Wards bought per min.</th>\n",
       "      <th>Wards placed per min.</th>\n",
       "      <th>wardskilled</th>\n",
       "      <th>firstblood</th>\n",
       "    </tr>\n",
       "  </thead>\n",
       "  <tbody>\n",
       "    <tr>\n",
       "      <th>1215555</th>\n",
       "      <td>1501034</td>\n",
       "      <td>150933</td>\n",
       "      <td>10</td>\n",
       "      <td>59</td>\n",
       "      <td>4</td>\n",
       "      <td>11</td>\n",
       "      <td>2</td>\n",
       "      <td>2</td>\n",
       "      <td>150933</td>\n",
       "      <td>3162804935</td>\n",
       "      <td>...</td>\n",
       "      <td>0.023086</td>\n",
       "      <td>0.023086</td>\n",
       "      <td>0.000000</td>\n",
       "      <td>7.572143</td>\n",
       "      <td>18</td>\n",
       "      <td>0.069257</td>\n",
       "      <td>0.0</td>\n",
       "      <td>0.831089</td>\n",
       "      <td>0.253944</td>\n",
       "      <td>0</td>\n",
       "    </tr>\n",
       "    <tr>\n",
       "      <th>1427835</th>\n",
       "      <td>1713614</td>\n",
       "      <td>172357</td>\n",
       "      <td>6</td>\n",
       "      <td>35</td>\n",
       "      <td>11</td>\n",
       "      <td>14</td>\n",
       "      <td>3</td>\n",
       "      <td>1</td>\n",
       "      <td>172357</td>\n",
       "      <td>3186087472</td>\n",
       "      <td>...</td>\n",
       "      <td>0.028262</td>\n",
       "      <td>0.028262</td>\n",
       "      <td>0.000000</td>\n",
       "      <td>10.937353</td>\n",
       "      <td>16</td>\n",
       "      <td>0.000000</td>\n",
       "      <td>0.0</td>\n",
       "      <td>0.197833</td>\n",
       "      <td>0.000000</td>\n",
       "      <td>0</td>\n",
       "    </tr>\n",
       "    <tr>\n",
       "      <th>1204118</th>\n",
       "      <td>1489597</td>\n",
       "      <td>149786</td>\n",
       "      <td>3</td>\n",
       "      <td>34</td>\n",
       "      <td>4</td>\n",
       "      <td>14</td>\n",
       "      <td>4</td>\n",
       "      <td>2</td>\n",
       "      <td>149786</td>\n",
       "      <td>3193266242</td>\n",
       "      <td>...</td>\n",
       "      <td>0.882817</td>\n",
       "      <td>0.693642</td>\n",
       "      <td>0.189175</td>\n",
       "      <td>11.192853</td>\n",
       "      <td>18</td>\n",
       "      <td>0.063058</td>\n",
       "      <td>0.0</td>\n",
       "      <td>0.567525</td>\n",
       "      <td>0.189175</td>\n",
       "      <td>0</td>\n",
       "    </tr>\n",
       "  </tbody>\n",
       "</table>\n",
       "<p>3 rows × 71 columns</p>\n",
       "</div>"
      ],
      "text/plain": [
       "            id_x  matchid  player  championid  ss1  ss2  role  position  \\\n",
       "1215555  1501034   150933      10          59    4   11     2         2   \n",
       "1427835  1713614   172357       6          35   11   14     3         1   \n",
       "1204118  1489597   149786       3          34    4   14     4         2   \n",
       "\n",
       "           id_y      gameid  ...  Neutral minions killed per min.  \\\n",
       "1215555  150933  3162804935  ...                         0.023086   \n",
       "1427835  172357  3186087472  ...                         0.028262   \n",
       "1204118  149786  3193266242  ...                         0.882817   \n",
       "\n",
       "         Own jungle kills per min.  Enemy jungle kills per min.  \\\n",
       "1215555                   0.023086                     0.000000   \n",
       "1427835                   0.028262                     0.000000   \n",
       "1204118                   0.693642                     0.189175   \n",
       "\n",
       "         Total crown control time dealt per min.  champlvl  \\\n",
       "1215555                                 7.572143        18   \n",
       "1427835                                10.937353        16   \n",
       "1204118                                11.192853        18   \n",
       "\n",
       "         Pink wards bought per min.  Wards bought per min.  \\\n",
       "1215555                    0.069257                    0.0   \n",
       "1427835                    0.000000                    0.0   \n",
       "1204118                    0.063058                    0.0   \n",
       "\n",
       "         Wards placed per min.  wardskilled  firstblood  \n",
       "1215555               0.831089     0.253944           0  \n",
       "1427835               0.197833     0.000000           0  \n",
       "1204118               0.567525     0.189175           0  \n",
       "\n",
       "[3 rows x 71 columns]"
      ]
     },
     "execution_count": 8,
     "metadata": {},
     "output_type": "execute_result"
    }
   ],
   "source": [
    "Xt[:3]"
   ]
  },
  {
   "cell_type": "code",
   "execution_count": 9,
   "metadata": {},
   "outputs": [
    {
     "data": {
      "text/plain": [
       "array([0.35312295, 0.06715316, 0.04429299], dtype=float32)"
      ]
     },
     "execution_count": 9,
     "metadata": {},
     "output_type": "execute_result"
    }
   ],
   "source": [
    "model.predict(xgb.DMatrix(Xt[:3]))"
   ]
  },
  {
   "cell_type": "markdown",
   "metadata": {},
   "source": [
    "## Create ML service with BentoML"
   ]
  },
  {
   "cell_type": "code",
   "execution_count": 10,
   "metadata": {},
   "outputs": [
    {
     "name": "stdout",
     "output_type": "stream",
     "text": [
      "Overwriting lol_win_predictions.py\n"
     ]
    }
   ],
   "source": [
    "%%writefile lol_win_predictions.py\n",
    "\n",
    "from bentoml import api, env, BentoService, artifacts\n",
    "from bentoml.artifact import XgboostModelArtifact\n",
    "from bentoml.handlers import DataframeHandler\n",
    "\n",
    "import xgboost as xgb\n",
    "\n",
    "@env(pip_dependencies=['xgboost'])\n",
    "@artifacts([XgboostModelArtifact('model')])\n",
    "class LeagueWinPrediction(BentoService):\n",
    "    \n",
    "    @api(DataframeHandler)\n",
    "    def predict(self, df):\n",
    "        dmatrix = xgb.DMatrix(df)\n",
    "        return self.artifacts.model.predict(dmatrix)"
   ]
  },
  {
   "cell_type": "code",
   "execution_count": 12,
   "metadata": {},
   "outputs": [
    {
     "name": "stdout",
     "output_type": "stream",
     "text": [
      "[2020-02-13 15:19:56,905] WARNING - BentoML local changes detected - Local BentoML repository including all code changes will be bundled together with the BentoService bundle. When used with docker, the base docker image will be default to same version as last PyPI release at version: 0.6.2. You can also force bentoml to use a specific version for deploying your BentoService bundle, by setting the config 'core/bentoml_deploy_version' to a pinned version or your custom BentoML on github, e.g.:'bentoml_deploy_version = git+https://github.com/{username}/bentoml.git@{branch}'\n",
      "[2020-02-13 15:20:20,365] WARNING - BentoML local changes detected - Local BentoML repository including all code changes will be bundled together with the BentoService bundle. When used with docker, the base docker image will be default to same version as last PyPI release at version: 0.6.2. You can also force bentoml to use a specific version for deploying your BentoService bundle, by setting the config 'core/bentoml_deploy_version' to a pinned version or your custom BentoML on github, e.g.:'bentoml_deploy_version = git+https://github.com/{username}/bentoml.git@{branch}'\n",
      "running sdist\n",
      "running egg_info\n",
      "writing BentoML.egg-info/PKG-INFO\n",
      "writing dependency_links to BentoML.egg-info/dependency_links.txt\n",
      "writing entry points to BentoML.egg-info/entry_points.txt\n",
      "writing requirements to BentoML.egg-info/requires.txt\n",
      "writing top-level names to BentoML.egg-info/top_level.txt\n",
      "reading manifest file 'BentoML.egg-info/SOURCES.txt'\n",
      "reading manifest template 'MANIFEST.in'\n"
     ]
    },
    {
     "name": "stderr",
     "output_type": "stream",
     "text": [
      "no previously-included directories found matching 'examples'\n",
      "no previously-included directories found matching 'tests'\n",
      "no previously-included directories found matching 'docs'\n",
      "no previously-included directories found matching 'scripts'\n",
      "warning: no previously-included files matching '*~' found anywhere in distribution\n",
      "warning: no previously-included files matching '*.pyo' found anywhere in distribution\n",
      "warning: no previously-included files matching '.git' found anywhere in distribution\n",
      "warning: no previously-included files matching '.ipynb_checkpoints' found anywhere in distribution\n",
      "warning: no previously-included files matching '__pycache__' found anywhere in distribution\n"
     ]
    },
    {
     "name": "stdout",
     "output_type": "stream",
     "text": [
      "writing manifest file 'BentoML.egg-info/SOURCES.txt'\n",
      "running check\n"
     ]
    },
    {
     "name": "stderr",
     "output_type": "stream",
     "text": [
      "warning: check: missing meta-data: if 'author' supplied, 'author_email' must be supplied too\n",
      "\n"
     ]
    },
    {
     "name": "stdout",
     "output_type": "stream",
     "text": [
      "creating BentoML-0.6.2+8.gd95a887\n",
      "creating BentoML-0.6.2+8.gd95a887/BentoML.egg-info\n",
      "creating BentoML-0.6.2+8.gd95a887/bentoml\n",
      "creating BentoML-0.6.2+8.gd95a887/bentoml/artifact\n",
      "creating BentoML-0.6.2+8.gd95a887/bentoml/bundler\n",
      "creating BentoML-0.6.2+8.gd95a887/bentoml/cli\n",
      "creating BentoML-0.6.2+8.gd95a887/bentoml/clipper\n",
      "creating BentoML-0.6.2+8.gd95a887/bentoml/configuration\n",
      "creating BentoML-0.6.2+8.gd95a887/bentoml/deployment\n",
      "creating BentoML-0.6.2+8.gd95a887/bentoml/deployment/aws_lambda\n",
      "creating BentoML-0.6.2+8.gd95a887/bentoml/deployment/sagemaker\n",
      "creating BentoML-0.6.2+8.gd95a887/bentoml/handlers\n",
      "creating BentoML-0.6.2+8.gd95a887/bentoml/marshal\n",
      "creating BentoML-0.6.2+8.gd95a887/bentoml/migrations\n",
      "creating BentoML-0.6.2+8.gd95a887/bentoml/migrations/versions\n",
      "creating BentoML-0.6.2+8.gd95a887/bentoml/proto\n",
      "creating BentoML-0.6.2+8.gd95a887/bentoml/repository\n",
      "creating BentoML-0.6.2+8.gd95a887/bentoml/server\n",
      "creating BentoML-0.6.2+8.gd95a887/bentoml/server/static\n",
      "creating BentoML-0.6.2+8.gd95a887/bentoml/utils\n",
      "creating BentoML-0.6.2+8.gd95a887/bentoml/utils/validator\n",
      "creating BentoML-0.6.2+8.gd95a887/bentoml/yatai\n",
      "creating BentoML-0.6.2+8.gd95a887/bentoml/yatai/client\n",
      "copying files to BentoML-0.6.2+8.gd95a887...\n",
      "copying LICENSE -> BentoML-0.6.2+8.gd95a887\n",
      "copying MANIFEST.in -> BentoML-0.6.2+8.gd95a887\n",
      "copying README.md -> BentoML-0.6.2+8.gd95a887\n",
      "copying pyproject.toml -> BentoML-0.6.2+8.gd95a887\n",
      "copying setup.cfg -> BentoML-0.6.2+8.gd95a887\n",
      "copying setup.py -> BentoML-0.6.2+8.gd95a887\n",
      "copying versioneer.py -> BentoML-0.6.2+8.gd95a887\n",
      "copying BentoML.egg-info/PKG-INFO -> BentoML-0.6.2+8.gd95a887/BentoML.egg-info\n",
      "copying BentoML.egg-info/SOURCES.txt -> BentoML-0.6.2+8.gd95a887/BentoML.egg-info\n",
      "copying BentoML.egg-info/dependency_links.txt -> BentoML-0.6.2+8.gd95a887/BentoML.egg-info\n",
      "copying BentoML.egg-info/entry_points.txt -> BentoML-0.6.2+8.gd95a887/BentoML.egg-info\n",
      "copying BentoML.egg-info/requires.txt -> BentoML-0.6.2+8.gd95a887/BentoML.egg-info\n",
      "copying BentoML.egg-info/top_level.txt -> BentoML-0.6.2+8.gd95a887/BentoML.egg-info\n",
      "copying bentoml/__init__.py -> BentoML-0.6.2+8.gd95a887/bentoml\n",
      "copying bentoml/_version.py -> BentoML-0.6.2+8.gd95a887/bentoml\n",
      "copying bentoml/alembic.ini -> BentoML-0.6.2+8.gd95a887/bentoml\n",
      "copying bentoml/db.py -> BentoML-0.6.2+8.gd95a887/bentoml\n",
      "copying bentoml/exceptions.py -> BentoML-0.6.2+8.gd95a887/bentoml\n",
      "copying bentoml/service.py -> BentoML-0.6.2+8.gd95a887/bentoml\n",
      "copying bentoml/service_env.py -> BentoML-0.6.2+8.gd95a887/bentoml\n",
      "copying bentoml/artifact/__init__.py -> BentoML-0.6.2+8.gd95a887/bentoml/artifact\n",
      "copying bentoml/artifact/artifact.py -> BentoML-0.6.2+8.gd95a887/bentoml/artifact\n",
      "copying bentoml/artifact/fastai_model_artifact.py -> BentoML-0.6.2+8.gd95a887/bentoml/artifact\n",
      "copying bentoml/artifact/h2o_model_artifact.py -> BentoML-0.6.2+8.gd95a887/bentoml/artifact\n",
      "copying bentoml/artifact/keras_model_artifact.py -> BentoML-0.6.2+8.gd95a887/bentoml/artifact\n",
      "copying bentoml/artifact/lightgbm_model_artifact.py -> BentoML-0.6.2+8.gd95a887/bentoml/artifact\n",
      "copying bentoml/artifact/pickle_artifact.py -> BentoML-0.6.2+8.gd95a887/bentoml/artifact\n",
      "copying bentoml/artifact/pytorch_model_artifact.py -> BentoML-0.6.2+8.gd95a887/bentoml/artifact\n",
      "copying bentoml/artifact/sklearn_model_artifact.py -> BentoML-0.6.2+8.gd95a887/bentoml/artifact\n",
      "copying bentoml/artifact/text_file_artifact.py -> BentoML-0.6.2+8.gd95a887/bentoml/artifact\n",
      "copying bentoml/artifact/tf_savedmodel_artifact.py -> BentoML-0.6.2+8.gd95a887/bentoml/artifact\n",
      "copying bentoml/artifact/xgboost_model_artifact.py -> BentoML-0.6.2+8.gd95a887/bentoml/artifact\n",
      "copying bentoml/bundler/__init__.py -> BentoML-0.6.2+8.gd95a887/bentoml/bundler\n",
      "copying bentoml/bundler/bundler.py -> BentoML-0.6.2+8.gd95a887/bentoml/bundler\n",
      "copying bentoml/bundler/config.py -> BentoML-0.6.2+8.gd95a887/bentoml/bundler\n",
      "copying bentoml/bundler/loader.py -> BentoML-0.6.2+8.gd95a887/bentoml/bundler\n",
      "copying bentoml/bundler/py_module_utils.py -> BentoML-0.6.2+8.gd95a887/bentoml/bundler\n",
      "copying bentoml/bundler/templates.py -> BentoML-0.6.2+8.gd95a887/bentoml/bundler\n",
      "copying bentoml/bundler/utils.py -> BentoML-0.6.2+8.gd95a887/bentoml/bundler\n",
      "copying bentoml/cli/__init__.py -> BentoML-0.6.2+8.gd95a887/bentoml/cli\n",
      "copying bentoml/cli/aws_lambda.py -> BentoML-0.6.2+8.gd95a887/bentoml/cli\n",
      "copying bentoml/cli/aws_sagemaker.py -> BentoML-0.6.2+8.gd95a887/bentoml/cli\n",
      "copying bentoml/cli/bento.py -> BentoML-0.6.2+8.gd95a887/bentoml/cli\n",
      "copying bentoml/cli/click_utils.py -> BentoML-0.6.2+8.gd95a887/bentoml/cli\n",
      "copying bentoml/cli/config.py -> BentoML-0.6.2+8.gd95a887/bentoml/cli\n",
      "copying bentoml/cli/deployment.py -> BentoML-0.6.2+8.gd95a887/bentoml/cli\n",
      "copying bentoml/cli/utils.py -> BentoML-0.6.2+8.gd95a887/bentoml/cli\n",
      "copying bentoml/clipper/__init__.py -> BentoML-0.6.2+8.gd95a887/bentoml/clipper\n",
      "copying bentoml/configuration/__init__.py -> BentoML-0.6.2+8.gd95a887/bentoml/configuration\n",
      "copying bentoml/configuration/configparser.py -> BentoML-0.6.2+8.gd95a887/bentoml/configuration\n",
      "copying bentoml/configuration/default_bentoml.cfg -> BentoML-0.6.2+8.gd95a887/bentoml/configuration\n",
      "copying bentoml/deployment/__init__.py -> BentoML-0.6.2+8.gd95a887/bentoml/deployment\n",
      "copying bentoml/deployment/operator.py -> BentoML-0.6.2+8.gd95a887/bentoml/deployment\n",
      "copying bentoml/deployment/store.py -> BentoML-0.6.2+8.gd95a887/bentoml/deployment\n",
      "copying bentoml/deployment/utils.py -> BentoML-0.6.2+8.gd95a887/bentoml/deployment\n",
      "copying bentoml/deployment/aws_lambda/__init__.py -> BentoML-0.6.2+8.gd95a887/bentoml/deployment/aws_lambda\n",
      "copying bentoml/deployment/aws_lambda/download_extra_resources.py -> BentoML-0.6.2+8.gd95a887/bentoml/deployment/aws_lambda\n",
      "copying bentoml/deployment/aws_lambda/lambda_app.py -> BentoML-0.6.2+8.gd95a887/bentoml/deployment/aws_lambda\n",
      "copying bentoml/deployment/aws_lambda/utils.py -> BentoML-0.6.2+8.gd95a887/bentoml/deployment/aws_lambda\n",
      "copying bentoml/deployment/sagemaker/__init__.py -> BentoML-0.6.2+8.gd95a887/bentoml/deployment/sagemaker\n",
      "copying bentoml/deployment/sagemaker/sagemaker_nginx.conf -> BentoML-0.6.2+8.gd95a887/bentoml/deployment/sagemaker\n",
      "copying bentoml/deployment/sagemaker/sagemaker_serve.py -> BentoML-0.6.2+8.gd95a887/bentoml/deployment/sagemaker\n",
      "copying bentoml/deployment/sagemaker/sagemaker_wsgi.py -> BentoML-0.6.2+8.gd95a887/bentoml/deployment/sagemaker\n",
      "copying bentoml/handlers/__init__.py -> BentoML-0.6.2+8.gd95a887/bentoml/handlers\n",
      "copying bentoml/handlers/base_handlers.py -> BentoML-0.6.2+8.gd95a887/bentoml/handlers\n",
      "copying bentoml/handlers/clipper_handler.py -> BentoML-0.6.2+8.gd95a887/bentoml/handlers\n",
      "copying bentoml/handlers/dataframe_handler.py -> BentoML-0.6.2+8.gd95a887/bentoml/handlers\n",
      "copying bentoml/handlers/fastai_image_handler.py -> BentoML-0.6.2+8.gd95a887/bentoml/handlers\n",
      "copying bentoml/handlers/image_handler.py -> BentoML-0.6.2+8.gd95a887/bentoml/handlers\n",
      "copying bentoml/handlers/json_handler.py -> BentoML-0.6.2+8.gd95a887/bentoml/handlers\n",
      "copying bentoml/handlers/pytorch_tensor_handler.py -> BentoML-0.6.2+8.gd95a887/bentoml/handlers\n",
      "copying bentoml/handlers/tensorflow_tensor_handler.py -> BentoML-0.6.2+8.gd95a887/bentoml/handlers\n",
      "copying bentoml/handlers/utils.py -> BentoML-0.6.2+8.gd95a887/bentoml/handlers\n",
      "copying bentoml/marshal/__init__.py -> BentoML-0.6.2+8.gd95a887/bentoml/marshal\n",
      "copying bentoml/marshal/marshal.py -> BentoML-0.6.2+8.gd95a887/bentoml/marshal\n",
      "copying bentoml/marshal/utils.py -> BentoML-0.6.2+8.gd95a887/bentoml/marshal\n",
      "copying bentoml/migrations/README -> BentoML-0.6.2+8.gd95a887/bentoml/migrations\n",
      "copying bentoml/migrations/env.py -> BentoML-0.6.2+8.gd95a887/bentoml/migrations\n",
      "copying bentoml/migrations/script.py.mako -> BentoML-0.6.2+8.gd95a887/bentoml/migrations\n",
      "copying bentoml/migrations/versions/a6b00ae45279_add_last_updated_at_for_deployments.py -> BentoML-0.6.2+8.gd95a887/bentoml/migrations/versions\n",
      "copying bentoml/proto/__init__.py -> BentoML-0.6.2+8.gd95a887/bentoml/proto\n",
      "copying bentoml/proto/deployment_pb2.py -> BentoML-0.6.2+8.gd95a887/bentoml/proto\n",
      "copying bentoml/proto/repository_pb2.py -> BentoML-0.6.2+8.gd95a887/bentoml/proto\n",
      "copying bentoml/proto/status_pb2.py -> BentoML-0.6.2+8.gd95a887/bentoml/proto\n"
     ]
    },
    {
     "name": "stdout",
     "output_type": "stream",
     "text": [
      "copying bentoml/proto/yatai_service_pb2.py -> BentoML-0.6.2+8.gd95a887/bentoml/proto\n",
      "copying bentoml/proto/yatai_service_pb2_grpc.py -> BentoML-0.6.2+8.gd95a887/bentoml/proto\n",
      "copying bentoml/repository/__init__.py -> BentoML-0.6.2+8.gd95a887/bentoml/repository\n",
      "copying bentoml/repository/metadata_store.py -> BentoML-0.6.2+8.gd95a887/bentoml/repository\n",
      "copying bentoml/server/__init__.py -> BentoML-0.6.2+8.gd95a887/bentoml/server\n",
      "copying bentoml/server/bento_api_server.py -> BentoML-0.6.2+8.gd95a887/bentoml/server\n",
      "copying bentoml/server/bento_sagemaker_server.py -> BentoML-0.6.2+8.gd95a887/bentoml/server\n",
      "copying bentoml/server/gunicorn_config.py -> BentoML-0.6.2+8.gd95a887/bentoml/server\n",
      "copying bentoml/server/gunicorn_server.py -> BentoML-0.6.2+8.gd95a887/bentoml/server\n",
      "copying bentoml/server/marshal_server.py -> BentoML-0.6.2+8.gd95a887/bentoml/server\n",
      "copying bentoml/server/middlewares.py -> BentoML-0.6.2+8.gd95a887/bentoml/server\n",
      "copying bentoml/server/utils.py -> BentoML-0.6.2+8.gd95a887/bentoml/server\n",
      "copying bentoml/server/static/swagger-ui-bundle.js -> BentoML-0.6.2+8.gd95a887/bentoml/server/static\n",
      "copying bentoml/server/static/swagger-ui.css -> BentoML-0.6.2+8.gd95a887/bentoml/server/static\n",
      "copying bentoml/utils/__init__.py -> BentoML-0.6.2+8.gd95a887/bentoml/utils\n",
      "copying bentoml/utils/cloudpickle.py -> BentoML-0.6.2+8.gd95a887/bentoml/utils\n",
      "copying bentoml/utils/hybirdmethod.py -> BentoML-0.6.2+8.gd95a887/bentoml/utils\n",
      "copying bentoml/utils/log.py -> BentoML-0.6.2+8.gd95a887/bentoml/utils\n",
      "copying bentoml/utils/s3.py -> BentoML-0.6.2+8.gd95a887/bentoml/utils\n",
      "copying bentoml/utils/tempdir.py -> BentoML-0.6.2+8.gd95a887/bentoml/utils\n",
      "copying bentoml/utils/usage_stats.py -> BentoML-0.6.2+8.gd95a887/bentoml/utils\n",
      "copying bentoml/utils/validator/__init__.py -> BentoML-0.6.2+8.gd95a887/bentoml/utils/validator\n",
      "copying bentoml/yatai/__init__.py -> BentoML-0.6.2+8.gd95a887/bentoml/yatai\n",
      "copying bentoml/yatai/deployment_utils.py -> BentoML-0.6.2+8.gd95a887/bentoml/yatai\n",
      "copying bentoml/yatai/status.py -> BentoML-0.6.2+8.gd95a887/bentoml/yatai\n",
      "copying bentoml/yatai/yatai_service_impl.py -> BentoML-0.6.2+8.gd95a887/bentoml/yatai\n",
      "copying bentoml/yatai/client/__init__.py -> BentoML-0.6.2+8.gd95a887/bentoml/yatai/client\n",
      "copying bentoml/yatai/client/bento_repository_api.py -> BentoML-0.6.2+8.gd95a887/bentoml/yatai/client\n",
      "copying bentoml/yatai/client/deployment_api.py -> BentoML-0.6.2+8.gd95a887/bentoml/yatai/client\n",
      "Writing BentoML-0.6.2+8.gd95a887/setup.cfg\n",
      "UPDATING BentoML-0.6.2+8.gd95a887/bentoml/_version.py\n",
      "set BentoML-0.6.2+8.gd95a887/bentoml/_version.py to '0.6.2+8.gd95a887'\n",
      "Creating tar archive\n",
      "removing 'BentoML-0.6.2+8.gd95a887' (and everything under it)\n",
      "[2020-02-13 15:20:21,674] INFO - BentoService bundle 'LeagueWinPrediction:20200213151956_D4CD71' created at: /private/var/folders/kn/xnc9k74x03567n1mx2tfqnpr0000gn/T/bentoml-temp-lgy8tfbv\n",
      "[2020-02-13 15:20:21,676] WARNING - BentoML local changes detected - Local BentoML repository including all code changes will be bundled together with the BentoService bundle. When used with docker, the base docker image will be default to same version as last PyPI release at version: 0.6.2. You can also force bentoml to use a specific version for deploying your BentoService bundle, by setting the config 'core/bentoml_deploy_version' to a pinned version or your custom BentoML on github, e.g.:'bentoml_deploy_version = git+https://github.com/{username}/bentoml.git@{branch}'\n",
      "[2020-02-13 15:20:21,689] WARNING - Saved BentoService bundle version mismatch: loading BentoServie bundle create with BentoML version 0.6.2,  but loading from BentoML version 0.6.2+8.gd95a887\n",
      "[2020-02-13 15:20:21,745] INFO - BentoService bundle 'LeagueWinPrediction:20200213151956_D4CD71' created at: /Users/bozhaoyu/bentoml/repository/LeagueWinPrediction/20200213151956_D4CD71\n"
     ]
    }
   ],
   "source": [
    "# 1) import the custom BentoService defined above\n",
    "from lol_win_predictions import LeagueWinPrediction\n",
    "\n",
    "# 2) `pack` it with required artifacts\n",
    "bento_svc = LeagueWinPrediction()\n",
    "bento_svc.pack('model', model)\n",
    "\n",
    "# 3) save your BentoSerivce\n",
    "saved_path = bento_svc.save()"
   ]
  },
  {
   "cell_type": "code",
   "execution_count": 13,
   "metadata": {},
   "outputs": [
    {
     "name": "stdout",
     "output_type": "stream",
     "text": [
      "[2020-02-13 15:20:30,224] WARNING - BentoML local changes detected - Local BentoML repository including all code changes will be bundled together with the BentoService bundle. When used with docker, the base docker image will be default to same version as last PyPI release at version: 0.6.2. You can also force bentoml to use a specific version for deploying your BentoService bundle, by setting the config 'core/bentoml_deploy_version' to a pinned version or your custom BentoML on github, e.g.:'bentoml_deploy_version = git+https://github.com/{username}/bentoml.git@{branch}'\n",
      "[2020-02-13 15:20:30,235] WARNING - Saved BentoService bundle version mismatch: loading BentoServie bundle create with BentoML version 0.6.2,  but loading from BentoML version 0.6.2+8.gd95a887\n",
      "[2020-02-13 15:20:30,237] WARNING - Module `lol_win_predictions` already loaded, using existing imported module.\n",
      "[2020-02-13 15:20:30,240] WARNING - BentoML local changes detected - Local BentoML repository including all code changes will be bundled together with the BentoService bundle. When used with docker, the base docker image will be default to same version as last PyPI release at version: 0.6.2. You can also force bentoml to use a specific version for deploying your BentoService bundle, by setting the config 'core/bentoml_deploy_version' to a pinned version or your custom BentoML on github, e.g.:'bentoml_deploy_version = git+https://github.com/{username}/bentoml.git@{branch}'\n",
      "[0.35312295 0.06715316 0.04429299]\n"
     ]
    }
   ],
   "source": [
    "from bentoml import load\n",
    "\n",
    "svc = load(saved_path)\n",
    "\n",
    "print(svc.predict(Xt[:3]))"
   ]
  },
  {
   "cell_type": "code",
   "execution_count": 14,
   "metadata": {},
   "outputs": [
    {
     "name": "stdout",
     "output_type": "stream",
     "text": [
      "\u001b[39mBENTO_SERVICE                              AGE            APIS                       ARTIFACTS\r\n",
      "LeagueWinPrediction:20200213151956_D4CD71  45.98 seconds  predict<DataframeHandler>  model<XgboostModelArtifact>\u001b[0m\r\n"
     ]
    }
   ],
   "source": [
    "!bentoml get LeagueWinPrediction"
   ]
  },
  {
   "cell_type": "code",
   "execution_count": 15,
   "metadata": {},
   "outputs": [
    {
     "name": "stdout",
     "output_type": "stream",
     "text": [
      "\u001b[39m{\n",
      "  \"name\": \"LeagueWinPrediction\",\n",
      "  \"version\": \"20200213151956_D4CD71\",\n",
      "  \"uri\": {\n",
      "    \"type\": \"LOCAL\",\n",
      "    \"uri\": \"/Users/bozhaoyu/bentoml/repository/LeagueWinPrediction/20200213151956_D4CD71\"\n",
      "  },\n",
      "  \"bentoServiceMetadata\": {\n",
      "    \"name\": \"LeagueWinPrediction\",\n",
      "    \"version\": \"20200213151956_D4CD71\",\n",
      "    \"createdAt\": \"2020-02-13T23:20:20.366628Z\",\n",
      "    \"env\": {\n",
      "      \"condaEnv\": \"name: bentoml-LeagueWinPrediction\\nchannels:\\n- defaults\\ndependencies:\\n- python=3.7.3\\n- pip\\n\",\n",
      "      \"pipDependencies\": \"bentoml==0.6.2\\nxgboost\",\n",
      "      \"pythonVersion\": \"3.7.3\"\n",
      "    },\n",
      "    \"artifacts\": [\n",
      "      {\n",
      "        \"name\": \"model\",\n",
      "        \"artifactType\": \"XgboostModelArtifact\"\n",
      "      }\n",
      "    ],\n",
      "    \"apis\": [\n",
      "      {\n",
      "        \"name\": \"predict\",\n",
      "        \"handlerType\": \"DataframeHandler\",\n",
      "        \"docs\": \"BentoService API\",\n",
      "        \"handlerConfig\": {\n",
      "          \"orient\": \"records\",\n",
      "          \"typ\": \"frame\",\n",
      "          \"input_dtypes\": null,\n",
      "          \"output_orient\": \"records\"\n",
      "        }\n",
      "      }\n",
      "    ]\n",
      "  }\n",
      "}\u001b[0m\n"
     ]
    }
   ],
   "source": [
    "!bentoml get LeagueWinPrediction:20200213151956_D4CD71"
   ]
  },
  {
   "cell_type": "code",
   "execution_count": 28,
   "metadata": {},
   "outputs": [],
   "source": [
    "Xt[:3].to_csv('test.csv')"
   ]
  },
  {
   "cell_type": "code",
   "execution_count": 16,
   "metadata": {},
   "outputs": [
    {
     "name": "stdout",
     "output_type": "stream",
     "text": [
      "[2020-02-13 15:21:35,595] WARNING - BentoML local changes detected - Local BentoML repository including all code changes will be bundled together with the BentoService bundle. When used with docker, the base docker image will be default to same version as last PyPI release at version: 0.6.2. You can also force bentoml to use a specific version for deploying your BentoService bundle, by setting the config 'core/bentoml_deploy_version' to a pinned version or your custom BentoML on github, e.g.:'bentoml_deploy_version = git+https://github.com/{username}/bentoml.git@{branch}'\n",
      "[2020-02-13 15:21:35,607] WARNING - Saved BentoService bundle version mismatch: loading BentoServie bundle create with BentoML version 0.6.2,  but loading from BentoML version 0.6.2+8.gd95a887\n",
      "[2020-02-13 15:21:36,171] WARNING - BentoML local changes detected - Local BentoML repository including all code changes will be bundled together with the BentoService bundle. When used with docker, the base docker image will be default to same version as last PyPI release at version: 0.6.2. You can also force bentoml to use a specific version for deploying your BentoService bundle, by setting the config 'core/bentoml_deploy_version' to a pinned version or your custom BentoML on github, e.g.:'bentoml_deploy_version = git+https://github.com/{username}/bentoml.git@{branch}'\n",
      "[2020-02-13 15:21:36,172] WARNING - BentoML local changes detected - Local BentoML repository including all code changes will be bundled together with the BentoService bundle. When used with docker, the base docker image will be default to same version as last PyPI release at version: 0.6.2. You can also force bentoml to use a specific version for deploying your BentoService bundle, by setting the config 'core/bentoml_deploy_version' to a pinned version or your custom BentoML on github, e.g.:'bentoml_deploy_version = git+https://github.com/{username}/bentoml.git@{branch}'\n",
      "[0.9998702  0.42565873 0.7701393 ]\n"
     ]
    }
   ],
   "source": [
    "!bentoml run LeagueWinPrediction:20200213151956_D4CD71 predict --input test.csv"
   ]
  },
  {
   "cell_type": "code",
   "execution_count": 17,
   "metadata": {},
   "outputs": [
    {
     "name": "stdout",
     "output_type": "stream",
     "text": [
      "[2020-02-13 15:22:10,016] WARNING - BentoML local changes detected - Local BentoML repository including all code changes will be bundled together with the BentoService bundle. When used with docker, the base docker image will be default to same version as last PyPI release at version: 0.6.2. You can also force bentoml to use a specific version for deploying your BentoService bundle, by setting the config 'core/bentoml_deploy_version' to a pinned version or your custom BentoML on github, e.g.:'bentoml_deploy_version = git+https://github.com/{username}/bentoml.git@{branch}'\n",
      "[2020-02-13 15:22:10,034] WARNING - Saved BentoService bundle version mismatch: loading BentoServie bundle create with BentoML version 0.6.2,  but loading from BentoML version 0.6.2+8.gd95a887\n",
      "[2020-02-13 15:22:10,431] WARNING - BentoML local changes detected - Local BentoML repository including all code changes will be bundled together with the BentoService bundle. When used with docker, the base docker image will be default to same version as last PyPI release at version: 0.6.2. You can also force bentoml to use a specific version for deploying your BentoService bundle, by setting the config 'core/bentoml_deploy_version' to a pinned version or your custom BentoML on github, e.g.:'bentoml_deploy_version = git+https://github.com/{username}/bentoml.git@{branch}'\n",
      "[2020-02-13 15:22:10,434] WARNING - BentoML local changes detected - Local BentoML repository including all code changes will be bundled together with the BentoService bundle. When used with docker, the base docker image will be default to same version as last PyPI release at version: 0.6.2. You can also force bentoml to use a specific version for deploying your BentoService bundle, by setting the config 'core/bentoml_deploy_version' to a pinned version or your custom BentoML on github, e.g.:'bentoml_deploy_version = git+https://github.com/{username}/bentoml.git@{branch}'\n",
      " * Serving Flask app \"LeagueWinPrediction\" (lazy loading)\n",
      " * Environment: production\n",
      "\u001b[31m   WARNING: This is a development server. Do not use it in a production deployment.\u001b[0m\n",
      "\u001b[2m   Use a production WSGI server instead.\u001b[0m\n",
      " * Debug mode: off\n",
      " * Running on http://127.0.0.1:5000/ (Press CTRL+C to quit)\n",
      "^C\n"
     ]
    }
   ],
   "source": [
    "!bentoml serve LeagueWinPrediction:20200213151956_D4CD71"
   ]
  },
  {
   "cell_type": "code",
   "execution_count": null,
   "metadata": {},
   "outputs": [],
   "source": []
  },
  {
   "cell_type": "code",
   "execution_count": null,
   "metadata": {},
   "outputs": [],
   "source": []
  },
  {
   "cell_type": "markdown",
   "metadata": {},
   "source": [
    "## Using BentoML archive as CLI tool"
   ]
  },
  {
   "cell_type": "code",
   "execution_count": 27,
   "metadata": {},
   "outputs": [
    {
     "name": "stdout",
     "output_type": "stream",
     "text": [
      "Processing /tmp/bent_archive/LeagueWinPrediction/2019_08_02_bc041570\n",
      "Building wheels for collected packages: LeagueWinPrediction\n",
      "  Building wheel for LeagueWinPrediction (setup.py) ... \u001b[?25ldone\n",
      "\u001b[?25h  Stored in directory: /private/var/folders/ns/vc9qhmqx5dx_9fws7d869lqh0000gn/T/pip-ephem-wheel-cache-biki_9_b/wheels/3e/ff/49/21f15e9b7e99a81b164fb2cadf8de9c6c1d135e5a858f467f7\n",
      "Successfully built LeagueWinPrediction\n",
      "Installing collected packages: LeagueWinPrediction\n",
      "Successfully installed LeagueWinPrediction-2019-08-02-bc041570\n"
     ]
    }
   ],
   "source": [
    "!pip install {saved_path}"
   ]
  },
  {
   "cell_type": "code",
   "execution_count": 29,
   "metadata": {},
   "outputs": [
    {
     "name": "stdout",
     "output_type": "stream",
     "text": [
      "[0.99658453 0.01096581 0.06465738]\r\n"
     ]
    }
   ],
   "source": [
    "!LeagueWinPrediction predict --input=test.csv"
   ]
  },
  {
   "cell_type": "markdown",
   "metadata": {},
   "source": [
    "## Use archive as REST API server\n",
    "\n",
    "*notes: This doesn't work with Google Colab right now, because we can't access the local port from it.*"
   ]
  },
  {
   "cell_type": "code",
   "execution_count": null,
   "metadata": {},
   "outputs": [],
   "source": [
    "!bentoml serve {saved_path}"
   ]
  },
  {
   "cell_type": "markdown",
   "metadata": {},
   "source": [
    "### Make requeset to the REST server\n",
    "\n",
    "*After navigate to the location of this notebook, copy and paste the following code to your terminal and run it to make request*\n",
    "\n",
    "```bash\n",
    "curl -i \\\n",
    "--request POST \\\n",
    "--header \"Content-Type: text/csv\" \\\n",
    "-d @test.csv \\\n",
    "localhost:5000/predict\n",
    "```"
   ]
  },
  {
   "cell_type": "code",
   "execution_count": null,
   "metadata": {},
   "outputs": [],
   "source": []
  },
  {
   "cell_type": "code",
   "execution_count": null,
   "metadata": {},
   "outputs": [],
   "source": []
  },
  {
   "cell_type": "code",
   "execution_count": 18,
   "metadata": {},
   "outputs": [
    {
     "name": "stdout",
     "output_type": "stream",
     "text": [
      "Deploying Lambda deployment -[2020-02-13 15:22:50,246] INFO - Building lambda project\n",
      "\b|[2020-02-13 15:28:44,204] INFO - Packaging AWS Lambda project at /private/var/folders/kn/xnc9k74x03567n1mx2tfqnpr0000gn/T/bentoml-temp-a9v3r7jc ...\n",
      "\b|[2020-02-13 15:29:08,363] INFO - Deploying lambda project\n",
      "\b|[2020-02-13 15:30:00,729] INFO - ApplyDeployment (xgboost-lol, namespace bobo) succeeded\n",
      "\u001b[32mSuccessfully created AWS Lambda deployment xgboost-lol\u001b[0m\n",
      "\u001b[39m{\n",
      "  \"namespace\": \"bobo\",\n",
      "  \"name\": \"xgboost-lol\",\n",
      "  \"spec\": {\n",
      "    \"bentoName\": \"LeagueWinPrediction\",\n",
      "    \"bentoVersion\": \"20200213151956_D4CD71\",\n",
      "    \"operator\": \"AWS_LAMBDA\",\n",
      "    \"awsLambdaOperatorConfig\": {\n",
      "      \"region\": \"us-west-2\",\n",
      "      \"memorySize\": 1024,\n",
      "      \"timeout\": 3\n",
      "    }\n",
      "  },\n",
      "  \"state\": {\n",
      "    \"state\": \"RUNNING\",\n",
      "    \"infoJson\": {\n",
      "      \"endpoints\": [\n",
      "        \"https://esuj190n16.execute-api.us-west-2.amazonaws.com/Prod/predict\"\n",
      "      ],\n",
      "      \"s3_bucket\": \"btml-bobo-xgboost-lol-cc0cda\"\n",
      "    },\n",
      "    \"timestamp\": \"2020-02-13T23:30:00.931414Z\"\n",
      "  },\n",
      "  \"createdAt\": \"2020-02-13T23:22:45.342091Z\",\n",
      "  \"lastUpdatedAt\": \"2020-02-13T23:22:45.342120Z\"\n",
      "}\u001b[0m\n"
     ]
    }
   ],
   "source": [
    "!bentoml lambda deploy xgboost-lol -b LeagueWinPrediction:20200213151956_D4CD71 "
   ]
  },
  {
   "cell_type": "code",
   "execution_count": 21,
   "metadata": {},
   "outputs": [
    {
     "name": "stdout",
     "output_type": "stream",
     "text": [
      "\u001b[39mNAME                     NAMESPACE    PLATFORM    BENTO_SERVICE                              STATUS    AGE\r\n",
      "xgboost-lol              bobo         aws-lambda  LeagueWinPrediction:20200213151956_D4CD71  running   7 minutes and 59.44 seconds\r\n",
      "tests-lambda-e2e-f7948d  bobo         aws-lambda  IrisClassifier:20200210154953_02AAA1       running   2 days and 23 hours\u001b[0m\r\n"
     ]
    }
   ],
   "source": [
    "!bentoml lambda list"
   ]
  },
  {
   "cell_type": "code",
   "execution_count": 20,
   "metadata": {},
   "outputs": [
    {
     "name": "stdout",
     "output_type": "stream",
     "text": [
      "\u001b[39m{\r\n",
      "  \"namespace\": \"bobo\",\r\n",
      "  \"name\": \"xgboost-lol\",\r\n",
      "  \"spec\": {\r\n",
      "    \"bentoName\": \"LeagueWinPrediction\",\r\n",
      "    \"bentoVersion\": \"20200213151956_D4CD71\",\r\n",
      "    \"operator\": \"AWS_LAMBDA\",\r\n",
      "    \"awsLambdaOperatorConfig\": {\r\n",
      "      \"region\": \"us-west-2\",\r\n",
      "      \"memorySize\": 1024,\r\n",
      "      \"timeout\": 3\r\n",
      "    }\r\n",
      "  },\r\n",
      "  \"state\": {\r\n",
      "    \"state\": \"RUNNING\",\r\n",
      "    \"infoJson\": {\r\n",
      "      \"endpoints\": [\r\n",
      "        \"https://esuj190n16.execute-api.us-west-2.amazonaws.com/Prod/predict\"\r\n",
      "      ],\r\n",
      "      \"s3_bucket\": \"btml-bobo-xgboost-lol-cc0cda\"\r\n",
      "    },\r\n",
      "    \"timestamp\": \"2020-02-13T23:30:16.620816Z\"\r\n",
      "  },\r\n",
      "  \"createdAt\": \"2020-02-13T23:22:45.342091Z\",\r\n",
      "  \"lastUpdatedAt\": \"2020-02-13T23:22:45.342120Z\"\r\n",
      "}\u001b[0m\r\n"
     ]
    }
   ],
   "source": [
    "!bentoml lambda get xgboost-lol"
   ]
  },
  {
   "cell_type": "code",
   "execution_count": null,
   "metadata": {},
   "outputs": [],
   "source": [
    "!curl -i \\\n",
    "--request POST \\\n",
    "--header \"Content-Type: text/csv\" \\\n",
    "-d @test.csv \\\n",
    "https://esuj190n16.execute-api.us-west-2.amazonaws.com/Prod/predict"
   ]
  },
  {
   "cell_type": "code",
   "execution_count": 25,
   "metadata": {},
   "outputs": [
    {
     "name": "stdout",
     "output_type": "stream",
     "text": [
      "\u001b[32mSuccessfully deleted AWS Lambda deployment \"xgboost-lol\"\u001b[0m\r\n"
     ]
    }
   ],
   "source": [
    "!bentoml lambda delete xgboost-lol"
   ]
  },
  {
   "cell_type": "code",
   "execution_count": null,
   "metadata": {},
   "outputs": [],
   "source": []
  }
 ],
 "metadata": {
  "kernelspec": {
   "display_name": "Python 3",
   "language": "python",
   "name": "python3"
  },
  "language_info": {
   "codemirror_mode": {
    "name": "ipython",
    "version": 3
   },
   "file_extension": ".py",
   "mimetype": "text/x-python",
   "name": "python",
   "nbconvert_exporter": "python",
   "pygments_lexer": "ipython3",
   "version": "3.7.3"
  }
 },
 "nbformat": 4,
 "nbformat_minor": 2
}
