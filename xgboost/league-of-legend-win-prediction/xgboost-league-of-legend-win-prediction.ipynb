{
 "cells": [
  {
   "cell_type": "markdown",
   "metadata": {},
   "source": [
    "### BentoML Example\n",
    "\n",
    "# XGBoost League of legend Win prediction \n",
    "\n",
    "This is a BentoML Demo Project demonstrating how to train a League of Legend win prdiction model, and use BentoML to package and serve the model for building applictions.\n",
    "\n",
    "[BentoML](http://bentoml.ai) is an open source platform for machine learning model serving and deployment.\n",
    "\n",
    "Example notebook built based on https://slundberg.github.io/shap/notebooks/League%20of%20Legends%20Win%20Prediction%20with%20XGBoost.html\n",
    "\n",
    "![Impression](https://www.google-analytics.com/collect?v=1&tid=UA-112879361-3&cid=555&t=event&ec=xgboost&ea=xgboost-league-of-legend-win-prediction&dt=xgboost-league-of-legend-win-prediction)"
   ]
  },
  {
   "cell_type": "code",
   "execution_count": 1,
   "metadata": {},
   "outputs": [],
   "source": [
    "%reload_ext autoreload\n",
    "%autoreload 2\n",
    "%matplotlib inline\n",
    "\n",
    "import warnings\n",
    "warnings.filterwarnings(\"ignore\")"
   ]
  },
  {
   "cell_type": "code",
   "execution_count": 2,
   "metadata": {
    "scrolled": true
   },
   "outputs": [
    {
     "name": "stdout",
     "output_type": "stream",
     "text": [
      "Requirement already satisfied: bentoml in /opt/anaconda3/lib/python3.7/site-packages (0.8.1+27.g8e155f5.dirty)\n",
      "Requirement already satisfied: requests in /opt/anaconda3/lib/python3.7/site-packages (from bentoml) (2.24.0)\n",
      "Requirement already satisfied: click>=7.0 in /opt/anaconda3/lib/python3.7/site-packages (from bentoml) (7.1.2)\n",
      "Requirement already satisfied: alembic in /opt/anaconda3/lib/python3.7/site-packages (from bentoml) (1.4.0)\n",
      "Requirement already satisfied: cerberus in /opt/anaconda3/lib/python3.7/site-packages (from bentoml) (1.3.2)\n",
      "Requirement already satisfied: prometheus-client in /opt/anaconda3/lib/python3.7/site-packages (from bentoml) (0.8.0)\n",
      "Requirement already satisfied: protobuf>=3.6.0 in /opt/anaconda3/lib/python3.7/site-packages (from bentoml) (3.11.3)\n",
      "Requirement already satisfied: aiohttp in /opt/anaconda3/lib/python3.7/site-packages (from bentoml) (3.6.2)\n",
      "Requirement already satisfied: sqlalchemy-utils in /opt/anaconda3/lib/python3.7/site-packages (from bentoml) (0.36.6)\n",
      "Requirement already satisfied: ruamel.yaml>=0.15.0 in /opt/anaconda3/lib/python3.7/site-packages (from bentoml) (0.16.10)\n",
      "Requirement already satisfied: tabulate in /opt/anaconda3/lib/python3.7/site-packages (from bentoml) (0.8.6)\n",
      "Requirement already satisfied: humanfriendly in /opt/anaconda3/lib/python3.7/site-packages (from bentoml) (7.1.1)\n",
      "Requirement already satisfied: numpy in /opt/anaconda3/lib/python3.7/site-packages (from bentoml) (1.18.5)\n",
      "Requirement already satisfied: packaging in /opt/anaconda3/lib/python3.7/site-packages (from bentoml) (20.4)\n",
      "Requirement already satisfied: psutil in /opt/anaconda3/lib/python3.7/site-packages (from bentoml) (5.7.0)\n",
      "Requirement already satisfied: configparser in /opt/anaconda3/lib/python3.7/site-packages (from bentoml) (4.0.2)\n",
      "Requirement already satisfied: certifi in /opt/anaconda3/lib/python3.7/site-packages (from bentoml) (2020.6.20)\n",
      "Requirement already satisfied: grpcio<=1.27.2 in /opt/anaconda3/lib/python3.7/site-packages (from bentoml) (1.27.2)\n",
      "Requirement already satisfied: flask in /opt/anaconda3/lib/python3.7/site-packages (from bentoml) (1.1.1)\n",
      "Requirement already satisfied: sqlalchemy>=1.3.0 in /opt/anaconda3/lib/python3.7/site-packages (from bentoml) (1.3.9)\n",
      "Requirement already satisfied: python-json-logger in /opt/anaconda3/lib/python3.7/site-packages (from bentoml) (0.1.11)\n",
      "Requirement already satisfied: py-zipkin in /opt/anaconda3/lib/python3.7/site-packages (from bentoml) (0.18.7)\n",
      "Requirement already satisfied: python-dateutil<2.8.1,>=2.1 in /opt/anaconda3/lib/python3.7/site-packages (from bentoml) (2.8.0)\n",
      "Requirement already satisfied: gunicorn in /opt/anaconda3/lib/python3.7/site-packages (from bentoml) (20.0.4)\n",
      "Requirement already satisfied: docker in /opt/anaconda3/lib/python3.7/site-packages (from bentoml) (4.2.0)\n",
      "Requirement already satisfied: boto3 in /opt/anaconda3/lib/python3.7/site-packages (from bentoml) (1.12.9)\n",
      "Requirement already satisfied: chardet<4,>=3.0.2 in /opt/anaconda3/lib/python3.7/site-packages (from requests->bentoml) (3.0.4)\n",
      "Requirement already satisfied: urllib3!=1.25.0,!=1.25.1,<1.26,>=1.21.1 in /opt/anaconda3/lib/python3.7/site-packages (from requests->bentoml) (1.24.3)\n",
      "Requirement already satisfied: idna<3,>=2.5 in /opt/anaconda3/lib/python3.7/site-packages (from requests->bentoml) (2.10)\n",
      "Requirement already satisfied: python-editor>=0.3 in /opt/anaconda3/lib/python3.7/site-packages (from alembic->bentoml) (1.0.4)\n",
      "Requirement already satisfied: Mako in /opt/anaconda3/lib/python3.7/site-packages (from alembic->bentoml) (1.1.1)\n",
      "Requirement already satisfied: setuptools in /opt/anaconda3/lib/python3.7/site-packages (from cerberus->bentoml) (49.1.0.post20200710)\n",
      "Requirement already satisfied: six>=1.9 in /opt/anaconda3/lib/python3.7/site-packages (from protobuf>=3.6.0->bentoml) (1.15.0)\n",
      "Requirement already satisfied: attrs>=17.3.0 in /opt/anaconda3/lib/python3.7/site-packages (from aiohttp->bentoml) (19.3.0)\n",
      "Requirement already satisfied: yarl<2.0,>=1.0 in /opt/anaconda3/lib/python3.7/site-packages (from aiohttp->bentoml) (1.4.2)\n",
      "Requirement already satisfied: multidict<5.0,>=4.5 in /opt/anaconda3/lib/python3.7/site-packages (from aiohttp->bentoml) (4.7.5)\n",
      "Requirement already satisfied: async-timeout<4.0,>=3.0 in /opt/anaconda3/lib/python3.7/site-packages (from aiohttp->bentoml) (3.0.1)\n",
      "Requirement already satisfied: ruamel.yaml.clib>=0.1.2; platform_python_implementation == \"CPython\" and python_version < \"3.9\" in /opt/anaconda3/lib/python3.7/site-packages (from ruamel.yaml>=0.15.0->bentoml) (0.2.0)\n",
      "Requirement already satisfied: pyparsing>=2.0.2 in /opt/anaconda3/lib/python3.7/site-packages (from packaging->bentoml) (2.4.7)\n",
      "Requirement already satisfied: Jinja2>=2.10.1 in /opt/anaconda3/lib/python3.7/site-packages (from flask->bentoml) (2.11.2)\n",
      "Requirement already satisfied: Werkzeug>=0.15 in /opt/anaconda3/lib/python3.7/site-packages (from flask->bentoml) (0.16.0)\n",
      "Requirement already satisfied: itsdangerous>=0.24 in /opt/anaconda3/lib/python3.7/site-packages (from flask->bentoml) (1.1.0)\n",
      "Requirement already satisfied: thriftpy2>=0.4.0 in /opt/anaconda3/lib/python3.7/site-packages (from py-zipkin->bentoml) (0.4.10)\n",
      "Requirement already satisfied: websocket-client>=0.32.0 in /opt/anaconda3/lib/python3.7/site-packages (from docker->bentoml) (0.57.0)\n",
      "Requirement already satisfied: s3transfer<0.4.0,>=0.3.0 in /opt/anaconda3/lib/python3.7/site-packages (from boto3->bentoml) (0.3.3)\n",
      "Requirement already satisfied: jmespath<1.0.0,>=0.7.1 in /opt/anaconda3/lib/python3.7/site-packages (from boto3->bentoml) (0.9.5)\n",
      "Requirement already satisfied: botocore<1.16.0,>=1.15.9 in /opt/anaconda3/lib/python3.7/site-packages (from boto3->bentoml) (1.15.9)\n",
      "Requirement already satisfied: MarkupSafe>=0.9.2 in /opt/anaconda3/lib/python3.7/site-packages (from Mako->alembic->bentoml) (1.1.1)\n",
      "Requirement already satisfied: ply<4.0,>=3.4 in /opt/anaconda3/lib/python3.7/site-packages (from thriftpy2>=0.4.0->py-zipkin->bentoml) (3.11)\n",
      "Requirement already satisfied: docutils<0.16,>=0.10 in /opt/anaconda3/lib/python3.7/site-packages (from botocore<1.16.0,>=1.15.9->boto3->bentoml) (0.15.2)\n",
      "Requirement already satisfied: numpy in /opt/anaconda3/lib/python3.7/site-packages (1.18.5)\n",
      "Requirement already satisfied: xgboost in /opt/anaconda3/lib/python3.7/site-packages (0.90)\n",
      "Requirement already satisfied: sklearn in /opt/anaconda3/lib/python3.7/site-packages (0.0)\n",
      "Requirement already satisfied: matplotlib in /opt/anaconda3/lib/python3.7/site-packages (3.2.2)\n",
      "Requirement already satisfied: kaggle in /opt/anaconda3/lib/python3.7/site-packages (1.5.6)\n",
      "Requirement already satisfied: scipy in /opt/anaconda3/lib/python3.7/site-packages (from xgboost) (1.3.1)\n",
      "Requirement already satisfied: scikit-learn in /opt/anaconda3/lib/python3.7/site-packages (from sklearn) (0.21.3)\n",
      "Requirement already satisfied: cycler>=0.10 in /opt/anaconda3/lib/python3.7/site-packages (from matplotlib) (0.10.0)\n",
      "Requirement already satisfied: python-dateutil>=2.1 in /opt/anaconda3/lib/python3.7/site-packages (from matplotlib) (2.8.0)\n",
      "Requirement already satisfied: kiwisolver>=1.0.1 in /opt/anaconda3/lib/python3.7/site-packages (from matplotlib) (1.1.0)\n",
      "Requirement already satisfied: pyparsing!=2.0.4,!=2.1.2,!=2.1.6,>=2.0.1 in /opt/anaconda3/lib/python3.7/site-packages (from matplotlib) (2.4.7)\n",
      "Requirement already satisfied: urllib3<1.25,>=1.21.1 in /opt/anaconda3/lib/python3.7/site-packages (from kaggle) (1.24.3)\n",
      "Requirement already satisfied: requests in /opt/anaconda3/lib/python3.7/site-packages (from kaggle) (2.24.0)\n",
      "Requirement already satisfied: six>=1.10 in /opt/anaconda3/lib/python3.7/site-packages (from kaggle) (1.15.0)\n",
      "Requirement already satisfied: python-slugify in /opt/anaconda3/lib/python3.7/site-packages (from kaggle) (4.0.1)\n",
      "Requirement already satisfied: tqdm in /home/bentoml/.local/lib/python3.7/site-packages (from kaggle) (4.45.0)\n",
      "Requirement already satisfied: certifi in /opt/anaconda3/lib/python3.7/site-packages (from kaggle) (2020.6.20)\n",
      "Requirement already satisfied: joblib>=0.11 in /opt/anaconda3/lib/python3.7/site-packages (from scikit-learn->sklearn) (0.13.2)\n",
      "Requirement already satisfied: setuptools in /opt/anaconda3/lib/python3.7/site-packages (from kiwisolver>=1.0.1->matplotlib) (49.1.0.post20200710)\n",
      "Requirement already satisfied: idna<3,>=2.5 in /opt/anaconda3/lib/python3.7/site-packages (from requests->kaggle) (2.10)\n",
      "Requirement already satisfied: chardet<4,>=3.0.2 in /opt/anaconda3/lib/python3.7/site-packages (from requests->kaggle) (3.0.4)\n",
      "Requirement already satisfied: text-unidecode>=1.3 in /opt/anaconda3/lib/python3.7/site-packages (from python-slugify->kaggle) (1.3)\n"
     ]
    }
   ],
   "source": [
    "!pip install bentoml\n",
    "!pip install numpy xgboost sklearn matplotlib kaggle"
   ]
  },
  {
   "cell_type": "code",
   "execution_count": 2,
   "metadata": {},
   "outputs": [],
   "source": [
    "import pandas as pd\n",
    "import numpy as np\n",
    "import xgboost as xgb\n",
    "import matplotlib.pyplot as pl\n",
    "from sklearn.model_selection import train_test_split"
   ]
  },
  {
   "cell_type": "markdown",
   "metadata": {},
   "source": [
    "## Download Data\n",
    "\n",
    "This notebook uses data from kaggle [paololol/league-of-legends-ranked-matches](https://www.kaggle.com/paololol/league-of-legends-ranked-matches)\n",
    "\n",
    "You can set your Kaggle credential below and download the dataset automatically. The kaggle key can be created by going to the 'Account' tab of your user profile (https://www.kaggle.com/<username>/account) and select 'Create API Token'. This will trigger the download of kaggle.json, a file containing your API credentials, and fill it in the cell below.\n",
    "\n",
    "Alternativelly, you can download it manually from [here](https://www.kaggle.com/paololol/league-of-legends-ranked-matches) and place unzip'd data in this folder."
   ]
  },
  {
   "cell_type": "code",
   "execution_count": 4,
   "metadata": {
    "scrolled": true
   },
   "outputs": [],
   "source": [
    "%%bash\n",
    "export KAGGLE_USERNAME=\n",
    "export KAGGLE_KEY=\n",
    "\n",
    "if [ ! -f ./league-of-legends-ranked-matches.zip ]; then\n",
    "    kaggle datasets download paololol/league-of-legends-ranked-matches\n",
    "    unzip -n league-of-legends-ranked-matches.zip\n",
    "fi"
   ]
  },
  {
   "cell_type": "markdown",
   "metadata": {},
   "source": [
    "## Load data"
   ]
  },
  {
   "cell_type": "code",
   "execution_count": 3,
   "metadata": {},
   "outputs": [],
   "source": [
    "# read in the data\n",
    "matches = pd.read_csv(\"matches.csv\")\n",
    "participants = pd.read_csv(\"participants.csv\")\n",
    "stats1 = pd.read_csv(\"stats1.csv\", low_memory=False)\n",
    "stats2 = pd.read_csv(\"stats2.csv\", low_memory=False)\n",
    "stats = pd.concat([stats1,stats2])\n",
    "\n",
    "# merge into a single DataFrame\n",
    "a = pd.merge(participants, matches, left_on=\"matchid\", right_on=\"id\")\n",
    "allstats_orig = pd.merge(a, stats, left_on=\"matchid\", right_on=\"id\")\n",
    "allstats = allstats_orig.copy()\n",
    "\n",
    "# drop games that lasted less than 10 minutes\n",
    "allstats = allstats.loc[allstats[\"duration\"] >= 10*60,:]\n",
    "\n",
    "# Convert string-based categories to numeric values\n",
    "cat_cols = [\"role\", \"position\", \"version\", \"platformid\"]\n",
    "for c in cat_cols:\n",
    "    allstats[c] = allstats[c].astype('category')\n",
    "    allstats[c] = allstats[c].cat.codes\n",
    "allstats[\"wardsbought\"] = allstats[\"wardsbought\"].astype(np.int32)\n",
    "\n",
    "X = allstats.drop([\"win\"], axis=1)\n",
    "y = allstats[\"win\"]\n",
    "\n",
    "# convert all features we want to consider as rates\n",
    "rate_features = [\n",
    "    \"kills\", \"deaths\", \"assists\", \"killingsprees\", \"doublekills\",\n",
    "    \"triplekills\", \"quadrakills\", \"pentakills\", \"legendarykills\",\n",
    "    \"totdmgdealt\", \"magicdmgdealt\", \"physicaldmgdealt\", \"truedmgdealt\",\n",
    "    \"totdmgtochamp\", \"magicdmgtochamp\", \"physdmgtochamp\", \"truedmgtochamp\",\n",
    "    \"totheal\", \"totunitshealed\", \"dmgtoobj\", \"timecc\", \"totdmgtaken\",\n",
    "    \"magicdmgtaken\" , \"physdmgtaken\", \"truedmgtaken\", \"goldearned\", \"goldspent\",\n",
    "    \"totminionskilled\", \"neutralminionskilled\", \"ownjunglekills\",\n",
    "    \"enemyjunglekills\", \"totcctimedealt\", \"pinksbought\", \"wardsbought\",\n",
    "    \"wardsplaced\", \"wardskilled\"\n",
    "]\n",
    "for feature_name in rate_features:\n",
    "    X[feature_name] /= X[\"duration\"] / 60 # per minute rate\n",
    "\n",
    "# convert to fraction of game\n",
    "X[\"longesttimespentliving\"] /= X[\"duration\"]\n",
    "\n",
    "# define friendly names for the features\n",
    "full_names = {\n",
    "    \"kills\": \"Kills per min.\",\n",
    "    \"deaths\": \"Deaths per min.\",\n",
    "    \"assists\": \"Assists per min.\",\n",
    "    \"killingsprees\": \"Killing sprees per min.\",\n",
    "    \"longesttimespentliving\": \"Longest time living as % of game\",\n",
    "    \"doublekills\": \"Double kills per min.\",\n",
    "    \"triplekills\": \"Triple kills per min.\",\n",
    "    \"quadrakills\": \"Quadra kills per min.\",\n",
    "    \"pentakills\": \"Penta kills per min.\",\n",
    "    \"legendarykills\": \"Legendary kills per min.\",\n",
    "    \"totdmgdealt\": \"Total damage dealt per min.\",\n",
    "    \"magicdmgdealt\": \"Magic damage dealt per min.\",\n",
    "    \"physicaldmgdealt\": \"Physical damage dealt per min.\",\n",
    "    \"truedmgdealt\": \"True damage dealt per min.\",\n",
    "    \"totdmgtochamp\": \"Total damage to champions per min.\",\n",
    "    \"magicdmgtochamp\": \"Magic damage to champions per min.\",\n",
    "    \"physdmgtochamp\": \"Physical damage to champions per min.\",\n",
    "    \"truedmgtochamp\": \"True damage to champions per min.\",\n",
    "    \"totheal\": \"Total healing per min.\",\n",
    "    \"totunitshealed\": \"Total units healed per min.\",\n",
    "    \"dmgtoobj\": \"Damage to objects per min.\",\n",
    "    \"timecc\": \"Time spent with crown control per min.\",\n",
    "    \"totdmgtaken\": \"Total damage taken per min.\",\n",
    "    \"magicdmgtaken\": \"Magic damage taken per min.\",\n",
    "    \"physdmgtaken\": \"Physical damage taken per min.\",\n",
    "    \"truedmgtaken\": \"True damage taken per min.\",\n",
    "    \"goldearned\": \"Gold earned per min.\",\n",
    "    \"goldspent\": \"Gold spent per min.\",\n",
    "    \"totminionskilled\": \"Total minions killed per min.\",\n",
    "    \"neutralminionskilled\": \"Neutral minions killed per min.\",\n",
    "    \"ownjunglekills\": \"Own jungle kills per min.\",\n",
    "    \"enemyjunglekills\": \"Enemy jungle kills per min.\",\n",
    "    \"totcctimedealt\": \"Total crown control time dealt per min.\",\n",
    "    \"pinksbought\": \"Pink wards bought per min.\",\n",
    "    \"wardsbought\": \"Wards bought per min.\",\n",
    "    \"wardsplaced\": \"Wards placed per min.\",\n",
    "    \"turretkills\": \"# of turret kills\",\n",
    "    \"inhibkills\": \"# of inhibitor kills\",\n",
    "    \"dmgtoturrets\": \"Damage to turrets\"\n",
    "}\n",
    "feature_names = [full_names.get(n, n) for n in X.columns]\n",
    "X.columns = feature_names\n",
    "\n",
    "# create train/validation split\n",
    "Xt, Xv, yt, yv = train_test_split(X,y, test_size=0.2, random_state=10)\n",
    "dt = xgb.DMatrix(Xt, label=yt.values)\n",
    "dv = xgb.DMatrix(Xv, label=yv.values)"
   ]
  },
  {
   "cell_type": "markdown",
   "metadata": {},
   "source": [
    "## Train the XGBoost model\n"
   ]
  },
  {
   "cell_type": "code",
   "execution_count": 4,
   "metadata": {},
   "outputs": [
    {
     "name": "stdout",
     "output_type": "stream",
     "text": [
      "[0]\ttrain-logloss:0.541381\tvalid-logloss:0.541355\n",
      "Multiple eval metrics have been passed: 'valid-logloss' will be used for early stopping.\n",
      "\n",
      "Will train until valid-logloss hasn't improved in 5 rounds.\n",
      "[10]\ttrain-logloss:0.340905\tvalid-logloss:0.340777\n",
      "[20]\ttrain-logloss:0.298807\tvalid-logloss:0.298923\n",
      "[30]\ttrain-logloss:0.275326\tvalid-logloss:0.275889\n",
      "[40]\ttrain-logloss:0.263051\tvalid-logloss:0.264096\n",
      "[50]\ttrain-logloss:0.252087\tvalid-logloss:0.253618\n",
      "[60]\ttrain-logloss:0.243943\tvalid-logloss:0.245874\n",
      "[70]\ttrain-logloss:0.237184\tvalid-logloss:0.239336\n",
      "[80]\ttrain-logloss:0.23104\tvalid-logloss:0.233522\n",
      "[90]\ttrain-logloss:0.226148\tvalid-logloss:0.228805\n",
      "[99]\ttrain-logloss:0.221857\tvalid-logloss:0.22484\n"
     ]
    }
   ],
   "source": [
    "params = {\n",
    "    \"eta\": 0.5,\n",
    "    \"max_depth\": 4,\n",
    "    \"objective\": \"binary:logistic\",\n",
    "    \"silent\": 1,\n",
    "    \"base_score\": np.mean(yt),\n",
    "    \"eval_metric\": \"logloss\"\n",
    "}\n",
    "model = xgb.train(params, dt, 100, [(dt, \"train\"),(dv, \"valid\")], early_stopping_rounds=5, verbose_eval=10)"
   ]
  },
  {
   "cell_type": "code",
   "execution_count": 5,
   "metadata": {},
   "outputs": [
    {
     "data": {
      "text/html": [
       "<div>\n",
       "<style scoped>\n",
       "    .dataframe tbody tr th:only-of-type {\n",
       "        vertical-align: middle;\n",
       "    }\n",
       "\n",
       "    .dataframe tbody tr th {\n",
       "        vertical-align: top;\n",
       "    }\n",
       "\n",
       "    .dataframe thead th {\n",
       "        text-align: right;\n",
       "    }\n",
       "</style>\n",
       "<table border=\"1\" class=\"dataframe\">\n",
       "  <thead>\n",
       "    <tr style=\"text-align: right;\">\n",
       "      <th></th>\n",
       "      <th>id_x</th>\n",
       "      <th>matchid</th>\n",
       "      <th>player</th>\n",
       "      <th>championid</th>\n",
       "      <th>ss1</th>\n",
       "      <th>ss2</th>\n",
       "      <th>role</th>\n",
       "      <th>position</th>\n",
       "      <th>id_y</th>\n",
       "      <th>gameid</th>\n",
       "      <th>...</th>\n",
       "      <th>Neutral minions killed per min.</th>\n",
       "      <th>Own jungle kills per min.</th>\n",
       "      <th>Enemy jungle kills per min.</th>\n",
       "      <th>Total crown control time dealt per min.</th>\n",
       "      <th>champlvl</th>\n",
       "      <th>Pink wards bought per min.</th>\n",
       "      <th>Wards bought per min.</th>\n",
       "      <th>Wards placed per min.</th>\n",
       "      <th>wardskilled</th>\n",
       "      <th>firstblood</th>\n",
       "    </tr>\n",
       "  </thead>\n",
       "  <tbody>\n",
       "    <tr>\n",
       "      <th>1215555</th>\n",
       "      <td>1501034</td>\n",
       "      <td>150933</td>\n",
       "      <td>10</td>\n",
       "      <td>59</td>\n",
       "      <td>4</td>\n",
       "      <td>11</td>\n",
       "      <td>2</td>\n",
       "      <td>2</td>\n",
       "      <td>150933</td>\n",
       "      <td>3162804935</td>\n",
       "      <td>...</td>\n",
       "      <td>0.023086</td>\n",
       "      <td>0.023086</td>\n",
       "      <td>0.000000</td>\n",
       "      <td>7.572143</td>\n",
       "      <td>18</td>\n",
       "      <td>0.069257</td>\n",
       "      <td>0.0</td>\n",
       "      <td>0.831089</td>\n",
       "      <td>0.253944</td>\n",
       "      <td>0</td>\n",
       "    </tr>\n",
       "    <tr>\n",
       "      <th>1427835</th>\n",
       "      <td>1713614</td>\n",
       "      <td>172357</td>\n",
       "      <td>6</td>\n",
       "      <td>35</td>\n",
       "      <td>11</td>\n",
       "      <td>14</td>\n",
       "      <td>3</td>\n",
       "      <td>1</td>\n",
       "      <td>172357</td>\n",
       "      <td>3186087472</td>\n",
       "      <td>...</td>\n",
       "      <td>0.028262</td>\n",
       "      <td>0.028262</td>\n",
       "      <td>0.000000</td>\n",
       "      <td>10.937353</td>\n",
       "      <td>16</td>\n",
       "      <td>0.000000</td>\n",
       "      <td>0.0</td>\n",
       "      <td>0.197833</td>\n",
       "      <td>0.000000</td>\n",
       "      <td>0</td>\n",
       "    </tr>\n",
       "    <tr>\n",
       "      <th>1204118</th>\n",
       "      <td>1489597</td>\n",
       "      <td>149786</td>\n",
       "      <td>3</td>\n",
       "      <td>34</td>\n",
       "      <td>4</td>\n",
       "      <td>14</td>\n",
       "      <td>4</td>\n",
       "      <td>2</td>\n",
       "      <td>149786</td>\n",
       "      <td>3193266242</td>\n",
       "      <td>...</td>\n",
       "      <td>0.882817</td>\n",
       "      <td>0.693642</td>\n",
       "      <td>0.189175</td>\n",
       "      <td>11.192853</td>\n",
       "      <td>18</td>\n",
       "      <td>0.063058</td>\n",
       "      <td>0.0</td>\n",
       "      <td>0.567525</td>\n",
       "      <td>0.189175</td>\n",
       "      <td>0</td>\n",
       "    </tr>\n",
       "  </tbody>\n",
       "</table>\n",
       "<p>3 rows × 71 columns</p>\n",
       "</div>"
      ],
      "text/plain": [
       "            id_x  matchid  player  championid  ss1  ss2  role  position  \\\n",
       "1215555  1501034   150933      10          59    4   11     2         2   \n",
       "1427835  1713614   172357       6          35   11   14     3         1   \n",
       "1204118  1489597   149786       3          34    4   14     4         2   \n",
       "\n",
       "           id_y      gameid  ...  Neutral minions killed per min.  \\\n",
       "1215555  150933  3162804935  ...                         0.023086   \n",
       "1427835  172357  3186087472  ...                         0.028262   \n",
       "1204118  149786  3193266242  ...                         0.882817   \n",
       "\n",
       "         Own jungle kills per min.  Enemy jungle kills per min.  \\\n",
       "1215555                   0.023086                     0.000000   \n",
       "1427835                   0.028262                     0.000000   \n",
       "1204118                   0.693642                     0.189175   \n",
       "\n",
       "         Total crown control time dealt per min.  champlvl  \\\n",
       "1215555                                 7.572143        18   \n",
       "1427835                                10.937353        16   \n",
       "1204118                                11.192853        18   \n",
       "\n",
       "         Pink wards bought per min.  Wards bought per min.  \\\n",
       "1215555                    0.069257                    0.0   \n",
       "1427835                    0.000000                    0.0   \n",
       "1204118                    0.063058                    0.0   \n",
       "\n",
       "         Wards placed per min.  wardskilled  firstblood  \n",
       "1215555               0.831089     0.253944           0  \n",
       "1427835               0.197833     0.000000           0  \n",
       "1204118               0.567525     0.189175           0  \n",
       "\n",
       "[3 rows x 71 columns]"
      ]
     },
     "execution_count": 5,
     "metadata": {},
     "output_type": "execute_result"
    }
   ],
   "source": [
    "Xt[:3]"
   ]
  },
  {
   "cell_type": "code",
   "execution_count": 6,
   "metadata": {},
   "outputs": [
    {
     "data": {
      "text/plain": [
       "array([0.35312295, 0.06715317, 0.04429299], dtype=float32)"
      ]
     },
     "execution_count": 6,
     "metadata": {},
     "output_type": "execute_result"
    }
   ],
   "source": [
    "model.predict(xgb.DMatrix(Xt[:3]))"
   ]
  },
  {
   "cell_type": "markdown",
   "metadata": {},
   "source": [
    "## Create ML service with BentoML"
   ]
  },
  {
   "cell_type": "code",
   "execution_count": 10,
   "metadata": {},
   "outputs": [
    {
     "name": "stdout",
     "output_type": "stream",
     "text": [
      "Overwriting lol_win_predictions.py\n"
     ]
    }
   ],
   "source": [
    "%%writefile lol_win_predictions.py\n",
    "\n",
    "from bentoml import api, env, BentoService, artifacts\n",
    "from bentoml.artifact import XgboostModelArtifact\n",
    "from bentoml.adapters import DataframeInput\n",
    "\n",
    "import xgboost as xgb\n",
    "\n",
    "@env(pip_dependencies=['xgboost'])\n",
    "@artifacts([XgboostModelArtifact('model')])\n",
    "class LeagueWinPrediction(BentoService):\n",
    "    \n",
    "    @api(input=DataframeInput())\n",
    "    def predict(self, df):\n",
    "        dmatrix = xgb.DMatrix(df)\n",
    "        return self.artifacts.model.predict(dmatrix)"
   ]
  },
  {
   "cell_type": "code",
   "execution_count": 7,
   "metadata": {
    "scrolled": true
   },
   "outputs": [
    {
     "name": "stdout",
     "output_type": "stream",
     "text": [
      "[2020-07-28 14:23:10,275] WARNING - bentoml.handlers.* will be deprecated after BentoML 1.0, use bentoml.adapters.* instead\n",
      "[2020-07-28 14:23:10,276] WARNING - DataframeHandler will be deprecated after BentoML 1.0, use DataframeInput instead\n",
      "[2020-07-28 14:23:10,279] WARNING - Using BentoML installed in `editable` model, the local BentoML repository including all code changes will be packaged together with saved bundle created, under the './bundled_pip_dependencies' directory of the saved bundle.\n",
      "[2020-07-28 14:23:25,835] INFO - BentoService bundle 'LeagueWinPrediction:20200728142310_250EBD' saved to: /home/bentoml/bentoml/repository/LeagueWinPrediction/20200728142310_250EBD\n"
     ]
    }
   ],
   "source": [
    "# 1) import the custom BentoService defined above\n",
    "from lol_win_predictions import LeagueWinPrediction\n",
    "\n",
    "# 2) `pack` it with required artifacts\n",
    "bento_svc = LeagueWinPrediction()\n",
    "bento_svc.pack('model', model)\n",
    "\n",
    "# 3) save your BentoSerivce\n",
    "saved_path = bento_svc.save()"
   ]
  },
  {
   "cell_type": "code",
   "execution_count": 8,
   "metadata": {},
   "outputs": [
    {
     "name": "stdout",
     "output_type": "stream",
     "text": [
      "[2020-07-28 14:23:31,089] WARNING - Saved BentoService bundle version mismatch: loading BentoService bundle create with BentoML version 0.8.1, but loading from BentoML version 0.8.1+27.g8e155f5.dirty\n",
      "[2020-07-28 14:23:31,090] WARNING - Module `lol_win_predictions` already loaded, using existing imported module.\n",
      "[0.35312295 0.06715317 0.04429299]\n"
     ]
    }
   ],
   "source": [
    "from bentoml import load\n",
    "\n",
    "svc = load(saved_path)\n",
    "\n",
    "print(svc.predict(Xt[:3]))"
   ]
  },
  {
   "cell_type": "code",
   "execution_count": 9,
   "metadata": {},
   "outputs": [
    {
     "name": "stdout",
     "output_type": "stream",
     "text": [
      "\u001b[39mBENTO_SERVICE                              AGE            APIS                                   ARTIFACTS\n",
      "LeagueWinPrediction:20200728142310_250EBD  10.71 seconds  predict<DataframeInput:DefaultOutput>  model<XgboostModelArtifact>\u001b[0m\n"
     ]
    }
   ],
   "source": [
    "!bentoml get LeagueWinPrediction"
   ]
  },
  {
   "cell_type": "code",
   "execution_count": 10,
   "metadata": {
    "scrolled": true
   },
   "outputs": [
    {
     "name": "stdout",
     "output_type": "stream",
     "text": [
      "[2020-07-28 14:23:46,775] INFO - Getting latest version LeagueWinPrediction:20200728142310_250EBD\n",
      "\u001b[39m{\n",
      "  \"name\": \"LeagueWinPrediction\",\n",
      "  \"version\": \"20200728142310_250EBD\",\n",
      "  \"uri\": {\n",
      "    \"type\": \"LOCAL\",\n",
      "    \"uri\": \"/home/bentoml/bentoml/repository/LeagueWinPrediction/20200728142310_250EBD\"\n",
      "  },\n",
      "  \"bentoServiceMetadata\": {\n",
      "    \"name\": \"LeagueWinPrediction\",\n",
      "    \"version\": \"20200728142310_250EBD\",\n",
      "    \"createdAt\": \"2020-07-28T06:23:25.812431Z\",\n",
      "    \"env\": {\n",
      "      \"condaEnv\": \"name: bentoml-LeagueWinPrediction\\nchannels:\\n- defaults\\ndependencies:\\n- python=3.7.4\\n- pip\\n\",\n",
      "      \"pipDependencies\": \"xgboost\\npandas\\nbentoml==0.8.1\",\n",
      "      \"pythonVersion\": \"3.7.4\",\n",
      "      \"dockerBaseImage\": \"bentoml/model-server:0.8.1\"\n",
      "    },\n",
      "    \"artifacts\": [\n",
      "      {\n",
      "        \"name\": \"model\",\n",
      "        \"artifactType\": \"XgboostModelArtifact\"\n",
      "      }\n",
      "    ],\n",
      "    \"apis\": [\n",
      "      {\n",
      "        \"name\": \"predict\",\n",
      "        \"inputType\": \"DataframeInput\",\n",
      "        \"docs\": \"BentoService API\",\n",
      "        \"inputConfig\": {\n",
      "          \"orient\": null,\n",
      "          \"typ\": \"frame\",\n",
      "          \"is_batch_input\": true,\n",
      "          \"input_dtypes\": null\n",
      "        },\n",
      "        \"outputConfig\": {\n",
      "          \"cors\": \"*\"\n",
      "        },\n",
      "        \"outputType\": \"DefaultOutput\",\n",
      "        \"mbMaxLatency\": 300,\n",
      "        \"mbMaxBatchSize\": 2000\n",
      "      }\n",
      "    ]\n",
      "  }\n",
      "}\u001b[0m\n"
     ]
    }
   ],
   "source": [
    "!bentoml get LeagueWinPrediction:latest"
   ]
  },
  {
   "cell_type": "code",
   "execution_count": 11,
   "metadata": {},
   "outputs": [],
   "source": [
    "Xt[:3].to_csv('test.csv')"
   ]
  },
  {
   "cell_type": "code",
   "execution_count": 12,
   "metadata": {},
   "outputs": [
    {
     "name": "stdout",
     "output_type": "stream",
     "text": [
      "[2020-07-28 14:24:07,196] INFO - Getting latest version LeagueWinPrediction:20200728142310_250EBD\n",
      "[2020-07-28 14:24:08,062] WARNING - Using BentoML installed in `editable` model, the local BentoML repository including all code changes will be packaged together with saved bundle created, under the './bundled_pip_dependencies' directory of the saved bundle.\n",
      "[2020-07-28 14:24:08,075] WARNING - Saved BentoService bundle version mismatch: loading BentoService bundle create with BentoML version 0.8.1, but loading from BentoML version 0.8.1+27.g8e155f5.dirty\n",
      "[2020-07-28 14:24:08,079] WARNING - bentoml.handlers.* will be deprecated after BentoML 1.0, use bentoml.adapters.* instead\n",
      "[2020-07-28 14:24:08,360] WARNING - DataframeHandler will be deprecated after BentoML 1.0, use DataframeInput instead\n",
      "[0.9998702  0.42565885 0.7701393 ]\n"
     ]
    }
   ],
   "source": [
    "!bentoml run LeagueWinPrediction:latest predict --input test.csv"
   ]
  },
  {
   "cell_type": "code",
   "execution_count": 13,
   "metadata": {},
   "outputs": [
    {
     "name": "stdout",
     "output_type": "stream",
     "text": [
      "[2020-07-28 14:25:58,983] INFO - Getting latest version LeagueWinPrediction:20200728142310_250EBD\n",
      "[2020-07-28 14:25:59,986] WARNING - Using BentoML installed in `editable` model, the local BentoML repository including all code changes will be packaged together with saved bundle created, under the './bundled_pip_dependencies' directory of the saved bundle.\n",
      "[2020-07-28 14:26:00,020] WARNING - Saved BentoService bundle version mismatch: loading BentoService bundle create with BentoML version 0.8.1, but loading from BentoML version 0.8.1+27.g8e155f5.dirty\n",
      "[2020-07-28 14:26:00,026] WARNING - bentoml.handlers.* will be deprecated after BentoML 1.0, use bentoml.adapters.* instead\n",
      "[2020-07-28 14:26:00,308] WARNING - DataframeHandler will be deprecated after BentoML 1.0, use DataframeInput instead\n",
      " * Serving Flask app \"LeagueWinPrediction\" (lazy loading)\n",
      " * Environment: production\n",
      "\u001b[31m   WARNING: This is a development server. Do not use it in a production deployment.\u001b[0m\n",
      "\u001b[2m   Use a production WSGI server instead.\u001b[0m\n",
      " * Debug mode: off\n",
      " * Running on http://127.0.0.1:5000/ (Press CTRL+C to quit)\n",
      "^C\n"
     ]
    }
   ],
   "source": [
    "!bentoml serve LeagueWinPrediction:latest"
   ]
  },
  {
   "cell_type": "code",
   "execution_count": null,
   "metadata": {},
   "outputs": [],
   "source": []
  },
  {
   "cell_type": "code",
   "execution_count": null,
   "metadata": {},
   "outputs": [],
   "source": []
  },
  {
   "cell_type": "markdown",
   "metadata": {},
   "source": [
    "## Using BentoML archive as CLI tool"
   ]
  },
  {
   "cell_type": "code",
   "execution_count": 14,
   "metadata": {
    "scrolled": true
   },
   "outputs": [
    {
     "name": "stdout",
     "output_type": "stream",
     "text": [
      "Processing /home/bentoml/bentoml/repository/LeagueWinPrediction/20200728142310_250EBD\n",
      "Requirement already satisfied: xgboost in /opt/anaconda3/lib/python3.7/site-packages (from LeagueWinPrediction===20200728142310-250EBD) (0.90)\n",
      "Requirement already satisfied: pandas in /opt/anaconda3/lib/python3.7/site-packages (from LeagueWinPrediction===20200728142310-250EBD) (1.0.5)\n",
      "Requirement already satisfied: bentoml==0.8.1 in /opt/anaconda3/lib/python3.7/site-packages (from LeagueWinPrediction===20200728142310-250EBD) (0.8.1+27.g8e155f5.dirty)\n",
      "Requirement already satisfied: scipy in /opt/anaconda3/lib/python3.7/site-packages (from xgboost->LeagueWinPrediction===20200728142310-250EBD) (1.3.1)\n",
      "Requirement already satisfied: numpy in /opt/anaconda3/lib/python3.7/site-packages (from xgboost->LeagueWinPrediction===20200728142310-250EBD) (1.18.5)\n",
      "Requirement already satisfied: pytz>=2017.2 in /opt/anaconda3/lib/python3.7/site-packages (from pandas->LeagueWinPrediction===20200728142310-250EBD) (2020.1)\n",
      "Requirement already satisfied: python-dateutil>=2.6.1 in /opt/anaconda3/lib/python3.7/site-packages (from pandas->LeagueWinPrediction===20200728142310-250EBD) (2.8.0)\n",
      "Requirement already satisfied: boto3 in /opt/anaconda3/lib/python3.7/site-packages (from bentoml==0.8.1->LeagueWinPrediction===20200728142310-250EBD) (1.12.9)\n",
      "Requirement already satisfied: requests in /opt/anaconda3/lib/python3.7/site-packages (from bentoml==0.8.1->LeagueWinPrediction===20200728142310-250EBD) (2.24.0)\n",
      "Requirement already satisfied: certifi in /opt/anaconda3/lib/python3.7/site-packages (from bentoml==0.8.1->LeagueWinPrediction===20200728142310-250EBD) (2020.6.20)\n",
      "Requirement already satisfied: alembic in /opt/anaconda3/lib/python3.7/site-packages (from bentoml==0.8.1->LeagueWinPrediction===20200728142310-250EBD) (1.4.0)\n",
      "Requirement already satisfied: py-zipkin in /opt/anaconda3/lib/python3.7/site-packages (from bentoml==0.8.1->LeagueWinPrediction===20200728142310-250EBD) (0.18.7)\n",
      "Requirement already satisfied: protobuf>=3.6.0 in /opt/anaconda3/lib/python3.7/site-packages (from bentoml==0.8.1->LeagueWinPrediction===20200728142310-250EBD) (3.11.3)\n",
      "Requirement already satisfied: aiohttp in /opt/anaconda3/lib/python3.7/site-packages (from bentoml==0.8.1->LeagueWinPrediction===20200728142310-250EBD) (3.6.2)\n",
      "Requirement already satisfied: cerberus in /opt/anaconda3/lib/python3.7/site-packages (from bentoml==0.8.1->LeagueWinPrediction===20200728142310-250EBD) (1.3.2)\n",
      "Requirement already satisfied: grpcio<=1.27.2 in /opt/anaconda3/lib/python3.7/site-packages (from bentoml==0.8.1->LeagueWinPrediction===20200728142310-250EBD) (1.27.2)\n",
      "Requirement already satisfied: click>=7.0 in /opt/anaconda3/lib/python3.7/site-packages (from bentoml==0.8.1->LeagueWinPrediction===20200728142310-250EBD) (7.1.2)\n",
      "Requirement already satisfied: docker in /opt/anaconda3/lib/python3.7/site-packages (from bentoml==0.8.1->LeagueWinPrediction===20200728142310-250EBD) (4.2.0)\n",
      "Requirement already satisfied: humanfriendly in /opt/anaconda3/lib/python3.7/site-packages (from bentoml==0.8.1->LeagueWinPrediction===20200728142310-250EBD) (7.1.1)\n",
      "Requirement already satisfied: gunicorn in /opt/anaconda3/lib/python3.7/site-packages (from bentoml==0.8.1->LeagueWinPrediction===20200728142310-250EBD) (20.0.4)\n",
      "Requirement already satisfied: tabulate in /opt/anaconda3/lib/python3.7/site-packages (from bentoml==0.8.1->LeagueWinPrediction===20200728142310-250EBD) (0.8.6)\n",
      "Requirement already satisfied: flask in /opt/anaconda3/lib/python3.7/site-packages (from bentoml==0.8.1->LeagueWinPrediction===20200728142310-250EBD) (1.1.1)\n",
      "Requirement already satisfied: packaging in /opt/anaconda3/lib/python3.7/site-packages (from bentoml==0.8.1->LeagueWinPrediction===20200728142310-250EBD) (20.4)\n",
      "Requirement already satisfied: ruamel.yaml>=0.15.0 in /opt/anaconda3/lib/python3.7/site-packages (from bentoml==0.8.1->LeagueWinPrediction===20200728142310-250EBD) (0.16.10)\n",
      "Requirement already satisfied: sqlalchemy-utils in /opt/anaconda3/lib/python3.7/site-packages (from bentoml==0.8.1->LeagueWinPrediction===20200728142310-250EBD) (0.36.6)\n",
      "Requirement already satisfied: psutil in /opt/anaconda3/lib/python3.7/site-packages (from bentoml==0.8.1->LeagueWinPrediction===20200728142310-250EBD) (5.7.0)\n",
      "Requirement already satisfied: prometheus-client in /opt/anaconda3/lib/python3.7/site-packages (from bentoml==0.8.1->LeagueWinPrediction===20200728142310-250EBD) (0.8.0)\n",
      "Requirement already satisfied: sqlalchemy>=1.3.0 in /opt/anaconda3/lib/python3.7/site-packages (from bentoml==0.8.1->LeagueWinPrediction===20200728142310-250EBD) (1.3.9)\n",
      "Requirement already satisfied: configparser in /opt/anaconda3/lib/python3.7/site-packages (from bentoml==0.8.1->LeagueWinPrediction===20200728142310-250EBD) (4.0.2)\n",
      "Requirement already satisfied: python-json-logger in /opt/anaconda3/lib/python3.7/site-packages (from bentoml==0.8.1->LeagueWinPrediction===20200728142310-250EBD) (0.1.11)\n",
      "Requirement already satisfied: six>=1.5 in /opt/anaconda3/lib/python3.7/site-packages (from python-dateutil>=2.6.1->pandas->LeagueWinPrediction===20200728142310-250EBD) (1.15.0)\n",
      "Requirement already satisfied: botocore<1.16.0,>=1.15.9 in /opt/anaconda3/lib/python3.7/site-packages (from boto3->bentoml==0.8.1->LeagueWinPrediction===20200728142310-250EBD) (1.15.9)\n",
      "Requirement already satisfied: jmespath<1.0.0,>=0.7.1 in /opt/anaconda3/lib/python3.7/site-packages (from boto3->bentoml==0.8.1->LeagueWinPrediction===20200728142310-250EBD) (0.9.5)\n",
      "Requirement already satisfied: s3transfer<0.4.0,>=0.3.0 in /opt/anaconda3/lib/python3.7/site-packages (from boto3->bentoml==0.8.1->LeagueWinPrediction===20200728142310-250EBD) (0.3.3)\n",
      "Requirement already satisfied: chardet<4,>=3.0.2 in /opt/anaconda3/lib/python3.7/site-packages (from requests->bentoml==0.8.1->LeagueWinPrediction===20200728142310-250EBD) (3.0.4)\n",
      "Requirement already satisfied: urllib3!=1.25.0,!=1.25.1,<1.26,>=1.21.1 in /opt/anaconda3/lib/python3.7/site-packages (from requests->bentoml==0.8.1->LeagueWinPrediction===20200728142310-250EBD) (1.24.3)\n",
      "Requirement already satisfied: idna<3,>=2.5 in /opt/anaconda3/lib/python3.7/site-packages (from requests->bentoml==0.8.1->LeagueWinPrediction===20200728142310-250EBD) (2.10)\n",
      "Requirement already satisfied: Mako in /opt/anaconda3/lib/python3.7/site-packages (from alembic->bentoml==0.8.1->LeagueWinPrediction===20200728142310-250EBD) (1.1.1)\n",
      "Requirement already satisfied: python-editor>=0.3 in /opt/anaconda3/lib/python3.7/site-packages (from alembic->bentoml==0.8.1->LeagueWinPrediction===20200728142310-250EBD) (1.0.4)\n",
      "Requirement already satisfied: thriftpy2>=0.4.0 in /opt/anaconda3/lib/python3.7/site-packages (from py-zipkin->bentoml==0.8.1->LeagueWinPrediction===20200728142310-250EBD) (0.4.10)\n",
      "Requirement already satisfied: setuptools in /opt/anaconda3/lib/python3.7/site-packages (from protobuf>=3.6.0->bentoml==0.8.1->LeagueWinPrediction===20200728142310-250EBD) (49.1.0.post20200710)\n",
      "Requirement already satisfied: attrs>=17.3.0 in /opt/anaconda3/lib/python3.7/site-packages (from aiohttp->bentoml==0.8.1->LeagueWinPrediction===20200728142310-250EBD) (19.3.0)\n",
      "Requirement already satisfied: async-timeout<4.0,>=3.0 in /opt/anaconda3/lib/python3.7/site-packages (from aiohttp->bentoml==0.8.1->LeagueWinPrediction===20200728142310-250EBD) (3.0.1)\n",
      "Requirement already satisfied: yarl<2.0,>=1.0 in /opt/anaconda3/lib/python3.7/site-packages (from aiohttp->bentoml==0.8.1->LeagueWinPrediction===20200728142310-250EBD) (1.4.2)\n",
      "Requirement already satisfied: multidict<5.0,>=4.5 in /opt/anaconda3/lib/python3.7/site-packages (from aiohttp->bentoml==0.8.1->LeagueWinPrediction===20200728142310-250EBD) (4.7.5)\n",
      "Requirement already satisfied: websocket-client>=0.32.0 in /opt/anaconda3/lib/python3.7/site-packages (from docker->bentoml==0.8.1->LeagueWinPrediction===20200728142310-250EBD) (0.57.0)\n",
      "Requirement already satisfied: Jinja2>=2.10.1 in /opt/anaconda3/lib/python3.7/site-packages (from flask->bentoml==0.8.1->LeagueWinPrediction===20200728142310-250EBD) (2.11.2)\n",
      "Requirement already satisfied: itsdangerous>=0.24 in /opt/anaconda3/lib/python3.7/site-packages (from flask->bentoml==0.8.1->LeagueWinPrediction===20200728142310-250EBD) (1.1.0)\n",
      "Requirement already satisfied: Werkzeug>=0.15 in /opt/anaconda3/lib/python3.7/site-packages (from flask->bentoml==0.8.1->LeagueWinPrediction===20200728142310-250EBD) (0.16.0)\n",
      "Requirement already satisfied: pyparsing>=2.0.2 in /opt/anaconda3/lib/python3.7/site-packages (from packaging->bentoml==0.8.1->LeagueWinPrediction===20200728142310-250EBD) (2.4.7)\n",
      "Requirement already satisfied: ruamel.yaml.clib>=0.1.2; platform_python_implementation == \"CPython\" and python_version < \"3.9\" in /opt/anaconda3/lib/python3.7/site-packages (from ruamel.yaml>=0.15.0->bentoml==0.8.1->LeagueWinPrediction===20200728142310-250EBD) (0.2.0)\n",
      "Requirement already satisfied: docutils<0.16,>=0.10 in /opt/anaconda3/lib/python3.7/site-packages (from botocore<1.16.0,>=1.15.9->boto3->bentoml==0.8.1->LeagueWinPrediction===20200728142310-250EBD) (0.15.2)\n",
      "Requirement already satisfied: MarkupSafe>=0.9.2 in /opt/anaconda3/lib/python3.7/site-packages (from Mako->alembic->bentoml==0.8.1->LeagueWinPrediction===20200728142310-250EBD) (1.1.1)\n",
      "Requirement already satisfied: ply<4.0,>=3.4 in /opt/anaconda3/lib/python3.7/site-packages (from thriftpy2>=0.4.0->py-zipkin->bentoml==0.8.1->LeagueWinPrediction===20200728142310-250EBD) (3.11)\n",
      "Building wheels for collected packages: LeagueWinPrediction\n",
      "  Building wheel for LeagueWinPrediction (setup.py) ... \u001b[?25ldone\n",
      "\u001b[?25h  Created wheel for LeagueWinPrediction: filename=LeagueWinPrediction-20200728142310_250EBD-py3-none-any.whl size=58484 sha256=722e0e904e74ddf9b074426b19bf3abaea456d6fdeced762052cef6e17904e46\n",
      "  Stored in directory: /tmp/pip-ephem-wheel-cache-o3hcyrju/wheels/c6/18/53/0846e4723d925e4eee25796c364d91f58622868a84d8081d26\n",
      "Successfully built LeagueWinPrediction\n",
      "Installing collected packages: LeagueWinPrediction\n",
      "Successfully installed LeagueWinPrediction-20200728142310-250EBD\n"
     ]
    }
   ],
   "source": [
    "!pip install {saved_path}"
   ]
  },
  {
   "cell_type": "code",
   "execution_count": 16,
   "metadata": {},
   "outputs": [
    {
     "name": "stdout",
     "output_type": "stream",
     "text": [
      "[2020-07-28 14:27:44,705] WARNING - Saved BentoService bundle version mismatch: loading BentoService bundle create with BentoML version 0.8.1, but loading from BentoML version 0.8.1+27.g8e155f5.dirty\n",
      "[2020-07-28 14:27:44,705] WARNING - DataframeHandler will be deprecated after BentoML 1.0, use DataframeInput instead\n",
      "[0.9998702  0.42565885 0.7701393 ]\n"
     ]
    }
   ],
   "source": [
    "!LeagueWinPrediction run predict --input=test.csv"
   ]
  },
  {
   "cell_type": "markdown",
   "metadata": {},
   "source": [
    "## Use archive as REST API server\n",
    "\n",
    "*notes: This doesn't work with Google Colab right now, because we can't access the local port from it.*"
   ]
  },
  {
   "cell_type": "code",
   "execution_count": null,
   "metadata": {},
   "outputs": [],
   "source": [
    "!bentoml serve {saved_path}"
   ]
  },
  {
   "cell_type": "markdown",
   "metadata": {},
   "source": [
    "### Make requeset to the REST server\n",
    "\n",
    "*After navigate to the location of this notebook, copy and paste the following code to your terminal and run it to make request*\n",
    "\n",
    "```bash\n",
    "curl -i \\\n",
    "--request POST \\\n",
    "--header \"Content-Type: text/csv\" \\\n",
    "-d @test.csv \\\n",
    "localhost:5000/predict\n",
    "```"
   ]
  },
  {
   "cell_type": "code",
   "execution_count": null,
   "metadata": {},
   "outputs": [],
   "source": []
  },
  {
   "cell_type": "code",
   "execution_count": null,
   "metadata": {},
   "outputs": [],
   "source": []
  },
  {
   "cell_type": "code",
   "execution_count": 18,
   "metadata": {},
   "outputs": [
    {
     "name": "stdout",
     "output_type": "stream",
     "text": [
      "Deploying Lambda deployment -[2020-02-13 15:22:50,246] INFO - Building lambda project\n",
      "\b|[2020-02-13 15:28:44,204] INFO - Packaging AWS Lambda project at /private/var/folders/kn/xnc9k74x03567n1mx2tfqnpr0000gn/T/bentoml-temp-a9v3r7jc ...\n",
      "\b|[2020-02-13 15:29:08,363] INFO - Deploying lambda project\n",
      "\b|[2020-02-13 15:30:00,729] INFO - ApplyDeployment (xgboost-lol, namespace bobo) succeeded\n",
      "\u001b[32mSuccessfully created AWS Lambda deployment xgboost-lol\u001b[0m\n",
      "\u001b[39m{\n",
      "  \"namespace\": \"bobo\",\n",
      "  \"name\": \"xgboost-lol\",\n",
      "  \"spec\": {\n",
      "    \"bentoName\": \"LeagueWinPrediction\",\n",
      "    \"bentoVersion\": \"20200213151956_D4CD71\",\n",
      "    \"operator\": \"AWS_LAMBDA\",\n",
      "    \"awsLambdaOperatorConfig\": {\n",
      "      \"region\": \"us-west-2\",\n",
      "      \"memorySize\": 1024,\n",
      "      \"timeout\": 3\n",
      "    }\n",
      "  },\n",
      "  \"state\": {\n",
      "    \"state\": \"RUNNING\",\n",
      "    \"infoJson\": {\n",
      "      \"endpoints\": [\n",
      "        \"https://esuj190n16.execute-api.us-west-2.amazonaws.com/Prod/predict\"\n",
      "      ],\n",
      "      \"s3_bucket\": \"btml-bobo-xgboost-lol-cc0cda\"\n",
      "    },\n",
      "    \"timestamp\": \"2020-02-13T23:30:00.931414Z\"\n",
      "  },\n",
      "  \"createdAt\": \"2020-02-13T23:22:45.342091Z\",\n",
      "  \"lastUpdatedAt\": \"2020-02-13T23:22:45.342120Z\"\n",
      "}\u001b[0m\n"
     ]
    }
   ],
   "source": [
    "!bentoml lambda deploy xgboost-lol -b LeagueWinPrediction:latest"
   ]
  },
  {
   "cell_type": "code",
   "execution_count": 21,
   "metadata": {},
   "outputs": [
    {
     "name": "stdout",
     "output_type": "stream",
     "text": [
      "\u001b[39mNAME                     NAMESPACE    PLATFORM    BENTO_SERVICE                              STATUS    AGE\n",
      "xgboost-lol              bobo         aws-lambda  LeagueWinPrediction:20200213151956_D4CD71  running   7 minutes and 59.44 seconds\n",
      "tests-lambda-e2e-f7948d  bobo         aws-lambda  IrisClassifier:20200210154953_02AAA1       running   2 days and 23 hours\u001b[0m\n"
     ]
    }
   ],
   "source": [
    "!bentoml lambda list"
   ]
  },
  {
   "cell_type": "code",
   "execution_count": 20,
   "metadata": {},
   "outputs": [
    {
     "name": "stdout",
     "output_type": "stream",
     "text": [
      "\u001b[39m{\n",
      "  \"namespace\": \"bobo\",\n",
      "  \"name\": \"xgboost-lol\",\n",
      "  \"spec\": {\n",
      "    \"bentoName\": \"LeagueWinPrediction\",\n",
      "    \"bentoVersion\": \"20200213151956_D4CD71\",\n",
      "    \"operator\": \"AWS_LAMBDA\",\n",
      "    \"awsLambdaOperatorConfig\": {\n",
      "      \"region\": \"us-west-2\",\n",
      "      \"memorySize\": 1024,\n",
      "      \"timeout\": 3\n",
      "    }\n",
      "  },\n",
      "  \"state\": {\n",
      "    \"state\": \"RUNNING\",\n",
      "    \"infoJson\": {\n",
      "      \"endpoints\": [\n",
      "        \"https://esuj190n16.execute-api.us-west-2.amazonaws.com/Prod/predict\"\n",
      "      ],\n",
      "      \"s3_bucket\": \"btml-bobo-xgboost-lol-cc0cda\"\n",
      "    },\n",
      "    \"timestamp\": \"2020-02-13T23:30:16.620816Z\"\n",
      "  },\n",
      "  \"createdAt\": \"2020-02-13T23:22:45.342091Z\",\n",
      "  \"lastUpdatedAt\": \"2020-02-13T23:22:45.342120Z\"\n",
      "}\u001b[0m\n"
     ]
    }
   ],
   "source": [
    "!bentoml lambda get xgboost-lol"
   ]
  },
  {
   "cell_type": "code",
   "execution_count": null,
   "metadata": {},
   "outputs": [],
   "source": [
    "!curl -i \\\n",
    "--request POST \\\n",
    "--header \"Content-Type: text/csv\" \\\n",
    "-d @test.csv \\\n",
    "https://esuj190n16.execute-api.us-west-2.amazonaws.com/Prod/predict"
   ]
  },
  {
   "cell_type": "code",
   "execution_count": 25,
   "metadata": {},
   "outputs": [
    {
     "name": "stdout",
     "output_type": "stream",
     "text": [
      "\u001b[32mSuccessfully deleted AWS Lambda deployment \"xgboost-lol\"\u001b[0m\n"
     ]
    }
   ],
   "source": [
    "!bentoml lambda delete xgboost-lol"
   ]
  },
  {
   "cell_type": "code",
   "execution_count": null,
   "metadata": {},
   "outputs": [],
   "source": []
  }
 ],
 "metadata": {
  "kernelspec": {
   "display_name": "Python 3",
   "language": "python",
   "name": "python3"
  },
  "language_info": {
   "codemirror_mode": {
    "name": "ipython",
    "version": 3
   },
   "file_extension": ".py",
   "mimetype": "text/x-python",
   "name": "python",
   "nbconvert_exporter": "python",
   "pygments_lexer": "ipython3",
   "version": "3.7.4"
  }
 },
 "nbformat": 4,
 "nbformat_minor": 4
}
