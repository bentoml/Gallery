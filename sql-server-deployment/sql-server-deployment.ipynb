{
 "metadata": {
  "language_info": {
   "codemirror_mode": {
    "name": "ipython",
    "version": 3
   },
   "file_extension": ".py",
   "mimetype": "text/x-python",
   "name": "python",
   "nbconvert_exporter": "python",
   "pygments_lexer": "ipython3",
   "version": "3.8.3-final"
  },
  "orig_nbformat": 2,
  "kernelspec": {
   "name": "python38364bitbentoconda77f3f14f5fe54a59bff1798af3e158d7",
   "display_name": "Python 3.8.3 64-bit ('bento': conda)"
  }
 },
 "nbformat": 4,
 "nbformat_minor": 2,
 "cells": [
  {
   "cell_type": "markdown",
   "metadata": {},
   "source": [
    "# BentoML Example: Serving Bento Bundle with SQL Server Machine Learning Services\n",
    "\n",
    "\n",
    "[BentoML](http://bentoml.ai) is an open source platform for machine learning model serving and deployment. In this project we will use BentoML to package the iris classifier model, and build a bento bundle which we will deploy later using Microsoft SQL Server Machine Learning Services.\n",
    "\n",
    "This notebook demonstrates how to use BentoML to serve a Iris Classification model with SQL Server.\n"
   ]
  },
  {
   "cell_type": "markdown",
   "metadata": {},
   "source": [
    "[Microsoft's Machine Learning Services](https://docs.microsoft.com/en-us/sql/machine-learning/sql-server-machine-learning-services?view=sql-server-ver15) is a feature in SQL Server that gives the ability to run Python and R scripts with relational data. We can use BentoMl and other open-source packages, and the Microsoft Python packages, for predictive analytics and machine learning. The scripts are executed in-database without moving data outside SQL Server or over the network."
   ]
  },
  {
   "cell_type": "markdown",
   "metadata": {},
   "source": [
    "Let's start by creating the iris classifier and packaging that as a bento bundle."
   ]
  },
  {
   "cell_type": "code",
   "execution_count": 1,
   "metadata": {},
   "outputs": [],
   "source": [
    "%reload_ext autoreload\n",
    "%autoreload 2\n",
    "%matplotlib inline"
   ]
  },
  {
   "cell_type": "code",
   "execution_count": 2,
   "metadata": {
    "tags": []
   },
   "outputs": [
    {
     "output_type": "stream",
     "name": "stdout",
     "text": "Requirement already satisfied: bentoml in d:\\yashika sharma\\anaconda3\\envs\\bento\\lib\\site-packages (0.8.3)\nRequirement already satisfied: grpcio<=1.27.2 in d:\\yashika sharma\\anaconda3\\envs\\bento\\lib\\site-packages (from bentoml) (1.27.2)\nRequirement already satisfied: prometheus-client in d:\\yashika sharma\\anaconda3\\envs\\bento\\lib\\site-packages (from bentoml) (0.8.0)\nRequirement already satisfied: sqlalchemy>=1.3.0 in d:\\yashika sharma\\anaconda3\\envs\\bento\\lib\\site-packages (from bentoml) (1.3.18)\nRequirement already satisfied: protobuf>=3.6.0 in d:\\yashika sharma\\anaconda3\\envs\\bento\\lib\\site-packages (from bentoml) (3.12.2)\nRequirement already satisfied: psutil in d:\\yashika sharma\\anaconda3\\envs\\bento\\lib\\site-packages (from bentoml) (5.7.2)\nRequirement already satisfied: py-zipkin in d:\\yashika sharma\\anaconda3\\envs\\bento\\lib\\site-packages (from bentoml) (0.20.0)\nRequirement already satisfied: packaging in d:\\yashika sharma\\anaconda3\\envs\\bento\\lib\\site-packages (from bentoml) (20.4)\nRequirement already satisfied: gunicorn in d:\\yashika sharma\\anaconda3\\envs\\bento\\lib\\site-packages (from bentoml) (20.0.4)\nRequirement already satisfied: aiohttp in d:\\yashika sharma\\anaconda3\\envs\\bento\\lib\\site-packages (from bentoml) (3.6.2)\nRequirement already satisfied: python-dateutil<2.8.1,>=2.1 in d:\\yashika sharma\\anaconda3\\envs\\bento\\lib\\site-packages (from bentoml) (2.8.0)\nRequirement already satisfied: flask in d:\\yashika sharma\\anaconda3\\envs\\bento\\lib\\site-packages (from bentoml) (1.1.2)\nRequirement already satisfied: configparser in d:\\yashika sharma\\anaconda3\\envs\\bento\\lib\\site-packages (from bentoml) (5.0.0)\nRequirement already satisfied: python-json-logger in d:\\yashika sharma\\anaconda3\\envs\\bento\\lib\\site-packages (from bentoml) (0.1.11)\nRequirement already satisfied: tabulate in d:\\yashika sharma\\anaconda3\\envs\\bento\\lib\\site-packages (from bentoml) (0.8.7)\nRequirement already satisfied: certifi in d:\\yashika sharma\\anaconda3\\envs\\bento\\lib\\site-packages (from bentoml) (2020.6.20)\nRequirement already satisfied: alembic in d:\\yashika sharma\\anaconda3\\envs\\bento\\lib\\site-packages (from bentoml) (1.4.2)\nRequirement already satisfied: numpy in d:\\yashika sharma\\anaconda3\\envs\\bento\\lib\\site-packages (from bentoml) (1.18.5)\nRequirement already satisfied: click>=7.0 in d:\\yashika sharma\\anaconda3\\envs\\bento\\lib\\site-packages (from bentoml) (7.1.2)\nRequirement already satisfied: docker in d:\\yashika sharma\\anaconda3\\envs\\bento\\lib\\site-packages (from bentoml) (4.2.2)\nRequirement already satisfied: ruamel.yaml>=0.15.0 in d:\\yashika sharma\\anaconda3\\envs\\bento\\lib\\site-packages (from bentoml) (0.16.10)\nRequirement already satisfied: sqlalchemy-utils in d:\\yashika sharma\\anaconda3\\envs\\bento\\lib\\site-packages (from bentoml) (0.36.8)\nRequirement already satisfied: requests in d:\\yashika sharma\\anaconda3\\envs\\bento\\lib\\site-packages (from bentoml) (2.24.0)\nRequirement already satisfied: humanfriendly in d:\\yashika sharma\\anaconda3\\envs\\bento\\lib\\site-packages (from bentoml) (8.2)\nRequirement already satisfied: boto3 in d:\\yashika sharma\\anaconda3\\envs\\bento\\lib\\site-packages (from bentoml) (1.14.26)\nRequirement already satisfied: cerberus in d:\\yashika sharma\\anaconda3\\envs\\bento\\lib\\site-packages (from bentoml) (1.3.2)\nRequirement already satisfied: six>=1.5.2 in d:\\yashika sharma\\anaconda3\\envs\\bento\\lib\\site-packages (from grpcio<=1.27.2->bentoml) (1.15.0)\nRequirement already satisfied: setuptools in d:\\yashika sharma\\anaconda3\\envs\\bento\\lib\\site-packages (from protobuf>=3.6.0->bentoml) (49.2.0.post20200714)\nRequirement already satisfied: thriftpy2>=0.4.0 in d:\\yashika sharma\\anaconda3\\envs\\bento\\lib\\site-packages (from py-zipkin->bentoml) (0.4.11)\nRequirement already satisfied: pyparsing>=2.0.2 in d:\\yashika sharma\\anaconda3\\envs\\bento\\lib\\site-packages (from packaging->bentoml) (2.4.7)\nRequirement already satisfied: attrs>=17.3.0 in d:\\yashika sharma\\anaconda3\\envs\\bento\\lib\\site-packages (from aiohttp->bentoml) (19.3.0)\nRequirement already satisfied: chardet<4.0,>=2.0 in d:\\yashika sharma\\anaconda3\\envs\\bento\\lib\\site-packages (from aiohttp->bentoml) (3.0.4)\nRequirement already satisfied: yarl<2.0,>=1.0 in d:\\yashika sharma\\anaconda3\\envs\\bento\\lib\\site-packages (from aiohttp->bentoml) (1.4.2)\nRequirement already satisfied: async-timeout<4.0,>=3.0 in d:\\yashika sharma\\anaconda3\\envs\\bento\\lib\\site-packages (from aiohttp->bentoml) (3.0.1)\nRequirement already satisfied: multidict<5.0,>=4.5 in d:\\yashika sharma\\anaconda3\\envs\\bento\\lib\\site-packages (from aiohttp->bentoml) (4.7.6)\nRequirement already satisfied: Jinja2>=2.10.1 in d:\\yashika sharma\\anaconda3\\envs\\bento\\lib\\site-packages (from flask->bentoml) (2.11.2)\nRequirement already satisfied: itsdangerous>=0.24 in d:\\yashika sharma\\anaconda3\\envs\\bento\\lib\\site-packages (from flask->bentoml) (1.1.0)\nRequirement already satisfied: Werkzeug>=0.15 in d:\\yashika sharma\\anaconda3\\envs\\bento\\lib\\site-packages (from flask->bentoml) (1.0.1)\nRequirement already satisfied: Mako in d:\\yashika sharma\\anaconda3\\envs\\bento\\lib\\site-packages (from alembic->bentoml) (1.1.3)\nRequirement already satisfied: python-editor>=0.3 in d:\\yashika sharma\\anaconda3\\envs\\bento\\lib\\site-packages (from alembic->bentoml) (1.0.4)\nRequirement already satisfied: websocket-client>=0.32.0 in d:\\yashika sharma\\anaconda3\\envs\\bento\\lib\\site-packages (from docker->bentoml) (0.57.0)\nRequirement already satisfied: pypiwin32==223; sys_platform == \"win32\" and python_version >= \"3.6\" in d:\\yashika sharma\\anaconda3\\envs\\bento\\lib\\site-packages (from docker->bentoml) (223)\nRequirement already satisfied: ruamel.yaml.clib>=0.1.2; platform_python_implementation == \"CPython\" and python_version < \"3.9\" in d:\\yashika sharma\\anaconda3\\envs\\bento\\lib\\site-packages (from ruamel.yaml>=0.15.0->bentoml) (0.2.0)\nRequirement already satisfied: idna<3,>=2.5 in d:\\yashika sharma\\anaconda3\\envs\\bento\\lib\\site-packages (from requests->bentoml) (2.10)\nRequirement already satisfied: urllib3!=1.25.0,!=1.25.1,<1.26,>=1.21.1 in d:\\yashika sharma\\anaconda3\\envs\\bento\\lib\\site-packages (from requests->bentoml) (1.25.10)\nRequirement already satisfied: pyreadline; sys_platform == \"win32\" in d:\\yashika sharma\\anaconda3\\envs\\bento\\lib\\site-packages (from humanfriendly->bentoml) (2.1)\nRequirement already satisfied: jmespath<1.0.0,>=0.7.1 in d:\\yashika sharma\\anaconda3\\envs\\bento\\lib\\site-packages (from boto3->bentoml) (0.10.0)\nRequirement already satisfied: botocore<1.18.0,>=1.17.26 in d:\\yashika sharma\\anaconda3\\envs\\bento\\lib\\site-packages (from boto3->bentoml) (1.17.26)\nRequirement already satisfied: s3transfer<0.4.0,>=0.3.0 in d:\\yashika sharma\\anaconda3\\envs\\bento\\lib\\site-packages (from boto3->bentoml) (0.3.3)\nRequirement already satisfied: ply<4.0,>=3.4 in d:\\yashika sharma\\anaconda3\\envs\\bento\\lib\\site-packages (from thriftpy2>=0.4.0->py-zipkin->bentoml) (3.11)\nRequirement already satisfied: MarkupSafe>=0.23 in d:\\yashika sharma\\anaconda3\\envs\\bento\\lib\\site-packages (from Jinja2>=2.10.1->flask->bentoml) (1.1.1)\nRequirement already satisfied: pywin32>=223 in c:\\users\\yashika sharma\\appdata\\roaming\\python\\python38\\site-packages (from pypiwin32==223; sys_platform == \"win32\" and python_version >= \"3.6\"->docker->bentoml) (228)\nRequirement already satisfied: docutils<0.16,>=0.10 in d:\\yashika sharma\\anaconda3\\envs\\bento\\lib\\site-packages (from botocore<1.18.0,>=1.17.26->boto3->bentoml) (0.15.2)\nRequirement already satisfied: sklearn in d:\\yashika sharma\\anaconda3\\envs\\bento\\lib\\site-packages (0.0)\nRequirement already satisfied: scikit-learn in d:\\yashika sharma\\anaconda3\\envs\\bento\\lib\\site-packages (from sklearn) (0.23.1)\nRequirement already satisfied: scipy>=0.19.1 in d:\\yashika sharma\\anaconda3\\envs\\bento\\lib\\site-packages (from scikit-learn->sklearn) (1.5.0)\nRequirement already satisfied: threadpoolctl>=2.0.0 in d:\\yashika sharma\\anaconda3\\envs\\bento\\lib\\site-packages (from scikit-learn->sklearn) (2.1.0)\nRequirement already satisfied: joblib>=0.11 in d:\\yashika sharma\\anaconda3\\envs\\bento\\lib\\site-packages (from scikit-learn->sklearn) (0.16.0)\nRequirement already satisfied: numpy>=1.13.3 in d:\\yashika sharma\\anaconda3\\envs\\bento\\lib\\site-packages (from scikit-learn->sklearn) (1.18.5)\n"
    }
   ],
   "source": [
    "!pip install bentoml\n",
    "!pip install sklearn"
   ]
  },
  {
   "cell_type": "markdown",
   "metadata": {},
   "source": [
    "## Creating BentoService for model serving. \n",
    "\n",
    "BentoService is the base for creating the classs. It should not be present in the `__main__` so we are going to create a separate cell for it."
   ]
  },
  {
   "cell_type": "code",
   "execution_count": 6,
   "metadata": {
    "tags": []
   },
   "outputs": [
    {
     "output_type": "stream",
     "name": "stdout",
     "text": "Overwriting iris_classifier.py\n"
    }
   ],
   "source": [
    "%%writefile iris_classifier.py\n",
    "from bentoml import env, artifacts, api, BentoService\n",
    "from bentoml.adapters import DataframeInput\n",
    "from bentoml.artifact import SklearnModelArtifact\n",
    "\n",
    "@env(auto_pip_dependencies=True)\n",
    "@artifacts([SklearnModelArtifact('model')])\n",
    "\n",
    "class IrisClassifier(BentoService):\n",
    "    @api(input=DataframeInput())\n",
    "\n",
    "    def predict(Self,df):\n",
    "        #optional pre-procesing, post-processing code goes here\n",
    "        return self.artifacts.model.predict(df)"
   ]
  },
  {
   "cell_type": "code",
   "execution_count": 7,
   "metadata": {
    "tags": []
   },
   "outputs": [
    {
     "output_type": "stream",
     "name": "stdout",
     "text": "[2020-07-31 02:30:22,628] INFO - BentoService bundle 'IrisClassifier:20200731022905_898973' saved to: C:\\Users\\Yashika Sharma/bentoml/repository/IrisClassifier\\20200731022905_898973\n"
    }
   ],
   "source": [
    "\n",
    "from sklearn import svm\n",
    "from sklearn import datasets\n",
    "\n",
    "from iris_classifier import IrisClassifier\n",
    "\n",
    "if __name__ == \"__main__\":\n",
    "  # Load training data\n",
    "  iris = datasets.load_iris()\n",
    "  X, y = iris.data, iris.target\n",
    "\n",
    "  # Model Training\n",
    "  clf = svm.SVC(gamma='scale')\n",
    "  clf.fit(X, y)\n",
    "\n",
    "  # Create a iris classifier service instance\n",
    "  iris_classifier_service = IrisClassifier()\n",
    "\n",
    "  # Pack the newly trained model artifact\n",
    "  iris_classifier_service.pack('model', clf)\n",
    "\n",
    "  # Save the prediction service to disk for model serving\n",
    "  saved_path = iris_classifier_service.save()"
   ]
  },
  {
   "cell_type": "code",
   "execution_count": 8,
   "metadata": {
    "tags": []
   },
   "outputs": [
    {
     "output_type": "stream",
     "name": "stderr",
     "text": "python: can't open file 'main.py': [Errno 2] No such file or directory\n"
    }
   ],
   "source": [
    "!python main.py"
   ]
  },
  {
   "cell_type": "code",
   "execution_count": 9,
   "metadata": {
    "tags": []
   },
   "outputs": [
    {
     "output_type": "stream",
     "name": "stdout",
     "text": "[2020-07-31 02:35:52,148] INFO - Getting latest version IrisClassifier:20200731022905_898973\nC:\\Users\\Yashika Sharma/bentoml/repository/IrisClassifier\\20200731022905_898973\n"
    }
   ],
   "source": [
    "# Get the path of the saved bundle\n",
    "\n",
    "!bentoml get --print-location IrisClassifier:latest "
   ]
  },
  {
   "cell_type": "markdown",
   "metadata": {},
   "source": [
    "Now you can serve the bentoml packed model via REST API by running the following command.\n",
    "\n",
    "`!bentoml serve IrisClassifier:latest`\n",
    "\n",
    "The focus of this tutorial is to serve the saved bundle using SQL server.\n",
    "\n"
   ]
  },
  {
   "cell_type": "markdown",
   "metadata": {},
   "source": [
    "For running the saved bundle in sql server follow these steps:\n",
    "\n",
    "- Install sql server machine learning services from [here](https://www.microsoft.com/en-in/sql-server/sql-server-downloads)\n",
    "\n",
    "- Follow the installation steps from [here](https://docs.microsoft.com/en-us/sql/machine-learning/install/sql-machine-learning-services-windows-install). Don't forget to select python from the feature selection\n",
    "\n",
    "![](images/python-sqlserver.png)\n",
    "\n",
    "- Once the setup is ready, create a new server and after server is connected download [SSMS](https://docs.microsoft.com/en-us/sql/ssms/download-sql-server-management-studio-ssms?view=sql-server-2017). It is an integrated environment for managing SQL queries. We will use it to run our saved bento bundle and make predictions. Alternatively we can also use [Azure Data Studio ](https://docs.microsoft.com/en-us/sql/azure-data-studio/what-is?view=sql-server-ver15)\n",
    "\n",
    "- Install bentoml in the sql server. Open Command Prompt or terminal and change directory to `SQL Server/PYTHON_SERVICES/SCRIPTS`.\n",
    "Run `pip.exe install bentoml`\n",
    "\n",
    "![](images/saved bundle.png)\n",
    "\n",
    "If you get SSL related errors:\n",
    "- cd..\n",
    "- `condabin\\activate.bat` \n",
    "\n",
    "![](images/conda.png)\n",
    "\n",
    "- `pip.exe install bentoml`\n",
    "\n",
    "Additionally upgrade scikit-learn to prevent errors during deployment:\n",
    "- `pip install --upgrade scikit-learn`\n",
    "\n",
    "\n",
    "Finally copy the bento bundle from the location you got from `!bentoml get --print-location IrisClassifier:latest` to the directory where SQL Server is installed to avoid permission denied errors.\n"
   ]
  },
  {
   "cell_type": "markdown",
   "metadata": {},
   "source": [
    "Now let's switch to SSMS and write query for deploying bento saved bundle."
   ]
  },
  {
   "cell_type": "markdown",
   "metadata": {},
   "source": [
    "Connect to Database Engine with the server name you used to create new server. \n",
    "\n",
    "![](images/server-connect.png)\n",
    "\n",
    "Start a new query and write the following command. This will enable running external scripts.\n",
    "\n",
    "`sp_configure`\n",
    "\n",
    "`EXEC sp_configure  'external scripts enabled', 1`\n",
    "\n",
    "`RECONFIGURE WITH OVERRIDE`"
   ]
  },
  {
   "cell_type": "markdown",
   "metadata": {},
   "source": [
    "Create a new database to store the dataset for prediction.\n",
    "\n",
    "`CREATE DATABASE irissql`\n",
    "\n",
    "`GO`"
   ]
  },
  {
   "cell_type": "markdown",
   "metadata": {},
   "source": [
    "Now create new table in the database we just created and put columns similar to the iris dataset.\n",
    "\n",
    "\n",
    "`USE irissql`\n",
    "\n",
    "`GO`\n",
    "\n",
    "`DROP TABLE IF EXISTS iris_data;`\n",
    "\n",
    "`GO`\n",
    "\n",
    "\n",
    "`CREATE TABLE iris_data (`\n",
    "\n",
    "  `id INT NOT NULL IDENTITY PRIMARY KEY`\n",
    "\n",
    "  `, \"Sepal.Length\" FLOAT NOT NULL, \"Sepal.Width\" FLOAT NOT NULL`\n",
    "\n",
    "  `, \"Petal.Length\" FLOAT NOT NULL, \"Petal.Width\" FLOAT NOT NULL`\n",
    "\n",
    "  `, \"Species\" VARCHAR(100) NOT NULL, \"SpeciesId\" INT NOT NULL`\n",
    "\n",
    "`);`"
   ]
  },
  {
   "cell_type": "markdown",
   "metadata": {},
   "source": [
    "Next we will create a procedure which works similar to a method(function) in python. We list a set of steps that will get executed when we'll use this procedure. We are going to use this procedure to insert values in the table. \n",
    "Find more in the documentation [here](https://docs.microsoft.com/en-us/sql/relational-databases/system-stored-procedures/sp-execute-external-script-transact-sql?view=sql-server-ver15)\n",
    "\n",
    "\n",
    "`CREATE PROCEDURE get_iris_dataset`\n",
    "\n",
    "`AS`\n",
    "\n",
    "`BEGIN`\n",
    "\n",
    "`EXEC sp_execute_external_script @language = N'Python',` \n",
    "\n",
    "`@script = N'`\n",
    "\n",
    "`from sklearn import datasets`\n",
    "\n",
    "`iris = datasets.load_iris()`\n",
    "\n",
    "`iris_data = pandas.DataFrame(iris.data)`\n",
    "\n",
    "`iris_data[\"Species\"] = pandas.Categorical.from_codes(iris.target, iris.target_names)`\n",
    "\n",
    "`iris_data[\"SpeciesId\"] = iris.target`\n",
    "\n",
    "`',`\n",
    "\n",
    "`@input_data_1 = N'',`\n",
    "\n",
    "`@output_data_1_name = N'iris_data'`\n",
    "\n",
    "`WITH RESULT SETS ((\"Sepal.Length\" float not null, \"Sepal.Width\" float not null, \"Petal.Length\" float not null, \"Petal.Width\" float not null,`\n",
    "\n",
    "`\"Species\" varchar(100) not null, \"SpeciesId\" int not null));`\n",
    "\n",
    "`END;`\n",
    "\n",
    "`GO`\n"
   ]
  },
  {
   "cell_type": "markdown",
   "metadata": {},
   "source": [
    "Finally insert data into the table `iris_data`\n",
    "\n",
    "`INSERT INTO iris_data (\"Sepal.Length\", \"Sepal.Width\", \"Petal.Length\", \"Petal.Width\", \"Species\", \"SpeciesId\")`\n",
    "\n",
    "`EXEC dbo.get_iris_dataset;`\n",
    "\n"
   ]
  },
  {
   "cell_type": "markdown",
   "metadata": {},
   "source": [
    "The last step is to create a procedure for model deployment and prediction.\n",
    "We will create a procedure `predict_species` and as an external script we will run the bento saved bundle.\n",
    "\n",
    "`import bentoml` as usual and set the `saved_path` to the location where the bento bundle is saved.\n",
    "\n",
    "Load the bundle using `bentoml.load()`. Now we can use this model loaded from the saved bundle to make predictions and deploy the model. List all the input and output parameters.\n",
    "\n",
    "The procedure is ready now. We can deploy it using `Execute predict_species 'SVM';` where SVM is the name given to the model.\n",
    "\n",
    "Here is the complete script\n",
    "\n",
    "\n",
    "`CREATE PROCEDURE predict_species (@model VARCHAR(100))`\n",
    "\n",
    "`AS`\n",
    "\n",
    "`BEGIN`\n",
    " \n",
    "    `DECLARE @svm_model VARBINARY(max)`\n",
    "\n",
    "    `EXECUTE sp_execute_external_script @language = N'Python'`\n",
    "\n",
    "        `, @script = N'`\n",
    "\n",
    "`import bentoml`\n",
    "\n",
    "`saved_path=r\"C:\\Program Files\\Microsoft SQL Server\\MSSQL15.NEWSERVER\\bento_bundle\"`\n",
    "\n",
    "`irismodel = bentoml.load(saved_path)`\n",
    "\n",
    "`species_pred = irismodel.predict(iris_data[[\"Sepal.Length\", \"Sepal.Width\", \"Petal.Length\", \"Petal.Width\"]])`\n",
    "\n",
    "`iris_data[\"PredictedSpecies\"] = species_pred`\n",
    "\n",
    "`OutputDataSet = iris_data[[\"id\",\"SpeciesId\",\"PredictedSpecies\"]]`\n",
    "\n",
    "`print(OutputDataSet)`\n",
    "\n",
    "`'\n",
    "        , @input_data_1 = N'select id, \"Sepal.Length\", \"Sepal.Width\", \"Petal.Length\", \"Petal.Width\", \"SpeciesId\" from iris_data'`\n",
    "\n",
    "        `, @input_data_1_name = N'iris_data'`\n",
    "        \n",
    "        `, @params = N'@svm_model varbinary(max)'`\n",
    "        \n",
    "        `, @nb_model = @svm_model`\n",
    "    \n",
    "    `WITH RESULT SETS((`\n",
    "     \n",
    "                `\"id\" INT`\n",
    "              \n",
    "              `, \"SpeciesId\" INT`\n",
    "\n",
    "              `, \"SpeciesId.Predicted\" INT`\n",
    "               \n",
    "               ` ));`\n",
    "\n",
    "`END;`\n",
    "\n",
    "`GO`\n",
    "\n",
    "`EXECUTE predict_species 'SVM';`\n",
    "\n",
    "`GO`"
   ]
  }
 ]
}