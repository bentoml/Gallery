{
 "cells": [
  {
   "cell_type": "markdown",
   "metadata": {},
   "source": [
    "# Tutorial : PyTorch Image Classifier with RedisAI \n",
    "\n",
    "**BentoML makes moving trained ML models to production easy:**\n",
    "\n",
    "* Package models trained with **any ML framework** and reproduce them for model serving in production\n",
    "* **Deploy anywhere** for online API serving or offline batch serving\n",
    "* High-Performance API model server with *adaptive micro-batching* support\n",
    "* Central hub for managing models and deployment process via Web UI and APIs\n",
    "* Modular and flexible design making it *adaptable to your infrastrcuture*\n",
    "\n",
    "\n",
    "BentoML is a framework for serving, managing, and deploying machine learning models. It is aiming to bridge the gap between Data Science and DevOps, and enable teams to deliver prediction services in a fast, repeatable, and scalable way.\n",
    "\n",
    "[RedisAI](https://oss.redislabs.com/redisai/) is a popular model server for running ML models. RedisAI both maximizes computation throughput and reduces latency by adhering to the principle of data locality , as well as simplifies the deployment and serving of graphs by leveraging on Redis' production-proven infrastructure.\n",
    "\n",
    "\n",
    "Before reading this example project, be sure to check out the [Getting started guide](https://github.com/bentoml/BentoML/blob/master/guides/quick-start/bentoml-quick-start-guide.ipynb) to learn about the basic concepts in BentoML.\n",
    "\n",
    "This notebook was built based on the official pytorch tutorial https://pytorch.org/tutorials/beginner/blitz/cifar10_tutorial.html\n",
    "\n",
    "\n"
   ]
  },
  {
   "cell_type": "code",
   "execution_count": 1,
   "metadata": {},
   "outputs": [],
   "source": [
    "%reload_ext autoreload\n",
    "%autoreload 2\n",
    "%matplotlib inline"
   ]
  },
  {
   "cell_type": "code",
   "execution_count": 2,
   "metadata": {},
   "outputs": [
    {
     "name": "stdout",
     "output_type": "stream",
     "text": [
      "Requirement already satisfied: bentoml==0.13.1 in /home/longld/anaconda3/envs/redisai/lib/python3.7/site-packages (from -r requirements.txt (line 1)) (0.13.1)\n",
      "Requirement already satisfied: torch==1.9.0 in /home/longld/anaconda3/envs/redisai/lib/python3.7/site-packages (from -r requirements.txt (line 2)) (1.9.0)\n",
      "Requirement already satisfied: numpy==1.19.5 in /home/longld/anaconda3/envs/redisai/lib/python3.7/site-packages (from -r requirements.txt (line 3)) (1.19.5)\n",
      "Requirement already satisfied: torchvision==0.10.0 in /home/longld/anaconda3/envs/redisai/lib/python3.7/site-packages (from -r requirements.txt (line 4)) (0.10.0)\n",
      "Requirement already satisfied: redisai==1.2.0 in /home/longld/anaconda3/envs/redisai/lib/python3.7/site-packages (from -r requirements.txt (line 5)) (1.2.0)\n",
      "Requirement already satisfied: aiohttp in /home/longld/anaconda3/envs/redisai/lib/python3.7/site-packages (from bentoml==0.13.1->-r requirements.txt (line 1)) (3.7.4.post0)\n",
      "Requirement already satisfied: python-dateutil<3.0.0,>=2.7.3 in /home/longld/anaconda3/envs/redisai/lib/python3.7/site-packages (from bentoml==0.13.1->-r requirements.txt (line 1)) (2.8.2)\n",
      "Requirement already satisfied: deepmerge in /home/longld/anaconda3/envs/redisai/lib/python3.7/site-packages (from bentoml==0.13.1->-r requirements.txt (line 1)) (0.3.0)\n",
      "Requirement already satisfied: certifi in /home/longld/anaconda3/envs/redisai/lib/python3.7/site-packages (from bentoml==0.13.1->-r requirements.txt (line 1)) (2021.5.30)\n",
      "Requirement already satisfied: docker in /home/longld/anaconda3/envs/redisai/lib/python3.7/site-packages (from bentoml==0.13.1->-r requirements.txt (line 1)) (5.0.2)\n",
      "Requirement already satisfied: simple-di in /home/longld/anaconda3/envs/redisai/lib/python3.7/site-packages (from bentoml==0.13.1->-r requirements.txt (line 1)) (0.1.1)\n",
      "Requirement already satisfied: schema in /home/longld/anaconda3/envs/redisai/lib/python3.7/site-packages (from bentoml==0.13.1->-r requirements.txt (line 1)) (0.7.4)\n",
      "Requirement already satisfied: cerberus in /home/longld/anaconda3/envs/redisai/lib/python3.7/site-packages (from bentoml==0.13.1->-r requirements.txt (line 1)) (1.3.4)\n",
      "Requirement already satisfied: gunicorn in /home/longld/anaconda3/envs/redisai/lib/python3.7/site-packages (from bentoml==0.13.1->-r requirements.txt (line 1)) (20.1.0)\n",
      "Requirement already satisfied: tabulate in /home/longld/anaconda3/envs/redisai/lib/python3.7/site-packages (from bentoml==0.13.1->-r requirements.txt (line 1)) (0.8.9)\n",
      "Requirement already satisfied: packaging in /home/longld/anaconda3/envs/redisai/lib/python3.7/site-packages (from bentoml==0.13.1->-r requirements.txt (line 1)) (21.0)\n",
      "Requirement already satisfied: ruamel.yaml>=0.15.0 in /home/longld/anaconda3/envs/redisai/lib/python3.7/site-packages (from bentoml==0.13.1->-r requirements.txt (line 1)) (0.17.16)\n",
      "Requirement already satisfied: chardet in /home/longld/anaconda3/envs/redisai/lib/python3.7/site-packages (from bentoml==0.13.1->-r requirements.txt (line 1)) (4.0.0)\n",
      "Requirement already satisfied: protobuf>=3.8.0 in /home/longld/anaconda3/envs/redisai/lib/python3.7/site-packages (from bentoml==0.13.1->-r requirements.txt (line 1)) (3.18.0)\n",
      "Requirement already satisfied: humanfriendly in /home/longld/anaconda3/envs/redisai/lib/python3.7/site-packages (from bentoml==0.13.1->-r requirements.txt (line 1)) (10.0)\n",
      "Requirement already satisfied: requests in /home/longld/anaconda3/envs/redisai/lib/python3.7/site-packages (from bentoml==0.13.1->-r requirements.txt (line 1)) (2.26.0)\n",
      "Requirement already satisfied: sqlalchemy<1.4.0,>=1.3.0 in /home/longld/anaconda3/envs/redisai/lib/python3.7/site-packages (from bentoml==0.13.1->-r requirements.txt (line 1)) (1.3.24)\n",
      "Requirement already satisfied: psutil in /home/longld/anaconda3/envs/redisai/lib/python3.7/site-packages (from bentoml==0.13.1->-r requirements.txt (line 1)) (5.8.0)\n",
      "Requirement already satisfied: grpcio in /home/longld/anaconda3/envs/redisai/lib/python3.7/site-packages (from bentoml==0.13.1->-r requirements.txt (line 1)) (1.40.0)\n",
      "Requirement already satisfied: boto3 in /home/longld/anaconda3/envs/redisai/lib/python3.7/site-packages (from bentoml==0.13.1->-r requirements.txt (line 1)) (1.18.48)\n",
      "Requirement already satisfied: sqlalchemy-utils<0.36.8 in /home/longld/anaconda3/envs/redisai/lib/python3.7/site-packages (from bentoml==0.13.1->-r requirements.txt (line 1)) (0.36.5)\n",
      "Requirement already satisfied: prometheus-client in /home/longld/anaconda3/envs/redisai/lib/python3.7/site-packages (from bentoml==0.13.1->-r requirements.txt (line 1)) (0.11.0)\n",
      "Requirement already satisfied: urllib3<=1.25.11 in /home/longld/anaconda3/envs/redisai/lib/python3.7/site-packages (from bentoml==0.13.1->-r requirements.txt (line 1)) (1.25.11)\n",
      "Requirement already satisfied: alembic in /home/longld/anaconda3/envs/redisai/lib/python3.7/site-packages (from bentoml==0.13.1->-r requirements.txt (line 1)) (1.7.3)\n",
      "Requirement already satisfied: configparser in /home/longld/anaconda3/envs/redisai/lib/python3.7/site-packages (from bentoml==0.13.1->-r requirements.txt (line 1)) (5.0.2)\n",
      "Requirement already satisfied: aiohttp-cors==0.7.0 in /home/longld/anaconda3/envs/redisai/lib/python3.7/site-packages (from bentoml==0.13.1->-r requirements.txt (line 1)) (0.7.0)\n",
      "Requirement already satisfied: flask in /home/longld/anaconda3/envs/redisai/lib/python3.7/site-packages (from bentoml==0.13.1->-r requirements.txt (line 1)) (2.0.1)\n",
      "Requirement already satisfied: click>=7.0 in /home/longld/anaconda3/envs/redisai/lib/python3.7/site-packages (from bentoml==0.13.1->-r requirements.txt (line 1)) (8.0.1)\n",
      "Requirement already satisfied: python-json-logger in /home/longld/anaconda3/envs/redisai/lib/python3.7/site-packages (from bentoml==0.13.1->-r requirements.txt (line 1)) (2.0.2)\n",
      "Requirement already satisfied: redis>=2.10 in /home/longld/anaconda3/envs/redisai/lib/python3.7/site-packages (from redisai==1.2.0->-r requirements.txt (line 5)) (3.5.3)\n",
      "Requirement already satisfied: hiredis>=0.20 in /home/longld/anaconda3/envs/redisai/lib/python3.7/site-packages (from redisai==1.2.0->-r requirements.txt (line 5)) (2.0.0)\n",
      "Requirement already satisfied: six>=1.10.0 in /home/longld/anaconda3/envs/redisai/lib/python3.7/site-packages (from redisai==1.2.0->-r requirements.txt (line 5)) (1.16.0)\n",
      "Requirement already satisfied: Deprecated<2.0.0,>=1.2.12 in /home/longld/anaconda3/envs/redisai/lib/python3.7/site-packages (from redisai==1.2.0->-r requirements.txt (line 5)) (1.2.13)\n",
      "Requirement already satisfied: typing-extensions in /home/longld/anaconda3/envs/redisai/lib/python3.7/site-packages (from torch==1.9.0->-r requirements.txt (line 2)) (3.10.0.2)\n",
      "Requirement already satisfied: pillow>=5.3.0 in /home/longld/anaconda3/envs/redisai/lib/python3.7/site-packages (from torchvision==0.10.0->-r requirements.txt (line 4)) (8.3.2)\n",
      "Requirement already satisfied: multidict<7.0,>=4.5 in /home/longld/anaconda3/envs/redisai/lib/python3.7/site-packages (from aiohttp->bentoml==0.13.1->-r requirements.txt (line 1)) (5.1.0)\n",
      "Requirement already satisfied: yarl<2.0,>=1.0 in /home/longld/anaconda3/envs/redisai/lib/python3.7/site-packages (from aiohttp->bentoml==0.13.1->-r requirements.txt (line 1)) (1.6.3)\n",
      "Requirement already satisfied: async-timeout<4.0,>=3.0 in /home/longld/anaconda3/envs/redisai/lib/python3.7/site-packages (from aiohttp->bentoml==0.13.1->-r requirements.txt (line 1)) (3.0.1)\n",
      "Requirement already satisfied: attrs>=17.3.0 in /home/longld/anaconda3/envs/redisai/lib/python3.7/site-packages (from aiohttp->bentoml==0.13.1->-r requirements.txt (line 1)) (21.2.0)\n",
      "Requirement already satisfied: importlib-metadata in /home/longld/anaconda3/envs/redisai/lib/python3.7/site-packages (from click>=7.0->bentoml==0.13.1->-r requirements.txt (line 1)) (4.8.1)\n",
      "Requirement already satisfied: wrapt<2,>=1.10 in /home/longld/anaconda3/envs/redisai/lib/python3.7/site-packages (from Deprecated<2.0.0,>=1.2.12->redisai==1.2.0->-r requirements.txt (line 5)) (1.12.1)\n",
      "Requirement already satisfied: ruamel.yaml.clib>=0.1.2 in /home/longld/anaconda3/envs/redisai/lib/python3.7/site-packages (from ruamel.yaml>=0.15.0->bentoml==0.13.1->-r requirements.txt (line 1)) (0.2.6)\n",
      "Requirement already satisfied: idna>=2.0 in /home/longld/anaconda3/envs/redisai/lib/python3.7/site-packages (from yarl<2.0,>=1.0->aiohttp->bentoml==0.13.1->-r requirements.txt (line 1)) (3.2)\n",
      "Requirement already satisfied: importlib-resources in /home/longld/anaconda3/envs/redisai/lib/python3.7/site-packages (from alembic->bentoml==0.13.1->-r requirements.txt (line 1)) (5.2.2)\n",
      "Requirement already satisfied: Mako in /home/longld/anaconda3/envs/redisai/lib/python3.7/site-packages (from alembic->bentoml==0.13.1->-r requirements.txt (line 1)) (1.1.5)\n"
     ]
    },
    {
     "name": "stdout",
     "output_type": "stream",
     "text": [
      "Requirement already satisfied: jmespath<1.0.0,>=0.7.1 in /home/longld/anaconda3/envs/redisai/lib/python3.7/site-packages (from boto3->bentoml==0.13.1->-r requirements.txt (line 1)) (0.10.0)\n",
      "Requirement already satisfied: botocore<1.22.0,>=1.21.48 in /home/longld/anaconda3/envs/redisai/lib/python3.7/site-packages (from boto3->bentoml==0.13.1->-r requirements.txt (line 1)) (1.21.48)\n",
      "Requirement already satisfied: s3transfer<0.6.0,>=0.5.0 in /home/longld/anaconda3/envs/redisai/lib/python3.7/site-packages (from boto3->bentoml==0.13.1->-r requirements.txt (line 1)) (0.5.0)\n",
      "Requirement already satisfied: setuptools in /home/longld/anaconda3/envs/redisai/lib/python3.7/site-packages (from cerberus->bentoml==0.13.1->-r requirements.txt (line 1)) (58.0.4)\n",
      "Requirement already satisfied: websocket-client>=0.32.0 in /home/longld/anaconda3/envs/redisai/lib/python3.7/site-packages (from docker->bentoml==0.13.1->-r requirements.txt (line 1)) (1.2.1)\n",
      "Requirement already satisfied: charset-normalizer~=2.0.0 in /home/longld/anaconda3/envs/redisai/lib/python3.7/site-packages (from requests->bentoml==0.13.1->-r requirements.txt (line 1)) (2.0.6)\n",
      "Requirement already satisfied: Jinja2>=3.0 in /home/longld/anaconda3/envs/redisai/lib/python3.7/site-packages (from flask->bentoml==0.13.1->-r requirements.txt (line 1)) (3.0.1)\n",
      "Requirement already satisfied: Werkzeug>=2.0 in /home/longld/anaconda3/envs/redisai/lib/python3.7/site-packages (from flask->bentoml==0.13.1->-r requirements.txt (line 1)) (2.0.1)\n",
      "Requirement already satisfied: itsdangerous>=2.0 in /home/longld/anaconda3/envs/redisai/lib/python3.7/site-packages (from flask->bentoml==0.13.1->-r requirements.txt (line 1)) (2.0.1)\n",
      "Requirement already satisfied: MarkupSafe>=2.0 in /home/longld/anaconda3/envs/redisai/lib/python3.7/site-packages (from Jinja2>=3.0->flask->bentoml==0.13.1->-r requirements.txt (line 1)) (2.0.1)\n",
      "Requirement already satisfied: zipp>=0.5 in /home/longld/anaconda3/envs/redisai/lib/python3.7/site-packages (from importlib-metadata->click>=7.0->bentoml==0.13.1->-r requirements.txt (line 1)) (3.5.0)\n",
      "Requirement already satisfied: pyparsing>=2.0.2 in /home/longld/anaconda3/envs/redisai/lib/python3.7/site-packages (from packaging->bentoml==0.13.1->-r requirements.txt (line 1)) (2.4.7)\n",
      "Requirement already satisfied: contextlib2>=0.5.5 in /home/longld/anaconda3/envs/redisai/lib/python3.7/site-packages (from schema->bentoml==0.13.1->-r requirements.txt (line 1)) (21.6.0)\n"
     ]
    }
   ],
   "source": [
    "!pip install -r requirements.txt"
   ]
  },
  {
   "cell_type": "code",
   "execution_count": 3,
   "metadata": {},
   "outputs": [],
   "source": [
    "import torch\n",
    "import torchvision\n",
    "import torchvision.transforms as transforms"
   ]
  },
  {
   "cell_type": "markdown",
   "metadata": {},
   "source": [
    "# Training an image classifier\n",
    "\n",
    "We will do the following steps in order:\n",
    "\n",
    "* Load and normalizing the CIFAR10 training and test datasets using torchvision\n",
    "* Define a Convolutional Neural Network\n",
    "* Define a loss function\n",
    "* Train the network on the training data\n",
    "* Test the network on the test data\n",
    "* Model Serving with BentoML\n",
    "\n",
    "\n",
    "## 1 Loading and Normalizing CIFAR10"
   ]
  },
  {
   "cell_type": "markdown",
   "metadata": {},
   "source": [
    "The output of torchvision datasets are PILImage images of range [0, 1]. We transform them to Tensors of normalized range [-1, 1]."
   ]
  },
  {
   "cell_type": "code",
   "execution_count": 4,
   "metadata": {},
   "outputs": [
    {
     "name": "stdout",
     "output_type": "stream",
     "text": [
      "Files already downloaded and verified\n",
      "Files already downloaded and verified\n"
     ]
    }
   ],
   "source": [
    "transform = transforms.Compose(\n",
    "    [transforms.ToTensor(),\n",
    "     transforms.Normalize((0.5, 0.5, 0.5), (0.5, 0.5, 0.5))])\n",
    "\n",
    "trainset = torchvision.datasets.CIFAR10(root='./data', train=True,\n",
    "                                        download=True, transform=transform)\n",
    "trainloader = torch.utils.data.DataLoader(trainset, batch_size=4,\n",
    "                                          shuffle=True, num_workers=2)\n",
    "\n",
    "testset = torchvision.datasets.CIFAR10(root='./data', train=False,\n",
    "                                       download=True, transform=transform)\n",
    "testloader = torch.utils.data.DataLoader(testset, batch_size=4,\n",
    "                                         shuffle=False, num_workers=2)\n",
    "\n",
    "classes = ('plane', 'car', 'bird', 'cat',\n",
    "           'deer', 'dog', 'frog', 'horse', 'ship', 'truck')"
   ]
  },
  {
   "cell_type": "markdown",
   "metadata": {},
   "source": [
    "Let us show some of the training images, for fun."
   ]
  },
  {
   "cell_type": "code",
   "execution_count": 5,
   "metadata": {},
   "outputs": [
    {
     "data": {
      "image/png": "[encoded data removed]",
      "text/plain": [
       "<Figure size 432x288 with 1 Axes>"
      ]
     },
     "metadata": {
      "needs_background": "light"
     },
     "output_type": "display_data"
    },
    {
     "name": "stdout",
     "output_type": "stream",
     "text": [
      " deer  bird   cat  deer\n"
     ]
    }
   ],
   "source": [
    "import matplotlib.pyplot as plt\n",
    "import numpy as np\n",
    "\n",
    "# functions to show an image\n",
    "\n",
    "\n",
    "def imshow(img):\n",
    "    img = img / 2 + 0.5     # unnormalize\n",
    "    npimg = img.numpy()\n",
    "    plt.imshow(np.transpose(npimg, (1, 2, 0)))\n",
    "    plt.show()\n",
    "\n",
    "\n",
    "# get some random training images\n",
    "dataiter = iter(trainloader)\n",
    "images, labels = dataiter.next()\n",
    "\n",
    "# show images\n",
    "imshow(torchvision.utils.make_grid(images))\n",
    "# print labels\n",
    "print(' '.join('%5s' % classes[labels[j]] for j in range(4)))"
   ]
  },
  {
   "cell_type": "markdown",
   "metadata": {},
   "source": [
    "## 2 Define a Convolutional Neural Network\n",
    "\n",
    "Copy the neural network from the Neural Networks section before and modify it to take 3-channel images (instead of 1-channel images as it was defined)."
   ]
  },
  {
   "cell_type": "code",
   "execution_count": 6,
   "metadata": {},
   "outputs": [],
   "source": [
    "import torch.nn as nn\n",
    "import torch.nn.functional as F\n",
    "\n",
    "\n",
    "class Net(nn.Module):\n",
    "    def __init__(self):\n",
    "        super(Net, self).__init__()\n",
    "        self.conv1 = nn.Conv2d(3, 6, 5)\n",
    "        self.pool = nn.MaxPool2d(2, 2)\n",
    "        self.conv2 = nn.Conv2d(6, 16, 5)\n",
    "        self.fc1 = nn.Linear(16 * 5 * 5, 120)\n",
    "        self.fc2 = nn.Linear(120, 84)\n",
    "        self.fc3 = nn.Linear(84, 10)\n",
    "\n",
    "    def forward(self, x):\n",
    "        x = self.pool(F.relu(self.conv1(x)))\n",
    "        x = self.pool(F.relu(self.conv2(x)))\n",
    "        x = x.view(-1, 16 * 5 * 5)\n",
    "        x = F.relu(self.fc1(x))\n",
    "        x = F.relu(self.fc2(x))\n",
    "        x = self.fc3(x)\n",
    "        return x\n",
    "    \n",
    "net = Net()"
   ]
  },
  {
   "cell_type": "markdown",
   "metadata": {},
   "source": [
    "## 3 Define a Loss function and optimize"
   ]
  },
  {
   "cell_type": "markdown",
   "metadata": {},
   "source": [
    "Let’s use a Classification Cross-Entropy loss and SGD with momentum."
   ]
  },
  {
   "cell_type": "code",
   "execution_count": 7,
   "metadata": {},
   "outputs": [],
   "source": [
    "import torch.optim as optim\n",
    "\n",
    "criterion = nn.CrossEntropyLoss()\n",
    "optimizer = optim.SGD(net.parameters(), lr=0.001, momentum=0.9)"
   ]
  },
  {
   "cell_type": "markdown",
   "metadata": {},
   "source": [
    "## 4 Train the network\n",
    "\n",
    "This is when things start to get interesting. We simply have to loop over our data iterator, and feed the inputs to the network and optimize."
   ]
  },
  {
   "cell_type": "code",
   "execution_count": 8,
   "metadata": {},
   "outputs": [
    {
     "name": "stderr",
     "output_type": "stream",
     "text": [
      "/home/longld/anaconda3/envs/redisai/lib/python3.7/site-packages/torch/nn/functional.py:718: UserWarning: Named tensors and all their associated APIs are an experimental feature and subject to change. Please do not use them for anything important until they are released as stable. (Triggered internally at  /pytorch/c10/core/TensorImpl.h:1156.)\n",
      "  return torch.max_pool2d(input, kernel_size, stride, padding, dilation, ceil_mode)\n"
     ]
    },
    {
     "name": "stdout",
     "output_type": "stream",
     "text": [
      "[1,  2000] loss: 2.290\n",
      "[1,  4000] loss: 1.955\n",
      "[1,  6000] loss: 1.718\n",
      "[1,  8000] loss: 1.604\n",
      "[1, 10000] loss: 1.531\n",
      "[1, 12000] loss: 1.477\n",
      "[2,  2000] loss: 1.408\n",
      "[2,  4000] loss: 1.391\n",
      "[2,  6000] loss: 1.350\n",
      "[2,  8000] loss: 1.326\n",
      "[2, 10000] loss: 1.319\n",
      "[2, 12000] loss: 1.311\n",
      "[3,  2000] loss: 1.229\n",
      "[3,  4000] loss: 1.233\n",
      "[3,  6000] loss: 1.210\n",
      "[3,  8000] loss: 1.212\n",
      "[3, 10000] loss: 1.213\n",
      "[3, 12000] loss: 1.186\n",
      "[4,  2000] loss: 1.125\n",
      "[4,  4000] loss: 1.123\n",
      "[4,  6000] loss: 1.123\n",
      "[4,  8000] loss: 1.102\n",
      "[4, 10000] loss: 1.117\n",
      "[4, 12000] loss: 1.127\n",
      "[5,  2000] loss: 1.030\n",
      "[5,  4000] loss: 1.028\n",
      "[5,  6000] loss: 1.044\n",
      "[5,  8000] loss: 1.055\n",
      "[5, 10000] loss: 1.086\n",
      "[5, 12000] loss: 1.058\n",
      "[6,  2000] loss: 0.982\n",
      "[6,  4000] loss: 0.990\n",
      "[6,  6000] loss: 0.996\n",
      "[6,  8000] loss: 0.995\n",
      "[6, 10000] loss: 1.027\n",
      "[6, 12000] loss: 1.003\n",
      "[7,  2000] loss: 0.909\n",
      "[7,  4000] loss: 0.950\n",
      "[7,  6000] loss: 0.944\n",
      "[7,  8000] loss: 0.960\n",
      "[7, 10000] loss: 0.960\n",
      "[7, 12000] loss: 0.996\n",
      "[8,  2000] loss: 0.875\n",
      "[8,  4000] loss: 0.903\n",
      "[8,  6000] loss: 0.906\n",
      "[8,  8000] loss: 0.953\n",
      "[8, 10000] loss: 0.911\n",
      "[8, 12000] loss: 0.940\n",
      "[9,  2000] loss: 0.830\n",
      "[9,  4000] loss: 0.849\n",
      "[9,  6000] loss: 0.864\n",
      "[9,  8000] loss: 0.901\n",
      "[9, 10000] loss: 0.898\n",
      "[9, 12000] loss: 0.901\n",
      "[10,  2000] loss: 0.818\n",
      "[10,  4000] loss: 0.835\n",
      "[10,  6000] loss: 0.845\n",
      "[10,  8000] loss: 0.868\n",
      "[10, 10000] loss: 0.860\n",
      "[10, 12000] loss: 0.879\n",
      "Finished Training\n"
     ]
    }
   ],
   "source": [
    "for epoch in range(10):  # loop over the dataset multiple times\n",
    "\n",
    "    running_loss = 0.0\n",
    "    for i, data in enumerate(trainloader, 0):\n",
    "        # get the inputs; data is a list of [inputs, labels]\n",
    "        inputs, labels = data\n",
    "\n",
    "        # zero the parameter gradients\n",
    "        optimizer.zero_grad()\n",
    "\n",
    "        # forward + backward + optimize\n",
    "        outputs = net(inputs)\n",
    "        loss = criterion(outputs, labels)\n",
    "        loss.backward()\n",
    "        optimizer.step()\n",
    "\n",
    "        # print statistics\n",
    "        running_loss += loss.item()\n",
    "        if i % 2000 == 1999:    # print every 2000 mini-batches\n",
    "            print('[%d, %5d] loss: %.3f' %\n",
    "                  (epoch + 1, i + 1, running_loss / 2000))\n",
    "            running_loss = 0.0\n",
    "\n",
    "print('Finished Training')"
   ]
  },
  {
   "cell_type": "markdown",
   "metadata": {},
   "source": [
    "## 5 Test the network on the test data\n",
    "\n",
    "We have trained the network for 2 passes over the training dataset. But we need to check if the network has learnt anything at all.\n",
    "\n",
    "We will check this by predicting the class label that the neural network outputs, and checking it against the ground-truth. If the prediction is correct, we add the sample to the list of correct predictions.\n",
    "\n",
    "Okay, first step. Let us display an image from the test set to get familiar."
   ]
  },
  {
   "cell_type": "code",
   "execution_count": 9,
   "metadata": {},
   "outputs": [
    {
     "data": {
      "image/png": "[encoded data removed]",
      "text/plain": [
       "<Figure size 432x288 with 1 Axes>"
      ]
     },
     "metadata": {
      "needs_background": "light"
     },
     "output_type": "display_data"
    },
    {
     "name": "stdout",
     "output_type": "stream",
     "text": [
      "GroundTruth:    cat  ship  ship plane\n"
     ]
    }
   ],
   "source": [
    "dataiter = iter(testloader)\n",
    "images, labels = dataiter.next()\n",
    "\n",
    "# print images\n",
    "imshow(torchvision.utils.make_grid(images))\n",
    "print('GroundTruth: ', ' '.join('%5s' % classes[labels[j]] for j in range(4)))"
   ]
  },
  {
   "cell_type": "markdown",
   "metadata": {},
   "source": [
    "Let us look at how the network performs on the whole dataset."
   ]
  },
  {
   "cell_type": "code",
   "execution_count": 10,
   "metadata": {},
   "outputs": [
    {
     "name": "stdout",
     "output_type": "stream",
     "text": [
      "Accuracy of the network on the 10000 test images: 62 %\n"
     ]
    }
   ],
   "source": [
    "correct = 0\n",
    "total = 0\n",
    "with torch.no_grad():\n",
    "    for data in testloader:\n",
    "        images, labels = data\n",
    "        outputs = net(images)\n",
    "        _, predicted = torch.max(outputs.data, 1)\n",
    "        total += labels.size(0)\n",
    "        correct += (predicted == labels).sum().item()\n",
    "\n",
    "print('Accuracy of the network on the 10000 test images: %d %%' % (\n",
    "    100 * correct / total))"
   ]
  },
  {
   "cell_type": "markdown",
   "metadata": {},
   "source": [
    "# 6 Model Serving with BentoML\n",
    "\n",
    "## 6.1 Custom Artifact with Redisai\n",
    "\n",
    "If you are new to RedisAI and trying it out for the first time, you might not know the setup already (although it's quite easy to setup a local RedisAI instance). In that's the case, you need pull the latest docker image of RedisAI (yes, you need docker installed in your machine for this to work), run it on the default port, deploy the model you specified.\n",
    "\n",
    "Run docker redisai if cpu:\n",
    "```\n",
    "docker run -dp 6379:6379 -it --rm  redislabs/redisai:edge-cpu-bionic\n",
    "```\n",
    "and if gpu:\n",
    "```\n",
    "docker run -p 6379:6379 --gpus all -it --rm redislabs/redisai:edge-gpu-bionic\n",
    "```\n",
    "\n",
    "See all tag image rediasai [here](https://hub.docker.com/r/redislabs/redisai/tags?page=1&ordering=last_updated). \n",
    "\n",
    "PS: It's IMPORTANT to note that this API leaves the docker container running. You would need to manually stop the container once you are done with experimentation. Also, remember that if you trying to run this API twice without killing the first container, it throws an error saying the port is already in use.\n",
    "\n",
    "Here I will use redisai cpu.\n"
   ]
  },
  {
   "cell_type": "code",
   "execution_count": 11,
   "metadata": {},
   "outputs": [
    {
     "name": "stdout",
     "output_type": "stream",
     "text": [
      "8158f72bbbdd788770ee1d9f1fa97d58d63bf6f1b9e786e11c47c07ba68dc566\n",
      "docker: Error response from daemon: driver failed programming external connectivity on endpoint gracious_banzai (1c68f52f3955f8107c15354fd2a76c00250c6a00fd1e17be3bd4da153b1fd7f0): Bind for 0.0.0.0:6379 failed: port is already allocated.\n"
     ]
    }
   ],
   "source": [
    "!docker run -dp 6379:6379 -it --rm  redislabs/redisai:edge-cpu-bionic"
   ]
  },
  {
   "cell_type": "markdown",
   "metadata": {},
   "source": [
    "The following code creates a subclass from the BentoServiceArtifact. It implements how to save and load the model.\n",
    "\n",
    "In the initialization of the artifact, we have the following parameters:\n",
    "\n",
    "- backend : the backend used by the model as a String\n",
    "- device : the device used to execute the model as a String\n",
    "- inputs : array reply with one or more names of the model's input nodes (applicable only for TensorFlow models)\n",
    "- outputs : array reply with one or more names of the model's output nodes (applicable only for TensorFlow models)\n",
    "\n",
    "This code was built based on A plugin that integrates RedisAI with MLflow pipeline https://github.com/RedisAI/mlflow-redisai.\n",
    "\n",
    "\n"
   ]
  },
  {
   "cell_type": "code",
   "execution_count": 12,
   "metadata": {},
   "outputs": [
    {
     "name": "stdout",
     "output_type": "stream",
     "text": [
      "Overwriting redisai_artifact.py\n"
     ]
    }
   ],
   "source": [
    "%%writefile redisai_artifact.py\n",
    "import os\n",
    "from bentoml.exceptions import (\n",
    "    BentoMLException,\n",
    "    InvalidArgument,\n",
    "    MissingDependencyException,\n",
    ")\n",
    "\n",
    "from bentoml.service.artifacts import BentoServiceArtifact\n",
    "import redisai as rai\n",
    "import logging\n",
    "\n",
    "logger = logging.getLogger(__name__)\n",
    "\n",
    "\n",
    "# Connection parameters\n",
    "class Config(dict):\n",
    "    def __init__(self):\n",
    "        super().__init__()\n",
    "        self['host'] = 'localhost'\n",
    "        self['port'] = 6379\n",
    "        self['username'] = None\n",
    "        self['password'] = None\n",
    "        self['db'] = 0\n",
    "\n",
    "\n",
    "SUPPORTED_BACKEND = [\"torch\", \"tf\", \"onnx\"]\n",
    "file_extension = {\n",
    "    'torch': '.pt',\n",
    "    'tf'   : '.pb',\n",
    "    'onnx' : '.onnx'}\n",
    "\n",
    "\n",
    "class RedisaiArtifact(BentoServiceArtifact):\n",
    "    def __init__(self, name, backend='torch', inputs=None, outputs=None, device='cpu'):\n",
    "        super(RedisaiArtifact, self).__init__(name)\n",
    "        if backend not in SUPPORTED_BACKEND:\n",
    "            raise BentoMLException(\n",
    "                f'\"{backend}\" runtime is currently not supported for RedisaiArtifact'\n",
    "            )\n",
    "        server_config = Config()\n",
    "        # Connecting to a RedisAI \n",
    "        self.con = rai.Client(**server_config)\n",
    "        self._input = inputs\n",
    "        self._output = outputs\n",
    "        self._backend = backend\n",
    "        self._device = device\n",
    "        self._model = None\n",
    "\n",
    "    def pack(self, model):\n",
    "        if self._backend == 'torch':\n",
    "            try:\n",
    "                import torch\n",
    "            except ImportError:\n",
    "                raise MissingDependencyException(\n",
    "                    \"torch package is required to use RedisaiArtifact\"\n",
    "                )\n",
    "\n",
    "            if not isinstance(model, torch.nn.Module):\n",
    "                raise InvalidArgument(\n",
    "                    \"RedisaiArtifact can only pack type 'torch.jit.ScriptModule'\"\n",
    "                )\n",
    "\n",
    "        elif self._backend == 'tf':\n",
    "            try:\n",
    "                import tensorflow as tf\n",
    "\n",
    "            except ImportError:\n",
    "                raise MissingDependencyException(\n",
    "                    \"Tensorflow package is required to use RedisaiArtifact.\"\n",
    "                )\n",
    "\n",
    "        elif self._backend == 'onnx':\n",
    "            try:\n",
    "                import onnx\n",
    "\n",
    "                if not isinstance(model, onnx.ModelProto):\n",
    "                    raise InvalidArgument(\n",
    "                        \"onnx.ModelProto model file path is required to \"\n",
    "                        \"pack an RedisaiArtifact\"\n",
    "                    )\n",
    "\n",
    "            except ImportError:\n",
    "                raise InvalidArgument(\n",
    "                    \"ONNX package is required to use RedisaiArtifact.\"\n",
    "                )\n",
    "\n",
    "        self._model = model\n",
    "\n",
    "        return self\n",
    "\n",
    "    def get(self):\n",
    "        return self.con\n",
    "\n",
    "    def save(self, dst):\n",
    "\n",
    "        if self._backend == 'torch':\n",
    "            import torch\n",
    "\n",
    "            if self._model.training is True:\n",
    "                logger.warn('Graph is in training mode. Converting to evaluation mode')\n",
    "\n",
    "                self._model.eval()\n",
    "\n",
    "            torch.jit.save(self._model, self._file_path(dst))\n",
    "\n",
    "        elif self._backend == 'tf':\n",
    "            import tensorflow as tf\n",
    "\n",
    "            TF2 = tf.__version__.startswith('2')\n",
    "            if TF2:\n",
    "                tf.io.write_graph(graph_or_graph_def=self._model.graph,\n",
    "                                  logdir=dst,\n",
    "                                  name=self.name + file_extension[self._backend],\n",
    "                                  as_text=False)\n",
    "            else:\n",
    "                tf.compat.v1.disable_eager_execution()\n",
    "                tf.train.write_graph(self._model, dst, self.name + file_extension[self._backend], as_text=False)\n",
    "\n",
    "        elif self._backend == 'onnx':\n",
    "            import onnx\n",
    "            onnx.save_model(self._model, self._file_path(dst))\n",
    "\n",
    "        return self\n",
    "\n",
    "    def load(self, path):\n",
    "        with open(self._file_path(path), 'rb') as f:\n",
    "            model_redisai = f.read()\n",
    "\n",
    "        self.con.modelstore(self.name, self._backend, self._device, model_redisai, inputs=self._input,\n",
    "                            outputs=self._output)\n",
    "\n",
    "\n",
    "    def _file_path(self, base_path):\n",
    "        return os.path.join(base_path, self.name + file_extension[self._backend])\n"
   ]
  },
  {
   "cell_type": "markdown",
   "metadata": {},
   "source": [
    "## 6.2 Define and save BentoService with the custom Artifact"
   ]
  },
  {
   "cell_type": "code",
   "execution_count": 13,
   "metadata": {},
   "outputs": [
    {
     "name": "stdout",
     "output_type": "stream",
     "text": [
      "Overwriting pytorch_image_classifier.py\n"
     ]
    }
   ],
   "source": [
    "%%writefile pytorch_image_classifier.py\n",
    "\n",
    "from typing import List, BinaryIO\n",
    "\n",
    "from PIL import Image\n",
    "import torch\n",
    "from torch.autograd import Variable\n",
    "from torchvision import transforms\n",
    "import numpy as np \n",
    "import bentoml\n",
    "from bentoml import BentoService, env, api, artifacts\n",
    "from redisai_artifact import RedisaiArtifact\n",
    "from bentoml.adapters import FileInput\n",
    "\n",
    "\n",
    "classes = ('plane', 'car', 'bird', 'cat',\n",
    "           'deer', 'dog', 'frog', 'horse', 'ship', 'truck')\n",
    "\n",
    "@env(pip_packages=['torch', 'numpy', 'torchvision', 'redisai'])\n",
    "@artifacts([RedisaiArtifact('net')])\n",
    "class PytorchImageClassifier(BentoService):\n",
    "\n",
    "    @bentoml.utils.cached_property\n",
    "    def transform(self):\n",
    "        return transforms.Compose([\n",
    "            transforms.ToTensor(),\n",
    "            transforms.Normalize((0.5, 0.5, 0.5), (0.5, 0.5, 0.5))\n",
    "        ])\n",
    "    \n",
    "    @api(input=FileInput(), batch=True)\n",
    "    def predict(self, file_streams: List[BinaryIO]) -> List[str]:\n",
    "        input_datas = []\n",
    "        for fs in file_streams:\n",
    "            img = Image.open(fs).resize((32, 32))\n",
    "            input_datas.append(self.transform(img))\n",
    "        \n",
    "        # Get cline redisai\n",
    "        con = self.artifacts.net\n",
    "        con.tensorset('ips', Variable(torch.stack(input_datas)).cpu().detach().numpy(), dtype='float')\n",
    "\n",
    "        con.modelrun('net', inputs=['ips'], outputs=['outs'])\n",
    "        outputs = con.tensorget('outs')\n",
    "        output_classes = outputs.argmax(axis=1)\n",
    "\n",
    "        return [classes[output_class] for output_class in output_classes]   "
   ]
  },
  {
   "cell_type": "markdown",
   "metadata": {},
   "source": [
    "Because RedisAI currently supports TorchScript, we convert PyTorch into to TorchScript as follows:"
   ]
  },
  {
   "cell_type": "code",
   "execution_count": 14,
   "metadata": {},
   "outputs": [],
   "source": [
    "batch = torch.randn((4, 3, 32, 32))\n",
    "net.eval()\n",
    "net = torch.jit.trace(net, (batch))"
   ]
  },
  {
   "cell_type": "markdown",
   "metadata": {},
   "source": [
    "Now you can instantiate a BentoService defined above with the trained model, and save the entire BentoService to a file archive:"
   ]
  },
  {
   "cell_type": "code",
   "execution_count": 15,
   "metadata": {
    "scrolled": true
   },
   "outputs": [
    {
     "name": "stdout",
     "output_type": "stream",
     "text": [
      "[2021-09-28 09:47:02,356] INFO - BentoService bundle 'PytorchImageClassifier:20210928094659_078F37' saved to: /home/longld/bentoml/repository/PytorchImageClassifier/20210928094659_078F37\n",
      "/home/longld/bentoml/repository/PytorchImageClassifier/20210928094659_078F37\n"
     ]
    }
   ],
   "source": [
    "# 1) import the custom BentoService defined above\n",
    "from pytorch_image_classifier import PytorchImageClassifier\n",
    "\n",
    "# 2) `pack` it with required artifacts\n",
    "bento_svc = PytorchImageClassifier()\n",
    "bento_svc.pack('net', net)\n",
    "\n",
    "# 3) save your BentoSerivce to file archive\n",
    "saved_path = bento_svc.save()\n",
    "print(saved_path)"
   ]
  },
  {
   "cell_type": "markdown",
   "metadata": {},
   "source": [
    "## REST API Model Serving (for debug only)\n",
    "\n",
    "\n",
    "To start a REST API model server with the BentoService saved above, use the bentoml serve command:"
   ]
  },
  {
   "cell_type": "code",
   "execution_count": null,
   "metadata": {},
   "outputs": [
    {
     "name": "stdout",
     "output_type": "stream",
     "text": [
      "[2021-09-28 09:47:02,759] WARNING - Option --enable-microbatch/--disable-microbatch has been deprecated in the current release. The micro-batching option has become the default. Consider using --mb-max-batching=1 to simulate the effect of --disable-microbatch\n",
      "[2021-09-28 09:47:03,162] INFO - Getting latest version PytorchImageClassifier:20210928094659_078F37\n",
      "[2021-09-28 09:47:03,299] INFO - Starting BentoML API proxy in development mode..\n",
      "[2021-09-28 09:47:03,300] INFO - Starting BentoML API server in development mode..\n",
      "[2021-09-28 09:47:03,386] INFO - Micro batch enabled for API `predict` max-latency: 20000 max-batch-size 4000\n",
      "[2021-09-28 09:47:03,386] INFO - Your system nofile limit is 4096, which means each instance of microbatch service is able to hold this number of connections at same time. You can increase the number of file descriptors for the server process, or launch more microbatch instances to accept more concurrent connection.\n",
      "======== Running on http://0.0.0.0:5000 ========\n",
      "(Press CTRL+C to quit)\n",
      " * Serving Flask app 'PytorchImageClassifier' (lazy loading)\n",
      " * Environment: production\n",
      "\u001b[31m   WARNING: This is a development server. Do not use it in a production deployment.\u001b[0m\n",
      "\u001b[2m   Use a production WSGI server instead.\u001b[0m\n",
      " * Debug mode: off\n",
      " * Running on http://127.0.0.1:32913/ (Press CTRL+C to quit)\n"
     ]
    }
   ],
   "source": [
    "!bentoml serve PytorchImageClassifier:latest --enable-microbatch"
   ]
  },
  {
   "cell_type": "markdown",
   "metadata": {},
   "source": [
    "Open a terminal and go to the directory of the current notebook, then run the following command to evaluate.\n",
    "\n",
    "```bash\n",
    "curl -X POST \"http://127.0.0.1:5000/predict\" -H \"Content-Type: image/*\" --data-binary \"@bird.jpg\"\n",
    "```\n",
    "\n",
    "alternatively:\n",
    "```bash\n",
    "curl -X POST \"http://127.0.0.1:5000/predict\" -F image=@bird.png\n",
    "```\n",
    "\n",
    "\n",
    "Go visit http://127.0.0.1:5000/ from your browser, click `/predict` -> `Try it out` -> `Choose File` -> `Execute` to sumbit an image from your computer"
   ]
  },
  {
   "cell_type": "markdown",
   "metadata": {},
   "source": [
    "## Launch inference job from CLI\n",
    "\n",
    "BentoML cli supports loading and running a packaged model from CLI. With the DataframeInput adapter, the CLI command supports reading input Dataframe data from CLI argument or local csv or json files:"
   ]
  },
  {
   "cell_type": "code",
   "execution_count": null,
   "metadata": {},
   "outputs": [],
   "source": [
    "!bentoml run PytorchImageClassifier:latest predict  --input-file bird.jpg"
   ]
  },
  {
   "cell_type": "markdown",
   "metadata": {},
   "source": [
    "# Deployment Options\n",
    "\n",
    "If you are at a small team with limited engineering or DevOps resources, try out automated deployment with BentoML CLI, currently supporting AWS Lambda, AWS SageMaker, and Azure Functions:\n",
    "- [AWS Lambda Deployment Guide](https://docs.bentoml.org/en/latest/deployment/aws_lambda.html)\n",
    "- [AWS SageMaker Deployment Guide](https://docs.bentoml.org/en/latest/deployment/aws_sagemaker.html)\n",
    "- [Azure Functions Deployment Guide](https://docs.bentoml.org/en/latest/deployment/azure_functions.html)\n",
    "\n",
    "If the cloud platform you are working with is not on the list above, try out these step-by-step guide on manually deploying BentoML packaged model to cloud platforms:\n",
    "- [AWS ECS Deployment](https://docs.bentoml.org/en/latest/deployment/aws_ecs.html)\n",
    "- [Google Cloud Run Deployment](https://docs.bentoml.org/en/latest/deployment/google_cloud_run.html)\n",
    "- [Azure container instance Deployment](https://docs.bentoml.org/en/latest/deployment/azure_container_instance.html)\n",
    "- [Heroku Deployment](https://docs.bentoml.org/en/latest/deployment/heroku.html)\n",
    "\n",
    "Lastly, if you have a DevOps or ML Engineering team who's operating a Kubernetes or OpenShift cluster, use the following guides as references for implementating your deployment strategy:\n",
    "- [Kubernetes Deployment](https://docs.bentoml.org/en/latest/deployment/kubernetes.html)\n",
    "- [Knative Deployment](https://docs.bentoml.org/en/latest/deployment/knative.html)\n",
    "- [Kubeflow Deployment](https://docs.bentoml.org/en/latest/deployment/kubeflow.html)\n",
    "- [KFServing Deployment](https://docs.bentoml.org/en/latest/deployment/kfserving.html)\n",
    "- [Clipper.ai Deployment Guide](https://docs.bentoml.org/en/latest/deployment/clipper.html)"
   ]
  }
 ],
 "metadata": {
  "kernelspec": {
   "display_name": "redisai",
   "language": "python",
   "name": "redisai"
  },
  "language_info": {
   "codemirror_mode": {
    "name": "ipython",
    "version": 3
   },
   "file_extension": ".py",
   "mimetype": "text/x-python",
   "name": "python",
   "nbconvert_exporter": "python",
   "pygments_lexer": "ipython3",
   "version": "3.7.11"
  }
 },
 "nbformat": 4,
 "nbformat_minor": 4
}
